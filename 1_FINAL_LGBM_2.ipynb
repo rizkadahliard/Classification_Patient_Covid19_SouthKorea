{
  "nbformat": 4,
  "nbformat_minor": 0,
  "metadata": {
    "colab": {
      "name": "1. FINAL LGBM_2",
      "provenance": [],
      "collapsed_sections": [
        "HuFU5fM7W-ef"
      ]
    },
    "kernelspec": {
      "name": "python3",
      "display_name": "Python 3"
    },
    "language_info": {
      "name": "python"
    }
  },
  "cells": [
    {
      "cell_type": "markdown",
      "metadata": {
        "id": "jqthuJoku2rY"
      },
      "source": [
        "#Koneksi ke Google Drive"
      ]
    },
    {
      "cell_type": "code",
      "metadata": {
        "colab": {
          "base_uri": "https://localhost:8080/"
        },
        "id": "GrqtE3NH7rGJ",
        "outputId": "a607a2ef-da43-4a83-b71d-c2c2252da393"
      },
      "source": [
        "from google.colab import drive\n",
        "drive.mount('/content/drive', force_remount=True)"
      ],
      "execution_count": null,
      "outputs": [
        {
          "output_type": "stream",
          "text": [
            "Mounted at /content/drive\n"
          ],
          "name": "stdout"
        }
      ]
    },
    {
      "cell_type": "markdown",
      "metadata": {
        "id": "3Y3UtWZtvEGA"
      },
      "source": [
        "#IMPORT MODULE"
      ]
    },
    {
      "cell_type": "code",
      "metadata": {
        "id": "5CelubFF75Oq"
      },
      "source": [
        "import pandas as pd\n",
        "import numpy as np\n",
        "import seaborn as sns\n",
        "import plotly.express as px\n",
        "from matplotlib import pyplot\n",
        "from sklearn import metrics\n",
        "import matplotlib.pyplot as plt; plt.rcdefaults()\n",
        "\n",
        "from sklearn.ensemble import RandomForestClassifier\n",
        "from sklearn.naive_bayes import GaussianNB\n",
        "from sklearn.neighbors import KNeighborsClassifier\n",
        "from sklearn.tree import DecisionTreeClassifier \n",
        "from lightgbm import LGBMClassifier\n",
        "from sklearn.linear_model import  LogisticRegression\n",
        "from sklearn.neighbors import KNeighborsClassifier\n",
        "\n",
        "from sklearn.preprocessing import LabelBinarizer\n",
        "from sklearn.model_selection import train_test_split\n",
        "from sklearn.model_selection import cross_val_score, cross_validate\n",
        "from sklearn.metrics import classification_report\n",
        "from sklearn.metrics import accuracy_score , confusion_matrix,f1_score, roc_auc_score,precision_score, recall_score,roc_curve\n",
        "\n",
        "from datetime import date"
      ],
      "execution_count": null,
      "outputs": []
    },
    {
      "cell_type": "markdown",
      "metadata": {
        "id": "qkvTpEPw3ce8"
      },
      "source": [
        "MENAMPILKAN DATA DAN PENYESUAIAN SEBELUM MERGE"
      ]
    },
    {
      "cell_type": "code",
      "metadata": {
        "id": "Vj6F_OJU77Io"
      },
      "source": [
        "patien_info = pd.read_csv('drive/MyDrive/dataset/PatientInfo.csv')\n",
        "weather = pd.read_csv('drive/MyDrive/dataset/Weather.csv')\n",
        "seoul_floating = pd.read_csv('drive/MyDrive/dataset/SeoulFloating.csv')"
      ],
      "execution_count": null,
      "outputs": []
    },
    {
      "cell_type": "markdown",
      "metadata": {
        "id": "_OtiMDVdm7gb"
      },
      "source": [
        "## Data Patien Info"
      ]
    },
    {
      "cell_type": "code",
      "metadata": {
        "colab": {
          "base_uri": "https://localhost:8080/",
          "height": 305
        },
        "id": "29CaPEV28jz4",
        "outputId": "a1486b52-5078-4b8a-e880-01d012fc0af0"
      },
      "source": [
        "print(patien_info.shape)\n",
        "patien_info.head()"
      ],
      "execution_count": null,
      "outputs": [
        {
          "output_type": "stream",
          "text": [
            "(5165, 13)\n"
          ],
          "name": "stdout"
        },
        {
          "output_type": "execute_result",
          "data": {
            "text/html": [
              "<div>\n",
              "<style scoped>\n",
              "    .dataframe tbody tr th:only-of-type {\n",
              "        vertical-align: middle;\n",
              "    }\n",
              "\n",
              "    .dataframe tbody tr th {\n",
              "        vertical-align: top;\n",
              "    }\n",
              "\n",
              "    .dataframe thead th {\n",
              "        text-align: right;\n",
              "    }\n",
              "</style>\n",
              "<table border=\"1\" class=\"dataframe\">\n",
              "  <thead>\n",
              "    <tr style=\"text-align: right;\">\n",
              "      <th></th>\n",
              "      <th>patient_id</th>\n",
              "      <th>sex</th>\n",
              "      <th>age</th>\n",
              "      <th>province</th>\n",
              "      <th>city</th>\n",
              "      <th>infection_case</th>\n",
              "      <th>infected_by</th>\n",
              "      <th>contact_number</th>\n",
              "      <th>symptom_onset_date</th>\n",
              "      <th>confirmed_date</th>\n",
              "      <th>released_date</th>\n",
              "      <th>deceased_date</th>\n",
              "      <th>state</th>\n",
              "    </tr>\n",
              "  </thead>\n",
              "  <tbody>\n",
              "    <tr>\n",
              "      <th>0</th>\n",
              "      <td>1000000001</td>\n",
              "      <td>male</td>\n",
              "      <td>50.0</td>\n",
              "      <td>Seoul</td>\n",
              "      <td>Gangseo-gu</td>\n",
              "      <td>overseas inflow</td>\n",
              "      <td>NaN</td>\n",
              "      <td>75</td>\n",
              "      <td>1/22/2020</td>\n",
              "      <td>1/23/2020</td>\n",
              "      <td>2/5/2020</td>\n",
              "      <td>NaN</td>\n",
              "      <td>released</td>\n",
              "    </tr>\n",
              "    <tr>\n",
              "      <th>1</th>\n",
              "      <td>1000000002</td>\n",
              "      <td>male</td>\n",
              "      <td>30.0</td>\n",
              "      <td>Seoul</td>\n",
              "      <td>Jungnang-gu</td>\n",
              "      <td>overseas inflow</td>\n",
              "      <td>NaN</td>\n",
              "      <td>31</td>\n",
              "      <td>NaN</td>\n",
              "      <td>1/30/2020</td>\n",
              "      <td>3/2/2020</td>\n",
              "      <td>NaN</td>\n",
              "      <td>released</td>\n",
              "    </tr>\n",
              "    <tr>\n",
              "      <th>2</th>\n",
              "      <td>1000000003</td>\n",
              "      <td>male</td>\n",
              "      <td>50.0</td>\n",
              "      <td>Seoul</td>\n",
              "      <td>Jongno-gu</td>\n",
              "      <td>contact with patient</td>\n",
              "      <td>2002000001</td>\n",
              "      <td>17</td>\n",
              "      <td>NaN</td>\n",
              "      <td>1/30/2020</td>\n",
              "      <td>2/19/2020</td>\n",
              "      <td>NaN</td>\n",
              "      <td>released</td>\n",
              "    </tr>\n",
              "    <tr>\n",
              "      <th>3</th>\n",
              "      <td>1000000004</td>\n",
              "      <td>male</td>\n",
              "      <td>20.0</td>\n",
              "      <td>Seoul</td>\n",
              "      <td>Mapo-gu</td>\n",
              "      <td>overseas inflow</td>\n",
              "      <td>NaN</td>\n",
              "      <td>9</td>\n",
              "      <td>1/26/2020</td>\n",
              "      <td>1/30/2020</td>\n",
              "      <td>2/15/2020</td>\n",
              "      <td>NaN</td>\n",
              "      <td>released</td>\n",
              "    </tr>\n",
              "    <tr>\n",
              "      <th>4</th>\n",
              "      <td>1000000005</td>\n",
              "      <td>female</td>\n",
              "      <td>20.0</td>\n",
              "      <td>Seoul</td>\n",
              "      <td>Seongbuk-gu</td>\n",
              "      <td>contact with patient</td>\n",
              "      <td>1000000002</td>\n",
              "      <td>2</td>\n",
              "      <td>NaN</td>\n",
              "      <td>1/31/2020</td>\n",
              "      <td>2/24/2020</td>\n",
              "      <td>NaN</td>\n",
              "      <td>released</td>\n",
              "    </tr>\n",
              "  </tbody>\n",
              "</table>\n",
              "</div>"
            ],
            "text/plain": [
              "   patient_id     sex   age  ... released_date deceased_date     state\n",
              "0  1000000001    male  50.0  ...      2/5/2020           NaN  released\n",
              "1  1000000002    male  30.0  ...      3/2/2020           NaN  released\n",
              "2  1000000003    male  50.0  ...     2/19/2020           NaN  released\n",
              "3  1000000004    male  20.0  ...     2/15/2020           NaN  released\n",
              "4  1000000005  female  20.0  ...     2/24/2020           NaN  released\n",
              "\n",
              "[5 rows x 13 columns]"
            ]
          },
          "metadata": {
            "tags": []
          },
          "execution_count": 4
        }
      ]
    },
    {
      "cell_type": "code",
      "metadata": {
        "colab": {
          "base_uri": "https://localhost:8080/",
          "height": 305
        },
        "id": "G63Br5my2IZb",
        "outputId": "3f9715da-e818-44dc-cba2-07cd7588582c"
      },
      "source": [
        "patien_info.rename(columns= {'confirmed_date' :'date'}, inplace=True) #mengubah nama column confirmed_date menjadi date\n",
        "patien_info.age = patien_info.age.fillna(0) #mengubah bagian kosong pada kolom age menjadi 0\n",
        "patien_info.age= patien_info.age.astype('int64') #mengubah tipe data kolom age\n",
        "print(patien_info.shape)\n",
        "patien_info.head()#menampilkan data patien_info"
      ],
      "execution_count": null,
      "outputs": [
        {
          "output_type": "stream",
          "text": [
            "(5165, 13)\n"
          ],
          "name": "stdout"
        },
        {
          "output_type": "execute_result",
          "data": {
            "text/html": [
              "<div>\n",
              "<style scoped>\n",
              "    .dataframe tbody tr th:only-of-type {\n",
              "        vertical-align: middle;\n",
              "    }\n",
              "\n",
              "    .dataframe tbody tr th {\n",
              "        vertical-align: top;\n",
              "    }\n",
              "\n",
              "    .dataframe thead th {\n",
              "        text-align: right;\n",
              "    }\n",
              "</style>\n",
              "<table border=\"1\" class=\"dataframe\">\n",
              "  <thead>\n",
              "    <tr style=\"text-align: right;\">\n",
              "      <th></th>\n",
              "      <th>patient_id</th>\n",
              "      <th>sex</th>\n",
              "      <th>age</th>\n",
              "      <th>province</th>\n",
              "      <th>city</th>\n",
              "      <th>infection_case</th>\n",
              "      <th>infected_by</th>\n",
              "      <th>contact_number</th>\n",
              "      <th>symptom_onset_date</th>\n",
              "      <th>date</th>\n",
              "      <th>released_date</th>\n",
              "      <th>deceased_date</th>\n",
              "      <th>state</th>\n",
              "    </tr>\n",
              "  </thead>\n",
              "  <tbody>\n",
              "    <tr>\n",
              "      <th>0</th>\n",
              "      <td>1000000001</td>\n",
              "      <td>male</td>\n",
              "      <td>50</td>\n",
              "      <td>Seoul</td>\n",
              "      <td>Gangseo-gu</td>\n",
              "      <td>overseas inflow</td>\n",
              "      <td>NaN</td>\n",
              "      <td>75</td>\n",
              "      <td>1/22/2020</td>\n",
              "      <td>1/23/2020</td>\n",
              "      <td>2/5/2020</td>\n",
              "      <td>NaN</td>\n",
              "      <td>released</td>\n",
              "    </tr>\n",
              "    <tr>\n",
              "      <th>1</th>\n",
              "      <td>1000000002</td>\n",
              "      <td>male</td>\n",
              "      <td>30</td>\n",
              "      <td>Seoul</td>\n",
              "      <td>Jungnang-gu</td>\n",
              "      <td>overseas inflow</td>\n",
              "      <td>NaN</td>\n",
              "      <td>31</td>\n",
              "      <td>NaN</td>\n",
              "      <td>1/30/2020</td>\n",
              "      <td>3/2/2020</td>\n",
              "      <td>NaN</td>\n",
              "      <td>released</td>\n",
              "    </tr>\n",
              "    <tr>\n",
              "      <th>2</th>\n",
              "      <td>1000000003</td>\n",
              "      <td>male</td>\n",
              "      <td>50</td>\n",
              "      <td>Seoul</td>\n",
              "      <td>Jongno-gu</td>\n",
              "      <td>contact with patient</td>\n",
              "      <td>2002000001</td>\n",
              "      <td>17</td>\n",
              "      <td>NaN</td>\n",
              "      <td>1/30/2020</td>\n",
              "      <td>2/19/2020</td>\n",
              "      <td>NaN</td>\n",
              "      <td>released</td>\n",
              "    </tr>\n",
              "    <tr>\n",
              "      <th>3</th>\n",
              "      <td>1000000004</td>\n",
              "      <td>male</td>\n",
              "      <td>20</td>\n",
              "      <td>Seoul</td>\n",
              "      <td>Mapo-gu</td>\n",
              "      <td>overseas inflow</td>\n",
              "      <td>NaN</td>\n",
              "      <td>9</td>\n",
              "      <td>1/26/2020</td>\n",
              "      <td>1/30/2020</td>\n",
              "      <td>2/15/2020</td>\n",
              "      <td>NaN</td>\n",
              "      <td>released</td>\n",
              "    </tr>\n",
              "    <tr>\n",
              "      <th>4</th>\n",
              "      <td>1000000005</td>\n",
              "      <td>female</td>\n",
              "      <td>20</td>\n",
              "      <td>Seoul</td>\n",
              "      <td>Seongbuk-gu</td>\n",
              "      <td>contact with patient</td>\n",
              "      <td>1000000002</td>\n",
              "      <td>2</td>\n",
              "      <td>NaN</td>\n",
              "      <td>1/31/2020</td>\n",
              "      <td>2/24/2020</td>\n",
              "      <td>NaN</td>\n",
              "      <td>released</td>\n",
              "    </tr>\n",
              "  </tbody>\n",
              "</table>\n",
              "</div>"
            ],
            "text/plain": [
              "   patient_id     sex  age  ... released_date deceased_date     state\n",
              "0  1000000001    male   50  ...      2/5/2020           NaN  released\n",
              "1  1000000002    male   30  ...      3/2/2020           NaN  released\n",
              "2  1000000003    male   50  ...     2/19/2020           NaN  released\n",
              "3  1000000004    male   20  ...     2/15/2020           NaN  released\n",
              "4  1000000005  female   20  ...     2/24/2020           NaN  released\n",
              "\n",
              "[5 rows x 13 columns]"
            ]
          },
          "metadata": {
            "tags": []
          },
          "execution_count": 5
        }
      ]
    },
    {
      "cell_type": "markdown",
      "metadata": {
        "id": "IgjASlfz5VBQ"
      },
      "source": [
        "# DATA PREPARASI"
      ]
    },
    {
      "cell_type": "markdown",
      "metadata": {
        "id": "WcSiFK-r81cP"
      },
      "source": [
        "## Missing Value"
      ]
    },
    {
      "cell_type": "code",
      "metadata": {
        "colab": {
          "base_uri": "https://localhost:8080/"
        },
        "id": "AuT9hXEgXQ7C",
        "outputId": "bb3daa93-9c78-43cc-c8a9-15db4255969a"
      },
      "source": [
        "pip install plotly_express==0.4.0"
      ],
      "execution_count": null,
      "outputs": [
        {
          "output_type": "stream",
          "text": [
            "Requirement already satisfied: plotly_express==0.4.0 in /usr/local/lib/python3.7/dist-packages (0.4.0)\n",
            "Requirement already satisfied: scipy>=0.18 in /usr/local/lib/python3.7/dist-packages (from plotly_express==0.4.0) (1.4.1)\n",
            "Requirement already satisfied: statsmodels>=0.9.0 in /usr/local/lib/python3.7/dist-packages (from plotly_express==0.4.0) (0.10.2)\n",
            "Requirement already satisfied: pandas>=0.20.0 in /usr/local/lib/python3.7/dist-packages (from plotly_express==0.4.0) (1.1.5)\n",
            "Requirement already satisfied: plotly>=4.0.0 in /usr/local/lib/python3.7/dist-packages (from plotly_express==0.4.0) (4.4.1)\n",
            "Requirement already satisfied: patsy>=0.5 in /usr/local/lib/python3.7/dist-packages (from plotly_express==0.4.0) (0.5.1)\n",
            "Requirement already satisfied: numpy>=1.11 in /usr/local/lib/python3.7/dist-packages (from plotly_express==0.4.0) (1.19.5)\n",
            "Requirement already satisfied: python-dateutil>=2.7.3 in /usr/local/lib/python3.7/dist-packages (from pandas>=0.20.0->plotly_express==0.4.0) (2.8.1)\n",
            "Requirement already satisfied: pytz>=2017.2 in /usr/local/lib/python3.7/dist-packages (from pandas>=0.20.0->plotly_express==0.4.0) (2018.9)\n",
            "Requirement already satisfied: six in /usr/local/lib/python3.7/dist-packages (from patsy>=0.5->plotly_express==0.4.0) (1.15.0)\n",
            "Requirement already satisfied: retrying>=1.3.3 in /usr/local/lib/python3.7/dist-packages (from plotly>=4.0.0->plotly_express==0.4.0) (1.3.3)\n"
          ],
          "name": "stdout"
        }
      ]
    },
    {
      "cell_type": "code",
      "metadata": {
        "colab": {
          "base_uri": "https://localhost:8080/",
          "height": 517
        },
        "id": "GCRKKnpryVkD",
        "outputId": "be97e87a-546a-4ed2-9587-977b8a20175c"
      },
      "source": [
        "def null_analysis(merge):\n",
        "  null_cnt = merge.isnull().sum() # calculate null counts\n",
        "  null_cnt = null_cnt[null_cnt!=0] # remove non-null cols\n",
        "  null_percent = null_cnt / len(merge) * 100 # calculate null percentages\n",
        "  null_table = pd.concat([pd.DataFrame(null_cnt), pd.DataFrame(null_percent)], axis=1)\n",
        "  null_table.columns = ['counts', 'percentage']\n",
        "  null_table.sort_values('counts', ascending=False, inplace=True)\n",
        "  return null_table\n",
        "\n",
        "# visualise null table\n",
        "import plotly_express as px\n",
        "null_table = null_analysis(patien_info)\n",
        "px.bar(null_table.reset_index(), x='index', y='percentage', text='counts', height=500)"
      ],
      "execution_count": null,
      "outputs": [
        {
          "output_type": "display_data",
          "data": {
            "text/html": [
              "<html>\n",
              "<head><meta charset=\"utf-8\" /></head>\n",
              "<body>\n",
              "    <div>\n",
              "            <script src=\"https://cdnjs.cloudflare.com/ajax/libs/mathjax/2.7.5/MathJax.js?config=TeX-AMS-MML_SVG\"></script><script type=\"text/javascript\">if (window.MathJax) {MathJax.Hub.Config({SVG: {font: \"STIX-Web\"}});}</script>\n",
              "                <script type=\"text/javascript\">window.PlotlyConfig = {MathJaxConfig: 'local'};</script>\n",
              "        <script src=\"https://cdn.plot.ly/plotly-latest.min.js\"></script>    \n",
              "            <div id=\"42bfc907-2e04-4848-b1bc-69605a8d66d9\" class=\"plotly-graph-div\" style=\"height:500px; width:100%;\"></div>\n",
              "            <script type=\"text/javascript\">\n",
              "                \n",
              "                    window.PLOTLYENV=window.PLOTLYENV || {};\n",
              "                    \n",
              "                if (document.getElementById(\"42bfc907-2e04-4848-b1bc-69605a8d66d9\")) {\n",
              "                    Plotly.newPlot(\n",
              "                        '42bfc907-2e04-4848-b1bc-69605a8d66d9',\n",
              "                        [{\"alignmentgroup\": \"True\", \"hoverlabel\": {\"namelength\": 0}, \"hovertemplate\": \"index=%{x}<br>percentage=%{y}<br>counts=%{text}\", \"legendgroup\": \"\", \"marker\": {\"color\": \"#636efa\"}, \"name\": \"\", \"offsetgroup\": \"\", \"orientation\": \"v\", \"showlegend\": false, \"text\": [5099.0, 4475.0, 4374.0, 3819.0, 3578.0, 1122.0, 919.0, 94.0, 3.0], \"textposition\": \"auto\", \"type\": \"bar\", \"x\": [\"deceased_date\", \"symptom_onset_date\", \"contact_number\", \"infected_by\", \"released_date\", \"sex\", \"infection_case\", \"city\", \"date\"], \"xaxis\": \"x\", \"y\": [98.72216844143273, 86.64085188770572, 84.68538238141335, 73.93998063891578, 69.27395934172313, 21.723136495643754, 17.792836398838336, 1.8199419167473376, 0.058083252662149074], \"yaxis\": \"y\"}],\n",
              "                        {\"barmode\": \"relative\", \"height\": 500, \"legend\": {\"tracegroupgap\": 0}, \"margin\": {\"t\": 60}, \"template\": {\"data\": {\"bar\": [{\"error_x\": {\"color\": \"#2a3f5f\"}, \"error_y\": {\"color\": \"#2a3f5f\"}, \"marker\": {\"line\": {\"color\": \"#E5ECF6\", \"width\": 0.5}}, \"type\": \"bar\"}], \"barpolar\": [{\"marker\": {\"line\": {\"color\": \"#E5ECF6\", \"width\": 0.5}}, \"type\": \"barpolar\"}], \"carpet\": [{\"aaxis\": {\"endlinecolor\": \"#2a3f5f\", \"gridcolor\": \"white\", \"linecolor\": \"white\", \"minorgridcolor\": \"white\", \"startlinecolor\": \"#2a3f5f\"}, \"baxis\": {\"endlinecolor\": \"#2a3f5f\", \"gridcolor\": \"white\", \"linecolor\": \"white\", \"minorgridcolor\": \"white\", \"startlinecolor\": \"#2a3f5f\"}, \"type\": \"carpet\"}], \"choropleth\": [{\"colorbar\": {\"outlinewidth\": 0, \"ticks\": \"\"}, \"type\": \"choropleth\"}], \"contour\": [{\"colorbar\": {\"outlinewidth\": 0, \"ticks\": \"\"}, \"colorscale\": [[0.0, \"#0d0887\"], [0.1111111111111111, \"#46039f\"], [0.2222222222222222, \"#7201a8\"], [0.3333333333333333, \"#9c179e\"], [0.4444444444444444, \"#bd3786\"], [0.5555555555555556, \"#d8576b\"], [0.6666666666666666, \"#ed7953\"], [0.7777777777777778, \"#fb9f3a\"], [0.8888888888888888, \"#fdca26\"], [1.0, \"#f0f921\"]], \"type\": \"contour\"}], \"contourcarpet\": [{\"colorbar\": {\"outlinewidth\": 0, \"ticks\": \"\"}, \"type\": \"contourcarpet\"}], \"heatmap\": [{\"colorbar\": {\"outlinewidth\": 0, \"ticks\": \"\"}, \"colorscale\": [[0.0, \"#0d0887\"], [0.1111111111111111, \"#46039f\"], [0.2222222222222222, \"#7201a8\"], [0.3333333333333333, \"#9c179e\"], [0.4444444444444444, \"#bd3786\"], [0.5555555555555556, \"#d8576b\"], [0.6666666666666666, \"#ed7953\"], [0.7777777777777778, \"#fb9f3a\"], [0.8888888888888888, \"#fdca26\"], [1.0, \"#f0f921\"]], \"type\": \"heatmap\"}], \"heatmapgl\": [{\"colorbar\": {\"outlinewidth\": 0, \"ticks\": \"\"}, \"colorscale\": [[0.0, \"#0d0887\"], [0.1111111111111111, \"#46039f\"], [0.2222222222222222, \"#7201a8\"], [0.3333333333333333, \"#9c179e\"], [0.4444444444444444, \"#bd3786\"], [0.5555555555555556, \"#d8576b\"], [0.6666666666666666, \"#ed7953\"], [0.7777777777777778, \"#fb9f3a\"], [0.8888888888888888, \"#fdca26\"], [1.0, \"#f0f921\"]], \"type\": \"heatmapgl\"}], \"histogram\": [{\"marker\": {\"colorbar\": {\"outlinewidth\": 0, \"ticks\": \"\"}}, \"type\": \"histogram\"}], \"histogram2d\": [{\"colorbar\": {\"outlinewidth\": 0, \"ticks\": \"\"}, \"colorscale\": [[0.0, \"#0d0887\"], [0.1111111111111111, \"#46039f\"], [0.2222222222222222, \"#7201a8\"], [0.3333333333333333, \"#9c179e\"], [0.4444444444444444, \"#bd3786\"], [0.5555555555555556, \"#d8576b\"], [0.6666666666666666, \"#ed7953\"], [0.7777777777777778, \"#fb9f3a\"], [0.8888888888888888, \"#fdca26\"], [1.0, \"#f0f921\"]], \"type\": \"histogram2d\"}], \"histogram2dcontour\": [{\"colorbar\": {\"outlinewidth\": 0, \"ticks\": \"\"}, \"colorscale\": [[0.0, \"#0d0887\"], [0.1111111111111111, \"#46039f\"], [0.2222222222222222, \"#7201a8\"], [0.3333333333333333, \"#9c179e\"], [0.4444444444444444, \"#bd3786\"], [0.5555555555555556, \"#d8576b\"], [0.6666666666666666, \"#ed7953\"], [0.7777777777777778, \"#fb9f3a\"], [0.8888888888888888, \"#fdca26\"], [1.0, \"#f0f921\"]], \"type\": \"histogram2dcontour\"}], \"mesh3d\": [{\"colorbar\": {\"outlinewidth\": 0, \"ticks\": \"\"}, \"type\": \"mesh3d\"}], \"parcoords\": [{\"line\": {\"colorbar\": {\"outlinewidth\": 0, \"ticks\": \"\"}}, \"type\": \"parcoords\"}], \"pie\": [{\"automargin\": true, \"type\": \"pie\"}], \"scatter\": [{\"marker\": {\"colorbar\": {\"outlinewidth\": 0, \"ticks\": \"\"}}, \"type\": \"scatter\"}], \"scatter3d\": [{\"line\": {\"colorbar\": {\"outlinewidth\": 0, \"ticks\": \"\"}}, \"marker\": {\"colorbar\": {\"outlinewidth\": 0, \"ticks\": \"\"}}, \"type\": \"scatter3d\"}], \"scattercarpet\": [{\"marker\": {\"colorbar\": {\"outlinewidth\": 0, \"ticks\": \"\"}}, \"type\": \"scattercarpet\"}], \"scattergeo\": [{\"marker\": {\"colorbar\": {\"outlinewidth\": 0, \"ticks\": \"\"}}, \"type\": \"scattergeo\"}], \"scattergl\": [{\"marker\": {\"colorbar\": {\"outlinewidth\": 0, \"ticks\": \"\"}}, \"type\": \"scattergl\"}], \"scattermapbox\": [{\"marker\": {\"colorbar\": {\"outlinewidth\": 0, \"ticks\": \"\"}}, \"type\": \"scattermapbox\"}], \"scatterpolar\": [{\"marker\": {\"colorbar\": {\"outlinewidth\": 0, \"ticks\": \"\"}}, \"type\": \"scatterpolar\"}], \"scatterpolargl\": [{\"marker\": {\"colorbar\": {\"outlinewidth\": 0, \"ticks\": \"\"}}, \"type\": \"scatterpolargl\"}], \"scatterternary\": [{\"marker\": {\"colorbar\": {\"outlinewidth\": 0, \"ticks\": \"\"}}, \"type\": \"scatterternary\"}], \"surface\": [{\"colorbar\": {\"outlinewidth\": 0, \"ticks\": \"\"}, \"colorscale\": [[0.0, \"#0d0887\"], [0.1111111111111111, \"#46039f\"], [0.2222222222222222, \"#7201a8\"], [0.3333333333333333, \"#9c179e\"], [0.4444444444444444, \"#bd3786\"], [0.5555555555555556, \"#d8576b\"], [0.6666666666666666, \"#ed7953\"], [0.7777777777777778, \"#fb9f3a\"], [0.8888888888888888, \"#fdca26\"], [1.0, \"#f0f921\"]], \"type\": \"surface\"}], \"table\": [{\"cells\": {\"fill\": {\"color\": \"#EBF0F8\"}, \"line\": {\"color\": \"white\"}}, \"header\": {\"fill\": {\"color\": \"#C8D4E3\"}, \"line\": {\"color\": \"white\"}}, \"type\": \"table\"}]}, \"layout\": {\"annotationdefaults\": {\"arrowcolor\": \"#2a3f5f\", \"arrowhead\": 0, \"arrowwidth\": 1}, \"coloraxis\": {\"colorbar\": {\"outlinewidth\": 0, \"ticks\": \"\"}}, \"colorscale\": {\"diverging\": [[0, \"#8e0152\"], [0.1, \"#c51b7d\"], [0.2, \"#de77ae\"], [0.3, \"#f1b6da\"], [0.4, \"#fde0ef\"], [0.5, \"#f7f7f7\"], [0.6, \"#e6f5d0\"], [0.7, \"#b8e186\"], [0.8, \"#7fbc41\"], [0.9, \"#4d9221\"], [1, \"#276419\"]], \"sequential\": [[0.0, \"#0d0887\"], [0.1111111111111111, \"#46039f\"], [0.2222222222222222, \"#7201a8\"], [0.3333333333333333, \"#9c179e\"], [0.4444444444444444, \"#bd3786\"], [0.5555555555555556, \"#d8576b\"], [0.6666666666666666, \"#ed7953\"], [0.7777777777777778, \"#fb9f3a\"], [0.8888888888888888, \"#fdca26\"], [1.0, \"#f0f921\"]], \"sequentialminus\": [[0.0, \"#0d0887\"], [0.1111111111111111, \"#46039f\"], [0.2222222222222222, \"#7201a8\"], [0.3333333333333333, \"#9c179e\"], [0.4444444444444444, \"#bd3786\"], [0.5555555555555556, \"#d8576b\"], [0.6666666666666666, \"#ed7953\"], [0.7777777777777778, \"#fb9f3a\"], [0.8888888888888888, \"#fdca26\"], [1.0, \"#f0f921\"]]}, \"colorway\": [\"#636efa\", \"#EF553B\", \"#00cc96\", \"#ab63fa\", \"#FFA15A\", \"#19d3f3\", \"#FF6692\", \"#B6E880\", \"#FF97FF\", \"#FECB52\"], \"font\": {\"color\": \"#2a3f5f\"}, \"geo\": {\"bgcolor\": \"white\", \"lakecolor\": \"white\", \"landcolor\": \"#E5ECF6\", \"showlakes\": true, \"showland\": true, \"subunitcolor\": \"white\"}, \"hoverlabel\": {\"align\": \"left\"}, \"hovermode\": \"closest\", \"mapbox\": {\"style\": \"light\"}, \"paper_bgcolor\": \"white\", \"plot_bgcolor\": \"#E5ECF6\", \"polar\": {\"angularaxis\": {\"gridcolor\": \"white\", \"linecolor\": \"white\", \"ticks\": \"\"}, \"bgcolor\": \"#E5ECF6\", \"radialaxis\": {\"gridcolor\": \"white\", \"linecolor\": \"white\", \"ticks\": \"\"}}, \"scene\": {\"xaxis\": {\"backgroundcolor\": \"#E5ECF6\", \"gridcolor\": \"white\", \"gridwidth\": 2, \"linecolor\": \"white\", \"showbackground\": true, \"ticks\": \"\", \"zerolinecolor\": \"white\"}, \"yaxis\": {\"backgroundcolor\": \"#E5ECF6\", \"gridcolor\": \"white\", \"gridwidth\": 2, \"linecolor\": \"white\", \"showbackground\": true, \"ticks\": \"\", \"zerolinecolor\": \"white\"}, \"zaxis\": {\"backgroundcolor\": \"#E5ECF6\", \"gridcolor\": \"white\", \"gridwidth\": 2, \"linecolor\": \"white\", \"showbackground\": true, \"ticks\": \"\", \"zerolinecolor\": \"white\"}}, \"shapedefaults\": {\"line\": {\"color\": \"#2a3f5f\"}}, \"ternary\": {\"aaxis\": {\"gridcolor\": \"white\", \"linecolor\": \"white\", \"ticks\": \"\"}, \"baxis\": {\"gridcolor\": \"white\", \"linecolor\": \"white\", \"ticks\": \"\"}, \"bgcolor\": \"#E5ECF6\", \"caxis\": {\"gridcolor\": \"white\", \"linecolor\": \"white\", \"ticks\": \"\"}}, \"title\": {\"x\": 0.05}, \"xaxis\": {\"automargin\": true, \"gridcolor\": \"white\", \"linecolor\": \"white\", \"ticks\": \"\", \"title\": {\"standoff\": 15}, \"zerolinecolor\": \"white\", \"zerolinewidth\": 2}, \"yaxis\": {\"automargin\": true, \"gridcolor\": \"white\", \"linecolor\": \"white\", \"ticks\": \"\", \"title\": {\"standoff\": 15}, \"zerolinecolor\": \"white\", \"zerolinewidth\": 2}}}, \"xaxis\": {\"anchor\": \"y\", \"domain\": [0.0, 1.0], \"title\": {\"text\": \"index\"}}, \"yaxis\": {\"anchor\": \"x\", \"domain\": [0.0, 1.0], \"title\": {\"text\": \"percentage\"}}},\n",
              "                        {\"responsive\": true}\n",
              "                    ).then(function(){\n",
              "                            \n",
              "var gd = document.getElementById('42bfc907-2e04-4848-b1bc-69605a8d66d9');\n",
              "var x = new MutationObserver(function (mutations, observer) {{\n",
              "        var display = window.getComputedStyle(gd).display;\n",
              "        if (!display || display === 'none') {{\n",
              "            console.log([gd, 'removed!']);\n",
              "            Plotly.purge(gd);\n",
              "            observer.disconnect();\n",
              "        }}\n",
              "}});\n",
              "\n",
              "// Listen for the removal of the full notebook cells\n",
              "var notebookContainer = gd.closest('#notebook-container');\n",
              "if (notebookContainer) {{\n",
              "    x.observe(notebookContainer, {childList: true});\n",
              "}}\n",
              "\n",
              "// Listen for the clearing of the current output cell\n",
              "var outputEl = gd.closest('.output');\n",
              "if (outputEl) {{\n",
              "    x.observe(outputEl, {childList: true});\n",
              "}}\n",
              "\n",
              "                        })\n",
              "                };\n",
              "                \n",
              "            </script>\n",
              "        </div>\n",
              "</body>\n",
              "</html>"
            ]
          },
          "metadata": {
            "tags": []
          }
        }
      ]
    },
    {
      "cell_type": "code",
      "metadata": {
        "id": "Hg648AZ9dKYh",
        "colab": {
          "base_uri": "https://localhost:8080/",
          "height": 498
        },
        "outputId": "332c8d95-d3bb-4ddc-e40a-07420bf0637b"
      },
      "source": [
        "patien_info.drop(['deceased_date','released_date'], inplace=True, axis=1)\n",
        "patien_info"
      ],
      "execution_count": null,
      "outputs": [
        {
          "output_type": "execute_result",
          "data": {
            "text/html": [
              "<div>\n",
              "<style scoped>\n",
              "    .dataframe tbody tr th:only-of-type {\n",
              "        vertical-align: middle;\n",
              "    }\n",
              "\n",
              "    .dataframe tbody tr th {\n",
              "        vertical-align: top;\n",
              "    }\n",
              "\n",
              "    .dataframe thead th {\n",
              "        text-align: right;\n",
              "    }\n",
              "</style>\n",
              "<table border=\"1\" class=\"dataframe\">\n",
              "  <thead>\n",
              "    <tr style=\"text-align: right;\">\n",
              "      <th></th>\n",
              "      <th>patient_id</th>\n",
              "      <th>sex</th>\n",
              "      <th>age</th>\n",
              "      <th>province</th>\n",
              "      <th>city</th>\n",
              "      <th>infection_case</th>\n",
              "      <th>infected_by</th>\n",
              "      <th>contact_number</th>\n",
              "      <th>symptom_onset_date</th>\n",
              "      <th>date</th>\n",
              "      <th>state</th>\n",
              "    </tr>\n",
              "  </thead>\n",
              "  <tbody>\n",
              "    <tr>\n",
              "      <th>0</th>\n",
              "      <td>1000000001</td>\n",
              "      <td>male</td>\n",
              "      <td>50</td>\n",
              "      <td>Seoul</td>\n",
              "      <td>Gangseo-gu</td>\n",
              "      <td>overseas inflow</td>\n",
              "      <td>NaN</td>\n",
              "      <td>75</td>\n",
              "      <td>1/22/2020</td>\n",
              "      <td>1/23/2020</td>\n",
              "      <td>released</td>\n",
              "    </tr>\n",
              "    <tr>\n",
              "      <th>1</th>\n",
              "      <td>1000000002</td>\n",
              "      <td>male</td>\n",
              "      <td>30</td>\n",
              "      <td>Seoul</td>\n",
              "      <td>Jungnang-gu</td>\n",
              "      <td>overseas inflow</td>\n",
              "      <td>NaN</td>\n",
              "      <td>31</td>\n",
              "      <td>NaN</td>\n",
              "      <td>1/30/2020</td>\n",
              "      <td>released</td>\n",
              "    </tr>\n",
              "    <tr>\n",
              "      <th>2</th>\n",
              "      <td>1000000003</td>\n",
              "      <td>male</td>\n",
              "      <td>50</td>\n",
              "      <td>Seoul</td>\n",
              "      <td>Jongno-gu</td>\n",
              "      <td>contact with patient</td>\n",
              "      <td>2002000001</td>\n",
              "      <td>17</td>\n",
              "      <td>NaN</td>\n",
              "      <td>1/30/2020</td>\n",
              "      <td>released</td>\n",
              "    </tr>\n",
              "    <tr>\n",
              "      <th>3</th>\n",
              "      <td>1000000004</td>\n",
              "      <td>male</td>\n",
              "      <td>20</td>\n",
              "      <td>Seoul</td>\n",
              "      <td>Mapo-gu</td>\n",
              "      <td>overseas inflow</td>\n",
              "      <td>NaN</td>\n",
              "      <td>9</td>\n",
              "      <td>1/26/2020</td>\n",
              "      <td>1/30/2020</td>\n",
              "      <td>released</td>\n",
              "    </tr>\n",
              "    <tr>\n",
              "      <th>4</th>\n",
              "      <td>1000000005</td>\n",
              "      <td>female</td>\n",
              "      <td>20</td>\n",
              "      <td>Seoul</td>\n",
              "      <td>Seongbuk-gu</td>\n",
              "      <td>contact with patient</td>\n",
              "      <td>1000000002</td>\n",
              "      <td>2</td>\n",
              "      <td>NaN</td>\n",
              "      <td>1/31/2020</td>\n",
              "      <td>released</td>\n",
              "    </tr>\n",
              "    <tr>\n",
              "      <th>...</th>\n",
              "      <td>...</td>\n",
              "      <td>...</td>\n",
              "      <td>...</td>\n",
              "      <td>...</td>\n",
              "      <td>...</td>\n",
              "      <td>...</td>\n",
              "      <td>...</td>\n",
              "      <td>...</td>\n",
              "      <td>...</td>\n",
              "      <td>...</td>\n",
              "      <td>...</td>\n",
              "    </tr>\n",
              "    <tr>\n",
              "      <th>5160</th>\n",
              "      <td>7000000015</td>\n",
              "      <td>female</td>\n",
              "      <td>30</td>\n",
              "      <td>Jeju-do</td>\n",
              "      <td>Jeju-do</td>\n",
              "      <td>overseas inflow</td>\n",
              "      <td>NaN</td>\n",
              "      <td>25</td>\n",
              "      <td>NaN</td>\n",
              "      <td>5/30/2020</td>\n",
              "      <td>released</td>\n",
              "    </tr>\n",
              "    <tr>\n",
              "      <th>5161</th>\n",
              "      <td>7000000016</td>\n",
              "      <td>NaN</td>\n",
              "      <td>0</td>\n",
              "      <td>Jeju-do</td>\n",
              "      <td>Jeju-do</td>\n",
              "      <td>overseas inflow</td>\n",
              "      <td>NaN</td>\n",
              "      <td>NaN</td>\n",
              "      <td>NaN</td>\n",
              "      <td>6/16/2020</td>\n",
              "      <td>released</td>\n",
              "    </tr>\n",
              "    <tr>\n",
              "      <th>5162</th>\n",
              "      <td>7000000017</td>\n",
              "      <td>NaN</td>\n",
              "      <td>0</td>\n",
              "      <td>Jeju-do</td>\n",
              "      <td>Jeju-do</td>\n",
              "      <td>overseas inflow</td>\n",
              "      <td>NaN</td>\n",
              "      <td>72</td>\n",
              "      <td>NaN</td>\n",
              "      <td>6/18/2020</td>\n",
              "      <td>isolated</td>\n",
              "    </tr>\n",
              "    <tr>\n",
              "      <th>5163</th>\n",
              "      <td>7000000018</td>\n",
              "      <td>NaN</td>\n",
              "      <td>0</td>\n",
              "      <td>Jeju-do</td>\n",
              "      <td>Jeju-do</td>\n",
              "      <td>overseas inflow</td>\n",
              "      <td>NaN</td>\n",
              "      <td>NaN</td>\n",
              "      <td>NaN</td>\n",
              "      <td>6/18/2020</td>\n",
              "      <td>isolated</td>\n",
              "    </tr>\n",
              "    <tr>\n",
              "      <th>5164</th>\n",
              "      <td>7000000019</td>\n",
              "      <td>NaN</td>\n",
              "      <td>0</td>\n",
              "      <td>Jeju-do</td>\n",
              "      <td>Jeju-do</td>\n",
              "      <td>overseas inflow</td>\n",
              "      <td>NaN</td>\n",
              "      <td>NaN</td>\n",
              "      <td>NaN</td>\n",
              "      <td>6/18/2020</td>\n",
              "      <td>isolated</td>\n",
              "    </tr>\n",
              "  </tbody>\n",
              "</table>\n",
              "<p>5165 rows × 11 columns</p>\n",
              "</div>"
            ],
            "text/plain": [
              "      patient_id     sex  age  ... symptom_onset_date       date     state\n",
              "0     1000000001    male   50  ...          1/22/2020  1/23/2020  released\n",
              "1     1000000002    male   30  ...                NaN  1/30/2020  released\n",
              "2     1000000003    male   50  ...                NaN  1/30/2020  released\n",
              "3     1000000004    male   20  ...          1/26/2020  1/30/2020  released\n",
              "4     1000000005  female   20  ...                NaN  1/31/2020  released\n",
              "...          ...     ...  ...  ...                ...        ...       ...\n",
              "5160  7000000015  female   30  ...                NaN  5/30/2020  released\n",
              "5161  7000000016     NaN    0  ...                NaN  6/16/2020  released\n",
              "5162  7000000017     NaN    0  ...                NaN  6/18/2020  isolated\n",
              "5163  7000000018     NaN    0  ...                NaN  6/18/2020  isolated\n",
              "5164  7000000019     NaN    0  ...                NaN  6/18/2020  isolated\n",
              "\n",
              "[5165 rows x 11 columns]"
            ]
          },
          "metadata": {
            "tags": []
          },
          "execution_count": 8
        }
      ]
    },
    {
      "cell_type": "markdown",
      "metadata": {
        "id": "dTi6dD948qVM"
      },
      "source": [
        "## Distribusi Label"
      ]
    },
    {
      "cell_type": "code",
      "metadata": {
        "id": "DUcViWNK_076",
        "colab": {
          "base_uri": "https://localhost:8080/",
          "height": 448
        },
        "outputId": "a2833176-c77e-4674-99d6-6bb7d4662564"
      },
      "source": [
        "sns.countplot(x='state', data=patien_info);pyplot.show()"
      ],
      "execution_count": null,
      "outputs": [
        {
          "output_type": "display_data",
          "data": {
            "image/png": "[encoded data removed]",
            "text/plain": [
              "<Figure size 640x480 with 1 Axes>"
            ]
          },
          "metadata": {
            "tags": []
          }
        }
      ]
    },
    {
      "cell_type": "markdown",
      "metadata": {
        "id": "n8hSZMM5Dj9b"
      },
      "source": [
        "## REPLACE MISSING VALUE"
      ]
    },
    {
      "cell_type": "code",
      "metadata": {
        "colab": {
          "base_uri": "https://localhost:8080/",
          "height": 292
        },
        "id": "93FiXICCDyTI",
        "outputId": "65b59cad-62a8-414e-be35-ebd90fe58f86"
      },
      "source": [
        "patien_info.describe()"
      ],
      "execution_count": null,
      "outputs": [
        {
          "output_type": "execute_result",
          "data": {
            "text/html": [
              "<div>\n",
              "<style scoped>\n",
              "    .dataframe tbody tr th:only-of-type {\n",
              "        vertical-align: middle;\n",
              "    }\n",
              "\n",
              "    .dataframe tbody tr th {\n",
              "        vertical-align: top;\n",
              "    }\n",
              "\n",
              "    .dataframe thead th {\n",
              "        text-align: right;\n",
              "    }\n",
              "</style>\n",
              "<table border=\"1\" class=\"dataframe\">\n",
              "  <thead>\n",
              "    <tr style=\"text-align: right;\">\n",
              "      <th></th>\n",
              "      <th>patient_id</th>\n",
              "      <th>age</th>\n",
              "    </tr>\n",
              "  </thead>\n",
              "  <tbody>\n",
              "    <tr>\n",
              "      <th>count</th>\n",
              "      <td>5.165000e+03</td>\n",
              "      <td>5165.000000</td>\n",
              "    </tr>\n",
              "    <tr>\n",
              "      <th>mean</th>\n",
              "      <td>2.863635e+09</td>\n",
              "      <td>29.581801</td>\n",
              "    </tr>\n",
              "    <tr>\n",
              "      <th>std</th>\n",
              "      <td>2.074211e+09</td>\n",
              "      <td>24.860169</td>\n",
              "    </tr>\n",
              "    <tr>\n",
              "      <th>min</th>\n",
              "      <td>1.000000e+09</td>\n",
              "      <td>0.000000</td>\n",
              "    </tr>\n",
              "    <tr>\n",
              "      <th>25%</th>\n",
              "      <td>1.000001e+09</td>\n",
              "      <td>0.000000</td>\n",
              "    </tr>\n",
              "    <tr>\n",
              "      <th>50%</th>\n",
              "      <td>2.000000e+09</td>\n",
              "      <td>30.000000</td>\n",
              "    </tr>\n",
              "    <tr>\n",
              "      <th>75%</th>\n",
              "      <td>6.001000e+09</td>\n",
              "      <td>50.000000</td>\n",
              "    </tr>\n",
              "    <tr>\n",
              "      <th>max</th>\n",
              "      <td>7.000000e+09</td>\n",
              "      <td>100.000000</td>\n",
              "    </tr>\n",
              "  </tbody>\n",
              "</table>\n",
              "</div>"
            ],
            "text/plain": [
              "         patient_id          age\n",
              "count  5.165000e+03  5165.000000\n",
              "mean   2.863635e+09    29.581801\n",
              "std    2.074211e+09    24.860169\n",
              "min    1.000000e+09     0.000000\n",
              "25%    1.000001e+09     0.000000\n",
              "50%    2.000000e+09    30.000000\n",
              "75%    6.001000e+09    50.000000\n",
              "max    7.000000e+09   100.000000"
            ]
          },
          "metadata": {
            "tags": []
          },
          "execution_count": 10
        }
      ]
    },
    {
      "cell_type": "code",
      "metadata": {
        "colab": {
          "base_uri": "https://localhost:8080/"
        },
        "id": "bktC0rmnoRVU",
        "outputId": "86934bad-baa6-4abc-daf3-6551426c032d"
      },
      "source": [
        "patien_info.min()"
      ],
      "execution_count": null,
      "outputs": [
        {
          "output_type": "execute_result",
          "data": {
            "text/plain": [
              "patient_id    1000000001\n",
              "age                    0\n",
              "province           Busan\n",
              "state           deceased\n",
              "dtype: object"
            ]
          },
          "metadata": {
            "tags": []
          },
          "execution_count": 11
        }
      ]
    },
    {
      "cell_type": "code",
      "metadata": {
        "id": "FHerVRytInl7"
      },
      "source": [
        "# merge['date'].fillna(value=pd.to_datetime('1/1/2015'), inplace=True)\n",
        "# merge['symptom_onset_date'].fillna(value=pd.to_datetime('1/1/2015'), inplace=True)\n",
        "# merge"
      ],
      "execution_count": null,
      "outputs": []
    },
    {
      "cell_type": "code",
      "metadata": {
        "id": "X_Ez_XC0vHM9"
      },
      "source": [
        "from numpy import nan \n",
        "patien_info[['symptom_onset_date']] = patien_info[['symptom_onset_date']].replace(\" \", nan)"
      ],
      "execution_count": null,
      "outputs": []
    },
    {
      "cell_type": "code",
      "metadata": {
        "id": "0otS2-aN51kD"
      },
      "source": [
        "patien_info['symptom_onset_date'] = patien_info['symptom_onset_date'].replace(np.nan, '1/1/2020')"
      ],
      "execution_count": null,
      "outputs": []
    },
    {
      "cell_type": "code",
      "metadata": {
        "colab": {
          "base_uri": "https://localhost:8080/",
          "height": 498
        },
        "id": "u3KWskbE6hXv",
        "outputId": "648a1d27-2be1-43b5-daa8-cfc5400e60a9"
      },
      "source": [
        "patien_info"
      ],
      "execution_count": null,
      "outputs": [
        {
          "output_type": "execute_result",
          "data": {
            "text/html": [
              "<div>\n",
              "<style scoped>\n",
              "    .dataframe tbody tr th:only-of-type {\n",
              "        vertical-align: middle;\n",
              "    }\n",
              "\n",
              "    .dataframe tbody tr th {\n",
              "        vertical-align: top;\n",
              "    }\n",
              "\n",
              "    .dataframe thead th {\n",
              "        text-align: right;\n",
              "    }\n",
              "</style>\n",
              "<table border=\"1\" class=\"dataframe\">\n",
              "  <thead>\n",
              "    <tr style=\"text-align: right;\">\n",
              "      <th></th>\n",
              "      <th>patient_id</th>\n",
              "      <th>sex</th>\n",
              "      <th>age</th>\n",
              "      <th>province</th>\n",
              "      <th>city</th>\n",
              "      <th>infection_case</th>\n",
              "      <th>infected_by</th>\n",
              "      <th>contact_number</th>\n",
              "      <th>symptom_onset_date</th>\n",
              "      <th>date</th>\n",
              "      <th>state</th>\n",
              "    </tr>\n",
              "  </thead>\n",
              "  <tbody>\n",
              "    <tr>\n",
              "      <th>0</th>\n",
              "      <td>1000000001</td>\n",
              "      <td>male</td>\n",
              "      <td>50</td>\n",
              "      <td>Seoul</td>\n",
              "      <td>Gangseo-gu</td>\n",
              "      <td>overseas inflow</td>\n",
              "      <td>NaN</td>\n",
              "      <td>75</td>\n",
              "      <td>1/22/2020</td>\n",
              "      <td>1/23/2020</td>\n",
              "      <td>released</td>\n",
              "    </tr>\n",
              "    <tr>\n",
              "      <th>1</th>\n",
              "      <td>1000000002</td>\n",
              "      <td>male</td>\n",
              "      <td>30</td>\n",
              "      <td>Seoul</td>\n",
              "      <td>Jungnang-gu</td>\n",
              "      <td>overseas inflow</td>\n",
              "      <td>NaN</td>\n",
              "      <td>31</td>\n",
              "      <td>1/1/2020</td>\n",
              "      <td>1/30/2020</td>\n",
              "      <td>released</td>\n",
              "    </tr>\n",
              "    <tr>\n",
              "      <th>2</th>\n",
              "      <td>1000000003</td>\n",
              "      <td>male</td>\n",
              "      <td>50</td>\n",
              "      <td>Seoul</td>\n",
              "      <td>Jongno-gu</td>\n",
              "      <td>contact with patient</td>\n",
              "      <td>2002000001</td>\n",
              "      <td>17</td>\n",
              "      <td>1/1/2020</td>\n",
              "      <td>1/30/2020</td>\n",
              "      <td>released</td>\n",
              "    </tr>\n",
              "    <tr>\n",
              "      <th>3</th>\n",
              "      <td>1000000004</td>\n",
              "      <td>male</td>\n",
              "      <td>20</td>\n",
              "      <td>Seoul</td>\n",
              "      <td>Mapo-gu</td>\n",
              "      <td>overseas inflow</td>\n",
              "      <td>NaN</td>\n",
              "      <td>9</td>\n",
              "      <td>1/26/2020</td>\n",
              "      <td>1/30/2020</td>\n",
              "      <td>released</td>\n",
              "    </tr>\n",
              "    <tr>\n",
              "      <th>4</th>\n",
              "      <td>1000000005</td>\n",
              "      <td>female</td>\n",
              "      <td>20</td>\n",
              "      <td>Seoul</td>\n",
              "      <td>Seongbuk-gu</td>\n",
              "      <td>contact with patient</td>\n",
              "      <td>1000000002</td>\n",
              "      <td>2</td>\n",
              "      <td>1/1/2020</td>\n",
              "      <td>1/31/2020</td>\n",
              "      <td>released</td>\n",
              "    </tr>\n",
              "    <tr>\n",
              "      <th>...</th>\n",
              "      <td>...</td>\n",
              "      <td>...</td>\n",
              "      <td>...</td>\n",
              "      <td>...</td>\n",
              "      <td>...</td>\n",
              "      <td>...</td>\n",
              "      <td>...</td>\n",
              "      <td>...</td>\n",
              "      <td>...</td>\n",
              "      <td>...</td>\n",
              "      <td>...</td>\n",
              "    </tr>\n",
              "    <tr>\n",
              "      <th>5160</th>\n",
              "      <td>7000000015</td>\n",
              "      <td>female</td>\n",
              "      <td>30</td>\n",
              "      <td>Jeju-do</td>\n",
              "      <td>Jeju-do</td>\n",
              "      <td>overseas inflow</td>\n",
              "      <td>NaN</td>\n",
              "      <td>25</td>\n",
              "      <td>1/1/2020</td>\n",
              "      <td>5/30/2020</td>\n",
              "      <td>released</td>\n",
              "    </tr>\n",
              "    <tr>\n",
              "      <th>5161</th>\n",
              "      <td>7000000016</td>\n",
              "      <td>NaN</td>\n",
              "      <td>0</td>\n",
              "      <td>Jeju-do</td>\n",
              "      <td>Jeju-do</td>\n",
              "      <td>overseas inflow</td>\n",
              "      <td>NaN</td>\n",
              "      <td>NaN</td>\n",
              "      <td>1/1/2020</td>\n",
              "      <td>6/16/2020</td>\n",
              "      <td>released</td>\n",
              "    </tr>\n",
              "    <tr>\n",
              "      <th>5162</th>\n",
              "      <td>7000000017</td>\n",
              "      <td>NaN</td>\n",
              "      <td>0</td>\n",
              "      <td>Jeju-do</td>\n",
              "      <td>Jeju-do</td>\n",
              "      <td>overseas inflow</td>\n",
              "      <td>NaN</td>\n",
              "      <td>72</td>\n",
              "      <td>1/1/2020</td>\n",
              "      <td>6/18/2020</td>\n",
              "      <td>isolated</td>\n",
              "    </tr>\n",
              "    <tr>\n",
              "      <th>5163</th>\n",
              "      <td>7000000018</td>\n",
              "      <td>NaN</td>\n",
              "      <td>0</td>\n",
              "      <td>Jeju-do</td>\n",
              "      <td>Jeju-do</td>\n",
              "      <td>overseas inflow</td>\n",
              "      <td>NaN</td>\n",
              "      <td>NaN</td>\n",
              "      <td>1/1/2020</td>\n",
              "      <td>6/18/2020</td>\n",
              "      <td>isolated</td>\n",
              "    </tr>\n",
              "    <tr>\n",
              "      <th>5164</th>\n",
              "      <td>7000000019</td>\n",
              "      <td>NaN</td>\n",
              "      <td>0</td>\n",
              "      <td>Jeju-do</td>\n",
              "      <td>Jeju-do</td>\n",
              "      <td>overseas inflow</td>\n",
              "      <td>NaN</td>\n",
              "      <td>NaN</td>\n",
              "      <td>1/1/2020</td>\n",
              "      <td>6/18/2020</td>\n",
              "      <td>isolated</td>\n",
              "    </tr>\n",
              "  </tbody>\n",
              "</table>\n",
              "<p>5165 rows × 11 columns</p>\n",
              "</div>"
            ],
            "text/plain": [
              "      patient_id     sex  age  ... symptom_onset_date       date     state\n",
              "0     1000000001    male   50  ...          1/22/2020  1/23/2020  released\n",
              "1     1000000002    male   30  ...           1/1/2020  1/30/2020  released\n",
              "2     1000000003    male   50  ...           1/1/2020  1/30/2020  released\n",
              "3     1000000004    male   20  ...          1/26/2020  1/30/2020  released\n",
              "4     1000000005  female   20  ...           1/1/2020  1/31/2020  released\n",
              "...          ...     ...  ...  ...                ...        ...       ...\n",
              "5160  7000000015  female   30  ...           1/1/2020  5/30/2020  released\n",
              "5161  7000000016     NaN    0  ...           1/1/2020  6/16/2020  released\n",
              "5162  7000000017     NaN    0  ...           1/1/2020  6/18/2020  isolated\n",
              "5163  7000000018     NaN    0  ...           1/1/2020  6/18/2020  isolated\n",
              "5164  7000000019     NaN    0  ...           1/1/2020  6/18/2020  isolated\n",
              "\n",
              "[5165 rows x 11 columns]"
            ]
          },
          "metadata": {
            "tags": []
          },
          "execution_count": 15
        }
      ]
    },
    {
      "cell_type": "code",
      "metadata": {
        "id": "ZirRKQu1gmXM",
        "colab": {
          "base_uri": "https://localhost:8080/",
          "height": 597
        },
        "outputId": "c1c39225-639a-423d-f9af-40cf0ecc0725"
      },
      "source": [
        "patien_info['sex'].replace({'male' : 0}, inplace=True)\n",
        "patien_info['sex'].replace({'female' : 1}, inplace=True)\n",
        "patien_info['sex'] = patien_info['sex'].replace(np.nan, -1)\n",
        "patien_info['infection_case'] = patien_info['infection_case'].replace(np.nan, 2)\n",
        "patien_info['infected_by'] = patien_info['infected_by'].replace(np.nan, -1)\n",
        "patien_info['contact_number'] = patien_info['contact_number'].replace(np.nan, -1)\n",
        "patien_info['symptom_onset_date'] = pd.to_datetime(patien_info.symptom_onset_date, format='%m/%d/%Y')\n",
        "patien_info['date'] = pd.to_datetime(patien_info.date, format='%m/%d/%Y')\n",
        "for col_name in patien_info.columns:\n",
        "    if(patien_info[col_name].dtype == 'object'):\n",
        "        patien_info[col_name]= patien_info[col_name].astype('category')\n",
        "        patien_info[col_name] = patien_info[col_name].cat.codes\n",
        "patien_info"
      ],
      "execution_count": null,
      "outputs": [
        {
          "output_type": "execute_result",
          "data": {
            "text/html": [
              "<div>\n",
              "<style scoped>\n",
              "    .dataframe tbody tr th:only-of-type {\n",
              "        vertical-align: middle;\n",
              "    }\n",
              "\n",
              "    .dataframe tbody tr th {\n",
              "        vertical-align: top;\n",
              "    }\n",
              "\n",
              "    .dataframe thead th {\n",
              "        text-align: right;\n",
              "    }\n",
              "</style>\n",
              "<table border=\"1\" class=\"dataframe\">\n",
              "  <thead>\n",
              "    <tr style=\"text-align: right;\">\n",
              "      <th></th>\n",
              "      <th>patient_id</th>\n",
              "      <th>sex</th>\n",
              "      <th>age</th>\n",
              "      <th>province</th>\n",
              "      <th>city</th>\n",
              "      <th>infection_case</th>\n",
              "      <th>infected_by</th>\n",
              "      <th>contact_number</th>\n",
              "      <th>symptom_onset_date</th>\n",
              "      <th>date</th>\n",
              "      <th>state</th>\n",
              "    </tr>\n",
              "  </thead>\n",
              "  <tbody>\n",
              "    <tr>\n",
              "      <th>0</th>\n",
              "      <td>1000000001</td>\n",
              "      <td>0.0</td>\n",
              "      <td>50</td>\n",
              "      <td>15</td>\n",
              "      <td>39</td>\n",
              "      <td>51</td>\n",
              "      <td>0</td>\n",
              "      <td>80</td>\n",
              "      <td>2020-01-22</td>\n",
              "      <td>2020-01-23</td>\n",
              "      <td>2</td>\n",
              "    </tr>\n",
              "    <tr>\n",
              "      <th>1</th>\n",
              "      <td>1000000002</td>\n",
              "      <td>0.0</td>\n",
              "      <td>30</td>\n",
              "      <td>15</td>\n",
              "      <td>93</td>\n",
              "      <td>51</td>\n",
              "      <td>0</td>\n",
              "      <td>43</td>\n",
              "      <td>2020-01-01</td>\n",
              "      <td>2020-01-30</td>\n",
              "      <td>2</td>\n",
              "    </tr>\n",
              "    <tr>\n",
              "      <th>2</th>\n",
              "      <td>1000000003</td>\n",
              "      <td>0.0</td>\n",
              "      <td>50</td>\n",
              "      <td>15</td>\n",
              "      <td>91</td>\n",
              "      <td>47</td>\n",
              "      <td>475</td>\n",
              "      <td>23</td>\n",
              "      <td>2020-01-01</td>\n",
              "      <td>2020-01-30</td>\n",
              "      <td>2</td>\n",
              "    </tr>\n",
              "    <tr>\n",
              "      <th>3</th>\n",
              "      <td>1000000004</td>\n",
              "      <td>0.0</td>\n",
              "      <td>20</td>\n",
              "      <td>15</td>\n",
              "      <td>95</td>\n",
              "      <td>51</td>\n",
              "      <td>0</td>\n",
              "      <td>87</td>\n",
              "      <td>2020-01-26</td>\n",
              "      <td>2020-01-30</td>\n",
              "      <td>2</td>\n",
              "    </tr>\n",
              "    <tr>\n",
              "      <th>4</th>\n",
              "      <td>1000000005</td>\n",
              "      <td>1.0</td>\n",
              "      <td>20</td>\n",
              "      <td>15</td>\n",
              "      <td>124</td>\n",
              "      <td>47</td>\n",
              "      <td>1</td>\n",
              "      <td>28</td>\n",
              "      <td>2020-01-01</td>\n",
              "      <td>2020-01-31</td>\n",
              "      <td>2</td>\n",
              "    </tr>\n",
              "    <tr>\n",
              "      <th>...</th>\n",
              "      <td>...</td>\n",
              "      <td>...</td>\n",
              "      <td>...</td>\n",
              "      <td>...</td>\n",
              "      <td>...</td>\n",
              "      <td>...</td>\n",
              "      <td>...</td>\n",
              "      <td>...</td>\n",
              "      <td>...</td>\n",
              "      <td>...</td>\n",
              "      <td>...</td>\n",
              "    </tr>\n",
              "    <tr>\n",
              "      <th>5160</th>\n",
              "      <td>7000000015</td>\n",
              "      <td>1.0</td>\n",
              "      <td>30</td>\n",
              "      <td>11</td>\n",
              "      <td>86</td>\n",
              "      <td>51</td>\n",
              "      <td>0</td>\n",
              "      <td>34</td>\n",
              "      <td>2020-01-01</td>\n",
              "      <td>2020-05-30</td>\n",
              "      <td>2</td>\n",
              "    </tr>\n",
              "    <tr>\n",
              "      <th>5161</th>\n",
              "      <td>7000000016</td>\n",
              "      <td>-1.0</td>\n",
              "      <td>0</td>\n",
              "      <td>11</td>\n",
              "      <td>86</td>\n",
              "      <td>51</td>\n",
              "      <td>0</td>\n",
              "      <td>0</td>\n",
              "      <td>2020-01-01</td>\n",
              "      <td>2020-06-16</td>\n",
              "      <td>2</td>\n",
              "    </tr>\n",
              "    <tr>\n",
              "      <th>5162</th>\n",
              "      <td>7000000017</td>\n",
              "      <td>-1.0</td>\n",
              "      <td>0</td>\n",
              "      <td>11</td>\n",
              "      <td>86</td>\n",
              "      <td>51</td>\n",
              "      <td>0</td>\n",
              "      <td>78</td>\n",
              "      <td>2020-01-01</td>\n",
              "      <td>2020-06-18</td>\n",
              "      <td>1</td>\n",
              "    </tr>\n",
              "    <tr>\n",
              "      <th>5163</th>\n",
              "      <td>7000000018</td>\n",
              "      <td>-1.0</td>\n",
              "      <td>0</td>\n",
              "      <td>11</td>\n",
              "      <td>86</td>\n",
              "      <td>51</td>\n",
              "      <td>0</td>\n",
              "      <td>0</td>\n",
              "      <td>2020-01-01</td>\n",
              "      <td>2020-06-18</td>\n",
              "      <td>1</td>\n",
              "    </tr>\n",
              "    <tr>\n",
              "      <th>5164</th>\n",
              "      <td>7000000019</td>\n",
              "      <td>-1.0</td>\n",
              "      <td>0</td>\n",
              "      <td>11</td>\n",
              "      <td>86</td>\n",
              "      <td>51</td>\n",
              "      <td>0</td>\n",
              "      <td>0</td>\n",
              "      <td>2020-01-01</td>\n",
              "      <td>2020-06-18</td>\n",
              "      <td>1</td>\n",
              "    </tr>\n",
              "  </tbody>\n",
              "</table>\n",
              "<p>5165 rows × 11 columns</p>\n",
              "</div>"
            ],
            "text/plain": [
              "      patient_id  sex  age  ...  symptom_onset_date       date  state\n",
              "0     1000000001  0.0   50  ...          2020-01-22 2020-01-23      2\n",
              "1     1000000002  0.0   30  ...          2020-01-01 2020-01-30      2\n",
              "2     1000000003  0.0   50  ...          2020-01-01 2020-01-30      2\n",
              "3     1000000004  0.0   20  ...          2020-01-26 2020-01-30      2\n",
              "4     1000000005  1.0   20  ...          2020-01-01 2020-01-31      2\n",
              "...          ...  ...  ...  ...                 ...        ...    ...\n",
              "5160  7000000015  1.0   30  ...          2020-01-01 2020-05-30      2\n",
              "5161  7000000016 -1.0    0  ...          2020-01-01 2020-06-16      2\n",
              "5162  7000000017 -1.0    0  ...          2020-01-01 2020-06-18      1\n",
              "5163  7000000018 -1.0    0  ...          2020-01-01 2020-06-18      1\n",
              "5164  7000000019 -1.0    0  ...          2020-01-01 2020-06-18      1\n",
              "\n",
              "[5165 rows x 11 columns]"
            ]
          },
          "metadata": {
            "tags": []
          },
          "execution_count": 16
        }
      ]
    },
    {
      "cell_type": "markdown",
      "metadata": {
        "id": "F__u62jH8f__"
      },
      "source": [
        "## Fiture Engineering"
      ]
    },
    {
      "cell_type": "code",
      "metadata": {
        "colab": {
          "base_uri": "https://localhost:8080/",
          "height": 412
        },
        "id": "oLTIrbt-rgYY",
        "outputId": "2c8d8a37-3332-4c4a-8a41-8c163fa0aced"
      },
      "source": [
        "patien_info['days']  = patien_info.date - patien_info.symptom_onset_date\n",
        "patien_info.drop(['symptom_onset_date','date'], inplace=True, axis=1)\n",
        "\n",
        "patien_info"
      ],
      "execution_count": null,
      "outputs": [
        {
          "output_type": "execute_result",
          "data": {
            "text/html": [
              "<div>\n",
              "<style scoped>\n",
              "    .dataframe tbody tr th:only-of-type {\n",
              "        vertical-align: middle;\n",
              "    }\n",
              "\n",
              "    .dataframe tbody tr th {\n",
              "        vertical-align: top;\n",
              "    }\n",
              "\n",
              "    .dataframe thead th {\n",
              "        text-align: right;\n",
              "    }\n",
              "</style>\n",
              "<table border=\"1\" class=\"dataframe\">\n",
              "  <thead>\n",
              "    <tr style=\"text-align: right;\">\n",
              "      <th></th>\n",
              "      <th>patient_id</th>\n",
              "      <th>sex</th>\n",
              "      <th>age</th>\n",
              "      <th>province</th>\n",
              "      <th>city</th>\n",
              "      <th>infection_case</th>\n",
              "      <th>infected_by</th>\n",
              "      <th>contact_number</th>\n",
              "      <th>state</th>\n",
              "      <th>days</th>\n",
              "    </tr>\n",
              "  </thead>\n",
              "  <tbody>\n",
              "    <tr>\n",
              "      <th>0</th>\n",
              "      <td>1000000001</td>\n",
              "      <td>0.0</td>\n",
              "      <td>50</td>\n",
              "      <td>15</td>\n",
              "      <td>39</td>\n",
              "      <td>51</td>\n",
              "      <td>0</td>\n",
              "      <td>80</td>\n",
              "      <td>2</td>\n",
              "      <td>1 days</td>\n",
              "    </tr>\n",
              "    <tr>\n",
              "      <th>1</th>\n",
              "      <td>1000000002</td>\n",
              "      <td>0.0</td>\n",
              "      <td>30</td>\n",
              "      <td>15</td>\n",
              "      <td>93</td>\n",
              "      <td>51</td>\n",
              "      <td>0</td>\n",
              "      <td>43</td>\n",
              "      <td>2</td>\n",
              "      <td>29 days</td>\n",
              "    </tr>\n",
              "    <tr>\n",
              "      <th>2</th>\n",
              "      <td>1000000003</td>\n",
              "      <td>0.0</td>\n",
              "      <td>50</td>\n",
              "      <td>15</td>\n",
              "      <td>91</td>\n",
              "      <td>47</td>\n",
              "      <td>475</td>\n",
              "      <td>23</td>\n",
              "      <td>2</td>\n",
              "      <td>29 days</td>\n",
              "    </tr>\n",
              "    <tr>\n",
              "      <th>3</th>\n",
              "      <td>1000000004</td>\n",
              "      <td>0.0</td>\n",
              "      <td>20</td>\n",
              "      <td>15</td>\n",
              "      <td>95</td>\n",
              "      <td>51</td>\n",
              "      <td>0</td>\n",
              "      <td>87</td>\n",
              "      <td>2</td>\n",
              "      <td>4 days</td>\n",
              "    </tr>\n",
              "    <tr>\n",
              "      <th>4</th>\n",
              "      <td>1000000005</td>\n",
              "      <td>1.0</td>\n",
              "      <td>20</td>\n",
              "      <td>15</td>\n",
              "      <td>124</td>\n",
              "      <td>47</td>\n",
              "      <td>1</td>\n",
              "      <td>28</td>\n",
              "      <td>2</td>\n",
              "      <td>30 days</td>\n",
              "    </tr>\n",
              "    <tr>\n",
              "      <th>...</th>\n",
              "      <td>...</td>\n",
              "      <td>...</td>\n",
              "      <td>...</td>\n",
              "      <td>...</td>\n",
              "      <td>...</td>\n",
              "      <td>...</td>\n",
              "      <td>...</td>\n",
              "      <td>...</td>\n",
              "      <td>...</td>\n",
              "      <td>...</td>\n",
              "    </tr>\n",
              "    <tr>\n",
              "      <th>5160</th>\n",
              "      <td>7000000015</td>\n",
              "      <td>1.0</td>\n",
              "      <td>30</td>\n",
              "      <td>11</td>\n",
              "      <td>86</td>\n",
              "      <td>51</td>\n",
              "      <td>0</td>\n",
              "      <td>34</td>\n",
              "      <td>2</td>\n",
              "      <td>150 days</td>\n",
              "    </tr>\n",
              "    <tr>\n",
              "      <th>5161</th>\n",
              "      <td>7000000016</td>\n",
              "      <td>-1.0</td>\n",
              "      <td>0</td>\n",
              "      <td>11</td>\n",
              "      <td>86</td>\n",
              "      <td>51</td>\n",
              "      <td>0</td>\n",
              "      <td>0</td>\n",
              "      <td>2</td>\n",
              "      <td>167 days</td>\n",
              "    </tr>\n",
              "    <tr>\n",
              "      <th>5162</th>\n",
              "      <td>7000000017</td>\n",
              "      <td>-1.0</td>\n",
              "      <td>0</td>\n",
              "      <td>11</td>\n",
              "      <td>86</td>\n",
              "      <td>51</td>\n",
              "      <td>0</td>\n",
              "      <td>78</td>\n",
              "      <td>1</td>\n",
              "      <td>169 days</td>\n",
              "    </tr>\n",
              "    <tr>\n",
              "      <th>5163</th>\n",
              "      <td>7000000018</td>\n",
              "      <td>-1.0</td>\n",
              "      <td>0</td>\n",
              "      <td>11</td>\n",
              "      <td>86</td>\n",
              "      <td>51</td>\n",
              "      <td>0</td>\n",
              "      <td>0</td>\n",
              "      <td>1</td>\n",
              "      <td>169 days</td>\n",
              "    </tr>\n",
              "    <tr>\n",
              "      <th>5164</th>\n",
              "      <td>7000000019</td>\n",
              "      <td>-1.0</td>\n",
              "      <td>0</td>\n",
              "      <td>11</td>\n",
              "      <td>86</td>\n",
              "      <td>51</td>\n",
              "      <td>0</td>\n",
              "      <td>0</td>\n",
              "      <td>1</td>\n",
              "      <td>169 days</td>\n",
              "    </tr>\n",
              "  </tbody>\n",
              "</table>\n",
              "<p>5165 rows × 10 columns</p>\n",
              "</div>"
            ],
            "text/plain": [
              "      patient_id  sex  age  ...  contact_number  state     days\n",
              "0     1000000001  0.0   50  ...              80      2   1 days\n",
              "1     1000000002  0.0   30  ...              43      2  29 days\n",
              "2     1000000003  0.0   50  ...              23      2  29 days\n",
              "3     1000000004  0.0   20  ...              87      2   4 days\n",
              "4     1000000005  1.0   20  ...              28      2  30 days\n",
              "...          ...  ...  ...  ...             ...    ...      ...\n",
              "5160  7000000015  1.0   30  ...              34      2 150 days\n",
              "5161  7000000016 -1.0    0  ...               0      2 167 days\n",
              "5162  7000000017 -1.0    0  ...              78      1 169 days\n",
              "5163  7000000018 -1.0    0  ...               0      1 169 days\n",
              "5164  7000000019 -1.0    0  ...               0      1 169 days\n",
              "\n",
              "[5165 rows x 10 columns]"
            ]
          },
          "metadata": {
            "tags": []
          },
          "execution_count": 17
        }
      ]
    },
    {
      "cell_type": "code",
      "metadata": {
        "colab": {
          "base_uri": "https://localhost:8080/"
        },
        "id": "xLtLYExB7Mdl",
        "outputId": "17fe5181-3509-4d5c-8d1c-f70498a1b047"
      },
      "source": [
        "patien_info.info()"
      ],
      "execution_count": null,
      "outputs": [
        {
          "output_type": "stream",
          "text": [
            "<class 'pandas.core.frame.DataFrame'>\n",
            "RangeIndex: 5165 entries, 0 to 5164\n",
            "Data columns (total 10 columns):\n",
            " #   Column          Non-Null Count  Dtype          \n",
            "---  ------          --------------  -----          \n",
            " 0   patient_id      5165 non-null   int64          \n",
            " 1   sex             5165 non-null   float64        \n",
            " 2   age             5165 non-null   int64          \n",
            " 3   province        5165 non-null   int8           \n",
            " 4   city            5165 non-null   int16          \n",
            " 5   infection_case  5165 non-null   int8           \n",
            " 6   infected_by     5165 non-null   int16          \n",
            " 7   contact_number  5165 non-null   int8           \n",
            " 8   state           5165 non-null   int8           \n",
            " 9   days            5162 non-null   timedelta64[ns]\n",
            "dtypes: float64(1), int16(2), int64(2), int8(4), timedelta64[ns](1)\n",
            "memory usage: 201.9 KB\n"
          ],
          "name": "stdout"
        }
      ]
    },
    {
      "cell_type": "code",
      "metadata": {
        "colab": {
          "base_uri": "https://localhost:8080/"
        },
        "id": "0rVvnAh6qABj",
        "outputId": "f6736443-90ba-4f07-8719-c2187521d573"
      },
      "source": [
        "patien_info.columns"
      ],
      "execution_count": null,
      "outputs": [
        {
          "output_type": "execute_result",
          "data": {
            "text/plain": [
              "Index(['patient_id', 'sex', 'age', 'province', 'city', 'infection_case',\n",
              "       'infected_by', 'contact_number', 'state', 'days'],\n",
              "      dtype='object')"
            ]
          },
          "metadata": {
            "tags": []
          },
          "execution_count": 19
        }
      ]
    },
    {
      "cell_type": "code",
      "metadata": {
        "colab": {
          "base_uri": "https://localhost:8080/",
          "height": 201
        },
        "id": "hJdHu9xj6A6_",
        "outputId": "c405babc-4bff-4430-fbe2-8f48ac44d9e1"
      },
      "source": [
        "patien_info = patien_info [[ 'sex', 'age', 'province', 'city', 'infection_case',\n",
        "       'infected_by', 'contact_number', 'days', 'state' ]]\n",
        "patien_info.head()"
      ],
      "execution_count": null,
      "outputs": [
        {
          "output_type": "execute_result",
          "data": {
            "text/html": [
              "<div>\n",
              "<style scoped>\n",
              "    .dataframe tbody tr th:only-of-type {\n",
              "        vertical-align: middle;\n",
              "    }\n",
              "\n",
              "    .dataframe tbody tr th {\n",
              "        vertical-align: top;\n",
              "    }\n",
              "\n",
              "    .dataframe thead th {\n",
              "        text-align: right;\n",
              "    }\n",
              "</style>\n",
              "<table border=\"1\" class=\"dataframe\">\n",
              "  <thead>\n",
              "    <tr style=\"text-align: right;\">\n",
              "      <th></th>\n",
              "      <th>sex</th>\n",
              "      <th>age</th>\n",
              "      <th>province</th>\n",
              "      <th>city</th>\n",
              "      <th>infection_case</th>\n",
              "      <th>infected_by</th>\n",
              "      <th>contact_number</th>\n",
              "      <th>days</th>\n",
              "      <th>state</th>\n",
              "    </tr>\n",
              "  </thead>\n",
              "  <tbody>\n",
              "    <tr>\n",
              "      <th>0</th>\n",
              "      <td>0.0</td>\n",
              "      <td>50</td>\n",
              "      <td>15</td>\n",
              "      <td>39</td>\n",
              "      <td>51</td>\n",
              "      <td>0</td>\n",
              "      <td>80</td>\n",
              "      <td>1 days</td>\n",
              "      <td>2</td>\n",
              "    </tr>\n",
              "    <tr>\n",
              "      <th>1</th>\n",
              "      <td>0.0</td>\n",
              "      <td>30</td>\n",
              "      <td>15</td>\n",
              "      <td>93</td>\n",
              "      <td>51</td>\n",
              "      <td>0</td>\n",
              "      <td>43</td>\n",
              "      <td>29 days</td>\n",
              "      <td>2</td>\n",
              "    </tr>\n",
              "    <tr>\n",
              "      <th>2</th>\n",
              "      <td>0.0</td>\n",
              "      <td>50</td>\n",
              "      <td>15</td>\n",
              "      <td>91</td>\n",
              "      <td>47</td>\n",
              "      <td>475</td>\n",
              "      <td>23</td>\n",
              "      <td>29 days</td>\n",
              "      <td>2</td>\n",
              "    </tr>\n",
              "    <tr>\n",
              "      <th>3</th>\n",
              "      <td>0.0</td>\n",
              "      <td>20</td>\n",
              "      <td>15</td>\n",
              "      <td>95</td>\n",
              "      <td>51</td>\n",
              "      <td>0</td>\n",
              "      <td>87</td>\n",
              "      <td>4 days</td>\n",
              "      <td>2</td>\n",
              "    </tr>\n",
              "    <tr>\n",
              "      <th>4</th>\n",
              "      <td>1.0</td>\n",
              "      <td>20</td>\n",
              "      <td>15</td>\n",
              "      <td>124</td>\n",
              "      <td>47</td>\n",
              "      <td>1</td>\n",
              "      <td>28</td>\n",
              "      <td>30 days</td>\n",
              "      <td>2</td>\n",
              "    </tr>\n",
              "  </tbody>\n",
              "</table>\n",
              "</div>"
            ],
            "text/plain": [
              "   sex  age  province  city  ...  infected_by  contact_number    days state\n",
              "0  0.0   50        15    39  ...            0              80  1 days     2\n",
              "1  0.0   30        15    93  ...            0              43 29 days     2\n",
              "2  0.0   50        15    91  ...          475              23 29 days     2\n",
              "3  0.0   20        15    95  ...            0              87  4 days     2\n",
              "4  1.0   20        15   124  ...            1              28 30 days     2\n",
              "\n",
              "[5 rows x 9 columns]"
            ]
          },
          "metadata": {
            "tags": []
          },
          "execution_count": 20
        }
      ]
    },
    {
      "cell_type": "code",
      "metadata": {
        "id": "g3ndsxs4iW4t",
        "colab": {
          "base_uri": "https://localhost:8080/"
        },
        "outputId": "1c1a499b-2307-4a9f-e285-fa4b82fb0a78"
      },
      "source": [
        "patien_info.info()"
      ],
      "execution_count": null,
      "outputs": [
        {
          "output_type": "stream",
          "text": [
            "<class 'pandas.core.frame.DataFrame'>\n",
            "RangeIndex: 5165 entries, 0 to 5164\n",
            "Data columns (total 9 columns):\n",
            " #   Column          Non-Null Count  Dtype          \n",
            "---  ------          --------------  -----          \n",
            " 0   sex             5165 non-null   float64        \n",
            " 1   age             5165 non-null   int64          \n",
            " 2   province        5165 non-null   int8           \n",
            " 3   city            5165 non-null   int16          \n",
            " 4   infection_case  5165 non-null   int8           \n",
            " 5   infected_by     5165 non-null   int16          \n",
            " 6   contact_number  5165 non-null   int8           \n",
            " 7   days            5162 non-null   timedelta64[ns]\n",
            " 8   state           5165 non-null   int8           \n",
            "dtypes: float64(1), int16(2), int64(1), int8(4), timedelta64[ns](1)\n",
            "memory usage: 161.5 KB\n"
          ],
          "name": "stdout"
        }
      ]
    },
    {
      "cell_type": "markdown",
      "metadata": {
        "id": "JxGJXZ4B9Iis"
      },
      "source": [
        "## Label Endcoder"
      ]
    },
    {
      "cell_type": "code",
      "metadata": {
        "id": "FqNtVVoE3nfv",
        "colab": {
          "base_uri": "https://localhost:8080/",
          "height": 1000
        },
        "outputId": "e83474ea-f1f9-4fb9-e89d-665ce4935271"
      },
      "source": [
        "from sklearn.preprocessing import LabelEncoder\n",
        "le = LabelEncoder()\n",
        "patien_info['sex']=le.fit_transform(patien_info['sex'])\n",
        "patien_info['age']=le.fit_transform(patien_info['age'])\n",
        "patien_info['city']=le.fit_transform(patien_info['city'])\n",
        "patien_info['infection_case']=le.fit_transform(patien_info['infection_case'])\n",
        "patien_info['infected_by']=le.fit_transform(patien_info['infected_by'])\n",
        "patien_info['contact_number']=le.fit_transform(patien_info['contact_number'])\n",
        "patien_info['days']=le.fit_transform(patien_info['days'])\n",
        "patien_info"
      ],
      "execution_count": null,
      "outputs": [
        {
          "output_type": "stream",
          "text": [
            "/usr/local/lib/python3.7/dist-packages/ipykernel_launcher.py:3: SettingWithCopyWarning:\n",
            "\n",
            "\n",
            "A value is trying to be set on a copy of a slice from a DataFrame.\n",
            "Try using .loc[row_indexer,col_indexer] = value instead\n",
            "\n",
            "See the caveats in the documentation: https://pandas.pydata.org/pandas-docs/stable/user_guide/indexing.html#returning-a-view-versus-a-copy\n",
            "\n",
            "/usr/local/lib/python3.7/dist-packages/ipykernel_launcher.py:4: SettingWithCopyWarning:\n",
            "\n",
            "\n",
            "A value is trying to be set on a copy of a slice from a DataFrame.\n",
            "Try using .loc[row_indexer,col_indexer] = value instead\n",
            "\n",
            "See the caveats in the documentation: https://pandas.pydata.org/pandas-docs/stable/user_guide/indexing.html#returning-a-view-versus-a-copy\n",
            "\n",
            "/usr/local/lib/python3.7/dist-packages/ipykernel_launcher.py:5: SettingWithCopyWarning:\n",
            "\n",
            "\n",
            "A value is trying to be set on a copy of a slice from a DataFrame.\n",
            "Try using .loc[row_indexer,col_indexer] = value instead\n",
            "\n",
            "See the caveats in the documentation: https://pandas.pydata.org/pandas-docs/stable/user_guide/indexing.html#returning-a-view-versus-a-copy\n",
            "\n",
            "/usr/local/lib/python3.7/dist-packages/ipykernel_launcher.py:6: SettingWithCopyWarning:\n",
            "\n",
            "\n",
            "A value is trying to be set on a copy of a slice from a DataFrame.\n",
            "Try using .loc[row_indexer,col_indexer] = value instead\n",
            "\n",
            "See the caveats in the documentation: https://pandas.pydata.org/pandas-docs/stable/user_guide/indexing.html#returning-a-view-versus-a-copy\n",
            "\n",
            "/usr/local/lib/python3.7/dist-packages/ipykernel_launcher.py:7: SettingWithCopyWarning:\n",
            "\n",
            "\n",
            "A value is trying to be set on a copy of a slice from a DataFrame.\n",
            "Try using .loc[row_indexer,col_indexer] = value instead\n",
            "\n",
            "See the caveats in the documentation: https://pandas.pydata.org/pandas-docs/stable/user_guide/indexing.html#returning-a-view-versus-a-copy\n",
            "\n",
            "/usr/local/lib/python3.7/dist-packages/ipykernel_launcher.py:8: SettingWithCopyWarning:\n",
            "\n",
            "\n",
            "A value is trying to be set on a copy of a slice from a DataFrame.\n",
            "Try using .loc[row_indexer,col_indexer] = value instead\n",
            "\n",
            "See the caveats in the documentation: https://pandas.pydata.org/pandas-docs/stable/user_guide/indexing.html#returning-a-view-versus-a-copy\n",
            "\n",
            "/usr/local/lib/python3.7/dist-packages/ipykernel_launcher.py:9: SettingWithCopyWarning:\n",
            "\n",
            "\n",
            "A value is trying to be set on a copy of a slice from a DataFrame.\n",
            "Try using .loc[row_indexer,col_indexer] = value instead\n",
            "\n",
            "See the caveats in the documentation: https://pandas.pydata.org/pandas-docs/stable/user_guide/indexing.html#returning-a-view-versus-a-copy\n",
            "\n"
          ],
          "name": "stderr"
        },
        {
          "output_type": "execute_result",
          "data": {
            "text/html": [
              "<div>\n",
              "<style scoped>\n",
              "    .dataframe tbody tr th:only-of-type {\n",
              "        vertical-align: middle;\n",
              "    }\n",
              "\n",
              "    .dataframe tbody tr th {\n",
              "        vertical-align: top;\n",
              "    }\n",
              "\n",
              "    .dataframe thead th {\n",
              "        text-align: right;\n",
              "    }\n",
              "</style>\n",
              "<table border=\"1\" class=\"dataframe\">\n",
              "  <thead>\n",
              "    <tr style=\"text-align: right;\">\n",
              "      <th></th>\n",
              "      <th>sex</th>\n",
              "      <th>age</th>\n",
              "      <th>province</th>\n",
              "      <th>city</th>\n",
              "      <th>infection_case</th>\n",
              "      <th>infected_by</th>\n",
              "      <th>contact_number</th>\n",
              "      <th>days</th>\n",
              "      <th>state</th>\n",
              "    </tr>\n",
              "  </thead>\n",
              "  <tbody>\n",
              "    <tr>\n",
              "      <th>0</th>\n",
              "      <td>1</td>\n",
              "      <td>5</td>\n",
              "      <td>15</td>\n",
              "      <td>40</td>\n",
              "      <td>51</td>\n",
              "      <td>0</td>\n",
              "      <td>80</td>\n",
              "      <td>4</td>\n",
              "      <td>2</td>\n",
              "    </tr>\n",
              "    <tr>\n",
              "      <th>1</th>\n",
              "      <td>1</td>\n",
              "      <td>3</td>\n",
              "      <td>15</td>\n",
              "      <td>94</td>\n",
              "      <td>51</td>\n",
              "      <td>0</td>\n",
              "      <td>43</td>\n",
              "      <td>24</td>\n",
              "      <td>2</td>\n",
              "    </tr>\n",
              "    <tr>\n",
              "      <th>2</th>\n",
              "      <td>1</td>\n",
              "      <td>5</td>\n",
              "      <td>15</td>\n",
              "      <td>92</td>\n",
              "      <td>47</td>\n",
              "      <td>475</td>\n",
              "      <td>23</td>\n",
              "      <td>24</td>\n",
              "      <td>2</td>\n",
              "    </tr>\n",
              "    <tr>\n",
              "      <th>3</th>\n",
              "      <td>1</td>\n",
              "      <td>2</td>\n",
              "      <td>15</td>\n",
              "      <td>96</td>\n",
              "      <td>51</td>\n",
              "      <td>0</td>\n",
              "      <td>87</td>\n",
              "      <td>7</td>\n",
              "      <td>2</td>\n",
              "    </tr>\n",
              "    <tr>\n",
              "      <th>4</th>\n",
              "      <td>2</td>\n",
              "      <td>2</td>\n",
              "      <td>15</td>\n",
              "      <td>125</td>\n",
              "      <td>47</td>\n",
              "      <td>1</td>\n",
              "      <td>28</td>\n",
              "      <td>25</td>\n",
              "      <td>2</td>\n",
              "    </tr>\n",
              "    <tr>\n",
              "      <th>...</th>\n",
              "      <td>...</td>\n",
              "      <td>...</td>\n",
              "      <td>...</td>\n",
              "      <td>...</td>\n",
              "      <td>...</td>\n",
              "      <td>...</td>\n",
              "      <td>...</td>\n",
              "      <td>...</td>\n",
              "      <td>...</td>\n",
              "    </tr>\n",
              "    <tr>\n",
              "      <th>5160</th>\n",
              "      <td>2</td>\n",
              "      <td>3</td>\n",
              "      <td>11</td>\n",
              "      <td>87</td>\n",
              "      <td>51</td>\n",
              "      <td>0</td>\n",
              "      <td>34</td>\n",
              "      <td>140</td>\n",
              "      <td>2</td>\n",
              "    </tr>\n",
              "    <tr>\n",
              "      <th>5161</th>\n",
              "      <td>0</td>\n",
              "      <td>0</td>\n",
              "      <td>11</td>\n",
              "      <td>87</td>\n",
              "      <td>51</td>\n",
              "      <td>0</td>\n",
              "      <td>0</td>\n",
              "      <td>157</td>\n",
              "      <td>2</td>\n",
              "    </tr>\n",
              "    <tr>\n",
              "      <th>5162</th>\n",
              "      <td>0</td>\n",
              "      <td>0</td>\n",
              "      <td>11</td>\n",
              "      <td>87</td>\n",
              "      <td>51</td>\n",
              "      <td>0</td>\n",
              "      <td>78</td>\n",
              "      <td>159</td>\n",
              "      <td>1</td>\n",
              "    </tr>\n",
              "    <tr>\n",
              "      <th>5163</th>\n",
              "      <td>0</td>\n",
              "      <td>0</td>\n",
              "      <td>11</td>\n",
              "      <td>87</td>\n",
              "      <td>51</td>\n",
              "      <td>0</td>\n",
              "      <td>0</td>\n",
              "      <td>159</td>\n",
              "      <td>1</td>\n",
              "    </tr>\n",
              "    <tr>\n",
              "      <th>5164</th>\n",
              "      <td>0</td>\n",
              "      <td>0</td>\n",
              "      <td>11</td>\n",
              "      <td>87</td>\n",
              "      <td>51</td>\n",
              "      <td>0</td>\n",
              "      <td>0</td>\n",
              "      <td>159</td>\n",
              "      <td>1</td>\n",
              "    </tr>\n",
              "  </tbody>\n",
              "</table>\n",
              "<p>5165 rows × 9 columns</p>\n",
              "</div>"
            ],
            "text/plain": [
              "      sex  age  province  city  ...  infected_by  contact_number  days  state\n",
              "0       1    5        15    40  ...            0              80     4      2\n",
              "1       1    3        15    94  ...            0              43    24      2\n",
              "2       1    5        15    92  ...          475              23    24      2\n",
              "3       1    2        15    96  ...            0              87     7      2\n",
              "4       2    2        15   125  ...            1              28    25      2\n",
              "...   ...  ...       ...   ...  ...          ...             ...   ...    ...\n",
              "5160    2    3        11    87  ...            0              34   140      2\n",
              "5161    0    0        11    87  ...            0               0   157      2\n",
              "5162    0    0        11    87  ...            0              78   159      1\n",
              "5163    0    0        11    87  ...            0               0   159      1\n",
              "5164    0    0        11    87  ...            0               0   159      1\n",
              "\n",
              "[5165 rows x 9 columns]"
            ]
          },
          "metadata": {
            "tags": []
          },
          "execution_count": 22
        }
      ]
    },
    {
      "cell_type": "markdown",
      "metadata": {
        "id": "cXwKQfj_9Ls6"
      },
      "source": [
        "## Fiture Correlation"
      ]
    },
    {
      "cell_type": "code",
      "metadata": {
        "id": "d902N8sSjX6x",
        "colab": {
          "base_uri": "https://localhost:8080/",
          "height": 975
        },
        "outputId": "bdaed03e-d685-48c2-b770-f2efaf484d83"
      },
      "source": [
        "pyplot.figure(figsize=(15,15))\n",
        "corr=patien_info.corr()\n",
        "sns.heatmap(corr,xticklabels=corr.columns,yticklabels=corr.columns,annot=True)\n",
        "pyplot.title('Feature Correlation', y = 1.0, size=10)"
      ],
      "execution_count": null,
      "outputs": [
        {
          "output_type": "execute_result",
          "data": {
            "text/plain": [
              "Text(0.5, 1.0, 'Feature Correlation')"
            ]
          },
          "metadata": {
            "tags": []
          },
          "execution_count": 23
        },
        {
          "output_type": "display_data",
          "data": {
            "image/png": "[encoded data removed]",
            "text/plain": [
              "<Figure size 1500x1500 with 2 Axes>"
            ]
          },
          "metadata": {
            "tags": []
          }
        }
      ]
    },
    {
      "cell_type": "code",
      "metadata": {
        "colab": {
          "base_uri": "https://localhost:8080/"
        },
        "id": "KMfvdgcfvpq4",
        "outputId": "a461bae1-45ca-4323-99d3-e934d11fe1d1"
      },
      "source": [
        "patien_info.columns"
      ],
      "execution_count": null,
      "outputs": [
        {
          "output_type": "execute_result",
          "data": {
            "text/plain": [
              "Index(['sex', 'age', 'province', 'city', 'infection_case', 'infected_by',\n",
              "       'contact_number', 'days', 'state'],\n",
              "      dtype='object')"
            ]
          },
          "metadata": {
            "tags": []
          },
          "execution_count": 24
        }
      ]
    },
    {
      "cell_type": "code",
      "metadata": {
        "id": "1TPGOOvmFfuu"
      },
      "source": [
        "fiture_cols = ['sex', 'age', 'province', 'city', 'infection_case', 'infected_by',\n",
        "       'contact_number', 'days']\n",
        "X = patien_info[fiture_cols]\n",
        "Y = patien_info.state"
      ],
      "execution_count": null,
      "outputs": []
    },
    {
      "cell_type": "markdown",
      "metadata": {
        "id": "lGXlXw4L9VNJ"
      },
      "source": [
        "## Cross Validation"
      ]
    },
    {
      "cell_type": "code",
      "metadata": {
        "id": "ZXwuBcR8hDDX"
      },
      "source": [
        "test_size = 0.2\n",
        "seed = 5\n",
        "X_train, X_test, Y_train, Y_test = train_test_split(X, Y, test_size=test_size, random_state=seed)"
      ],
      "execution_count": null,
      "outputs": []
    },
    {
      "cell_type": "markdown",
      "metadata": {
        "id": "x9mrHIR780Xj"
      },
      "source": [
        "# Model"
      ]
    },
    {
      "cell_type": "markdown",
      "metadata": {
        "id": "HuFU5fM7W-ef"
      },
      "source": [
        "# Decision Tree"
      ]
    },
    {
      "cell_type": "code",
      "metadata": {
        "id": "VSDIHK_RGNCh",
        "colab": {
          "base_uri": "https://localhost:8080/"
        },
        "outputId": "7f5a079e-53a1-48cc-c555-d08850f2769d"
      },
      "source": [
        "dt = DecisionTreeClassifier()\n",
        "dt.fit(X_train, Y_train)\n",
        "predicted = dt.predict(X_test)\n",
        "report = classification_report(Y_test, predicted)\n",
        "matrix = confusion_matrix(Y_test, predicted)\n",
        "print(report)\n",
        "print(matrix)\n",
        "\n",
        "scoring = 'accuracy'\n",
        "akurasi_dt = cross_val_score(dt, X_test, Y_test, cv=seed, scoring=scoring) *100\n",
        "\n",
        "from sklearn.metrics import roc_auc_score\n",
        "\n",
        "print(\"Accuracy Decision Tree: {}\".format((akurasi_dt.mean()))) \n",
        "auc_dt = roc_auc_score(Y_test, dt.predict_proba(X_test), multi_class='ovo', average='weighted') *100\n",
        "print('ROC AUC score dt:', auc_dt)\n",
        "\n",
        "recall_dt=recall_score(Y_test,predicted, average='weighted')*100\n",
        "print(\"Recall of dt is: \",recall_dt)\n",
        "prec_dt=precision_score(Y_test,predicted, average='weighted')*100\n",
        "print(\"Precision of dt is:\",prec_dt)\n",
        "\n",
        "print (\"Confusion Matrix : \\n\",sns.heatmap(confusion_matrix(Y_test, predicted, normalize='true'), annot = True))"
      ],
      "execution_count": null,
      "outputs": [
        {
          "output_type": "stream",
          "text": [
            "              precision    recall  f1-score   support\n",
            "\n",
            "           0       0.30      0.60      0.40        10\n",
            "           1       0.90      0.92      0.91       435\n",
            "           2       0.93      0.90      0.92       588\n",
            "\n",
            "    accuracy                           0.90      1033\n",
            "   macro avg       0.71      0.81      0.74      1033\n",
            "weighted avg       0.91      0.90      0.91      1033\n",
            "\n",
            "[[  6   0   4]\n",
            " [  1 399  35]\n",
            " [ 13  46 529]]\n",
            "Accuracy Decision Tree: 90.21997092068852\n",
            "ROC AUC score dt: 86.80437822557003\n",
            "Recall of dt is:  90.4162633107454\n",
            "Precision of dt is: 91.0610327617182\n",
            "Confusion Matrix : \n",
            " AxesSubplot(0.125,0.11;0.62x0.77)\n"
          ],
          "name": "stdout"
        },
        {
          "output_type": "display_data",
          "data": {
            "image/png": "[encoded data removed]",
            "text/plain": [
              "<Figure size 640x480 with 2 Axes>"
            ]
          },
          "metadata": {
            "tags": []
          }
        }
      ]
    },
    {
      "cell_type": "markdown",
      "metadata": {
        "id": "Mx5yhvib80Xp"
      },
      "source": [
        "# Naive Bayes"
      ]
    },
    {
      "cell_type": "code",
      "metadata": {
        "colab": {
          "base_uri": "https://localhost:8080/"
        },
        "id": "XmlC_7uh80Xq",
        "outputId": "e09f6034-1783-48d7-855c-b1d51a7bda8f"
      },
      "source": [
        "nb = GaussianNB()\n",
        "nb.fit(X_train, Y_train)\n",
        "predicted = nb.predict(X_test)\n",
        "report = classification_report(Y_test, predicted)\n",
        "matrix = confusion_matrix(Y_test, predicted)\n",
        "print(report)\n",
        "print(matrix)\n",
        "\n",
        "scoring = 'accuracy'\n",
        "akurasi_nb = cross_val_score(nb, X_test, Y_test, cv=seed, scoring=scoring) *100\n",
        "\n",
        "from sklearn.metrics import roc_auc_score\n",
        "\n",
        "print(\"Akurasi Naive Bayes: {}\".format((akurasi_nb.mean()))) \n",
        "auc_nb = roc_auc_score(Y_test, nb.predict_proba(X_test), multi_class='ovo', average='weighted') *100\n",
        "print('ROC AUC score Naive Bayes:', auc_nb)\n",
        "recall_nb=recall_score(Y_test,predicted, average='weighted')*100\n",
        "print(\"Recall of Naive Bayes is: \",recall_nb)\n",
        "prec_nb=precision_score(Y_test,predicted, average='weighted')*100\n",
        "print(\"Precision of Naive Bayes is:\",prec_nb)\n",
        "print (\"Confusion Matrix : \\n\",sns.heatmap(confusion_matrix(Y_test, predicted, normalize='true'), annot = True))"
      ],
      "execution_count": null,
      "outputs": [
        {
          "output_type": "stream",
          "text": [
            "              precision    recall  f1-score   support\n",
            "\n",
            "           0       0.14      0.80      0.24        10\n",
            "           1       0.68      0.69      0.68       435\n",
            "           2       0.78      0.71      0.74       588\n",
            "\n",
            "    accuracy                           0.70      1033\n",
            "   macro avg       0.53      0.73      0.56      1033\n",
            "weighted avg       0.73      0.70      0.71      1033\n",
            "\n",
            "[[  8   0   2]\n",
            " [ 17 300 118]\n",
            " [ 31 142 415]]\n",
            "Akurasi Naive Bayes: 49.94418648281038\n",
            "ROC AUC score Naive Bayes: 85.34394820785076\n",
            "Recall of Naive Bayes is:  69.99031945788964\n",
            "Precision of Naive Bayes is: 72.8741132371309\n",
            "Confusion Matrix : \n",
            " AxesSubplot(0.125,0.11;0.62x0.77)\n"
          ],
          "name": "stdout"
        },
        {
          "output_type": "display_data",
          "data": {
            "image/png": "[encoded data removed]",
            "text/plain": [
              "<Figure size 640x480 with 2 Axes>"
            ]
          },
          "metadata": {
            "tags": []
          }
        }
      ]
    },
    {
      "cell_type": "markdown",
      "metadata": {
        "id": "I2VzGExO80Xy"
      },
      "source": [
        "# Logistic Regression"
      ]
    },
    {
      "cell_type": "code",
      "metadata": {
        "colab": {
          "base_uri": "https://localhost:8080/"
        },
        "id": "IWYH7vLo80Xz",
        "outputId": "eb12564c-a615-4765-b677-963e2d192bc4"
      },
      "source": [
        "log = LogisticRegression()\n",
        "log.fit(X_train, Y_train)\n",
        "predicted = log.predict(X_test)\n",
        "report = classification_report(Y_test, predicted)\n",
        "matrix = confusion_matrix(Y_test, predicted)\n",
        "print(report)\n",
        "print(matrix)\n",
        "\n",
        "scoring = 'accuracy'\n",
        "akurasi_log = cross_val_score(log, X_test, Y_test, cv=seed, scoring=scoring) *100\n",
        "\n",
        "from sklearn.metrics import roc_auc_score\n",
        "\n",
        "print(\"Akurasi Logistic Regresion: {}\".format((akurasi_log.mean()))) \n",
        "auc_log = roc_auc_score(Y_test, log.predict_proba(X_test), multi_class='ovo', average='weighted') *100\n",
        "print('ROC AUC score Logistic Regresion:', auc_log)\n",
        "recall_log=recall_score(Y_test,predicted, average='weighted')*100\n",
        "print(\"Recall of Logistic Regresion is: \",recall_log)\n",
        "prec_log=precision_score(Y_test,predicted, average='weighted') *100\n",
        "print(\"Precision of Logistic Regresion is:\",prec_log)\n",
        "print (\"Confusion Matrix : \\n\",sns.heatmap(confusion_matrix(Y_test, predicted, normalize='true'), annot = True))"
      ],
      "execution_count": null,
      "outputs": [
        {
          "output_type": "stream",
          "text": [
            "/usr/local/lib/python3.7/dist-packages/sklearn/linear_model/_logistic.py:940: ConvergenceWarning:\n",
            "\n",
            "lbfgs failed to converge (status=1):\n",
            "STOP: TOTAL NO. of ITERATIONS REACHED LIMIT.\n",
            "\n",
            "Increase the number of iterations (max_iter) or scale the data as shown in:\n",
            "    https://scikit-learn.org/stable/modules/preprocessing.html\n",
            "Please also refer to the documentation for alternative solver options:\n",
            "    https://scikit-learn.org/stable/modules/linear_model.html#logistic-regression\n",
            "\n",
            "/usr/local/lib/python3.7/dist-packages/sklearn/linear_model/_logistic.py:940: ConvergenceWarning:\n",
            "\n",
            "lbfgs failed to converge (status=1):\n",
            "STOP: TOTAL NO. of ITERATIONS REACHED LIMIT.\n",
            "\n",
            "Increase the number of iterations (max_iter) or scale the data as shown in:\n",
            "    https://scikit-learn.org/stable/modules/preprocessing.html\n",
            "Please also refer to the documentation for alternative solver options:\n",
            "    https://scikit-learn.org/stable/modules/linear_model.html#logistic-regression\n",
            "\n",
            "/usr/local/lib/python3.7/dist-packages/sklearn/linear_model/_logistic.py:940: ConvergenceWarning:\n",
            "\n",
            "lbfgs failed to converge (status=1):\n",
            "STOP: TOTAL NO. of ITERATIONS REACHED LIMIT.\n",
            "\n",
            "Increase the number of iterations (max_iter) or scale the data as shown in:\n",
            "    https://scikit-learn.org/stable/modules/preprocessing.html\n",
            "Please also refer to the documentation for alternative solver options:\n",
            "    https://scikit-learn.org/stable/modules/linear_model.html#logistic-regression\n",
            "\n",
            "/usr/local/lib/python3.7/dist-packages/sklearn/linear_model/_logistic.py:940: ConvergenceWarning:\n",
            "\n",
            "lbfgs failed to converge (status=1):\n",
            "STOP: TOTAL NO. of ITERATIONS REACHED LIMIT.\n",
            "\n",
            "Increase the number of iterations (max_iter) or scale the data as shown in:\n",
            "    https://scikit-learn.org/stable/modules/preprocessing.html\n",
            "Please also refer to the documentation for alternative solver options:\n",
            "    https://scikit-learn.org/stable/modules/linear_model.html#logistic-regression\n",
            "\n"
          ],
          "name": "stderr"
        },
        {
          "output_type": "stream",
          "text": [
            "              precision    recall  f1-score   support\n",
            "\n",
            "           0       0.62      0.50      0.56        10\n",
            "           1       0.74      0.70      0.72       435\n",
            "           2       0.79      0.81      0.80       588\n",
            "\n",
            "    accuracy                           0.76      1033\n",
            "   macro avg       0.72      0.67      0.69      1033\n",
            "weighted avg       0.76      0.76      0.76      1033\n",
            "\n",
            "[[  5   0   5]\n",
            " [  3 306 126]\n",
            " [  0 109 479]]\n"
          ],
          "name": "stdout"
        },
        {
          "output_type": "stream",
          "text": [
            "/usr/local/lib/python3.7/dist-packages/sklearn/linear_model/_logistic.py:940: ConvergenceWarning:\n",
            "\n",
            "lbfgs failed to converge (status=1):\n",
            "STOP: TOTAL NO. of ITERATIONS REACHED LIMIT.\n",
            "\n",
            "Increase the number of iterations (max_iter) or scale the data as shown in:\n",
            "    https://scikit-learn.org/stable/modules/preprocessing.html\n",
            "Please also refer to the documentation for alternative solver options:\n",
            "    https://scikit-learn.org/stable/modules/linear_model.html#logistic-regression\n",
            "\n",
            "/usr/local/lib/python3.7/dist-packages/sklearn/linear_model/_logistic.py:940: ConvergenceWarning:\n",
            "\n",
            "lbfgs failed to converge (status=1):\n",
            "STOP: TOTAL NO. of ITERATIONS REACHED LIMIT.\n",
            "\n",
            "Increase the number of iterations (max_iter) or scale the data as shown in:\n",
            "    https://scikit-learn.org/stable/modules/preprocessing.html\n",
            "Please also refer to the documentation for alternative solver options:\n",
            "    https://scikit-learn.org/stable/modules/linear_model.html#logistic-regression\n",
            "\n"
          ],
          "name": "stderr"
        },
        {
          "output_type": "stream",
          "text": [
            "Akurasi Logistic Regresion: 74.92894329534262\n",
            "ROC AUC score Logistic Regresion: 84.92631558748947\n",
            "Recall of Logistic Regresion is:  76.47628267182962\n",
            "Precision of Logistic Regresion is: 76.35252450297597\n",
            "Confusion Matrix : \n",
            " AxesSubplot(0.125,0.11;0.62x0.77)\n"
          ],
          "name": "stdout"
        },
        {
          "output_type": "display_data",
          "data": {
            "image/png": "[encoded data removed]",
            "text/plain": [
              "<Figure size 640x480 with 2 Axes>"
            ]
          },
          "metadata": {
            "tags": []
          }
        }
      ]
    },
    {
      "cell_type": "markdown",
      "metadata": {
        "id": "un5KR1ar80Xr"
      },
      "source": [
        "# Random Forest"
      ]
    },
    {
      "cell_type": "code",
      "metadata": {
        "colab": {
          "base_uri": "https://localhost:8080/"
        },
        "id": "aNvYPkQ080Xs",
        "outputId": "950c400d-66fc-409f-df0f-6d5c8f112da0"
      },
      "source": [
        "rf = RandomForestClassifier()\n",
        "rf.fit(X_train, Y_train)\n",
        "predicted = rf.predict(X_test)\n",
        "report = classification_report(Y_test, predicted)\n",
        "matrix = confusion_matrix(Y_test, predicted)\n",
        "print(report)\n",
        "print(matrix)\n",
        "\n",
        "scoring = 'accuracy'\n",
        "akurasi_rf = cross_val_score(rf, X_test, Y_test, cv=seed, scoring=scoring) *100\n",
        "\n",
        "from sklearn.metrics import roc_auc_score\n",
        "\n",
        "print(\"Akurasi Random Forest: {}\".format((akurasi_rf.mean()))) \n",
        "auc_rf = roc_auc_score(Y_test, rf.predict_proba(X_test), multi_class='ovo', average='weighted') *100\n",
        "print('ROC AUC score Random Forest:', auc_rf)\n",
        "recall_rf=recall_score(Y_test,predicted, average='weighted')*100\n",
        "print(\"Recall of Random Forest is: \",recall_rf)\n",
        "prec_rf=precision_score(Y_test,predicted, average='weighted')*100\n",
        "print(\"Precision of Random Forest is:\",prec_rf)\n",
        "print (\"Confusion Matrix : \\n\",sns.heatmap(confusion_matrix(Y_test, predicted, normalize='true'), annot = True))"
      ],
      "execution_count": null,
      "outputs": [
        {
          "output_type": "stream",
          "text": [
            "              precision    recall  f1-score   support\n",
            "\n",
            "           0       0.46      0.60      0.52        10\n",
            "           1       0.92      0.94      0.93       435\n",
            "           2       0.95      0.93      0.94       588\n",
            "\n",
            "    accuracy                           0.93      1033\n",
            "   macro avg       0.78      0.82      0.80      1033\n",
            "weighted avg       0.93      0.93      0.93      1033\n",
            "\n",
            "[[  6   1   3]\n",
            " [  1 411  23]\n",
            " [  6  36 546]]\n",
            "Akurasi Random Forest: 91.67159138877165\n",
            "ROC AUC score Random Forest: 93.35647421167619\n",
            "Recall of Random Forest is:  93.22362052274927\n",
            "Precision of Random Forest is: 93.41353074563385\n",
            "Confusion Matrix : \n",
            " AxesSubplot(0.125,0.11;0.62x0.77)\n"
          ],
          "name": "stdout"
        },
        {
          "output_type": "display_data",
          "data": {
            "image/png": "[encoded data removed]",
            "text/plain": [
              "<Figure size 640x480 with 2 Axes>"
            ]
          },
          "metadata": {
            "tags": []
          }
        }
      ]
    },
    {
      "cell_type": "markdown",
      "metadata": {
        "id": "r4NU5kqo8Cf4"
      },
      "source": [
        "\n",
        "# KNN"
      ]
    },
    {
      "cell_type": "code",
      "metadata": {
        "colab": {
          "base_uri": "https://localhost:8080/"
        },
        "id": "G7SRNZ048Cf5",
        "outputId": "46f7b802-739c-4c63-eb41-2579cbc1159c"
      },
      "source": [
        "knn = KNeighborsClassifier()\n",
        "knn.fit(X_train, Y_train)\n",
        "predicted = knn.predict(X_test)\n",
        "report = classification_report(Y_test, predicted)\n",
        "matrix = confusion_matrix(Y_test, predicted)\n",
        "print(report)\n",
        "print(matrix)\n",
        "\n",
        "scoring = 'accuracy'\n",
        "akurasi_knn = cross_val_score(knn, X_test, Y_test, cv=seed, scoring=scoring) *100\n",
        "print(\"\\nAkurasi KNN: {}\".format((akurasi_knn.mean()))) \n",
        "auc_knn = roc_auc_score(Y_test, knn.predict_proba(X_test), multi_class='ovo', average='weighted') *100\n",
        "print('ROC AUC score KNN:', auc_knn)\n",
        "recall_knn=recall_score(Y_test,predicted, average='weighted')*100\n",
        "print(\"Recall of KNN is: \",recall_knn)\n",
        "prec_knn=precision_score(Y_test,predicted, average='weighted')*100\n",
        "print(\"Precision of KNN is:\",prec_knn)\n",
        "print (\"Confusion Matrix : \\n\",sns.heatmap(confusion_matrix(Y_test, predicted, normalize='true'), annot = True))"
      ],
      "execution_count": null,
      "outputs": [
        {
          "output_type": "stream",
          "text": [
            "              precision    recall  f1-score   support\n",
            "\n",
            "           0       0.67      0.60      0.63        10\n",
            "           1       0.86      0.86      0.86       435\n",
            "           2       0.89      0.89      0.89       588\n",
            "\n",
            "    accuracy                           0.87      1033\n",
            "   macro avg       0.80      0.78      0.79      1033\n",
            "weighted avg       0.87      0.87      0.87      1033\n",
            "\n",
            "[[  6   1   3]\n",
            " [  0 374  61]\n",
            " [  3  62 523]]\n",
            "\n",
            "Akurasi KNN: 82.37746822381689\n",
            "ROC AUC score KNN: 90.56650714663807\n",
            "Recall of KNN is:  87.41529525653436\n",
            "Precision of KNN is: 87.40038404891575\n",
            "Confusion Matrix : \n",
            " AxesSubplot(0.125,0.11;0.62x0.77)\n"
          ],
          "name": "stdout"
        },
        {
          "output_type": "display_data",
          "data": {
            "image/png": "[encoded data removed]",
            "text/plain": [
              "<Figure size 640x480 with 2 Axes>"
            ]
          },
          "metadata": {
            "tags": []
          }
        }
      ]
    },
    {
      "cell_type": "markdown",
      "metadata": {
        "id": "O2UPMcZq80Xt"
      },
      "source": [
        "# Light Gradient Boost"
      ]
    },
    {
      "cell_type": "code",
      "metadata": {
        "colab": {
          "base_uri": "https://localhost:8080/"
        },
        "id": "0ef1zYW9gaxj",
        "outputId": "3cf1237e-e649-4133-cb83-3208fe35f2e2"
      },
      "source": [
        "lgbm = LGBMClassifier()\n",
        "lgbm.fit(X_train, Y_train)\n",
        "predicted = lgbm.predict(X_test)\n",
        "report = classification_report(Y_test, predicted)\n",
        "matrix = confusion_matrix(Y_test, predicted)\n",
        "print(report)\n",
        "print(matrix)\n",
        "\n",
        "scoring = 'accuracy'\n",
        "akurasi_lgbm = cross_val_score(lgbm, X_test, Y_test, cv=seed, scoring=scoring) *100\n",
        "\n",
        "from sklearn.metrics import roc_auc_score\n",
        "\n",
        "print(\"Accuracy Light Gradient Boosting: {}\".format((akurasi_lgbm.mean()))) \n",
        "auc_lgbm = roc_auc_score(Y_test, lgbm.predict_proba(X_test), multi_class='ovo', average='weighted') *100\n",
        "print('ROC AUC score LGBM:', auc_lgbm)\n",
        "\n",
        "recall_lgbm=recall_score(Y_test,predicted, average='weighted')*100\n",
        "print(\"Recall of LGBM is: \",recall_lgbm)\n",
        "prec_lgbm=precision_score(Y_test,predicted, average='weighted')*100\n",
        "print(\"Precision of LGBM is:\",prec_lgbm)\n",
        "\n",
        "print (\"Confusion Matrix : \\n\",sns.heatmap(confusion_matrix(Y_test, predicted, normalize='true'), annot = True))"
      ],
      "execution_count": null,
      "outputs": [
        {
          "output_type": "stream",
          "text": [
            "              precision    recall  f1-score   support\n",
            "\n",
            "           0       0.55      0.60      0.57        10\n",
            "           1       0.94      0.94      0.94       435\n",
            "           2       0.95      0.95      0.95       588\n",
            "\n",
            "    accuracy                           0.94      1033\n",
            "   macro avg       0.81      0.83      0.82      1033\n",
            "weighted avg       0.94      0.94      0.94      1033\n",
            "\n",
            "[[  6   0   4]\n",
            " [  0 409  26]\n",
            " [  5  27 556]]\n",
            "Accuracy Light Gradient Boosting: 92.05900286102903\n",
            "ROC AUC score LGBM: 97.17560249055393\n",
            "Recall of LGBM is:  93.99806389157793\n",
            "Precision of LGBM is: 94.03814936897886\n",
            "Confusion Matrix : \n",
            " AxesSubplot(0.125,0.11;0.62x0.77)\n"
          ],
          "name": "stdout"
        },
        {
          "output_type": "display_data",
          "data": {
            "image/png": "[encoded data removed]",
            "text/plain": [
              "<Figure size 640x480 with 2 Axes>"
            ]
          },
          "metadata": {
            "tags": []
          }
        }
      ]
    },
    {
      "cell_type": "code",
      "metadata": {
        "colab": {
          "base_uri": "https://localhost:8080/"
        },
        "id": "lAp36eNnBGEH",
        "outputId": "9c374769-8806-4d1e-da32-6ae07e75ff4b"
      },
      "source": [
        "lgbm.fit(X_train, Y_train)"
      ],
      "execution_count": null,
      "outputs": [
        {
          "output_type": "execute_result",
          "data": {
            "text/plain": [
              "LGBMClassifier(boosting_type='gbdt', class_weight=None, colsample_bytree=1.0,\n",
              "               importance_type='split', learning_rate=0.1, max_depth=-1,\n",
              "               min_child_samples=20, min_child_weight=0.001, min_split_gain=0.0,\n",
              "               n_estimators=100, n_jobs=-1, num_leaves=31, objective=None,\n",
              "               random_state=None, reg_alpha=0.0, reg_lambda=0.0, silent=True,\n",
              "               subsample=1.0, subsample_for_bin=200000, subsample_freq=0)"
            ]
          },
          "metadata": {
            "tags": []
          },
          "execution_count": 33
        }
      ]
    },
    {
      "cell_type": "markdown",
      "metadata": {
        "id": "FZTZQV9l9iTf"
      },
      "source": [
        "# HASIL AKURASI"
      ]
    },
    {
      "cell_type": "code",
      "metadata": {
        "colab": {
          "base_uri": "https://localhost:8080/",
          "height": 232
        },
        "id": "tFbTZUB39eAj",
        "outputId": "1d822f61-a3a4-4276-84f4-2acecb96b67f"
      },
      "source": [
        "algos=[\"Decision Tree\",\"Naive Bayes\",\"Logistic Regression\",\"Random Forest\",\"KNN\",\"Light Gradient Boost\"]\n",
        "acc=[akurasi_dt.mean(), akurasi_nb.mean(), akurasi_log.mean(),akurasi_rf.mean(),akurasi_knn.mean(),akurasi_lgbm.mean()]\n",
        "auc=[auc_dt, auc_nb, auc_log,  auc_rf, auc_knn, auc_lgbm]\n",
        "recall=[recall_dt, recall_nb, recall_log,  recall_rf, recall_knn, recall_lgbm]\n",
        "prec=[prec_dt, prec_nb, prec_log,  prec_rf, prec_knn, prec_lgbm]\n",
        "\n",
        "comp={\"Algorithms\":algos,\"Accuracies\":acc,\"AUC\":auc,\"Recall\":recall,\"Precision\":prec}\n",
        "compdf=pd.DataFrame(comp)\n",
        "display(compdf.sort_values(by=[\"Accuracies\",\"AUC\",\"Recall\",\"Precision\"], ascending=False))"
      ],
      "execution_count": null,
      "outputs": [
        {
          "output_type": "display_data",
          "data": {
            "text/html": [
              "<div>\n",
              "<style scoped>\n",
              "    .dataframe tbody tr th:only-of-type {\n",
              "        vertical-align: middle;\n",
              "    }\n",
              "\n",
              "    .dataframe tbody tr th {\n",
              "        vertical-align: top;\n",
              "    }\n",
              "\n",
              "    .dataframe thead th {\n",
              "        text-align: right;\n",
              "    }\n",
              "</style>\n",
              "<table border=\"1\" class=\"dataframe\">\n",
              "  <thead>\n",
              "    <tr style=\"text-align: right;\">\n",
              "      <th></th>\n",
              "      <th>Algorithms</th>\n",
              "      <th>Accuracies</th>\n",
              "      <th>AUC</th>\n",
              "      <th>Recall</th>\n",
              "      <th>Precision</th>\n",
              "    </tr>\n",
              "  </thead>\n",
              "  <tbody>\n",
              "    <tr>\n",
              "      <th>5</th>\n",
              "      <td>Light Gradient Boost</td>\n",
              "      <td>92.059003</td>\n",
              "      <td>97.175602</td>\n",
              "      <td>93.998064</td>\n",
              "      <td>94.038149</td>\n",
              "    </tr>\n",
              "    <tr>\n",
              "      <th>3</th>\n",
              "      <td>Random Forest</td>\n",
              "      <td>91.671591</td>\n",
              "      <td>93.356474</td>\n",
              "      <td>93.223621</td>\n",
              "      <td>93.413531</td>\n",
              "    </tr>\n",
              "    <tr>\n",
              "      <th>0</th>\n",
              "      <td>Decision Tree</td>\n",
              "      <td>90.219971</td>\n",
              "      <td>86.804378</td>\n",
              "      <td>90.416263</td>\n",
              "      <td>91.061033</td>\n",
              "    </tr>\n",
              "    <tr>\n",
              "      <th>4</th>\n",
              "      <td>KNN</td>\n",
              "      <td>82.377468</td>\n",
              "      <td>90.566507</td>\n",
              "      <td>87.415295</td>\n",
              "      <td>87.400384</td>\n",
              "    </tr>\n",
              "    <tr>\n",
              "      <th>2</th>\n",
              "      <td>Logistic Regression</td>\n",
              "      <td>74.928943</td>\n",
              "      <td>84.926316</td>\n",
              "      <td>76.476283</td>\n",
              "      <td>76.352525</td>\n",
              "    </tr>\n",
              "    <tr>\n",
              "      <th>1</th>\n",
              "      <td>Naive Bayes</td>\n",
              "      <td>49.944186</td>\n",
              "      <td>85.343948</td>\n",
              "      <td>69.990319</td>\n",
              "      <td>72.874113</td>\n",
              "    </tr>\n",
              "  </tbody>\n",
              "</table>\n",
              "</div>"
            ],
            "text/plain": [
              "             Algorithms  Accuracies        AUC     Recall  Precision\n",
              "5  Light Gradient Boost   92.059003  97.175602  93.998064  94.038149\n",
              "3         Random Forest   91.671591  93.356474  93.223621  93.413531\n",
              "0         Decision Tree   90.219971  86.804378  90.416263  91.061033\n",
              "4                   KNN   82.377468  90.566507  87.415295  87.400384\n",
              "2   Logistic Regression   74.928943  84.926316  76.476283  76.352525\n",
              "1           Naive Bayes   49.944186  85.343948  69.990319  72.874113"
            ]
          },
          "metadata": {
            "tags": []
          }
        }
      ]
    },
    {
      "cell_type": "markdown",
      "metadata": {
        "id": "pxdGUWU43Kt7"
      },
      "source": [
        "#Hyperparameter Tunning LGBM"
      ]
    },
    {
      "cell_type": "code",
      "metadata": {
        "id": "SahQs-hct4gC",
        "colab": {
          "base_uri": "https://localhost:8080/"
        },
        "outputId": "94579c82-b7f3-4fba-b430-a9fe58969b49"
      },
      "source": [
        "import lightgbm as lgbm\n",
        "from sklearn.model_selection import GridSearchCV\n",
        "\n",
        "optimized_lgbm = lgbm.LGBMRegressor()                                                            \n",
        "optimized_lgbm.fit(X_train, Y_train)"
      ],
      "execution_count": null,
      "outputs": [
        {
          "output_type": "execute_result",
          "data": {
            "text/plain": [
              "LGBMRegressor(boosting_type='gbdt', class_weight=None, colsample_bytree=1.0,\n",
              "              importance_type='split', learning_rate=0.1, max_depth=-1,\n",
              "              min_child_samples=20, min_child_weight=0.001, min_split_gain=0.0,\n",
              "              n_estimators=100, n_jobs=-1, num_leaves=31, objective=None,\n",
              "              random_state=None, reg_alpha=0.0, reg_lambda=0.0, silent=True,\n",
              "              subsample=1.0, subsample_for_bin=200000, subsample_freq=0)"
            ]
          },
          "metadata": {
            "tags": []
          },
          "execution_count": 35
        }
      ]
    },
    {
      "cell_type": "code",
      "metadata": {
        "id": "esmVhvNbzIG7",
        "colab": {
          "base_uri": "https://localhost:8080/"
        },
        "outputId": "d749c00a-87ce-4e91-8190-000e025ccbc2"
      },
      "source": [
        "param = {\n",
        "        'n_estimators': (100, 400, 10),\n",
        "        'min_child_weight': (3, 20, 2),\n",
        "        'colsample_bytree': (0.4, 1.0),\n",
        "        'max_depth': (5, 15, 2),\n",
        "        'min_child_samples': (10, 30)}\n",
        "        \n",
        "grid = GridSearchCV(optimized_lgbm, param_grid = param, cv=5)\n",
        "\n",
        "grid.fit(X_train, Y_train)"
      ],
      "execution_count": null,
      "outputs": [
        {
          "output_type": "execute_result",
          "data": {
            "text/plain": [
              "GridSearchCV(cv=5, error_score=nan,\n",
              "             estimator=LGBMRegressor(boosting_type='gbdt', class_weight=None,\n",
              "                                     colsample_bytree=1.0,\n",
              "                                     importance_type='split', learning_rate=0.1,\n",
              "                                     max_depth=-1, min_child_samples=20,\n",
              "                                     min_child_weight=0.001, min_split_gain=0.0,\n",
              "                                     n_estimators=100, n_jobs=-1, num_leaves=31,\n",
              "                                     objective=None, random_state=None,\n",
              "                                     reg_alpha=0.0, reg_lambda=0.0, silent=True,\n",
              "                                     subsample=1.0, subsample_for_bin=200000,\n",
              "                                     subsample_freq=0),\n",
              "             iid='deprecated', n_jobs=None,\n",
              "             param_grid={'colsample_bytree': (0.4, 1.0),\n",
              "                         'max_depth': (5, 15, 2), 'min_child_samples': (10, 30),\n",
              "                         'min_child_weight': (3, 20, 2),\n",
              "                         'n_estimators': (100, 400, 10)},\n",
              "             pre_dispatch='2*n_jobs', refit=True, return_train_score=False,\n",
              "             scoring=None, verbose=0)"
            ]
          },
          "metadata": {
            "tags": []
          },
          "execution_count": 36
        }
      ]
    },
    {
      "cell_type": "code",
      "metadata": {
        "id": "yHNhgbmCRZf_",
        "colab": {
          "base_uri": "https://localhost:8080/"
        },
        "outputId": "7a752551-aa58-4e8c-8fcc-9ac52b2f7487"
      },
      "source": [
        "predicted1 = grid.predict(X_test)\n",
        "predicted1\n",
        "X_test.shape"
      ],
      "execution_count": null,
      "outputs": [
        {
          "output_type": "execute_result",
          "data": {
            "text/plain": [
              "(1033, 8)"
            ]
          },
          "metadata": {
            "tags": []
          },
          "execution_count": 37
        }
      ]
    },
    {
      "cell_type": "code",
      "metadata": {
        "colab": {
          "base_uri": "https://localhost:8080/",
          "height": 772
        },
        "id": "O4mtRPy9ohFp",
        "outputId": "45c74c25-841d-4fa9-fea8-295e31745d5a"
      },
      "source": [
        "lgbm_tuning = LGBMClassifier(boosting_type='gbdt', class_weight=None,\n",
        "                                     colsample_bytree=1.0,\n",
        "                                     importance_type='split', learning_rate=0.1,\n",
        "                                     max_depth=-1, min_child_samples=20,\n",
        "                                     min_child_weight=0.001, min_split_gain=0.0,\n",
        "                                     n_estimators=100, n_jobs=-1, num_leaves=31,\n",
        "                                     objective=None, random_state=None,\n",
        "                                     reg_alpha=0.0, reg_lambda=0.0, silent=True,\n",
        "                                     subsample=1.0, subsample_for_bin=200000,\n",
        "                                     subsample_freq=0)\n",
        "lgbm_tuning.fit(X_train, Y_train)\n",
        "predicted = lgbm_tuning.predict(X_test)\n",
        "report = classification_report(Y_test, predicted)\n",
        "matrix = confusion_matrix(Y_test, predicted)\n",
        "print(report)\n",
        "print(matrix)\n",
        "\n",
        "akurasi_lgbm = cross_val_score(lgbm_tuning, X_test, Y_test, cv=seed, scoring='accuracy') *100\n",
        "\n",
        "from sklearn.metrics import roc_auc_score\n",
        "\n",
        "print(\"Accuracy Light Gradient Boosting after tuning: {}\".format((akurasi_lgbm.mean()))) \n",
        "auc_lgbm = roc_auc_score(Y_test, lgbm_tuning.predict_proba(X_test), multi_class='ovo') *100\n",
        "print('ROC AUC score LGBM:', auc_lgbm)\n",
        "\n",
        "recall_lgbm=recall_score(Y_test,predicted, average='weighted')*100\n",
        "print(\"Recall of LGBM is after tuning: \",recall_lgbm)\n",
        "prec_lgbm=precision_score(Y_test,predicted, average='weighted')*100\n",
        "print(\"Precision of LGBM is after tuning:\",prec_lgbm)\n",
        "\n",
        "print (\"Confusion Matrix : \\n\",sns.heatmap(confusion_matrix(Y_test, predicted, normalize='true'), annot = True))"
      ],
      "execution_count": null,
      "outputs": [
        {
          "output_type": "stream",
          "text": [
            "              precision    recall  f1-score   support\n",
            "\n",
            "           0       0.55      0.60      0.57        10\n",
            "           1       0.94      0.94      0.94       435\n",
            "           2       0.95      0.95      0.95       588\n",
            "\n",
            "    accuracy                           0.94      1033\n",
            "   macro avg       0.81      0.83      0.82      1033\n",
            "weighted avg       0.94      0.94      0.94      1033\n",
            "\n",
            "[[  6   0   4]\n",
            " [  0 409  26]\n",
            " [  5  27 556]]\n",
            "Accuracy Light Gradient Boosting after tuning: 92.05900286102903\n",
            "ROC AUC score LGBM: 96.9606171970704\n",
            "Recall of LGBM is after tuning:  93.99806389157793\n",
            "Precision of LGBM is after tuning: 94.03814936897886\n",
            "Confusion Matrix : \n",
            " AxesSubplot(0.125,0.11;0.62x0.77)\n"
          ],
          "name": "stdout"
        },
        {
          "output_type": "display_data",
          "data": {
            "image/png": "[encoded data removed]",
            "text/plain": [
              "<Figure size 640x480 with 2 Axes>"
            ]
          },
          "metadata": {
            "tags": []
          }
        }
      ]
    },
    {
      "cell_type": "code",
      "metadata": {
        "colab": {
          "base_uri": "https://localhost:8080/",
          "height": 472
        },
        "id": "FHMV2WjbFCw_",
        "outputId": "9d088a9f-a2fc-463b-fc9d-b20a8750ad0b"
      },
      "source": [
        "from lightgbm import plot_importance\n",
        "plot_importance(lgbm_tuning)\n",
        "pyplot.show()"
      ],
      "execution_count": null,
      "outputs": [
        {
          "output_type": "display_data",
          "data": {
            "image/png": "[encoded data removed]",
            "text/plain": [
              "<Figure size 640x480 with 1 Axes>"
            ]
          },
          "metadata": {
            "tags": []
          }
        }
      ]
    }
  ]
}