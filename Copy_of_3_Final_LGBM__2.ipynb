{
  "nbformat": 4,
  "nbformat_minor": 0,
  "metadata": {
    "colab": {
      "name": "Copy of 3. Final LGBM _2",
      "provenance": [],
      "collapsed_sections": [
        "3Y3UtWZtvEGA",
        "pCL1Rafw5Okz",
        "WcSiFK-r81cP",
        "dTi6dD948qVM",
        "n8hSZMM5Dj9b",
        "F__u62jH8f__",
        "JxGJXZ4B9Iis",
        "HuFU5fM7W-ef"
      ]
    },
    "kernelspec": {
      "display_name": "Python 3",
      "name": "python3"
    },
    "language_info": {
      "name": "python"
    }
  },
  "cells": [
    {
      "cell_type": "markdown",
      "metadata": {
        "id": "jqthuJoku2rY"
      },
      "source": [
        "#Koneksi ke Google Drive"
      ]
    },
    {
      "cell_type": "code",
      "metadata": {
        "colab": {
          "base_uri": "https://localhost:8080/"
        },
        "id": "GrqtE3NH7rGJ",
        "outputId": "b59df2d2-1773-479a-976b-60fa07bbc43e"
      },
      "source": [
        "from google.colab import drive\n",
        "drive.mount('/content/drive', force_remount=True)"
      ],
      "execution_count": 1,
      "outputs": [
        {
          "output_type": "stream",
          "text": [
            "Mounted at /content/drive\n"
          ],
          "name": "stdout"
        }
      ]
    },
    {
      "cell_type": "markdown",
      "metadata": {
        "id": "3Y3UtWZtvEGA"
      },
      "source": [
        "#IMPORT MODULE"
      ]
    },
    {
      "cell_type": "code",
      "metadata": {
        "id": "5CelubFF75Oq"
      },
      "source": [
        "import pandas as pd\n",
        "import numpy as np\n",
        "import seaborn as sns\n",
        "import plotly.express as px\n",
        "from matplotlib import pyplot\n",
        "from sklearn import metrics\n",
        "import matplotlib.pyplot as plt; plt.rcdefaults()\n",
        "\n",
        "from sklearn.ensemble import RandomForestClassifier\n",
        "from sklearn.naive_bayes import GaussianNB\n",
        "from sklearn.neighbors import KNeighborsClassifier\n",
        "from sklearn.tree import DecisionTreeClassifier \n",
        "from lightgbm import LGBMClassifier\n",
        "from sklearn.linear_model import  LogisticRegression\n",
        "from sklearn.neighbors import KNeighborsClassifier\n",
        "\n",
        "from sklearn.preprocessing import LabelBinarizer\n",
        "from sklearn.model_selection import train_test_split\n",
        "from sklearn.model_selection import cross_val_score, cross_validate\n",
        "from sklearn.metrics import classification_report\n",
        "from sklearn.metrics import accuracy_score , confusion_matrix,f1_score, roc_auc_score,precision_score, recall_score,roc_curve\n",
        "\n",
        "from datetime import date"
      ],
      "execution_count": 2,
      "outputs": []
    },
    {
      "cell_type": "markdown",
      "metadata": {
        "id": "qkvTpEPw3ce8"
      },
      "source": [
        "MENAMPILKAN DATA DAN PENYESUAIAN SEBELUM MERGE"
      ]
    },
    {
      "cell_type": "code",
      "metadata": {
        "id": "Vj6F_OJU77Io"
      },
      "source": [
        "patien_info = pd.read_csv('drive/MyDrive/dataset/PatientInfo.csv')"
      ],
      "execution_count": 3,
      "outputs": []
    },
    {
      "cell_type": "markdown",
      "metadata": {
        "id": "_OtiMDVdm7gb"
      },
      "source": [
        "## Data Patien Info"
      ]
    },
    {
      "cell_type": "code",
      "metadata": {
        "colab": {
          "base_uri": "https://localhost:8080/",
          "height": 216
        },
        "id": "29CaPEV28jz4",
        "outputId": "8dd78d7a-d4a8-424e-ab08-74f6b6ef7d65"
      },
      "source": [
        "print(patien_info.shape)\n",
        "patien_info.head()"
      ],
      "execution_count": 4,
      "outputs": [
        {
          "output_type": "stream",
          "text": [
            "(5165, 13)\n"
          ],
          "name": "stdout"
        },
        {
          "output_type": "execute_result",
          "data": {
            "text/html": [
              "<div>\n",
              "<style scoped>\n",
              "    .dataframe tbody tr th:only-of-type {\n",
              "        vertical-align: middle;\n",
              "    }\n",
              "\n",
              "    .dataframe tbody tr th {\n",
              "        vertical-align: top;\n",
              "    }\n",
              "\n",
              "    .dataframe thead th {\n",
              "        text-align: right;\n",
              "    }\n",
              "</style>\n",
              "<table border=\"1\" class=\"dataframe\">\n",
              "  <thead>\n",
              "    <tr style=\"text-align: right;\">\n",
              "      <th></th>\n",
              "      <th>patient_id</th>\n",
              "      <th>sex</th>\n",
              "      <th>age</th>\n",
              "      <th>province</th>\n",
              "      <th>city</th>\n",
              "      <th>infection_case</th>\n",
              "      <th>infected_by</th>\n",
              "      <th>contact_number</th>\n",
              "      <th>symptom_onset_date</th>\n",
              "      <th>confirmed_date</th>\n",
              "      <th>released_date</th>\n",
              "      <th>deceased_date</th>\n",
              "      <th>state</th>\n",
              "    </tr>\n",
              "  </thead>\n",
              "  <tbody>\n",
              "    <tr>\n",
              "      <th>0</th>\n",
              "      <td>1000000001</td>\n",
              "      <td>male</td>\n",
              "      <td>50.0</td>\n",
              "      <td>Seoul</td>\n",
              "      <td>Gangseo-gu</td>\n",
              "      <td>overseas inflow</td>\n",
              "      <td>NaN</td>\n",
              "      <td>75</td>\n",
              "      <td>1/22/2020</td>\n",
              "      <td>1/23/2020</td>\n",
              "      <td>2/5/2020</td>\n",
              "      <td>NaN</td>\n",
              "      <td>released</td>\n",
              "    </tr>\n",
              "    <tr>\n",
              "      <th>1</th>\n",
              "      <td>1000000002</td>\n",
              "      <td>male</td>\n",
              "      <td>30.0</td>\n",
              "      <td>Seoul</td>\n",
              "      <td>Jungnang-gu</td>\n",
              "      <td>overseas inflow</td>\n",
              "      <td>NaN</td>\n",
              "      <td>31</td>\n",
              "      <td>NaN</td>\n",
              "      <td>1/30/2020</td>\n",
              "      <td>3/2/2020</td>\n",
              "      <td>NaN</td>\n",
              "      <td>released</td>\n",
              "    </tr>\n",
              "    <tr>\n",
              "      <th>2</th>\n",
              "      <td>1000000003</td>\n",
              "      <td>male</td>\n",
              "      <td>50.0</td>\n",
              "      <td>Seoul</td>\n",
              "      <td>Jongno-gu</td>\n",
              "      <td>contact with patient</td>\n",
              "      <td>2002000001</td>\n",
              "      <td>17</td>\n",
              "      <td>NaN</td>\n",
              "      <td>1/30/2020</td>\n",
              "      <td>2/19/2020</td>\n",
              "      <td>NaN</td>\n",
              "      <td>released</td>\n",
              "    </tr>\n",
              "    <tr>\n",
              "      <th>3</th>\n",
              "      <td>1000000004</td>\n",
              "      <td>male</td>\n",
              "      <td>20.0</td>\n",
              "      <td>Seoul</td>\n",
              "      <td>Mapo-gu</td>\n",
              "      <td>overseas inflow</td>\n",
              "      <td>NaN</td>\n",
              "      <td>9</td>\n",
              "      <td>1/26/2020</td>\n",
              "      <td>1/30/2020</td>\n",
              "      <td>2/15/2020</td>\n",
              "      <td>NaN</td>\n",
              "      <td>released</td>\n",
              "    </tr>\n",
              "    <tr>\n",
              "      <th>4</th>\n",
              "      <td>1000000005</td>\n",
              "      <td>female</td>\n",
              "      <td>20.0</td>\n",
              "      <td>Seoul</td>\n",
              "      <td>Seongbuk-gu</td>\n",
              "      <td>contact with patient</td>\n",
              "      <td>1000000002</td>\n",
              "      <td>2</td>\n",
              "      <td>NaN</td>\n",
              "      <td>1/31/2020</td>\n",
              "      <td>2/24/2020</td>\n",
              "      <td>NaN</td>\n",
              "      <td>released</td>\n",
              "    </tr>\n",
              "  </tbody>\n",
              "</table>\n",
              "</div>"
            ],
            "text/plain": [
              "   patient_id     sex   age  ... released_date deceased_date     state\n",
              "0  1000000001    male  50.0  ...      2/5/2020           NaN  released\n",
              "1  1000000002    male  30.0  ...      3/2/2020           NaN  released\n",
              "2  1000000003    male  50.0  ...     2/19/2020           NaN  released\n",
              "3  1000000004    male  20.0  ...     2/15/2020           NaN  released\n",
              "4  1000000005  female  20.0  ...     2/24/2020           NaN  released\n",
              "\n",
              "[5 rows x 13 columns]"
            ]
          },
          "metadata": {
            "tags": []
          },
          "execution_count": 4
        }
      ]
    },
    {
      "cell_type": "code",
      "metadata": {
        "id": "G63Br5my2IZb",
        "colab": {
          "base_uri": "https://localhost:8080/",
          "height": 216
        },
        "outputId": "1245eed9-1cb6-4bc6-b969-16299656492d"
      },
      "source": [
        "patien_info.rename(columns= {'confirmed_date' :'date'}, inplace=True) #mengubah nama column confirmed_date menjadi date\n",
        "patien_info.age = patien_info.age.fillna(0) #mengubah bagian kosong pada kolom age menjadi 0\n",
        "patien_info.age= patien_info.age.astype('int64') #mengubah tipe data kolom age\n",
        "print(patien_info.shape)\n",
        "patien_info.head()#menampilkan data patien_info"
      ],
      "execution_count": 5,
      "outputs": [
        {
          "output_type": "stream",
          "text": [
            "(5165, 13)\n"
          ],
          "name": "stdout"
        },
        {
          "output_type": "execute_result",
          "data": {
            "text/html": [
              "<div>\n",
              "<style scoped>\n",
              "    .dataframe tbody tr th:only-of-type {\n",
              "        vertical-align: middle;\n",
              "    }\n",
              "\n",
              "    .dataframe tbody tr th {\n",
              "        vertical-align: top;\n",
              "    }\n",
              "\n",
              "    .dataframe thead th {\n",
              "        text-align: right;\n",
              "    }\n",
              "</style>\n",
              "<table border=\"1\" class=\"dataframe\">\n",
              "  <thead>\n",
              "    <tr style=\"text-align: right;\">\n",
              "      <th></th>\n",
              "      <th>patient_id</th>\n",
              "      <th>sex</th>\n",
              "      <th>age</th>\n",
              "      <th>province</th>\n",
              "      <th>city</th>\n",
              "      <th>infection_case</th>\n",
              "      <th>infected_by</th>\n",
              "      <th>contact_number</th>\n",
              "      <th>symptom_onset_date</th>\n",
              "      <th>date</th>\n",
              "      <th>released_date</th>\n",
              "      <th>deceased_date</th>\n",
              "      <th>state</th>\n",
              "    </tr>\n",
              "  </thead>\n",
              "  <tbody>\n",
              "    <tr>\n",
              "      <th>0</th>\n",
              "      <td>1000000001</td>\n",
              "      <td>male</td>\n",
              "      <td>50</td>\n",
              "      <td>Seoul</td>\n",
              "      <td>Gangseo-gu</td>\n",
              "      <td>overseas inflow</td>\n",
              "      <td>NaN</td>\n",
              "      <td>75</td>\n",
              "      <td>1/22/2020</td>\n",
              "      <td>1/23/2020</td>\n",
              "      <td>2/5/2020</td>\n",
              "      <td>NaN</td>\n",
              "      <td>released</td>\n",
              "    </tr>\n",
              "    <tr>\n",
              "      <th>1</th>\n",
              "      <td>1000000002</td>\n",
              "      <td>male</td>\n",
              "      <td>30</td>\n",
              "      <td>Seoul</td>\n",
              "      <td>Jungnang-gu</td>\n",
              "      <td>overseas inflow</td>\n",
              "      <td>NaN</td>\n",
              "      <td>31</td>\n",
              "      <td>NaN</td>\n",
              "      <td>1/30/2020</td>\n",
              "      <td>3/2/2020</td>\n",
              "      <td>NaN</td>\n",
              "      <td>released</td>\n",
              "    </tr>\n",
              "    <tr>\n",
              "      <th>2</th>\n",
              "      <td>1000000003</td>\n",
              "      <td>male</td>\n",
              "      <td>50</td>\n",
              "      <td>Seoul</td>\n",
              "      <td>Jongno-gu</td>\n",
              "      <td>contact with patient</td>\n",
              "      <td>2002000001</td>\n",
              "      <td>17</td>\n",
              "      <td>NaN</td>\n",
              "      <td>1/30/2020</td>\n",
              "      <td>2/19/2020</td>\n",
              "      <td>NaN</td>\n",
              "      <td>released</td>\n",
              "    </tr>\n",
              "    <tr>\n",
              "      <th>3</th>\n",
              "      <td>1000000004</td>\n",
              "      <td>male</td>\n",
              "      <td>20</td>\n",
              "      <td>Seoul</td>\n",
              "      <td>Mapo-gu</td>\n",
              "      <td>overseas inflow</td>\n",
              "      <td>NaN</td>\n",
              "      <td>9</td>\n",
              "      <td>1/26/2020</td>\n",
              "      <td>1/30/2020</td>\n",
              "      <td>2/15/2020</td>\n",
              "      <td>NaN</td>\n",
              "      <td>released</td>\n",
              "    </tr>\n",
              "    <tr>\n",
              "      <th>4</th>\n",
              "      <td>1000000005</td>\n",
              "      <td>female</td>\n",
              "      <td>20</td>\n",
              "      <td>Seoul</td>\n",
              "      <td>Seongbuk-gu</td>\n",
              "      <td>contact with patient</td>\n",
              "      <td>1000000002</td>\n",
              "      <td>2</td>\n",
              "      <td>NaN</td>\n",
              "      <td>1/31/2020</td>\n",
              "      <td>2/24/2020</td>\n",
              "      <td>NaN</td>\n",
              "      <td>released</td>\n",
              "    </tr>\n",
              "  </tbody>\n",
              "</table>\n",
              "</div>"
            ],
            "text/plain": [
              "   patient_id     sex  age  ... released_date deceased_date     state\n",
              "0  1000000001    male   50  ...      2/5/2020           NaN  released\n",
              "1  1000000002    male   30  ...      3/2/2020           NaN  released\n",
              "2  1000000003    male   50  ...     2/19/2020           NaN  released\n",
              "3  1000000004    male   20  ...     2/15/2020           NaN  released\n",
              "4  1000000005  female   20  ...     2/24/2020           NaN  released\n",
              "\n",
              "[5 rows x 13 columns]"
            ]
          },
          "metadata": {
            "tags": []
          },
          "execution_count": 5
        }
      ]
    },
    {
      "cell_type": "markdown",
      "metadata": {
        "id": "IgjASlfz5VBQ"
      },
      "source": [
        "# DATA PREPARASI"
      ]
    },
    {
      "cell_type": "markdown",
      "metadata": {
        "id": "WcSiFK-r81cP"
      },
      "source": [
        "## Missing Value"
      ]
    },
    {
      "cell_type": "code",
      "metadata": {
        "colab": {
          "base_uri": "https://localhost:8080/"
        },
        "id": "AuT9hXEgXQ7C",
        "outputId": "3f1173f4-00fe-437f-ebfd-81fd74b3cbc0"
      },
      "source": [
        "pip install plotly_express==0.4.0"
      ],
      "execution_count": 6,
      "outputs": [
        {
          "output_type": "stream",
          "text": [
            "Requirement already satisfied: plotly_express==0.4.0 in /usr/local/lib/python3.7/dist-packages (0.4.0)\n",
            "Requirement already satisfied: numpy>=1.11 in /usr/local/lib/python3.7/dist-packages (from plotly_express==0.4.0) (1.19.5)\n",
            "Requirement already satisfied: statsmodels>=0.9.0 in /usr/local/lib/python3.7/dist-packages (from plotly_express==0.4.0) (0.10.2)\n",
            "Requirement already satisfied: scipy>=0.18 in /usr/local/lib/python3.7/dist-packages (from plotly_express==0.4.0) (1.4.1)\n",
            "Requirement already satisfied: pandas>=0.20.0 in /usr/local/lib/python3.7/dist-packages (from plotly_express==0.4.0) (1.1.5)\n",
            "Requirement already satisfied: plotly>=4.0.0 in /usr/local/lib/python3.7/dist-packages (from plotly_express==0.4.0) (4.4.1)\n",
            "Requirement already satisfied: patsy>=0.5 in /usr/local/lib/python3.7/dist-packages (from plotly_express==0.4.0) (0.5.1)\n",
            "Requirement already satisfied: pytz>=2017.2 in /usr/local/lib/python3.7/dist-packages (from pandas>=0.20.0->plotly_express==0.4.0) (2018.9)\n",
            "Requirement already satisfied: python-dateutil>=2.7.3 in /usr/local/lib/python3.7/dist-packages (from pandas>=0.20.0->plotly_express==0.4.0) (2.8.1)\n",
            "Requirement already satisfied: six in /usr/local/lib/python3.7/dist-packages (from patsy>=0.5->plotly_express==0.4.0) (1.15.0)\n",
            "Requirement already satisfied: retrying>=1.3.3 in /usr/local/lib/python3.7/dist-packages (from plotly>=4.0.0->plotly_express==0.4.0) (1.3.3)\n"
          ],
          "name": "stdout"
        }
      ]
    },
    {
      "cell_type": "code",
      "metadata": {
        "colab": {
          "base_uri": "https://localhost:8080/",
          "height": 517
        },
        "id": "GCRKKnpryVkD",
        "outputId": "2e00d26b-343f-4749-a239-8d6fda98e967"
      },
      "source": [
        "def null_analysis(patien_info):\n",
        "  null_cnt = patien_info.isnull().sum() # calculate null counts\n",
        "  null_cnt = null_cnt[null_cnt!=0] # remove non-null cols\n",
        "  null_percent = null_cnt / len(patien_info) * 100 # calculate null percentages\n",
        "  null_table = pd.concat([pd.DataFrame(null_cnt), pd.DataFrame(null_percent)], axis=1)\n",
        "  null_table.columns = ['counts', 'percentage']\n",
        "  null_table.sort_values('counts', ascending=False, inplace=True)\n",
        "  return null_table\n",
        "\n",
        "# visualise null table\n",
        "import plotly_express as px\n",
        "null_table = null_analysis(patien_info)\n",
        "px.bar(null_table.reset_index(), x='index', y='percentage', text='counts', height=500)"
      ],
      "execution_count": 7,
      "outputs": [
        {
          "output_type": "display_data",
          "data": {
            "text/html": [
              "<html>\n",
              "<head><meta charset=\"utf-8\" /></head>\n",
              "<body>\n",
              "    <div>\n",
              "            <script src=\"https://cdnjs.cloudflare.com/ajax/libs/mathjax/2.7.5/MathJax.js?config=TeX-AMS-MML_SVG\"></script><script type=\"text/javascript\">if (window.MathJax) {MathJax.Hub.Config({SVG: {font: \"STIX-Web\"}});}</script>\n",
              "                <script type=\"text/javascript\">window.PlotlyConfig = {MathJaxConfig: 'local'};</script>\n",
              "        <script src=\"https://cdn.plot.ly/plotly-latest.min.js\"></script>    \n",
              "            <div id=\"8ad27f50-43bf-4535-8e4f-26d37bd6701a\" class=\"plotly-graph-div\" style=\"height:500px; width:100%;\"></div>\n",
              "            <script type=\"text/javascript\">\n",
              "                \n",
              "                    window.PLOTLYENV=window.PLOTLYENV || {};\n",
              "                    \n",
              "                if (document.getElementById(\"8ad27f50-43bf-4535-8e4f-26d37bd6701a\")) {\n",
              "                    Plotly.newPlot(\n",
              "                        '8ad27f50-43bf-4535-8e4f-26d37bd6701a',\n",
              "                        [{\"alignmentgroup\": \"True\", \"hoverlabel\": {\"namelength\": 0}, \"hovertemplate\": \"index=%{x}<br>percentage=%{y}<br>counts=%{text}\", \"legendgroup\": \"\", \"marker\": {\"color\": \"#636efa\"}, \"name\": \"\", \"offsetgroup\": \"\", \"orientation\": \"v\", \"showlegend\": false, \"text\": [5099.0, 4475.0, 4374.0, 3819.0, 3578.0, 1122.0, 919.0, 94.0, 3.0], \"textposition\": \"auto\", \"type\": \"bar\", \"x\": [\"deceased_date\", \"symptom_onset_date\", \"contact_number\", \"infected_by\", \"released_date\", \"sex\", \"infection_case\", \"city\", \"date\"], \"xaxis\": \"x\", \"y\": [98.72216844143273, 86.64085188770572, 84.68538238141335, 73.93998063891578, 69.27395934172313, 21.723136495643754, 17.792836398838336, 1.8199419167473376, 0.058083252662149074], \"yaxis\": \"y\"}],\n",
              "                        {\"barmode\": \"relative\", \"height\": 500, \"legend\": {\"tracegroupgap\": 0}, \"margin\": {\"t\": 60}, \"template\": {\"data\": {\"bar\": [{\"error_x\": {\"color\": \"#2a3f5f\"}, \"error_y\": {\"color\": \"#2a3f5f\"}, \"marker\": {\"line\": {\"color\": \"#E5ECF6\", \"width\": 0.5}}, \"type\": \"bar\"}], \"barpolar\": [{\"marker\": {\"line\": {\"color\": \"#E5ECF6\", \"width\": 0.5}}, \"type\": \"barpolar\"}], \"carpet\": [{\"aaxis\": {\"endlinecolor\": \"#2a3f5f\", \"gridcolor\": \"white\", \"linecolor\": \"white\", \"minorgridcolor\": \"white\", \"startlinecolor\": \"#2a3f5f\"}, \"baxis\": {\"endlinecolor\": \"#2a3f5f\", \"gridcolor\": \"white\", \"linecolor\": \"white\", \"minorgridcolor\": \"white\", \"startlinecolor\": \"#2a3f5f\"}, \"type\": \"carpet\"}], \"choropleth\": [{\"colorbar\": {\"outlinewidth\": 0, \"ticks\": \"\"}, \"type\": \"choropleth\"}], \"contour\": [{\"colorbar\": {\"outlinewidth\": 0, \"ticks\": \"\"}, \"colorscale\": [[0.0, \"#0d0887\"], [0.1111111111111111, \"#46039f\"], [0.2222222222222222, \"#7201a8\"], [0.3333333333333333, \"#9c179e\"], [0.4444444444444444, \"#bd3786\"], [0.5555555555555556, \"#d8576b\"], [0.6666666666666666, \"#ed7953\"], [0.7777777777777778, \"#fb9f3a\"], [0.8888888888888888, \"#fdca26\"], [1.0, \"#f0f921\"]], \"type\": \"contour\"}], \"contourcarpet\": [{\"colorbar\": {\"outlinewidth\": 0, \"ticks\": \"\"}, \"type\": \"contourcarpet\"}], \"heatmap\": [{\"colorbar\": {\"outlinewidth\": 0, \"ticks\": \"\"}, \"colorscale\": [[0.0, \"#0d0887\"], [0.1111111111111111, \"#46039f\"], [0.2222222222222222, \"#7201a8\"], [0.3333333333333333, \"#9c179e\"], [0.4444444444444444, \"#bd3786\"], [0.5555555555555556, \"#d8576b\"], [0.6666666666666666, \"#ed7953\"], [0.7777777777777778, \"#fb9f3a\"], [0.8888888888888888, \"#fdca26\"], [1.0, \"#f0f921\"]], \"type\": \"heatmap\"}], \"heatmapgl\": [{\"colorbar\": {\"outlinewidth\": 0, \"ticks\": \"\"}, \"colorscale\": [[0.0, \"#0d0887\"], [0.1111111111111111, \"#46039f\"], [0.2222222222222222, \"#7201a8\"], [0.3333333333333333, \"#9c179e\"], [0.4444444444444444, \"#bd3786\"], [0.5555555555555556, \"#d8576b\"], [0.6666666666666666, \"#ed7953\"], [0.7777777777777778, \"#fb9f3a\"], [0.8888888888888888, \"#fdca26\"], [1.0, \"#f0f921\"]], \"type\": \"heatmapgl\"}], \"histogram\": [{\"marker\": {\"colorbar\": {\"outlinewidth\": 0, \"ticks\": \"\"}}, \"type\": \"histogram\"}], \"histogram2d\": [{\"colorbar\": {\"outlinewidth\": 0, \"ticks\": \"\"}, \"colorscale\": [[0.0, \"#0d0887\"], [0.1111111111111111, \"#46039f\"], [0.2222222222222222, \"#7201a8\"], [0.3333333333333333, \"#9c179e\"], [0.4444444444444444, \"#bd3786\"], [0.5555555555555556, \"#d8576b\"], [0.6666666666666666, \"#ed7953\"], [0.7777777777777778, \"#fb9f3a\"], [0.8888888888888888, \"#fdca26\"], [1.0, \"#f0f921\"]], \"type\": \"histogram2d\"}], \"histogram2dcontour\": [{\"colorbar\": {\"outlinewidth\": 0, \"ticks\": \"\"}, \"colorscale\": [[0.0, \"#0d0887\"], [0.1111111111111111, \"#46039f\"], [0.2222222222222222, \"#7201a8\"], [0.3333333333333333, \"#9c179e\"], [0.4444444444444444, \"#bd3786\"], [0.5555555555555556, \"#d8576b\"], [0.6666666666666666, \"#ed7953\"], [0.7777777777777778, \"#fb9f3a\"], [0.8888888888888888, \"#fdca26\"], [1.0, \"#f0f921\"]], \"type\": \"histogram2dcontour\"}], \"mesh3d\": [{\"colorbar\": {\"outlinewidth\": 0, \"ticks\": \"\"}, \"type\": \"mesh3d\"}], \"parcoords\": [{\"line\": {\"colorbar\": {\"outlinewidth\": 0, \"ticks\": \"\"}}, \"type\": \"parcoords\"}], \"pie\": [{\"automargin\": true, \"type\": \"pie\"}], \"scatter\": [{\"marker\": {\"colorbar\": {\"outlinewidth\": 0, \"ticks\": \"\"}}, \"type\": \"scatter\"}], \"scatter3d\": [{\"line\": {\"colorbar\": {\"outlinewidth\": 0, \"ticks\": \"\"}}, \"marker\": {\"colorbar\": {\"outlinewidth\": 0, \"ticks\": \"\"}}, \"type\": \"scatter3d\"}], \"scattercarpet\": [{\"marker\": {\"colorbar\": {\"outlinewidth\": 0, \"ticks\": \"\"}}, \"type\": \"scattercarpet\"}], \"scattergeo\": [{\"marker\": {\"colorbar\": {\"outlinewidth\": 0, \"ticks\": \"\"}}, \"type\": \"scattergeo\"}], \"scattergl\": [{\"marker\": {\"colorbar\": {\"outlinewidth\": 0, \"ticks\": \"\"}}, \"type\": \"scattergl\"}], \"scattermapbox\": [{\"marker\": {\"colorbar\": {\"outlinewidth\": 0, \"ticks\": \"\"}}, \"type\": \"scattermapbox\"}], \"scatterpolar\": [{\"marker\": {\"colorbar\": {\"outlinewidth\": 0, \"ticks\": \"\"}}, \"type\": \"scatterpolar\"}], \"scatterpolargl\": [{\"marker\": {\"colorbar\": {\"outlinewidth\": 0, \"ticks\": \"\"}}, \"type\": \"scatterpolargl\"}], \"scatterternary\": [{\"marker\": {\"colorbar\": {\"outlinewidth\": 0, \"ticks\": \"\"}}, \"type\": \"scatterternary\"}], \"surface\": [{\"colorbar\": {\"outlinewidth\": 0, \"ticks\": \"\"}, \"colorscale\": [[0.0, \"#0d0887\"], [0.1111111111111111, \"#46039f\"], [0.2222222222222222, \"#7201a8\"], [0.3333333333333333, \"#9c179e\"], [0.4444444444444444, \"#bd3786\"], [0.5555555555555556, \"#d8576b\"], [0.6666666666666666, \"#ed7953\"], [0.7777777777777778, \"#fb9f3a\"], [0.8888888888888888, \"#fdca26\"], [1.0, \"#f0f921\"]], \"type\": \"surface\"}], \"table\": [{\"cells\": {\"fill\": {\"color\": \"#EBF0F8\"}, \"line\": {\"color\": \"white\"}}, \"header\": {\"fill\": {\"color\": \"#C8D4E3\"}, \"line\": {\"color\": \"white\"}}, \"type\": \"table\"}]}, \"layout\": {\"annotationdefaults\": {\"arrowcolor\": \"#2a3f5f\", \"arrowhead\": 0, \"arrowwidth\": 1}, \"coloraxis\": {\"colorbar\": {\"outlinewidth\": 0, \"ticks\": \"\"}}, \"colorscale\": {\"diverging\": [[0, \"#8e0152\"], [0.1, \"#c51b7d\"], [0.2, \"#de77ae\"], [0.3, \"#f1b6da\"], [0.4, \"#fde0ef\"], [0.5, \"#f7f7f7\"], [0.6, \"#e6f5d0\"], [0.7, \"#b8e186\"], [0.8, \"#7fbc41\"], [0.9, \"#4d9221\"], [1, \"#276419\"]], \"sequential\": [[0.0, \"#0d0887\"], [0.1111111111111111, \"#46039f\"], [0.2222222222222222, \"#7201a8\"], [0.3333333333333333, \"#9c179e\"], [0.4444444444444444, \"#bd3786\"], [0.5555555555555556, \"#d8576b\"], [0.6666666666666666, \"#ed7953\"], [0.7777777777777778, \"#fb9f3a\"], [0.8888888888888888, \"#fdca26\"], [1.0, \"#f0f921\"]], \"sequentialminus\": [[0.0, \"#0d0887\"], [0.1111111111111111, \"#46039f\"], [0.2222222222222222, \"#7201a8\"], [0.3333333333333333, \"#9c179e\"], [0.4444444444444444, \"#bd3786\"], [0.5555555555555556, \"#d8576b\"], [0.6666666666666666, \"#ed7953\"], [0.7777777777777778, \"#fb9f3a\"], [0.8888888888888888, \"#fdca26\"], [1.0, \"#f0f921\"]]}, \"colorway\": [\"#636efa\", \"#EF553B\", \"#00cc96\", \"#ab63fa\", \"#FFA15A\", \"#19d3f3\", \"#FF6692\", \"#B6E880\", \"#FF97FF\", \"#FECB52\"], \"font\": {\"color\": \"#2a3f5f\"}, \"geo\": {\"bgcolor\": \"white\", \"lakecolor\": \"white\", \"landcolor\": \"#E5ECF6\", \"showlakes\": true, \"showland\": true, \"subunitcolor\": \"white\"}, \"hoverlabel\": {\"align\": \"left\"}, \"hovermode\": \"closest\", \"mapbox\": {\"style\": \"light\"}, \"paper_bgcolor\": \"white\", \"plot_bgcolor\": \"#E5ECF6\", \"polar\": {\"angularaxis\": {\"gridcolor\": \"white\", \"linecolor\": \"white\", \"ticks\": \"\"}, \"bgcolor\": \"#E5ECF6\", \"radialaxis\": {\"gridcolor\": \"white\", \"linecolor\": \"white\", \"ticks\": \"\"}}, \"scene\": {\"xaxis\": {\"backgroundcolor\": \"#E5ECF6\", \"gridcolor\": \"white\", \"gridwidth\": 2, \"linecolor\": \"white\", \"showbackground\": true, \"ticks\": \"\", \"zerolinecolor\": \"white\"}, \"yaxis\": {\"backgroundcolor\": \"#E5ECF6\", \"gridcolor\": \"white\", \"gridwidth\": 2, \"linecolor\": \"white\", \"showbackground\": true, \"ticks\": \"\", \"zerolinecolor\": \"white\"}, \"zaxis\": {\"backgroundcolor\": \"#E5ECF6\", \"gridcolor\": \"white\", \"gridwidth\": 2, \"linecolor\": \"white\", \"showbackground\": true, \"ticks\": \"\", \"zerolinecolor\": \"white\"}}, \"shapedefaults\": {\"line\": {\"color\": \"#2a3f5f\"}}, \"ternary\": {\"aaxis\": {\"gridcolor\": \"white\", \"linecolor\": \"white\", \"ticks\": \"\"}, \"baxis\": {\"gridcolor\": \"white\", \"linecolor\": \"white\", \"ticks\": \"\"}, \"bgcolor\": \"#E5ECF6\", \"caxis\": {\"gridcolor\": \"white\", \"linecolor\": \"white\", \"ticks\": \"\"}}, \"title\": {\"x\": 0.05}, \"xaxis\": {\"automargin\": true, \"gridcolor\": \"white\", \"linecolor\": \"white\", \"ticks\": \"\", \"title\": {\"standoff\": 15}, \"zerolinecolor\": \"white\", \"zerolinewidth\": 2}, \"yaxis\": {\"automargin\": true, \"gridcolor\": \"white\", \"linecolor\": \"white\", \"ticks\": \"\", \"title\": {\"standoff\": 15}, \"zerolinecolor\": \"white\", \"zerolinewidth\": 2}}}, \"xaxis\": {\"anchor\": \"y\", \"domain\": [0.0, 1.0], \"title\": {\"text\": \"index\"}}, \"yaxis\": {\"anchor\": \"x\", \"domain\": [0.0, 1.0], \"title\": {\"text\": \"percentage\"}}},\n",
              "                        {\"responsive\": true}\n",
              "                    ).then(function(){\n",
              "                            \n",
              "var gd = document.getElementById('8ad27f50-43bf-4535-8e4f-26d37bd6701a');\n",
              "var x = new MutationObserver(function (mutations, observer) {{\n",
              "        var display = window.getComputedStyle(gd).display;\n",
              "        if (!display || display === 'none') {{\n",
              "            console.log([gd, 'removed!']);\n",
              "            Plotly.purge(gd);\n",
              "            observer.disconnect();\n",
              "        }}\n",
              "}});\n",
              "\n",
              "// Listen for the removal of the full notebook cells\n",
              "var notebookContainer = gd.closest('#notebook-container');\n",
              "if (notebookContainer) {{\n",
              "    x.observe(notebookContainer, {childList: true});\n",
              "}}\n",
              "\n",
              "// Listen for the clearing of the current output cell\n",
              "var outputEl = gd.closest('.output');\n",
              "if (outputEl) {{\n",
              "    x.observe(outputEl, {childList: true});\n",
              "}}\n",
              "\n",
              "                        })\n",
              "                };\n",
              "                \n",
              "            </script>\n",
              "        </div>\n",
              "</body>\n",
              "</html>"
            ]
          },
          "metadata": {
            "tags": []
          }
        }
      ]
    },
    {
      "cell_type": "code",
      "metadata": {
        "colab": {
          "base_uri": "https://localhost:8080/",
          "height": 408
        },
        "id": "Hg648AZ9dKYh",
        "outputId": "2286ef33-5294-46c6-8c6a-1498cc54622d"
      },
      "source": [
        "patien_info.drop(['deceased_date','released_date'], inplace=True, axis=1)\n",
        "patien_info"
      ],
      "execution_count": 8,
      "outputs": [
        {
          "output_type": "execute_result",
          "data": {
            "text/html": [
              "<div>\n",
              "<style scoped>\n",
              "    .dataframe tbody tr th:only-of-type {\n",
              "        vertical-align: middle;\n",
              "    }\n",
              "\n",
              "    .dataframe tbody tr th {\n",
              "        vertical-align: top;\n",
              "    }\n",
              "\n",
              "    .dataframe thead th {\n",
              "        text-align: right;\n",
              "    }\n",
              "</style>\n",
              "<table border=\"1\" class=\"dataframe\">\n",
              "  <thead>\n",
              "    <tr style=\"text-align: right;\">\n",
              "      <th></th>\n",
              "      <th>patient_id</th>\n",
              "      <th>sex</th>\n",
              "      <th>age</th>\n",
              "      <th>province</th>\n",
              "      <th>city</th>\n",
              "      <th>infection_case</th>\n",
              "      <th>infected_by</th>\n",
              "      <th>contact_number</th>\n",
              "      <th>symptom_onset_date</th>\n",
              "      <th>date</th>\n",
              "      <th>state</th>\n",
              "    </tr>\n",
              "  </thead>\n",
              "  <tbody>\n",
              "    <tr>\n",
              "      <th>0</th>\n",
              "      <td>1000000001</td>\n",
              "      <td>male</td>\n",
              "      <td>50</td>\n",
              "      <td>Seoul</td>\n",
              "      <td>Gangseo-gu</td>\n",
              "      <td>overseas inflow</td>\n",
              "      <td>NaN</td>\n",
              "      <td>75</td>\n",
              "      <td>1/22/2020</td>\n",
              "      <td>1/23/2020</td>\n",
              "      <td>released</td>\n",
              "    </tr>\n",
              "    <tr>\n",
              "      <th>1</th>\n",
              "      <td>1000000002</td>\n",
              "      <td>male</td>\n",
              "      <td>30</td>\n",
              "      <td>Seoul</td>\n",
              "      <td>Jungnang-gu</td>\n",
              "      <td>overseas inflow</td>\n",
              "      <td>NaN</td>\n",
              "      <td>31</td>\n",
              "      <td>NaN</td>\n",
              "      <td>1/30/2020</td>\n",
              "      <td>released</td>\n",
              "    </tr>\n",
              "    <tr>\n",
              "      <th>2</th>\n",
              "      <td>1000000003</td>\n",
              "      <td>male</td>\n",
              "      <td>50</td>\n",
              "      <td>Seoul</td>\n",
              "      <td>Jongno-gu</td>\n",
              "      <td>contact with patient</td>\n",
              "      <td>2002000001</td>\n",
              "      <td>17</td>\n",
              "      <td>NaN</td>\n",
              "      <td>1/30/2020</td>\n",
              "      <td>released</td>\n",
              "    </tr>\n",
              "    <tr>\n",
              "      <th>3</th>\n",
              "      <td>1000000004</td>\n",
              "      <td>male</td>\n",
              "      <td>20</td>\n",
              "      <td>Seoul</td>\n",
              "      <td>Mapo-gu</td>\n",
              "      <td>overseas inflow</td>\n",
              "      <td>NaN</td>\n",
              "      <td>9</td>\n",
              "      <td>1/26/2020</td>\n",
              "      <td>1/30/2020</td>\n",
              "      <td>released</td>\n",
              "    </tr>\n",
              "    <tr>\n",
              "      <th>4</th>\n",
              "      <td>1000000005</td>\n",
              "      <td>female</td>\n",
              "      <td>20</td>\n",
              "      <td>Seoul</td>\n",
              "      <td>Seongbuk-gu</td>\n",
              "      <td>contact with patient</td>\n",
              "      <td>1000000002</td>\n",
              "      <td>2</td>\n",
              "      <td>NaN</td>\n",
              "      <td>1/31/2020</td>\n",
              "      <td>released</td>\n",
              "    </tr>\n",
              "    <tr>\n",
              "      <th>...</th>\n",
              "      <td>...</td>\n",
              "      <td>...</td>\n",
              "      <td>...</td>\n",
              "      <td>...</td>\n",
              "      <td>...</td>\n",
              "      <td>...</td>\n",
              "      <td>...</td>\n",
              "      <td>...</td>\n",
              "      <td>...</td>\n",
              "      <td>...</td>\n",
              "      <td>...</td>\n",
              "    </tr>\n",
              "    <tr>\n",
              "      <th>5160</th>\n",
              "      <td>7000000015</td>\n",
              "      <td>female</td>\n",
              "      <td>30</td>\n",
              "      <td>Jeju-do</td>\n",
              "      <td>Jeju-do</td>\n",
              "      <td>overseas inflow</td>\n",
              "      <td>NaN</td>\n",
              "      <td>25</td>\n",
              "      <td>NaN</td>\n",
              "      <td>5/30/2020</td>\n",
              "      <td>released</td>\n",
              "    </tr>\n",
              "    <tr>\n",
              "      <th>5161</th>\n",
              "      <td>7000000016</td>\n",
              "      <td>NaN</td>\n",
              "      <td>0</td>\n",
              "      <td>Jeju-do</td>\n",
              "      <td>Jeju-do</td>\n",
              "      <td>overseas inflow</td>\n",
              "      <td>NaN</td>\n",
              "      <td>NaN</td>\n",
              "      <td>NaN</td>\n",
              "      <td>6/16/2020</td>\n",
              "      <td>released</td>\n",
              "    </tr>\n",
              "    <tr>\n",
              "      <th>5162</th>\n",
              "      <td>7000000017</td>\n",
              "      <td>NaN</td>\n",
              "      <td>0</td>\n",
              "      <td>Jeju-do</td>\n",
              "      <td>Jeju-do</td>\n",
              "      <td>overseas inflow</td>\n",
              "      <td>NaN</td>\n",
              "      <td>72</td>\n",
              "      <td>NaN</td>\n",
              "      <td>6/18/2020</td>\n",
              "      <td>isolated</td>\n",
              "    </tr>\n",
              "    <tr>\n",
              "      <th>5163</th>\n",
              "      <td>7000000018</td>\n",
              "      <td>NaN</td>\n",
              "      <td>0</td>\n",
              "      <td>Jeju-do</td>\n",
              "      <td>Jeju-do</td>\n",
              "      <td>overseas inflow</td>\n",
              "      <td>NaN</td>\n",
              "      <td>NaN</td>\n",
              "      <td>NaN</td>\n",
              "      <td>6/18/2020</td>\n",
              "      <td>isolated</td>\n",
              "    </tr>\n",
              "    <tr>\n",
              "      <th>5164</th>\n",
              "      <td>7000000019</td>\n",
              "      <td>NaN</td>\n",
              "      <td>0</td>\n",
              "      <td>Jeju-do</td>\n",
              "      <td>Jeju-do</td>\n",
              "      <td>overseas inflow</td>\n",
              "      <td>NaN</td>\n",
              "      <td>NaN</td>\n",
              "      <td>NaN</td>\n",
              "      <td>6/18/2020</td>\n",
              "      <td>isolated</td>\n",
              "    </tr>\n",
              "  </tbody>\n",
              "</table>\n",
              "<p>5165 rows × 11 columns</p>\n",
              "</div>"
            ],
            "text/plain": [
              "      patient_id     sex  age  ... symptom_onset_date       date     state\n",
              "0     1000000001    male   50  ...          1/22/2020  1/23/2020  released\n",
              "1     1000000002    male   30  ...                NaN  1/30/2020  released\n",
              "2     1000000003    male   50  ...                NaN  1/30/2020  released\n",
              "3     1000000004    male   20  ...          1/26/2020  1/30/2020  released\n",
              "4     1000000005  female   20  ...                NaN  1/31/2020  released\n",
              "...          ...     ...  ...  ...                ...        ...       ...\n",
              "5160  7000000015  female   30  ...                NaN  5/30/2020  released\n",
              "5161  7000000016     NaN    0  ...                NaN  6/16/2020  released\n",
              "5162  7000000017     NaN    0  ...                NaN  6/18/2020  isolated\n",
              "5163  7000000018     NaN    0  ...                NaN  6/18/2020  isolated\n",
              "5164  7000000019     NaN    0  ...                NaN  6/18/2020  isolated\n",
              "\n",
              "[5165 rows x 11 columns]"
            ]
          },
          "metadata": {
            "tags": []
          },
          "execution_count": 8
        }
      ]
    },
    {
      "cell_type": "markdown",
      "metadata": {
        "id": "dTi6dD948qVM"
      },
      "source": [
        "## Distribusi Label"
      ]
    },
    {
      "cell_type": "code",
      "metadata": {
        "colab": {
          "base_uri": "https://localhost:8080/",
          "height": 0
        },
        "id": "DUcViWNK_076",
        "outputId": "4acb5e84-52ed-4cc2-e2a5-28c4ee568ad8"
      },
      "source": [
        "sns.countplot(x='state', data=patien_info);pyplot.show()"
      ],
      "execution_count": 9,
      "outputs": [
        {
          "output_type": "display_data",
          "data": {
            "image/png": "[encoded data removed]",
            "text/plain": [
              "<Figure size 640x480 with 1 Axes>"
            ]
          },
          "metadata": {
            "tags": []
          }
        }
      ]
    },
    {
      "cell_type": "markdown",
      "metadata": {
        "id": "n8hSZMM5Dj9b"
      },
      "source": [
        "## REPLACE MISSING VALUE"
      ]
    },
    {
      "cell_type": "code",
      "metadata": {
        "colab": {
          "base_uri": "https://localhost:8080/",
          "height": 290
        },
        "id": "93FiXICCDyTI",
        "outputId": "4f648ed5-4897-44b7-902d-6dcf08945e28"
      },
      "source": [
        "patien_info.describe()"
      ],
      "execution_count": 10,
      "outputs": [
        {
          "output_type": "execute_result",
          "data": {
            "text/html": [
              "<div>\n",
              "<style scoped>\n",
              "    .dataframe tbody tr th:only-of-type {\n",
              "        vertical-align: middle;\n",
              "    }\n",
              "\n",
              "    .dataframe tbody tr th {\n",
              "        vertical-align: top;\n",
              "    }\n",
              "\n",
              "    .dataframe thead th {\n",
              "        text-align: right;\n",
              "    }\n",
              "</style>\n",
              "<table border=\"1\" class=\"dataframe\">\n",
              "  <thead>\n",
              "    <tr style=\"text-align: right;\">\n",
              "      <th></th>\n",
              "      <th>patient_id</th>\n",
              "      <th>age</th>\n",
              "    </tr>\n",
              "  </thead>\n",
              "  <tbody>\n",
              "    <tr>\n",
              "      <th>count</th>\n",
              "      <td>5.165000e+03</td>\n",
              "      <td>5165.000000</td>\n",
              "    </tr>\n",
              "    <tr>\n",
              "      <th>mean</th>\n",
              "      <td>2.863635e+09</td>\n",
              "      <td>29.581801</td>\n",
              "    </tr>\n",
              "    <tr>\n",
              "      <th>std</th>\n",
              "      <td>2.074211e+09</td>\n",
              "      <td>24.860169</td>\n",
              "    </tr>\n",
              "    <tr>\n",
              "      <th>min</th>\n",
              "      <td>1.000000e+09</td>\n",
              "      <td>0.000000</td>\n",
              "    </tr>\n",
              "    <tr>\n",
              "      <th>25%</th>\n",
              "      <td>1.000001e+09</td>\n",
              "      <td>0.000000</td>\n",
              "    </tr>\n",
              "    <tr>\n",
              "      <th>50%</th>\n",
              "      <td>2.000000e+09</td>\n",
              "      <td>30.000000</td>\n",
              "    </tr>\n",
              "    <tr>\n",
              "      <th>75%</th>\n",
              "      <td>6.001000e+09</td>\n",
              "      <td>50.000000</td>\n",
              "    </tr>\n",
              "    <tr>\n",
              "      <th>max</th>\n",
              "      <td>7.000000e+09</td>\n",
              "      <td>100.000000</td>\n",
              "    </tr>\n",
              "  </tbody>\n",
              "</table>\n",
              "</div>"
            ],
            "text/plain": [
              "         patient_id          age\n",
              "count  5.165000e+03  5165.000000\n",
              "mean   2.863635e+09    29.581801\n",
              "std    2.074211e+09    24.860169\n",
              "min    1.000000e+09     0.000000\n",
              "25%    1.000001e+09     0.000000\n",
              "50%    2.000000e+09    30.000000\n",
              "75%    6.001000e+09    50.000000\n",
              "max    7.000000e+09   100.000000"
            ]
          },
          "metadata": {
            "tags": []
          },
          "execution_count": 10
        }
      ]
    },
    {
      "cell_type": "code",
      "metadata": {
        "colab": {
          "base_uri": "https://localhost:8080/"
        },
        "id": "bktC0rmnoRVU",
        "outputId": "1807c228-6476-4df7-e956-e18c796a397a"
      },
      "source": [
        "patien_info.min()"
      ],
      "execution_count": 11,
      "outputs": [
        {
          "output_type": "execute_result",
          "data": {
            "text/plain": [
              "patient_id    1000000001\n",
              "age                    0\n",
              "province           Busan\n",
              "state           deceased\n",
              "dtype: object"
            ]
          },
          "metadata": {
            "tags": []
          },
          "execution_count": 11
        }
      ]
    },
    {
      "cell_type": "code",
      "metadata": {
        "id": "0otS2-aN51kD"
      },
      "source": [
        "patien_info['symptom_onset_date'] = patien_info['symptom_onset_date'].replace(np.nan, '1/1/2020')"
      ],
      "execution_count": 12,
      "outputs": []
    },
    {
      "cell_type": "code",
      "metadata": {
        "colab": {
          "base_uri": "https://localhost:8080/",
          "height": 408
        },
        "id": "u3KWskbE6hXv",
        "outputId": "b5358aa1-b6bd-4f4e-d248-0bd541b73c62"
      },
      "source": [
        "patien_info"
      ],
      "execution_count": 13,
      "outputs": [
        {
          "output_type": "execute_result",
          "data": {
            "text/html": [
              "<div>\n",
              "<style scoped>\n",
              "    .dataframe tbody tr th:only-of-type {\n",
              "        vertical-align: middle;\n",
              "    }\n",
              "\n",
              "    .dataframe tbody tr th {\n",
              "        vertical-align: top;\n",
              "    }\n",
              "\n",
              "    .dataframe thead th {\n",
              "        text-align: right;\n",
              "    }\n",
              "</style>\n",
              "<table border=\"1\" class=\"dataframe\">\n",
              "  <thead>\n",
              "    <tr style=\"text-align: right;\">\n",
              "      <th></th>\n",
              "      <th>patient_id</th>\n",
              "      <th>sex</th>\n",
              "      <th>age</th>\n",
              "      <th>province</th>\n",
              "      <th>city</th>\n",
              "      <th>infection_case</th>\n",
              "      <th>infected_by</th>\n",
              "      <th>contact_number</th>\n",
              "      <th>symptom_onset_date</th>\n",
              "      <th>date</th>\n",
              "      <th>state</th>\n",
              "    </tr>\n",
              "  </thead>\n",
              "  <tbody>\n",
              "    <tr>\n",
              "      <th>0</th>\n",
              "      <td>1000000001</td>\n",
              "      <td>male</td>\n",
              "      <td>50</td>\n",
              "      <td>Seoul</td>\n",
              "      <td>Gangseo-gu</td>\n",
              "      <td>overseas inflow</td>\n",
              "      <td>NaN</td>\n",
              "      <td>75</td>\n",
              "      <td>1/22/2020</td>\n",
              "      <td>1/23/2020</td>\n",
              "      <td>released</td>\n",
              "    </tr>\n",
              "    <tr>\n",
              "      <th>1</th>\n",
              "      <td>1000000002</td>\n",
              "      <td>male</td>\n",
              "      <td>30</td>\n",
              "      <td>Seoul</td>\n",
              "      <td>Jungnang-gu</td>\n",
              "      <td>overseas inflow</td>\n",
              "      <td>NaN</td>\n",
              "      <td>31</td>\n",
              "      <td>1/1/2020</td>\n",
              "      <td>1/30/2020</td>\n",
              "      <td>released</td>\n",
              "    </tr>\n",
              "    <tr>\n",
              "      <th>2</th>\n",
              "      <td>1000000003</td>\n",
              "      <td>male</td>\n",
              "      <td>50</td>\n",
              "      <td>Seoul</td>\n",
              "      <td>Jongno-gu</td>\n",
              "      <td>contact with patient</td>\n",
              "      <td>2002000001</td>\n",
              "      <td>17</td>\n",
              "      <td>1/1/2020</td>\n",
              "      <td>1/30/2020</td>\n",
              "      <td>released</td>\n",
              "    </tr>\n",
              "    <tr>\n",
              "      <th>3</th>\n",
              "      <td>1000000004</td>\n",
              "      <td>male</td>\n",
              "      <td>20</td>\n",
              "      <td>Seoul</td>\n",
              "      <td>Mapo-gu</td>\n",
              "      <td>overseas inflow</td>\n",
              "      <td>NaN</td>\n",
              "      <td>9</td>\n",
              "      <td>1/26/2020</td>\n",
              "      <td>1/30/2020</td>\n",
              "      <td>released</td>\n",
              "    </tr>\n",
              "    <tr>\n",
              "      <th>4</th>\n",
              "      <td>1000000005</td>\n",
              "      <td>female</td>\n",
              "      <td>20</td>\n",
              "      <td>Seoul</td>\n",
              "      <td>Seongbuk-gu</td>\n",
              "      <td>contact with patient</td>\n",
              "      <td>1000000002</td>\n",
              "      <td>2</td>\n",
              "      <td>1/1/2020</td>\n",
              "      <td>1/31/2020</td>\n",
              "      <td>released</td>\n",
              "    </tr>\n",
              "    <tr>\n",
              "      <th>...</th>\n",
              "      <td>...</td>\n",
              "      <td>...</td>\n",
              "      <td>...</td>\n",
              "      <td>...</td>\n",
              "      <td>...</td>\n",
              "      <td>...</td>\n",
              "      <td>...</td>\n",
              "      <td>...</td>\n",
              "      <td>...</td>\n",
              "      <td>...</td>\n",
              "      <td>...</td>\n",
              "    </tr>\n",
              "    <tr>\n",
              "      <th>5160</th>\n",
              "      <td>7000000015</td>\n",
              "      <td>female</td>\n",
              "      <td>30</td>\n",
              "      <td>Jeju-do</td>\n",
              "      <td>Jeju-do</td>\n",
              "      <td>overseas inflow</td>\n",
              "      <td>NaN</td>\n",
              "      <td>25</td>\n",
              "      <td>1/1/2020</td>\n",
              "      <td>5/30/2020</td>\n",
              "      <td>released</td>\n",
              "    </tr>\n",
              "    <tr>\n",
              "      <th>5161</th>\n",
              "      <td>7000000016</td>\n",
              "      <td>NaN</td>\n",
              "      <td>0</td>\n",
              "      <td>Jeju-do</td>\n",
              "      <td>Jeju-do</td>\n",
              "      <td>overseas inflow</td>\n",
              "      <td>NaN</td>\n",
              "      <td>NaN</td>\n",
              "      <td>1/1/2020</td>\n",
              "      <td>6/16/2020</td>\n",
              "      <td>released</td>\n",
              "    </tr>\n",
              "    <tr>\n",
              "      <th>5162</th>\n",
              "      <td>7000000017</td>\n",
              "      <td>NaN</td>\n",
              "      <td>0</td>\n",
              "      <td>Jeju-do</td>\n",
              "      <td>Jeju-do</td>\n",
              "      <td>overseas inflow</td>\n",
              "      <td>NaN</td>\n",
              "      <td>72</td>\n",
              "      <td>1/1/2020</td>\n",
              "      <td>6/18/2020</td>\n",
              "      <td>isolated</td>\n",
              "    </tr>\n",
              "    <tr>\n",
              "      <th>5163</th>\n",
              "      <td>7000000018</td>\n",
              "      <td>NaN</td>\n",
              "      <td>0</td>\n",
              "      <td>Jeju-do</td>\n",
              "      <td>Jeju-do</td>\n",
              "      <td>overseas inflow</td>\n",
              "      <td>NaN</td>\n",
              "      <td>NaN</td>\n",
              "      <td>1/1/2020</td>\n",
              "      <td>6/18/2020</td>\n",
              "      <td>isolated</td>\n",
              "    </tr>\n",
              "    <tr>\n",
              "      <th>5164</th>\n",
              "      <td>7000000019</td>\n",
              "      <td>NaN</td>\n",
              "      <td>0</td>\n",
              "      <td>Jeju-do</td>\n",
              "      <td>Jeju-do</td>\n",
              "      <td>overseas inflow</td>\n",
              "      <td>NaN</td>\n",
              "      <td>NaN</td>\n",
              "      <td>1/1/2020</td>\n",
              "      <td>6/18/2020</td>\n",
              "      <td>isolated</td>\n",
              "    </tr>\n",
              "  </tbody>\n",
              "</table>\n",
              "<p>5165 rows × 11 columns</p>\n",
              "</div>"
            ],
            "text/plain": [
              "      patient_id     sex  age  ... symptom_onset_date       date     state\n",
              "0     1000000001    male   50  ...          1/22/2020  1/23/2020  released\n",
              "1     1000000002    male   30  ...           1/1/2020  1/30/2020  released\n",
              "2     1000000003    male   50  ...           1/1/2020  1/30/2020  released\n",
              "3     1000000004    male   20  ...          1/26/2020  1/30/2020  released\n",
              "4     1000000005  female   20  ...           1/1/2020  1/31/2020  released\n",
              "...          ...     ...  ...  ...                ...        ...       ...\n",
              "5160  7000000015  female   30  ...           1/1/2020  5/30/2020  released\n",
              "5161  7000000016     NaN    0  ...           1/1/2020  6/16/2020  released\n",
              "5162  7000000017     NaN    0  ...           1/1/2020  6/18/2020  isolated\n",
              "5163  7000000018     NaN    0  ...           1/1/2020  6/18/2020  isolated\n",
              "5164  7000000019     NaN    0  ...           1/1/2020  6/18/2020  isolated\n",
              "\n",
              "[5165 rows x 11 columns]"
            ]
          },
          "metadata": {
            "tags": []
          },
          "execution_count": 13
        }
      ]
    },
    {
      "cell_type": "code",
      "metadata": {
        "colab": {
          "base_uri": "https://localhost:8080/",
          "height": 408
        },
        "id": "ZirRKQu1gmXM",
        "outputId": "3c6fbab0-4391-422c-e76e-2c3dc8bd77b7"
      },
      "source": [
        "patien_info['sex'].replace({'male' : 0}, inplace=True)\n",
        "patien_info['sex'].replace({'female' : 1}, inplace=True)\n",
        "patien_info['sex'] = patien_info['sex'].replace(np.nan, -1)\n",
        "patien_info['infection_case'] = patien_info['infection_case'].replace(np.nan, 2)\n",
        "patien_info['infected_by'] = patien_info['infected_by'].replace(np.nan, -1)\n",
        "patien_info['contact_number'] = patien_info['contact_number'].replace(np.nan, -1)\n",
        "patien_info['symptom_onset_date'] = pd.to_datetime(patien_info.date, format='%m/%d/%Y')\n",
        "patien_info['date'] = pd.to_datetime(patien_info.date, format='%m/%d/%Y')\n",
        "for col_name in patien_info.columns:\n",
        "    if(patien_info[col_name].dtype == 'object'):\n",
        "        patien_info[col_name]= patien_info[col_name].astype('category')\n",
        "        patien_info[col_name] = patien_info[col_name].cat.codes\n",
        "patien_info"
      ],
      "execution_count": 14,
      "outputs": [
        {
          "output_type": "execute_result",
          "data": {
            "text/html": [
              "<div>\n",
              "<style scoped>\n",
              "    .dataframe tbody tr th:only-of-type {\n",
              "        vertical-align: middle;\n",
              "    }\n",
              "\n",
              "    .dataframe tbody tr th {\n",
              "        vertical-align: top;\n",
              "    }\n",
              "\n",
              "    .dataframe thead th {\n",
              "        text-align: right;\n",
              "    }\n",
              "</style>\n",
              "<table border=\"1\" class=\"dataframe\">\n",
              "  <thead>\n",
              "    <tr style=\"text-align: right;\">\n",
              "      <th></th>\n",
              "      <th>patient_id</th>\n",
              "      <th>sex</th>\n",
              "      <th>age</th>\n",
              "      <th>province</th>\n",
              "      <th>city</th>\n",
              "      <th>infection_case</th>\n",
              "      <th>infected_by</th>\n",
              "      <th>contact_number</th>\n",
              "      <th>symptom_onset_date</th>\n",
              "      <th>date</th>\n",
              "      <th>state</th>\n",
              "    </tr>\n",
              "  </thead>\n",
              "  <tbody>\n",
              "    <tr>\n",
              "      <th>0</th>\n",
              "      <td>1000000001</td>\n",
              "      <td>0.0</td>\n",
              "      <td>50</td>\n",
              "      <td>15</td>\n",
              "      <td>39</td>\n",
              "      <td>51</td>\n",
              "      <td>0</td>\n",
              "      <td>80</td>\n",
              "      <td>2020-01-23</td>\n",
              "      <td>2020-01-23</td>\n",
              "      <td>2</td>\n",
              "    </tr>\n",
              "    <tr>\n",
              "      <th>1</th>\n",
              "      <td>1000000002</td>\n",
              "      <td>0.0</td>\n",
              "      <td>30</td>\n",
              "      <td>15</td>\n",
              "      <td>93</td>\n",
              "      <td>51</td>\n",
              "      <td>0</td>\n",
              "      <td>43</td>\n",
              "      <td>2020-01-30</td>\n",
              "      <td>2020-01-30</td>\n",
              "      <td>2</td>\n",
              "    </tr>\n",
              "    <tr>\n",
              "      <th>2</th>\n",
              "      <td>1000000003</td>\n",
              "      <td>0.0</td>\n",
              "      <td>50</td>\n",
              "      <td>15</td>\n",
              "      <td>91</td>\n",
              "      <td>47</td>\n",
              "      <td>475</td>\n",
              "      <td>23</td>\n",
              "      <td>2020-01-30</td>\n",
              "      <td>2020-01-30</td>\n",
              "      <td>2</td>\n",
              "    </tr>\n",
              "    <tr>\n",
              "      <th>3</th>\n",
              "      <td>1000000004</td>\n",
              "      <td>0.0</td>\n",
              "      <td>20</td>\n",
              "      <td>15</td>\n",
              "      <td>95</td>\n",
              "      <td>51</td>\n",
              "      <td>0</td>\n",
              "      <td>87</td>\n",
              "      <td>2020-01-30</td>\n",
              "      <td>2020-01-30</td>\n",
              "      <td>2</td>\n",
              "    </tr>\n",
              "    <tr>\n",
              "      <th>4</th>\n",
              "      <td>1000000005</td>\n",
              "      <td>1.0</td>\n",
              "      <td>20</td>\n",
              "      <td>15</td>\n",
              "      <td>124</td>\n",
              "      <td>47</td>\n",
              "      <td>1</td>\n",
              "      <td>28</td>\n",
              "      <td>2020-01-31</td>\n",
              "      <td>2020-01-31</td>\n",
              "      <td>2</td>\n",
              "    </tr>\n",
              "    <tr>\n",
              "      <th>...</th>\n",
              "      <td>...</td>\n",
              "      <td>...</td>\n",
              "      <td>...</td>\n",
              "      <td>...</td>\n",
              "      <td>...</td>\n",
              "      <td>...</td>\n",
              "      <td>...</td>\n",
              "      <td>...</td>\n",
              "      <td>...</td>\n",
              "      <td>...</td>\n",
              "      <td>...</td>\n",
              "    </tr>\n",
              "    <tr>\n",
              "      <th>5160</th>\n",
              "      <td>7000000015</td>\n",
              "      <td>1.0</td>\n",
              "      <td>30</td>\n",
              "      <td>11</td>\n",
              "      <td>86</td>\n",
              "      <td>51</td>\n",
              "      <td>0</td>\n",
              "      <td>34</td>\n",
              "      <td>2020-05-30</td>\n",
              "      <td>2020-05-30</td>\n",
              "      <td>2</td>\n",
              "    </tr>\n",
              "    <tr>\n",
              "      <th>5161</th>\n",
              "      <td>7000000016</td>\n",
              "      <td>-1.0</td>\n",
              "      <td>0</td>\n",
              "      <td>11</td>\n",
              "      <td>86</td>\n",
              "      <td>51</td>\n",
              "      <td>0</td>\n",
              "      <td>0</td>\n",
              "      <td>2020-06-16</td>\n",
              "      <td>2020-06-16</td>\n",
              "      <td>2</td>\n",
              "    </tr>\n",
              "    <tr>\n",
              "      <th>5162</th>\n",
              "      <td>7000000017</td>\n",
              "      <td>-1.0</td>\n",
              "      <td>0</td>\n",
              "      <td>11</td>\n",
              "      <td>86</td>\n",
              "      <td>51</td>\n",
              "      <td>0</td>\n",
              "      <td>78</td>\n",
              "      <td>2020-06-18</td>\n",
              "      <td>2020-06-18</td>\n",
              "      <td>1</td>\n",
              "    </tr>\n",
              "    <tr>\n",
              "      <th>5163</th>\n",
              "      <td>7000000018</td>\n",
              "      <td>-1.0</td>\n",
              "      <td>0</td>\n",
              "      <td>11</td>\n",
              "      <td>86</td>\n",
              "      <td>51</td>\n",
              "      <td>0</td>\n",
              "      <td>0</td>\n",
              "      <td>2020-06-18</td>\n",
              "      <td>2020-06-18</td>\n",
              "      <td>1</td>\n",
              "    </tr>\n",
              "    <tr>\n",
              "      <th>5164</th>\n",
              "      <td>7000000019</td>\n",
              "      <td>-1.0</td>\n",
              "      <td>0</td>\n",
              "      <td>11</td>\n",
              "      <td>86</td>\n",
              "      <td>51</td>\n",
              "      <td>0</td>\n",
              "      <td>0</td>\n",
              "      <td>2020-06-18</td>\n",
              "      <td>2020-06-18</td>\n",
              "      <td>1</td>\n",
              "    </tr>\n",
              "  </tbody>\n",
              "</table>\n",
              "<p>5165 rows × 11 columns</p>\n",
              "</div>"
            ],
            "text/plain": [
              "      patient_id  sex  age  ...  symptom_onset_date       date  state\n",
              "0     1000000001  0.0   50  ...          2020-01-23 2020-01-23      2\n",
              "1     1000000002  0.0   30  ...          2020-01-30 2020-01-30      2\n",
              "2     1000000003  0.0   50  ...          2020-01-30 2020-01-30      2\n",
              "3     1000000004  0.0   20  ...          2020-01-30 2020-01-30      2\n",
              "4     1000000005  1.0   20  ...          2020-01-31 2020-01-31      2\n",
              "...          ...  ...  ...  ...                 ...        ...    ...\n",
              "5160  7000000015  1.0   30  ...          2020-05-30 2020-05-30      2\n",
              "5161  7000000016 -1.0    0  ...          2020-06-16 2020-06-16      2\n",
              "5162  7000000017 -1.0    0  ...          2020-06-18 2020-06-18      1\n",
              "5163  7000000018 -1.0    0  ...          2020-06-18 2020-06-18      1\n",
              "5164  7000000019 -1.0    0  ...          2020-06-18 2020-06-18      1\n",
              "\n",
              "[5165 rows x 11 columns]"
            ]
          },
          "metadata": {
            "tags": []
          },
          "execution_count": 14
        }
      ]
    },
    {
      "cell_type": "markdown",
      "metadata": {
        "id": "F__u62jH8f__"
      },
      "source": [
        "## Fiture Engineering"
      ]
    },
    {
      "cell_type": "code",
      "metadata": {
        "colab": {
          "base_uri": "https://localhost:8080/",
          "height": 408
        },
        "id": "oLTIrbt-rgYY",
        "outputId": "90045ef2-3e29-43f2-b36d-b1e213c03c86"
      },
      "source": [
        "patien_info['days']  = patien_info.date - patien_info.symptom_onset_date\n",
        "patien_info.drop(['symptom_onset_date','date'], inplace=True, axis=1)\n",
        "\n",
        "patien_info"
      ],
      "execution_count": 15,
      "outputs": [
        {
          "output_type": "execute_result",
          "data": {
            "text/html": [
              "<div>\n",
              "<style scoped>\n",
              "    .dataframe tbody tr th:only-of-type {\n",
              "        vertical-align: middle;\n",
              "    }\n",
              "\n",
              "    .dataframe tbody tr th {\n",
              "        vertical-align: top;\n",
              "    }\n",
              "\n",
              "    .dataframe thead th {\n",
              "        text-align: right;\n",
              "    }\n",
              "</style>\n",
              "<table border=\"1\" class=\"dataframe\">\n",
              "  <thead>\n",
              "    <tr style=\"text-align: right;\">\n",
              "      <th></th>\n",
              "      <th>patient_id</th>\n",
              "      <th>sex</th>\n",
              "      <th>age</th>\n",
              "      <th>province</th>\n",
              "      <th>city</th>\n",
              "      <th>infection_case</th>\n",
              "      <th>infected_by</th>\n",
              "      <th>contact_number</th>\n",
              "      <th>state</th>\n",
              "      <th>days</th>\n",
              "    </tr>\n",
              "  </thead>\n",
              "  <tbody>\n",
              "    <tr>\n",
              "      <th>0</th>\n",
              "      <td>1000000001</td>\n",
              "      <td>0.0</td>\n",
              "      <td>50</td>\n",
              "      <td>15</td>\n",
              "      <td>39</td>\n",
              "      <td>51</td>\n",
              "      <td>0</td>\n",
              "      <td>80</td>\n",
              "      <td>2</td>\n",
              "      <td>0 days</td>\n",
              "    </tr>\n",
              "    <tr>\n",
              "      <th>1</th>\n",
              "      <td>1000000002</td>\n",
              "      <td>0.0</td>\n",
              "      <td>30</td>\n",
              "      <td>15</td>\n",
              "      <td>93</td>\n",
              "      <td>51</td>\n",
              "      <td>0</td>\n",
              "      <td>43</td>\n",
              "      <td>2</td>\n",
              "      <td>0 days</td>\n",
              "    </tr>\n",
              "    <tr>\n",
              "      <th>2</th>\n",
              "      <td>1000000003</td>\n",
              "      <td>0.0</td>\n",
              "      <td>50</td>\n",
              "      <td>15</td>\n",
              "      <td>91</td>\n",
              "      <td>47</td>\n",
              "      <td>475</td>\n",
              "      <td>23</td>\n",
              "      <td>2</td>\n",
              "      <td>0 days</td>\n",
              "    </tr>\n",
              "    <tr>\n",
              "      <th>3</th>\n",
              "      <td>1000000004</td>\n",
              "      <td>0.0</td>\n",
              "      <td>20</td>\n",
              "      <td>15</td>\n",
              "      <td>95</td>\n",
              "      <td>51</td>\n",
              "      <td>0</td>\n",
              "      <td>87</td>\n",
              "      <td>2</td>\n",
              "      <td>0 days</td>\n",
              "    </tr>\n",
              "    <tr>\n",
              "      <th>4</th>\n",
              "      <td>1000000005</td>\n",
              "      <td>1.0</td>\n",
              "      <td>20</td>\n",
              "      <td>15</td>\n",
              "      <td>124</td>\n",
              "      <td>47</td>\n",
              "      <td>1</td>\n",
              "      <td>28</td>\n",
              "      <td>2</td>\n",
              "      <td>0 days</td>\n",
              "    </tr>\n",
              "    <tr>\n",
              "      <th>...</th>\n",
              "      <td>...</td>\n",
              "      <td>...</td>\n",
              "      <td>...</td>\n",
              "      <td>...</td>\n",
              "      <td>...</td>\n",
              "      <td>...</td>\n",
              "      <td>...</td>\n",
              "      <td>...</td>\n",
              "      <td>...</td>\n",
              "      <td>...</td>\n",
              "    </tr>\n",
              "    <tr>\n",
              "      <th>5160</th>\n",
              "      <td>7000000015</td>\n",
              "      <td>1.0</td>\n",
              "      <td>30</td>\n",
              "      <td>11</td>\n",
              "      <td>86</td>\n",
              "      <td>51</td>\n",
              "      <td>0</td>\n",
              "      <td>34</td>\n",
              "      <td>2</td>\n",
              "      <td>0 days</td>\n",
              "    </tr>\n",
              "    <tr>\n",
              "      <th>5161</th>\n",
              "      <td>7000000016</td>\n",
              "      <td>-1.0</td>\n",
              "      <td>0</td>\n",
              "      <td>11</td>\n",
              "      <td>86</td>\n",
              "      <td>51</td>\n",
              "      <td>0</td>\n",
              "      <td>0</td>\n",
              "      <td>2</td>\n",
              "      <td>0 days</td>\n",
              "    </tr>\n",
              "    <tr>\n",
              "      <th>5162</th>\n",
              "      <td>7000000017</td>\n",
              "      <td>-1.0</td>\n",
              "      <td>0</td>\n",
              "      <td>11</td>\n",
              "      <td>86</td>\n",
              "      <td>51</td>\n",
              "      <td>0</td>\n",
              "      <td>78</td>\n",
              "      <td>1</td>\n",
              "      <td>0 days</td>\n",
              "    </tr>\n",
              "    <tr>\n",
              "      <th>5163</th>\n",
              "      <td>7000000018</td>\n",
              "      <td>-1.0</td>\n",
              "      <td>0</td>\n",
              "      <td>11</td>\n",
              "      <td>86</td>\n",
              "      <td>51</td>\n",
              "      <td>0</td>\n",
              "      <td>0</td>\n",
              "      <td>1</td>\n",
              "      <td>0 days</td>\n",
              "    </tr>\n",
              "    <tr>\n",
              "      <th>5164</th>\n",
              "      <td>7000000019</td>\n",
              "      <td>-1.0</td>\n",
              "      <td>0</td>\n",
              "      <td>11</td>\n",
              "      <td>86</td>\n",
              "      <td>51</td>\n",
              "      <td>0</td>\n",
              "      <td>0</td>\n",
              "      <td>1</td>\n",
              "      <td>0 days</td>\n",
              "    </tr>\n",
              "  </tbody>\n",
              "</table>\n",
              "<p>5165 rows × 10 columns</p>\n",
              "</div>"
            ],
            "text/plain": [
              "      patient_id  sex  age  province  ...  infected_by  contact_number  state   days\n",
              "0     1000000001  0.0   50        15  ...            0              80      2 0 days\n",
              "1     1000000002  0.0   30        15  ...            0              43      2 0 days\n",
              "2     1000000003  0.0   50        15  ...          475              23      2 0 days\n",
              "3     1000000004  0.0   20        15  ...            0              87      2 0 days\n",
              "4     1000000005  1.0   20        15  ...            1              28      2 0 days\n",
              "...          ...  ...  ...       ...  ...          ...             ...    ...    ...\n",
              "5160  7000000015  1.0   30        11  ...            0              34      2 0 days\n",
              "5161  7000000016 -1.0    0        11  ...            0               0      2 0 days\n",
              "5162  7000000017 -1.0    0        11  ...            0              78      1 0 days\n",
              "5163  7000000018 -1.0    0        11  ...            0               0      1 0 days\n",
              "5164  7000000019 -1.0    0        11  ...            0               0      1 0 days\n",
              "\n",
              "[5165 rows x 10 columns]"
            ]
          },
          "metadata": {
            "tags": []
          },
          "execution_count": 15
        }
      ]
    },
    {
      "cell_type": "code",
      "metadata": {
        "colab": {
          "base_uri": "https://localhost:8080/"
        },
        "id": "xLtLYExB7Mdl",
        "outputId": "032005e8-a31a-41d7-f87b-d4a62d1d01aa"
      },
      "source": [
        "patien_info.info()"
      ],
      "execution_count": 16,
      "outputs": [
        {
          "output_type": "stream",
          "text": [
            "<class 'pandas.core.frame.DataFrame'>\n",
            "RangeIndex: 5165 entries, 0 to 5164\n",
            "Data columns (total 10 columns):\n",
            " #   Column          Non-Null Count  Dtype          \n",
            "---  ------          --------------  -----          \n",
            " 0   patient_id      5165 non-null   int64          \n",
            " 1   sex             5165 non-null   float64        \n",
            " 2   age             5165 non-null   int64          \n",
            " 3   province        5165 non-null   int8           \n",
            " 4   city            5165 non-null   int16          \n",
            " 5   infection_case  5165 non-null   int8           \n",
            " 6   infected_by     5165 non-null   int16          \n",
            " 7   contact_number  5165 non-null   int8           \n",
            " 8   state           5165 non-null   int8           \n",
            " 9   days            5162 non-null   timedelta64[ns]\n",
            "dtypes: float64(1), int16(2), int64(2), int8(4), timedelta64[ns](1)\n",
            "memory usage: 201.9 KB\n"
          ],
          "name": "stdout"
        }
      ]
    },
    {
      "cell_type": "code",
      "metadata": {
        "colab": {
          "base_uri": "https://localhost:8080/"
        },
        "id": "0rVvnAh6qABj",
        "outputId": "6205eb7f-aa41-4a4e-9def-f03f076969c1"
      },
      "source": [
        "patien_info.columns"
      ],
      "execution_count": 17,
      "outputs": [
        {
          "output_type": "execute_result",
          "data": {
            "text/plain": [
              "Index(['patient_id', 'sex', 'age', 'province', 'city', 'infection_case',\n",
              "       'infected_by', 'contact_number', 'state', 'days'],\n",
              "      dtype='object')"
            ]
          },
          "metadata": {
            "tags": []
          },
          "execution_count": 17
        }
      ]
    },
    {
      "cell_type": "code",
      "metadata": {
        "colab": {
          "base_uri": "https://localhost:8080/",
          "height": 200
        },
        "id": "hJdHu9xj6A6_",
        "outputId": "54f38be5-54dc-4769-e383-993088ef586a"
      },
      "source": [
        "patien_info = patien_info [['sex', 'age', 'province', 'city', 'infection_case',\n",
        "       'infected_by', 'contact_number',  'days','state']]\n",
        "patien_info.head()"
      ],
      "execution_count": 18,
      "outputs": [
        {
          "output_type": "execute_result",
          "data": {
            "text/html": [
              "<div>\n",
              "<style scoped>\n",
              "    .dataframe tbody tr th:only-of-type {\n",
              "        vertical-align: middle;\n",
              "    }\n",
              "\n",
              "    .dataframe tbody tr th {\n",
              "        vertical-align: top;\n",
              "    }\n",
              "\n",
              "    .dataframe thead th {\n",
              "        text-align: right;\n",
              "    }\n",
              "</style>\n",
              "<table border=\"1\" class=\"dataframe\">\n",
              "  <thead>\n",
              "    <tr style=\"text-align: right;\">\n",
              "      <th></th>\n",
              "      <th>sex</th>\n",
              "      <th>age</th>\n",
              "      <th>province</th>\n",
              "      <th>city</th>\n",
              "      <th>infection_case</th>\n",
              "      <th>infected_by</th>\n",
              "      <th>contact_number</th>\n",
              "      <th>days</th>\n",
              "      <th>state</th>\n",
              "    </tr>\n",
              "  </thead>\n",
              "  <tbody>\n",
              "    <tr>\n",
              "      <th>0</th>\n",
              "      <td>0.0</td>\n",
              "      <td>50</td>\n",
              "      <td>15</td>\n",
              "      <td>39</td>\n",
              "      <td>51</td>\n",
              "      <td>0</td>\n",
              "      <td>80</td>\n",
              "      <td>0 days</td>\n",
              "      <td>2</td>\n",
              "    </tr>\n",
              "    <tr>\n",
              "      <th>1</th>\n",
              "      <td>0.0</td>\n",
              "      <td>30</td>\n",
              "      <td>15</td>\n",
              "      <td>93</td>\n",
              "      <td>51</td>\n",
              "      <td>0</td>\n",
              "      <td>43</td>\n",
              "      <td>0 days</td>\n",
              "      <td>2</td>\n",
              "    </tr>\n",
              "    <tr>\n",
              "      <th>2</th>\n",
              "      <td>0.0</td>\n",
              "      <td>50</td>\n",
              "      <td>15</td>\n",
              "      <td>91</td>\n",
              "      <td>47</td>\n",
              "      <td>475</td>\n",
              "      <td>23</td>\n",
              "      <td>0 days</td>\n",
              "      <td>2</td>\n",
              "    </tr>\n",
              "    <tr>\n",
              "      <th>3</th>\n",
              "      <td>0.0</td>\n",
              "      <td>20</td>\n",
              "      <td>15</td>\n",
              "      <td>95</td>\n",
              "      <td>51</td>\n",
              "      <td>0</td>\n",
              "      <td>87</td>\n",
              "      <td>0 days</td>\n",
              "      <td>2</td>\n",
              "    </tr>\n",
              "    <tr>\n",
              "      <th>4</th>\n",
              "      <td>1.0</td>\n",
              "      <td>20</td>\n",
              "      <td>15</td>\n",
              "      <td>124</td>\n",
              "      <td>47</td>\n",
              "      <td>1</td>\n",
              "      <td>28</td>\n",
              "      <td>0 days</td>\n",
              "      <td>2</td>\n",
              "    </tr>\n",
              "  </tbody>\n",
              "</table>\n",
              "</div>"
            ],
            "text/plain": [
              "   sex  age  province  city  ...  infected_by  contact_number   days state\n",
              "0  0.0   50        15    39  ...            0              80 0 days     2\n",
              "1  0.0   30        15    93  ...            0              43 0 days     2\n",
              "2  0.0   50        15    91  ...          475              23 0 days     2\n",
              "3  0.0   20        15    95  ...            0              87 0 days     2\n",
              "4  1.0   20        15   124  ...            1              28 0 days     2\n",
              "\n",
              "[5 rows x 9 columns]"
            ]
          },
          "metadata": {
            "tags": []
          },
          "execution_count": 18
        }
      ]
    },
    {
      "cell_type": "code",
      "metadata": {
        "colab": {
          "base_uri": "https://localhost:8080/"
        },
        "id": "g3ndsxs4iW4t",
        "outputId": "665f09ae-6fd5-429d-ed05-ccd6073687d8"
      },
      "source": [
        "patien_info.info()"
      ],
      "execution_count": 19,
      "outputs": [
        {
          "output_type": "stream",
          "text": [
            "<class 'pandas.core.frame.DataFrame'>\n",
            "RangeIndex: 5165 entries, 0 to 5164\n",
            "Data columns (total 9 columns):\n",
            " #   Column          Non-Null Count  Dtype          \n",
            "---  ------          --------------  -----          \n",
            " 0   sex             5165 non-null   float64        \n",
            " 1   age             5165 non-null   int64          \n",
            " 2   province        5165 non-null   int8           \n",
            " 3   city            5165 non-null   int16          \n",
            " 4   infection_case  5165 non-null   int8           \n",
            " 5   infected_by     5165 non-null   int16          \n",
            " 6   contact_number  5165 non-null   int8           \n",
            " 7   days            5162 non-null   timedelta64[ns]\n",
            " 8   state           5165 non-null   int8           \n",
            "dtypes: float64(1), int16(2), int64(1), int8(4), timedelta64[ns](1)\n",
            "memory usage: 161.5 KB\n"
          ],
          "name": "stdout"
        }
      ]
    },
    {
      "cell_type": "markdown",
      "metadata": {
        "id": "JxGJXZ4B9Iis"
      },
      "source": [
        "## Label Endcoder"
      ]
    },
    {
      "cell_type": "code",
      "metadata": {
        "colab": {
          "base_uri": "https://localhost:8080/"
        },
        "id": "FqNtVVoE3nfv",
        "outputId": "ce5eaddf-457c-45f8-c962-1ce14ccb0388"
      },
      "source": [
        "from sklearn.preprocessing import LabelEncoder\n",
        "le = LabelEncoder()\n",
        "# patien_info['sex']=le.fit_transform(patien_info['sex'])\n",
        "# patien_info['age']=le.fit_transform(patien_info['age'])\n",
        "# patien_info['city']=le.fit_transform(patien_info['city'])\n",
        "# patien_info['infection_case']=le.fit_transform(patien_info['infection_case'])\n",
        "# patien_info['infected_by']=le.fit_transform(patien_info['infected_by'])\n",
        "# patien_info['contact_number']=le.fit_transform(patien_info['contact_number'])\n",
        "patien_info['days']=le.fit_transform(patien_info['days'])\n",
        "# patien_info"
      ],
      "execution_count": 20,
      "outputs": [
        {
          "output_type": "stream",
          "text": [
            "/usr/local/lib/python3.7/dist-packages/ipykernel_launcher.py:9: SettingWithCopyWarning:\n",
            "\n",
            "\n",
            "A value is trying to be set on a copy of a slice from a DataFrame.\n",
            "Try using .loc[row_indexer,col_indexer] = value instead\n",
            "\n",
            "See the caveats in the documentation: https://pandas.pydata.org/pandas-docs/stable/user_guide/indexing.html#returning-a-view-versus-a-copy\n",
            "\n"
          ],
          "name": "stderr"
        }
      ]
    },
    {
      "cell_type": "markdown",
      "metadata": {
        "id": "cXwKQfj_9Ls6"
      },
      "source": [
        "## Fiture Correlation"
      ]
    },
    {
      "cell_type": "code",
      "metadata": {
        "colab": {
          "base_uri": "https://localhost:8080/",
          "height": 733
        },
        "id": "d902N8sSjX6x",
        "outputId": "d711e4dd-76b6-4fe3-988b-f2c99d3bcdb3"
      },
      "source": [
        "pyplot.figure(figsize=(7,7))\n",
        "corr=patien_info.corr()\n",
        "sns.heatmap(corr,xticklabels=corr.columns,yticklabels=corr.columns,annot=True)\n",
        "pyplot.title('Feature Correlation', y = 1.0, size=10)"
      ],
      "execution_count": 21,
      "outputs": [
        {
          "output_type": "execute_result",
          "data": {
            "text/plain": [
              "Text(0.5, 1.0, 'Feature Correlation')"
            ]
          },
          "metadata": {
            "tags": []
          },
          "execution_count": 21
        },
        {
          "output_type": "display_data",
          "data": {
            "image/png": "[encoded data removed]",
            "text/plain": [
              "<Figure size 700x700 with 2 Axes>"
            ]
          },
          "metadata": {
            "tags": []
          }
        }
      ]
    },
    {
      "cell_type": "code",
      "metadata": {
        "colab": {
          "base_uri": "https://localhost:8080/"
        },
        "id": "KMfvdgcfvpq4",
        "outputId": "95a28f47-6703-4f08-e9e6-26b8f085b5ba"
      },
      "source": [
        "patien_info.columns"
      ],
      "execution_count": 22,
      "outputs": [
        {
          "output_type": "execute_result",
          "data": {
            "text/plain": [
              "Index(['sex', 'age', 'province', 'city', 'infection_case', 'infected_by',\n",
              "       'contact_number', 'days', 'state'],\n",
              "      dtype='object')"
            ]
          },
          "metadata": {
            "tags": []
          },
          "execution_count": 22
        }
      ]
    },
    {
      "cell_type": "code",
      "metadata": {
        "id": "1TPGOOvmFfuu"
      },
      "source": [
        "fiture_cols = ['sex', 'age', 'province', 'city', 'infection_case', 'infected_by',\n",
        "       'contact_number', 'days']\n",
        "X = patien_info[fiture_cols]\n",
        "Y = patien_info.state"
      ],
      "execution_count": 23,
      "outputs": []
    },
    {
      "cell_type": "markdown",
      "metadata": {
        "id": "lGXlXw4L9VNJ"
      },
      "source": [
        "## Cross Validation"
      ]
    },
    {
      "cell_type": "code",
      "metadata": {
        "id": "ZXwuBcR8hDDX"
      },
      "source": [
        "test_size = 0.2\n",
        "seed = 5\n",
        "X_train, X_test, Y_train, Y_test = train_test_split(X, Y, test_size=test_size, random_state=seed)"
      ],
      "execution_count": 24,
      "outputs": []
    },
    {
      "cell_type": "markdown",
      "metadata": {
        "id": "x9mrHIR780Xj"
      },
      "source": [
        "# Model"
      ]
    },
    {
      "cell_type": "markdown",
      "metadata": {
        "id": "HuFU5fM7W-ef"
      },
      "source": [
        "# Decision Tree"
      ]
    },
    {
      "cell_type": "code",
      "metadata": {
        "colab": {
          "base_uri": "https://localhost:8080/",
          "height": 738
        },
        "id": "VSDIHK_RGNCh",
        "outputId": "8c864f04-d4fa-42fe-90bf-7bbb7627b0a8"
      },
      "source": [
        "dt = DecisionTreeClassifier()\n",
        "dt.fit(X_train, Y_train)\n",
        "predicted = dt.predict(X_test)\n",
        "report = classification_report(Y_test, predicted)\n",
        "matrix = confusion_matrix(Y_test, predicted)\n",
        "print(report)\n",
        "print(matrix)\n",
        "\n",
        "scoring = 'accuracy'\n",
        "akurasi_dt = cross_val_score(dt, X_test, Y_test, cv=seed, scoring=scoring) *100\n",
        "\n",
        "from sklearn.metrics import roc_auc_score\n",
        "\n",
        "print(\"Accuracy Decision Tree: {}\".format((akurasi_dt.mean()))) \n",
        "auc_dt = roc_auc_score(Y_test, dt.predict_proba(X_test), multi_class='ovo', average='weighted') *100\n",
        "print('ROC AUC score dt:', auc_dt)\n",
        "\n",
        "recall_dt=recall_score(Y_test,predicted, average='weighted')*100\n",
        "print(\"Recall of dt is: \",recall_dt)\n",
        "prec_dt=precision_score(Y_test,predicted, average='weighted')*100\n",
        "print(\"Precision of dt is:\",prec_dt)\n",
        "\n",
        "print (\"Confusion Matrix : \\n\",sns.heatmap(confusion_matrix(Y_test, predicted, normalize='true'), annot = True))"
      ],
      "execution_count": 25,
      "outputs": [
        {
          "output_type": "stream",
          "text": [
            "              precision    recall  f1-score   support\n",
            "\n",
            "           0       0.31      0.50      0.38        10\n",
            "           1       0.86      0.89      0.87       435\n",
            "           2       0.91      0.88      0.90       588\n",
            "\n",
            "    accuracy                           0.88      1033\n",
            "   macro avg       0.69      0.76      0.72      1033\n",
            "weighted avg       0.88      0.88      0.88      1033\n",
            "\n",
            "[[  5   1   4]\n",
            " [  2 387  46]\n",
            " [  9  62 517]]\n",
            "Accuracy Decision Tree: 86.25111392523802\n",
            "ROC AUC score dt: 89.90219725938245\n",
            "Recall of dt is:  87.99612778315586\n",
            "Precision of dt is: 88.4194722311857\n",
            "Confusion Matrix : \n",
            " AxesSubplot(0.125,0.11;0.62x0.77)\n"
          ],
          "name": "stdout"
        },
        {
          "output_type": "display_data",
          "data": {
            "image/png": "[encoded data removed]",
            "text/plain": [
              "<Figure size 640x480 with 2 Axes>"
            ]
          },
          "metadata": {
            "tags": []
          }
        }
      ]
    },
    {
      "cell_type": "markdown",
      "metadata": {
        "id": "Mx5yhvib80Xp"
      },
      "source": [
        "# Naive Bayes"
      ]
    },
    {
      "cell_type": "code",
      "metadata": {
        "colab": {
          "base_uri": "https://localhost:8080/",
          "height": 738
        },
        "id": "XmlC_7uh80Xq",
        "outputId": "1642c467-fcf7-48cc-9936-31263764af66"
      },
      "source": [
        "nb = GaussianNB()\n",
        "nb.fit(X_train, Y_train)\n",
        "predicted = nb.predict(X_test)\n",
        "report = classification_report(Y_test, predicted)\n",
        "matrix = confusion_matrix(Y_test, predicted)\n",
        "print(report)\n",
        "print(matrix)\n",
        "\n",
        "scoring = 'accuracy'\n",
        "akurasi_nb = cross_val_score(nb, X_test, Y_test, cv=seed, scoring=scoring) *100\n",
        "\n",
        "from sklearn.metrics import roc_auc_score\n",
        "\n",
        "print(\"Akurasi Naive Bayes: {}\".format((akurasi_nb.mean()))) \n",
        "auc_nb = roc_auc_score(Y_test, nb.predict_proba(X_test), multi_class='ovo', average='weighted') *100\n",
        "print('ROC AUC score Naive Bayes:', auc_nb)\n",
        "recall_nb=recall_score(Y_test,predicted, average='weighted')*100\n",
        "print(\"Recall of Naive Bayes is: \",recall_nb)\n",
        "prec_nb=precision_score(Y_test,predicted, average='weighted')*100\n",
        "print(\"Precision of Naive Bayes is:\",prec_nb)\n",
        "print (\"Confusion Matrix : \\n\",sns.heatmap(confusion_matrix(Y_test, predicted, normalize='true'), annot = True))"
      ],
      "execution_count": 26,
      "outputs": [
        {
          "output_type": "stream",
          "text": [
            "              precision    recall  f1-score   support\n",
            "\n",
            "           0       0.07      0.80      0.13        10\n",
            "           1       0.47      0.91      0.62       435\n",
            "           2       0.80      0.10      0.17       588\n",
            "\n",
            "    accuracy                           0.45      1033\n",
            "   macro avg       0.45      0.60      0.31      1033\n",
            "weighted avg       0.65      0.45      0.36      1033\n",
            "\n",
            "[[  8   2   0]\n",
            " [ 23 398  14]\n",
            " [ 80 452  56]]\n",
            "Akurasi Naive Bayes: 30.496224379719525\n",
            "ROC AUC score Naive Bayes: 84.07524594776322\n",
            "Recall of Naive Bayes is:  44.72410454985479\n",
            "Precision of Naive Bayes is: 65.27831036523072\n",
            "Confusion Matrix : \n",
            " AxesSubplot(0.125,0.11;0.62x0.77)\n"
          ],
          "name": "stdout"
        },
        {
          "output_type": "display_data",
          "data": {
            "image/png": "[encoded data removed]",
            "text/plain": [
              "<Figure size 640x480 with 2 Axes>"
            ]
          },
          "metadata": {
            "tags": []
          }
        }
      ]
    },
    {
      "cell_type": "markdown",
      "metadata": {
        "id": "I2VzGExO80Xy"
      },
      "source": [
        "# Logistic Regression"
      ]
    },
    {
      "cell_type": "code",
      "metadata": {
        "colab": {
          "base_uri": "https://localhost:8080/",
          "height": 1000
        },
        "id": "IWYH7vLo80Xz",
        "outputId": "35a9f07e-3c05-4ec6-e467-5e9283118a3f"
      },
      "source": [
        "log = LogisticRegression()\n",
        "log.fit(X_train, Y_train)\n",
        "predicted = log.predict(X_test)\n",
        "report = classification_report(Y_test, predicted)\n",
        "matrix = confusion_matrix(Y_test, predicted)\n",
        "print(report)\n",
        "print(matrix)\n",
        "\n",
        "scoring = 'accuracy'\n",
        "akurasi_log = cross_val_score(log, X_test, Y_test, cv=seed, scoring=scoring) *100\n",
        "\n",
        "from sklearn.metrics import roc_auc_score\n",
        "\n",
        "print(\"Akurasi Logistic Regresion: {}\".format((akurasi_log.mean()))) \n",
        "auc_log = roc_auc_score(Y_test, log.predict_proba(X_test), multi_class='ovo', average='weighted') *100\n",
        "print('ROC AUC score Logistic Regresion:', auc_log)\n",
        "recall_log=recall_score(Y_test,predicted, average='weighted')*100\n",
        "print(\"Recall of Logistic Regresion is: \",recall_log)\n",
        "prec_log=precision_score(Y_test,predicted, average='weighted') *100\n",
        "print(\"Precision of Logistic Regresion is:\",prec_log)\n",
        "print (\"Confusion Matrix : \\n\",sns.heatmap(confusion_matrix(Y_test, predicted, normalize='true'), annot = True))"
      ],
      "execution_count": 27,
      "outputs": [
        {
          "output_type": "stream",
          "text": [
            "/usr/local/lib/python3.7/dist-packages/sklearn/linear_model/_logistic.py:940: ConvergenceWarning:\n",
            "\n",
            "lbfgs failed to converge (status=1):\n",
            "STOP: TOTAL NO. of ITERATIONS REACHED LIMIT.\n",
            "\n",
            "Increase the number of iterations (max_iter) or scale the data as shown in:\n",
            "    https://scikit-learn.org/stable/modules/preprocessing.html\n",
            "Please also refer to the documentation for alternative solver options:\n",
            "    https://scikit-learn.org/stable/modules/linear_model.html#logistic-regression\n",
            "\n",
            "/usr/local/lib/python3.7/dist-packages/sklearn/linear_model/_logistic.py:940: ConvergenceWarning:\n",
            "\n",
            "lbfgs failed to converge (status=1):\n",
            "STOP: TOTAL NO. of ITERATIONS REACHED LIMIT.\n",
            "\n",
            "Increase the number of iterations (max_iter) or scale the data as shown in:\n",
            "    https://scikit-learn.org/stable/modules/preprocessing.html\n",
            "Please also refer to the documentation for alternative solver options:\n",
            "    https://scikit-learn.org/stable/modules/linear_model.html#logistic-regression\n",
            "\n",
            "/usr/local/lib/python3.7/dist-packages/sklearn/linear_model/_logistic.py:940: ConvergenceWarning:\n",
            "\n",
            "lbfgs failed to converge (status=1):\n",
            "STOP: TOTAL NO. of ITERATIONS REACHED LIMIT.\n",
            "\n",
            "Increase the number of iterations (max_iter) or scale the data as shown in:\n",
            "    https://scikit-learn.org/stable/modules/preprocessing.html\n",
            "Please also refer to the documentation for alternative solver options:\n",
            "    https://scikit-learn.org/stable/modules/linear_model.html#logistic-regression\n",
            "\n"
          ],
          "name": "stderr"
        },
        {
          "output_type": "stream",
          "text": [
            "              precision    recall  f1-score   support\n",
            "\n",
            "           0       0.45      0.50      0.48        10\n",
            "           1       0.68      0.54      0.60       435\n",
            "           2       0.70      0.81      0.75       588\n",
            "\n",
            "    accuracy                           0.69      1033\n",
            "   macro avg       0.61      0.62      0.61      1033\n",
            "weighted avg       0.69      0.69      0.68      1033\n",
            "\n",
            "[[  5   1   4]\n",
            " [  4 235 196]\n",
            " [  2 112 474]]\n"
          ],
          "name": "stdout"
        },
        {
          "output_type": "stream",
          "text": [
            "/usr/local/lib/python3.7/dist-packages/sklearn/linear_model/_logistic.py:940: ConvergenceWarning:\n",
            "\n",
            "lbfgs failed to converge (status=1):\n",
            "STOP: TOTAL NO. of ITERATIONS REACHED LIMIT.\n",
            "\n",
            "Increase the number of iterations (max_iter) or scale the data as shown in:\n",
            "    https://scikit-learn.org/stable/modules/preprocessing.html\n",
            "Please also refer to the documentation for alternative solver options:\n",
            "    https://scikit-learn.org/stable/modules/linear_model.html#logistic-regression\n",
            "\n",
            "/usr/local/lib/python3.7/dist-packages/sklearn/linear_model/_logistic.py:940: ConvergenceWarning:\n",
            "\n",
            "lbfgs failed to converge (status=1):\n",
            "STOP: TOTAL NO. of ITERATIONS REACHED LIMIT.\n",
            "\n",
            "Increase the number of iterations (max_iter) or scale the data as shown in:\n",
            "    https://scikit-learn.org/stable/modules/preprocessing.html\n",
            "Please also refer to the documentation for alternative solver options:\n",
            "    https://scikit-learn.org/stable/modules/linear_model.html#logistic-regression\n",
            "\n",
            "/usr/local/lib/python3.7/dist-packages/sklearn/linear_model/_logistic.py:940: ConvergenceWarning:\n",
            "\n",
            "lbfgs failed to converge (status=1):\n",
            "STOP: TOTAL NO. of ITERATIONS REACHED LIMIT.\n",
            "\n",
            "Increase the number of iterations (max_iter) or scale the data as shown in:\n",
            "    https://scikit-learn.org/stable/modules/preprocessing.html\n",
            "Please also refer to the documentation for alternative solver options:\n",
            "    https://scikit-learn.org/stable/modules/linear_model.html#logistic-regression\n",
            "\n"
          ],
          "name": "stderr"
        },
        {
          "output_type": "stream",
          "text": [
            "Akurasi Logistic Regresion: 69.21767271703953\n",
            "ROC AUC score Logistic Regresion: 80.79881759092795\n",
            "Recall of Logistic Regresion is:  69.1190706679574\n",
            "Precision of Logistic Regresion is: 68.90752588376404\n",
            "Confusion Matrix : \n",
            " AxesSubplot(0.125,0.11;0.62x0.77)\n"
          ],
          "name": "stdout"
        },
        {
          "output_type": "display_data",
          "data": {
            "image/png": "[encoded data removed]",
            "text/plain": [
              "<Figure size 640x480 with 2 Axes>"
            ]
          },
          "metadata": {
            "tags": []
          }
        }
      ]
    },
    {
      "cell_type": "markdown",
      "metadata": {
        "id": "un5KR1ar80Xr"
      },
      "source": [
        "# Random Forest"
      ]
    },
    {
      "cell_type": "code",
      "metadata": {
        "colab": {
          "base_uri": "https://localhost:8080/",
          "height": 738
        },
        "id": "aNvYPkQ080Xs",
        "outputId": "5316a896-2596-4f4a-d99f-fbf058f887da"
      },
      "source": [
        "rf = RandomForestClassifier()\n",
        "rf.fit(X_train, Y_train)\n",
        "predicted = rf.predict(X_test)\n",
        "report = classification_report(Y_test, predicted)\n",
        "matrix = confusion_matrix(Y_test, predicted)\n",
        "print(report)\n",
        "print(matrix)\n",
        "\n",
        "scoring = 'accuracy'\n",
        "akurasi_rf = cross_val_score(rf, X_test, Y_test, cv=seed, scoring=scoring) *100\n",
        "\n",
        "from sklearn.metrics import roc_auc_score\n",
        "\n",
        "print(\"Akurasi Random Forest: {}\".format((akurasi_rf.mean()))) \n",
        "auc_rf = roc_auc_score(Y_test, rf.predict_proba(X_test), multi_class='ovo', average='weighted') *100\n",
        "print('ROC AUC score Random Forest:', auc_rf)\n",
        "recall_rf=recall_score(Y_test,predicted, average='weighted')*100\n",
        "print(\"Recall of Random Forest is: \",recall_rf)\n",
        "prec_rf=precision_score(Y_test,predicted, average='weighted')*100\n",
        "print(\"Precision of Random Forest is:\",prec_rf)\n",
        "print (\"Confusion Matrix : \\n\",sns.heatmap(confusion_matrix(Y_test, predicted, normalize='true'), annot = True))"
      ],
      "execution_count": 28,
      "outputs": [
        {
          "output_type": "stream",
          "text": [
            "              precision    recall  f1-score   support\n",
            "\n",
            "           0       0.45      0.50      0.48        10\n",
            "           1       0.89      0.90      0.89       435\n",
            "           2       0.92      0.91      0.92       588\n",
            "\n",
            "    accuracy                           0.90      1033\n",
            "   macro avg       0.75      0.77      0.76      1033\n",
            "weighted avg       0.90      0.90      0.90      1033\n",
            "\n",
            "[[  5   1   4]\n",
            " [  1 390  44]\n",
            " [  5  46 537]]\n",
            "Akurasi Random Forest: 89.05914356737489\n",
            "ROC AUC score Random Forest: 95.00168779332009\n",
            "Recall of Random Forest is:  90.22265246853823\n",
            "Precision of Random Forest is: 90.27244953282953\n",
            "Confusion Matrix : \n",
            " AxesSubplot(0.125,0.11;0.62x0.77)\n"
          ],
          "name": "stdout"
        },
        {
          "output_type": "display_data",
          "data": {
            "image/png": "[encoded data removed]",
            "text/plain": [
              "<Figure size 640x480 with 2 Axes>"
            ]
          },
          "metadata": {
            "tags": []
          }
        }
      ]
    },
    {
      "cell_type": "markdown",
      "metadata": {
        "id": "r4NU5kqo8Cf4"
      },
      "source": [
        "\n",
        "# KNN"
      ]
    },
    {
      "cell_type": "code",
      "metadata": {
        "colab": {
          "base_uri": "https://localhost:8080/",
          "height": 755
        },
        "id": "G7SRNZ048Cf5",
        "outputId": "a143db93-251b-4af2-ce52-cf074f546982"
      },
      "source": [
        "knn = KNeighborsClassifier()\n",
        "knn.fit(X_train, Y_train)\n",
        "predicted = knn.predict(X_test)\n",
        "report = classification_report(Y_test, predicted)\n",
        "matrix = confusion_matrix(Y_test, predicted)\n",
        "print(report)\n",
        "print(matrix)\n",
        "\n",
        "scoring = 'accuracy'\n",
        "akurasi_knn = cross_val_score(knn, X_test, Y_test, cv=seed, scoring=scoring) *100\n",
        "print(\"\\nAkurasi KNN: {}\".format((akurasi_knn.mean()))) \n",
        "auc_knn = roc_auc_score(Y_test, knn.predict_proba(X_test), multi_class='ovo', average='weighted') *100\n",
        "print('ROC AUC score KNN:', auc_knn)\n",
        "recall_knn=recall_score(Y_test,predicted, average='weighted')*100\n",
        "print(\"Recall of KNN is: \",recall_knn)\n",
        "prec_knn=precision_score(Y_test,predicted, average='weighted')*100\n",
        "print(\"Precision of KNN is:\",prec_knn)\n",
        "print (\"Confusion Matrix : \\n\",sns.heatmap(confusion_matrix(Y_test, predicted, normalize='true'), annot = True))"
      ],
      "execution_count": 29,
      "outputs": [
        {
          "output_type": "stream",
          "text": [
            "              precision    recall  f1-score   support\n",
            "\n",
            "           0       1.00      0.30      0.46        10\n",
            "           1       0.82      0.79      0.80       435\n",
            "           2       0.84      0.88      0.86       588\n",
            "\n",
            "    accuracy                           0.83      1033\n",
            "   macro avg       0.89      0.65      0.71      1033\n",
            "weighted avg       0.83      0.83      0.83      1033\n",
            "\n",
            "[[  3   3   4]\n",
            " [  0 343  92]\n",
            " [  0  73 515]]\n",
            "\n",
            "Akurasi KNN: 72.80005628253835\n",
            "ROC AUC score KNN: 90.32364969721907\n",
            "Recall of KNN is:  83.34946757018393\n",
            "Precision of KNN is: 83.41835430617746\n",
            "Confusion Matrix : \n",
            " AxesSubplot(0.125,0.11;0.62x0.77)\n"
          ],
          "name": "stdout"
        },
        {
          "output_type": "display_data",
          "data": {
            "image/png": "[encoded data removed]",
            "text/plain": [
              "<Figure size 640x480 with 2 Axes>"
            ]
          },
          "metadata": {
            "tags": []
          }
        }
      ]
    },
    {
      "cell_type": "markdown",
      "metadata": {
        "id": "O2UPMcZq80Xt"
      },
      "source": [
        "# Light Gradient Boost"
      ]
    },
    {
      "cell_type": "code",
      "metadata": {
        "colab": {
          "base_uri": "https://localhost:8080/",
          "height": 738
        },
        "id": "0ef1zYW9gaxj",
        "outputId": "38b22e77-8ed6-4fb7-cb56-4014a6974826"
      },
      "source": [
        "lgbm = LGBMClassifier()\n",
        "lgbm.fit(X_train, Y_train)\n",
        "predicted = lgbm.predict(X_test)\n",
        "report = classification_report(Y_test, predicted)\n",
        "matrix = confusion_matrix(Y_test, predicted)\n",
        "print(report)\n",
        "print(matrix)\n",
        "\n",
        "scoring = 'accuracy'\n",
        "akurasi_lgbm = cross_val_score(lgbm, X_test, Y_test, cv=seed, scoring=scoring) *100\n",
        "\n",
        "from sklearn.metrics import roc_auc_score\n",
        "\n",
        "print(\"Accuracy Light Gradient Boosting: {}\".format((akurasi_lgbm.mean()))) \n",
        "auc_lgbm = roc_auc_score(Y_test, lgbm.predict_proba(X_test), multi_class='ovo', average='weighted') *100\n",
        "print('ROC AUC score LGBM:', auc_lgbm)\n",
        "\n",
        "recall_lgbm=recall_score(Y_test,predicted, average='weighted')*100\n",
        "print(\"Recall of LGBM is: \",recall_lgbm)\n",
        "prec_lgbm=precision_score(Y_test,predicted, average='weighted')*100\n",
        "print(\"Precision of LGBM is:\",prec_lgbm)\n",
        "\n",
        "print (\"Confusion Matrix : \\n\",sns.heatmap(confusion_matrix(Y_test, predicted, normalize='true'), annot = True))"
      ],
      "execution_count": 30,
      "outputs": [
        {
          "output_type": "stream",
          "text": [
            "              precision    recall  f1-score   support\n",
            "\n",
            "           0       0.42      0.50      0.45        10\n",
            "           1       0.89      0.90      0.90       435\n",
            "           2       0.92      0.91      0.92       588\n",
            "\n",
            "    accuracy                           0.90      1033\n",
            "   macro avg       0.74      0.77      0.76      1033\n",
            "weighted avg       0.91      0.90      0.90      1033\n",
            "\n",
            "[[  5   1   4]\n",
            " [  2 391  42]\n",
            " [  5  45 538]]\n",
            "Accuracy Light Gradient Boosting: 89.06055063083345\n",
            "ROC AUC score LGBM: 96.3590054474906\n",
            "Recall of LGBM is:  90.4162633107454\n",
            "Precision of LGBM is: 90.51908271919704\n",
            "Confusion Matrix : \n",
            " AxesSubplot(0.125,0.11;0.62x0.77)\n"
          ],
          "name": "stdout"
        },
        {
          "output_type": "display_data",
          "data": {
            "image/png": "[encoded data removed]",
            "text/plain": [
              "<Figure size 640x480 with 2 Axes>"
            ]
          },
          "metadata": {
            "tags": []
          }
        }
      ]
    },
    {
      "cell_type": "code",
      "metadata": {
        "colab": {
          "base_uri": "https://localhost:8080/"
        },
        "id": "lAp36eNnBGEH",
        "outputId": "4d04874d-8b2e-4e79-c098-4d9ac0ab8173"
      },
      "source": [
        "lgbm.fit(X_train, Y_train)"
      ],
      "execution_count": 31,
      "outputs": [
        {
          "output_type": "execute_result",
          "data": {
            "text/plain": [
              "LGBMClassifier(boosting_type='gbdt', class_weight=None, colsample_bytree=1.0,\n",
              "               importance_type='split', learning_rate=0.1, max_depth=-1,\n",
              "               min_child_samples=20, min_child_weight=0.001, min_split_gain=0.0,\n",
              "               n_estimators=100, n_jobs=-1, num_leaves=31, objective=None,\n",
              "               random_state=None, reg_alpha=0.0, reg_lambda=0.0, silent=True,\n",
              "               subsample=1.0, subsample_for_bin=200000, subsample_freq=0)"
            ]
          },
          "metadata": {
            "tags": []
          },
          "execution_count": 31
        }
      ]
    },
    {
      "cell_type": "markdown",
      "metadata": {
        "id": "FZTZQV9l9iTf"
      },
      "source": [
        "# HASIL AKURASI"
      ]
    },
    {
      "cell_type": "code",
      "metadata": {
        "colab": {
          "base_uri": "https://localhost:8080/",
          "height": 230
        },
        "id": "tFbTZUB39eAj",
        "outputId": "89977647-a2e4-485c-a12c-8f84798ef638"
      },
      "source": [
        "algos=[\"Decision Tree\",\"Naive Bayes\",\"Logistic Regression\",\"Random Forest\",\"KNN\",\"Light Gradient Boost\"]\n",
        "acc=[akurasi_dt.mean(), akurasi_nb.mean(), akurasi_log.mean(),akurasi_rf.mean(),akurasi_knn.mean(),akurasi_lgbm.mean()]\n",
        "auc=[auc_dt, auc_nb, auc_log,  auc_rf, auc_knn, auc_lgbm]\n",
        "recall=[recall_dt, recall_nb, recall_log,  recall_rf, recall_knn, recall_lgbm]\n",
        "prec=[prec_dt, prec_nb, prec_log,  prec_rf, prec_knn, prec_lgbm]\n",
        "\n",
        "comp={\"Algorithms\":algos,\"Accuracies\":acc,\"AUC\":auc,\"Recall\":recall,\"Precision\":prec}\n",
        "compdf=pd.DataFrame(comp)\n",
        "display(compdf.sort_values(by=[\"Accuracies\",\"AUC\",\"Recall\",\"Precision\"], ascending=False))"
      ],
      "execution_count": 32,
      "outputs": [
        {
          "output_type": "display_data",
          "data": {
            "text/html": [
              "<div>\n",
              "<style scoped>\n",
              "    .dataframe tbody tr th:only-of-type {\n",
              "        vertical-align: middle;\n",
              "    }\n",
              "\n",
              "    .dataframe tbody tr th {\n",
              "        vertical-align: top;\n",
              "    }\n",
              "\n",
              "    .dataframe thead th {\n",
              "        text-align: right;\n",
              "    }\n",
              "</style>\n",
              "<table border=\"1\" class=\"dataframe\">\n",
              "  <thead>\n",
              "    <tr style=\"text-align: right;\">\n",
              "      <th></th>\n",
              "      <th>Algorithms</th>\n",
              "      <th>Accuracies</th>\n",
              "      <th>AUC</th>\n",
              "      <th>Recall</th>\n",
              "      <th>Precision</th>\n",
              "    </tr>\n",
              "  </thead>\n",
              "  <tbody>\n",
              "    <tr>\n",
              "      <th>5</th>\n",
              "      <td>Light Gradient Boost</td>\n",
              "      <td>89.060551</td>\n",
              "      <td>96.359005</td>\n",
              "      <td>90.416263</td>\n",
              "      <td>90.519083</td>\n",
              "    </tr>\n",
              "    <tr>\n",
              "      <th>3</th>\n",
              "      <td>Random Forest</td>\n",
              "      <td>89.059144</td>\n",
              "      <td>95.001688</td>\n",
              "      <td>90.222652</td>\n",
              "      <td>90.272450</td>\n",
              "    </tr>\n",
              "    <tr>\n",
              "      <th>0</th>\n",
              "      <td>Decision Tree</td>\n",
              "      <td>86.251114</td>\n",
              "      <td>89.902197</td>\n",
              "      <td>87.996128</td>\n",
              "      <td>88.419472</td>\n",
              "    </tr>\n",
              "    <tr>\n",
              "      <th>4</th>\n",
              "      <td>KNN</td>\n",
              "      <td>72.800056</td>\n",
              "      <td>90.323650</td>\n",
              "      <td>83.349468</td>\n",
              "      <td>83.418354</td>\n",
              "    </tr>\n",
              "    <tr>\n",
              "      <th>2</th>\n",
              "      <td>Logistic Regression</td>\n",
              "      <td>69.217673</td>\n",
              "      <td>80.798818</td>\n",
              "      <td>69.119071</td>\n",
              "      <td>68.907526</td>\n",
              "    </tr>\n",
              "    <tr>\n",
              "      <th>1</th>\n",
              "      <td>Naive Bayes</td>\n",
              "      <td>30.496224</td>\n",
              "      <td>84.075246</td>\n",
              "      <td>44.724105</td>\n",
              "      <td>65.278310</td>\n",
              "    </tr>\n",
              "  </tbody>\n",
              "</table>\n",
              "</div>"
            ],
            "text/plain": [
              "             Algorithms  Accuracies        AUC     Recall  Precision\n",
              "5  Light Gradient Boost   89.060551  96.359005  90.416263  90.519083\n",
              "3         Random Forest   89.059144  95.001688  90.222652  90.272450\n",
              "0         Decision Tree   86.251114  89.902197  87.996128  88.419472\n",
              "4                   KNN   72.800056  90.323650  83.349468  83.418354\n",
              "2   Logistic Regression   69.217673  80.798818  69.119071  68.907526\n",
              "1           Naive Bayes   30.496224  84.075246  44.724105  65.278310"
            ]
          },
          "metadata": {
            "tags": []
          }
        }
      ]
    },
    {
      "cell_type": "markdown",
      "metadata": {
        "id": "pxdGUWU43Kt7"
      },
      "source": [
        "#Hyperparameter Tunning LGBM"
      ]
    },
    {
      "cell_type": "code",
      "metadata": {
        "colab": {
          "base_uri": "https://localhost:8080/"
        },
        "id": "SahQs-hct4gC",
        "outputId": "cc1a1db7-c03c-4d90-f0e3-6632e9ed5f77"
      },
      "source": [
        "import lightgbm as lgbm\n",
        "from sklearn.model_selection import GridSearchCV\n",
        "\n",
        "optimized_lgbm = lgbm.LGBMRegressor()                                                            \n",
        "optimized_lgbm.fit(X_train, Y_train)"
      ],
      "execution_count": 33,
      "outputs": [
        {
          "output_type": "execute_result",
          "data": {
            "text/plain": [
              "LGBMRegressor(boosting_type='gbdt', class_weight=None, colsample_bytree=1.0,\n",
              "              importance_type='split', learning_rate=0.1, max_depth=-1,\n",
              "              min_child_samples=20, min_child_weight=0.001, min_split_gain=0.0,\n",
              "              n_estimators=100, n_jobs=-1, num_leaves=31, objective=None,\n",
              "              random_state=None, reg_alpha=0.0, reg_lambda=0.0, silent=True,\n",
              "              subsample=1.0, subsample_for_bin=200000, subsample_freq=0)"
            ]
          },
          "metadata": {
            "tags": []
          },
          "execution_count": 33
        }
      ]
    },
    {
      "cell_type": "code",
      "metadata": {
        "colab": {
          "base_uri": "https://localhost:8080/"
        },
        "id": "esmVhvNbzIG7",
        "outputId": "2594356a-dd1a-4c4c-fb78-2eeb87b00fc1"
      },
      "source": [
        "param = {\n",
        "        'n_estimators': (100, 400, 10),\n",
        "        'min_child_weight': (3, 20, 2),\n",
        "        'colsample_bytree': (0.4, 1.0),\n",
        "        'max_depth': (5, 15, 2),\n",
        "        'min_child_samples': (10, 30)}\n",
        "        \n",
        "grid = GridSearchCV(optimized_lgbm, param_grid = param, cv=5)\n",
        "\n",
        "grid.fit(X_train, Y_train)"
      ],
      "execution_count": 34,
      "outputs": [
        {
          "output_type": "execute_result",
          "data": {
            "text/plain": [
              "GridSearchCV(cv=5, error_score=nan,\n",
              "             estimator=LGBMRegressor(boosting_type='gbdt', class_weight=None,\n",
              "                                     colsample_bytree=1.0,\n",
              "                                     importance_type='split', learning_rate=0.1,\n",
              "                                     max_depth=-1, min_child_samples=20,\n",
              "                                     min_child_weight=0.001, min_split_gain=0.0,\n",
              "                                     n_estimators=100, n_jobs=-1, num_leaves=31,\n",
              "                                     objective=None, random_state=None,\n",
              "                                     reg_alpha=0.0, reg_lambda=0.0, silent=True,\n",
              "                                     subsample=1.0, subsample_for_bin=200000,\n",
              "                                     subsample_freq=0),\n",
              "             iid='deprecated', n_jobs=None,\n",
              "             param_grid={'colsample_bytree': (0.4, 1.0),\n",
              "                         'max_depth': (5, 15, 2), 'min_child_samples': (10, 30),\n",
              "                         'min_child_weight': (3, 20, 2),\n",
              "                         'n_estimators': (100, 400, 10)},\n",
              "             pre_dispatch='2*n_jobs', refit=True, return_train_score=False,\n",
              "             scoring=None, verbose=0)"
            ]
          },
          "metadata": {
            "tags": []
          },
          "execution_count": 34
        }
      ]
    },
    {
      "cell_type": "code",
      "metadata": {
        "colab": {
          "base_uri": "https://localhost:8080/"
        },
        "id": "yHNhgbmCRZf_",
        "outputId": "b0b4770b-e373-4a61-e839-8b27d1dd8c05"
      },
      "source": [
        "predicted1 = grid.predict(X_test)\n",
        "predicted1\n",
        "X_test.shape"
      ],
      "execution_count": 35,
      "outputs": [
        {
          "output_type": "execute_result",
          "data": {
            "text/plain": [
              "(1033, 8)"
            ]
          },
          "metadata": {
            "tags": []
          },
          "execution_count": 35
        }
      ]
    },
    {
      "cell_type": "code",
      "metadata": {
        "colab": {
          "base_uri": "https://localhost:8080/",
          "height": 738
        },
        "id": "O4mtRPy9ohFp",
        "outputId": "705c4de2-5672-43d7-f01a-f0112b9778e7"
      },
      "source": [
        "lgbm_tuning = LGBMClassifier(boosting_type='gbdt', class_weight=None,\n",
        "                                     colsample_bytree=1.0,\n",
        "                                     importance_type='split', learning_rate=0.1,\n",
        "                                     max_depth=-1, min_child_samples=20,\n",
        "                                     min_child_weight=0.001, min_split_gain=0.0,\n",
        "                                     n_estimators=100, n_jobs=-1, num_leaves=31,\n",
        "                                     objective=None, random_state=None,\n",
        "                                     reg_alpha=0.0, reg_lambda=0.0, silent=True,\n",
        "                                     subsample=1.0, subsample_for_bin=200000,\n",
        "                                     subsample_freq=0)\n",
        "lgbm_tuning.fit(X_train, Y_train)\n",
        "predicted = lgbm_tuning.predict(X_test)\n",
        "report = classification_report(Y_test, predicted)\n",
        "matrix = confusion_matrix(Y_test, predicted)\n",
        "print(report)\n",
        "print(matrix)\n",
        "\n",
        "akurasi_lgbm = cross_val_score(lgbm_tuning, X_test, Y_test, cv=seed, scoring='accuracy') *100\n",
        "\n",
        "from sklearn.metrics import roc_auc_score\n",
        "\n",
        "print(\"Accuracy Light Gradient Boosting after tuning: {}\".format((akurasi_lgbm.mean()))) \n",
        "auc_lgbm = roc_auc_score(Y_test, lgbm_tuning.predict_proba(X_test), multi_class='ovo') *100\n",
        "print('ROC AUC score LGBM:', auc_lgbm)\n",
        "\n",
        "recall_lgbm=recall_score(Y_test,predicted, average='weighted')*100\n",
        "print(\"Recall of LGBM is after tuning: \",recall_lgbm)\n",
        "prec_lgbm=precision_score(Y_test,predicted, average='weighted')*100\n",
        "print(\"Precision of LGBM is after tuning:\",prec_lgbm)\n",
        "\n",
        "print (\"Confusion Matrix : \\n\",sns.heatmap(confusion_matrix(Y_test, predicted, normalize='true'), annot = True))"
      ],
      "execution_count": 36,
      "outputs": [
        {
          "output_type": "stream",
          "text": [
            "              precision    recall  f1-score   support\n",
            "\n",
            "           0       0.42      0.50      0.45        10\n",
            "           1       0.89      0.90      0.90       435\n",
            "           2       0.92      0.91      0.92       588\n",
            "\n",
            "    accuracy                           0.90      1033\n",
            "   macro avg       0.74      0.77      0.76      1033\n",
            "weighted avg       0.91      0.90      0.90      1033\n",
            "\n",
            "[[  5   1   4]\n",
            " [  2 391  42]\n",
            " [  5  45 538]]\n",
            "Accuracy Light Gradient Boosting after tuning: 89.06055063083345\n",
            "ROC AUC score LGBM: 96.22143378424167\n",
            "Recall of LGBM is after tuning:  90.4162633107454\n",
            "Precision of LGBM is after tuning: 90.51908271919704\n",
            "Confusion Matrix : \n",
            " AxesSubplot(0.125,0.11;0.62x0.77)\n"
          ],
          "name": "stdout"
        },
        {
          "output_type": "display_data",
          "data": {
            "image/png": "[encoded data removed]",
            "text/plain": [
              "<Figure size 640x480 with 2 Axes>"
            ]
          },
          "metadata": {
            "tags": []
          }
        }
      ]
    },
    {
      "cell_type": "code",
      "metadata": {
        "colab": {
          "base_uri": "https://localhost:8080/",
          "height": 472
        },
        "id": "FHMV2WjbFCw_",
        "outputId": "6d8fd6da-5534-4cea-b53d-4d3ab9e1a1cc"
      },
      "source": [
        "from lightgbm import plot_importance\n",
        "plot_importance(lgbm_tuning)\n",
        "pyplot.show()"
      ],
      "execution_count": 37,
      "outputs": [
        {
          "output_type": "display_data",
          "data": {
            "image/png": "[encoded data removed]",
            "text/plain": [
              "<Figure size 640x480 with 1 Axes>"
            ]
          },
          "metadata": {
            "tags": []
          }
        }
      ]
    }
  ]
}