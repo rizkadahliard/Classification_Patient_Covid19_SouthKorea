{
  "nbformat": 4,
  "nbformat_minor": 0,
  "metadata": {
    "colab": {
      "name": "BASELINE",
      "provenance": [],
      "collapsed_sections": [
        "3Y3UtWZtvEGA",
        "pCL1Rafw5Okz",
        "WcSiFK-r81cP",
        "dTi6dD948qVM",
        "HuFU5fM7W-ef"
      ],
      "include_colab_link": true
    },
    "kernelspec": {
      "name": "python3",
      "display_name": "Python 3"
    },
    "language_info": {
      "name": "python"
    }
  },
  "cells": [
    {
      "cell_type": "markdown",
      "metadata": {
        "id": "view-in-github",
        "colab_type": "text"
      },
      "source": [
        "<a href=\"https://colab.research.google.com/github/rizkadahliard/Classification_Patient_Covid19_SouthKorea/blob/main/BASELINE.ipynb\" target=\"_parent\"><img src=\"https://colab.research.google.com/assets/colab-badge.svg\" alt=\"Open In Colab\"/></a>"
      ]
    },
    {
      "cell_type": "markdown",
      "metadata": {
        "id": "jqthuJoku2rY"
      },
      "source": [
        "#Koneksi ke Google Drive"
      ]
    },
    {
      "cell_type": "code",
      "metadata": {
        "colab": {
          "base_uri": "https://localhost:8080/"
        },
        "id": "GrqtE3NH7rGJ",
        "outputId": "d1888f17-0921-42cb-b42d-01e8f3f85eee"
      },
      "source": [
        "from google.colab import drive\n",
        "drive.mount('/content/drive', force_remount=True)"
      ],
      "execution_count": null,
      "outputs": [
        {
          "output_type": "stream",
          "text": [
            "Mounted at /content/drive\n"
          ],
          "name": "stdout"
        }
      ]
    },
    {
      "cell_type": "markdown",
      "metadata": {
        "id": "3Y3UtWZtvEGA"
      },
      "source": [
        "#IMPORT MODULE"
      ]
    },
    {
      "cell_type": "code",
      "metadata": {
        "id": "5CelubFF75Oq"
      },
      "source": [
        "import pandas as pd\n",
        "import numpy as np\n",
        "import seaborn as sns\n",
        "import plotly.express as px\n",
        "from matplotlib import pyplot\n",
        "from sklearn import metrics\n",
        "import matplotlib.pyplot as plt; plt.rcdefaults()\n",
        "\n",
        "from sklearn.ensemble import RandomForestClassifier\n",
        "from sklearn.naive_bayes import GaussianNB\n",
        "from sklearn.neighbors import KNeighborsClassifier\n",
        "from sklearn.tree import DecisionTreeClassifier \n",
        "from lightgbm import LGBMClassifier\n",
        "from sklearn.linear_model import  LogisticRegression\n",
        "from sklearn.neighbors import KNeighborsClassifier\n",
        "\n",
        "from sklearn.preprocessing import LabelBinarizer\n",
        "from sklearn.model_selection import train_test_split\n",
        "from sklearn.model_selection import cross_val_score, cross_validate\n",
        "from sklearn.metrics import classification_report\n",
        "from sklearn.metrics import accuracy_score , confusion_matrix,f1_score, roc_auc_score,precision_score, recall_score,roc_curve\n",
        "\n",
        "from datetime import date"
      ],
      "execution_count": null,
      "outputs": []
    },
    {
      "cell_type": "markdown",
      "metadata": {
        "id": "_OtiMDVdm7gb"
      },
      "source": [
        "## Data Patien Info"
      ]
    },
    {
      "cell_type": "code",
      "metadata": {
        "id": "Vj6F_OJU77Io"
      },
      "source": [
        "patien_info = pd.read_csv('drive/MyDrive/dataset/PatientInfo.csv')"
      ],
      "execution_count": null,
      "outputs": []
    },
    {
      "cell_type": "code",
      "metadata": {
        "colab": {
          "base_uri": "https://localhost:8080/",
          "height": 224
        },
        "id": "29CaPEV28jz4",
        "outputId": "e05bafbb-a305-43c0-e1a8-a866bb6466f7"
      },
      "source": [
        "print(patien_info.shape)\n",
        "patien_info.head()"
      ],
      "execution_count": null,
      "outputs": [
        {
          "output_type": "stream",
          "text": [
            "(5165, 13)\n"
          ],
          "name": "stdout"
        },
        {
          "output_type": "execute_result",
          "data": {
            "text/html": [
              "<div>\n",
              "<style scoped>\n",
              "    .dataframe tbody tr th:only-of-type {\n",
              "        vertical-align: middle;\n",
              "    }\n",
              "\n",
              "    .dataframe tbody tr th {\n",
              "        vertical-align: top;\n",
              "    }\n",
              "\n",
              "    .dataframe thead th {\n",
              "        text-align: right;\n",
              "    }\n",
              "</style>\n",
              "<table border=\"1\" class=\"dataframe\">\n",
              "  <thead>\n",
              "    <tr style=\"text-align: right;\">\n",
              "      <th></th>\n",
              "      <th>patient_id</th>\n",
              "      <th>sex</th>\n",
              "      <th>age</th>\n",
              "      <th>province</th>\n",
              "      <th>city</th>\n",
              "      <th>infection_case</th>\n",
              "      <th>infected_by</th>\n",
              "      <th>contact_number</th>\n",
              "      <th>symptom_onset_date</th>\n",
              "      <th>confirmed_date</th>\n",
              "      <th>released_date</th>\n",
              "      <th>deceased_date</th>\n",
              "      <th>state</th>\n",
              "    </tr>\n",
              "  </thead>\n",
              "  <tbody>\n",
              "    <tr>\n",
              "      <th>0</th>\n",
              "      <td>1000000001</td>\n",
              "      <td>male</td>\n",
              "      <td>50.0</td>\n",
              "      <td>Seoul</td>\n",
              "      <td>Gangseo-gu</td>\n",
              "      <td>overseas inflow</td>\n",
              "      <td>NaN</td>\n",
              "      <td>75</td>\n",
              "      <td>1/22/2020</td>\n",
              "      <td>1/23/2020</td>\n",
              "      <td>2/5/2020</td>\n",
              "      <td>NaN</td>\n",
              "      <td>released</td>\n",
              "    </tr>\n",
              "    <tr>\n",
              "      <th>1</th>\n",
              "      <td>1000000002</td>\n",
              "      <td>male</td>\n",
              "      <td>30.0</td>\n",
              "      <td>Seoul</td>\n",
              "      <td>Jungnang-gu</td>\n",
              "      <td>overseas inflow</td>\n",
              "      <td>NaN</td>\n",
              "      <td>31</td>\n",
              "      <td>NaN</td>\n",
              "      <td>1/30/2020</td>\n",
              "      <td>3/2/2020</td>\n",
              "      <td>NaN</td>\n",
              "      <td>released</td>\n",
              "    </tr>\n",
              "    <tr>\n",
              "      <th>2</th>\n",
              "      <td>1000000003</td>\n",
              "      <td>male</td>\n",
              "      <td>50.0</td>\n",
              "      <td>Seoul</td>\n",
              "      <td>Jongno-gu</td>\n",
              "      <td>contact with patient</td>\n",
              "      <td>2002000001</td>\n",
              "      <td>17</td>\n",
              "      <td>NaN</td>\n",
              "      <td>1/30/2020</td>\n",
              "      <td>2/19/2020</td>\n",
              "      <td>NaN</td>\n",
              "      <td>released</td>\n",
              "    </tr>\n",
              "    <tr>\n",
              "      <th>3</th>\n",
              "      <td>1000000004</td>\n",
              "      <td>male</td>\n",
              "      <td>20.0</td>\n",
              "      <td>Seoul</td>\n",
              "      <td>Mapo-gu</td>\n",
              "      <td>overseas inflow</td>\n",
              "      <td>NaN</td>\n",
              "      <td>9</td>\n",
              "      <td>1/26/2020</td>\n",
              "      <td>1/30/2020</td>\n",
              "      <td>2/15/2020</td>\n",
              "      <td>NaN</td>\n",
              "      <td>released</td>\n",
              "    </tr>\n",
              "    <tr>\n",
              "      <th>4</th>\n",
              "      <td>1000000005</td>\n",
              "      <td>female</td>\n",
              "      <td>20.0</td>\n",
              "      <td>Seoul</td>\n",
              "      <td>Seongbuk-gu</td>\n",
              "      <td>contact with patient</td>\n",
              "      <td>1000000002</td>\n",
              "      <td>2</td>\n",
              "      <td>NaN</td>\n",
              "      <td>1/31/2020</td>\n",
              "      <td>2/24/2020</td>\n",
              "      <td>NaN</td>\n",
              "      <td>released</td>\n",
              "    </tr>\n",
              "  </tbody>\n",
              "</table>\n",
              "</div>"
            ],
            "text/plain": [
              "   patient_id     sex   age  ... released_date deceased_date     state\n",
              "0  1000000001    male  50.0  ...      2/5/2020           NaN  released\n",
              "1  1000000002    male  30.0  ...      3/2/2020           NaN  released\n",
              "2  1000000003    male  50.0  ...     2/19/2020           NaN  released\n",
              "3  1000000004    male  20.0  ...     2/15/2020           NaN  released\n",
              "4  1000000005  female  20.0  ...     2/24/2020           NaN  released\n",
              "\n",
              "[5 rows x 13 columns]"
            ]
          },
          "metadata": {
            "tags": []
          },
          "execution_count": 4
        }
      ]
    },
    {
      "cell_type": "code",
      "metadata": {
        "colab": {
          "base_uri": "https://localhost:8080/",
          "height": 224
        },
        "id": "G63Br5my2IZb",
        "outputId": "77b5467c-e46d-482d-d12f-4e0f248810e6"
      },
      "source": [
        "patien_info.rename(columns= {'confirmed_date' :'date'}, inplace=True) #mengubah nama column confirmed_date menjadi date\n",
        "patien_info.age = patien_info.age.fillna(0) #mengubah bagian kosong pada kolom age menjadi 0\n",
        "patien_info.age= patien_info.age.astype('int64') #mengubah tipe data kolom age\n",
        "print(patien_info.shape)\n",
        "patien_info.head()#menampilkan data patien_info"
      ],
      "execution_count": null,
      "outputs": [
        {
          "output_type": "stream",
          "text": [
            "(5165, 13)\n"
          ],
          "name": "stdout"
        },
        {
          "output_type": "execute_result",
          "data": {
            "text/html": [
              "<div>\n",
              "<style scoped>\n",
              "    .dataframe tbody tr th:only-of-type {\n",
              "        vertical-align: middle;\n",
              "    }\n",
              "\n",
              "    .dataframe tbody tr th {\n",
              "        vertical-align: top;\n",
              "    }\n",
              "\n",
              "    .dataframe thead th {\n",
              "        text-align: right;\n",
              "    }\n",
              "</style>\n",
              "<table border=\"1\" class=\"dataframe\">\n",
              "  <thead>\n",
              "    <tr style=\"text-align: right;\">\n",
              "      <th></th>\n",
              "      <th>patient_id</th>\n",
              "      <th>sex</th>\n",
              "      <th>age</th>\n",
              "      <th>province</th>\n",
              "      <th>city</th>\n",
              "      <th>infection_case</th>\n",
              "      <th>infected_by</th>\n",
              "      <th>contact_number</th>\n",
              "      <th>symptom_onset_date</th>\n",
              "      <th>date</th>\n",
              "      <th>released_date</th>\n",
              "      <th>deceased_date</th>\n",
              "      <th>state</th>\n",
              "    </tr>\n",
              "  </thead>\n",
              "  <tbody>\n",
              "    <tr>\n",
              "      <th>0</th>\n",
              "      <td>1000000001</td>\n",
              "      <td>male</td>\n",
              "      <td>50</td>\n",
              "      <td>Seoul</td>\n",
              "      <td>Gangseo-gu</td>\n",
              "      <td>overseas inflow</td>\n",
              "      <td>NaN</td>\n",
              "      <td>75</td>\n",
              "      <td>1/22/2020</td>\n",
              "      <td>1/23/2020</td>\n",
              "      <td>2/5/2020</td>\n",
              "      <td>NaN</td>\n",
              "      <td>released</td>\n",
              "    </tr>\n",
              "    <tr>\n",
              "      <th>1</th>\n",
              "      <td>1000000002</td>\n",
              "      <td>male</td>\n",
              "      <td>30</td>\n",
              "      <td>Seoul</td>\n",
              "      <td>Jungnang-gu</td>\n",
              "      <td>overseas inflow</td>\n",
              "      <td>NaN</td>\n",
              "      <td>31</td>\n",
              "      <td>NaN</td>\n",
              "      <td>1/30/2020</td>\n",
              "      <td>3/2/2020</td>\n",
              "      <td>NaN</td>\n",
              "      <td>released</td>\n",
              "    </tr>\n",
              "    <tr>\n",
              "      <th>2</th>\n",
              "      <td>1000000003</td>\n",
              "      <td>male</td>\n",
              "      <td>50</td>\n",
              "      <td>Seoul</td>\n",
              "      <td>Jongno-gu</td>\n",
              "      <td>contact with patient</td>\n",
              "      <td>2002000001</td>\n",
              "      <td>17</td>\n",
              "      <td>NaN</td>\n",
              "      <td>1/30/2020</td>\n",
              "      <td>2/19/2020</td>\n",
              "      <td>NaN</td>\n",
              "      <td>released</td>\n",
              "    </tr>\n",
              "    <tr>\n",
              "      <th>3</th>\n",
              "      <td>1000000004</td>\n",
              "      <td>male</td>\n",
              "      <td>20</td>\n",
              "      <td>Seoul</td>\n",
              "      <td>Mapo-gu</td>\n",
              "      <td>overseas inflow</td>\n",
              "      <td>NaN</td>\n",
              "      <td>9</td>\n",
              "      <td>1/26/2020</td>\n",
              "      <td>1/30/2020</td>\n",
              "      <td>2/15/2020</td>\n",
              "      <td>NaN</td>\n",
              "      <td>released</td>\n",
              "    </tr>\n",
              "    <tr>\n",
              "      <th>4</th>\n",
              "      <td>1000000005</td>\n",
              "      <td>female</td>\n",
              "      <td>20</td>\n",
              "      <td>Seoul</td>\n",
              "      <td>Seongbuk-gu</td>\n",
              "      <td>contact with patient</td>\n",
              "      <td>1000000002</td>\n",
              "      <td>2</td>\n",
              "      <td>NaN</td>\n",
              "      <td>1/31/2020</td>\n",
              "      <td>2/24/2020</td>\n",
              "      <td>NaN</td>\n",
              "      <td>released</td>\n",
              "    </tr>\n",
              "  </tbody>\n",
              "</table>\n",
              "</div>"
            ],
            "text/plain": [
              "   patient_id     sex  age  ... released_date deceased_date     state\n",
              "0  1000000001    male   50  ...      2/5/2020           NaN  released\n",
              "1  1000000002    male   30  ...      3/2/2020           NaN  released\n",
              "2  1000000003    male   50  ...     2/19/2020           NaN  released\n",
              "3  1000000004    male   20  ...     2/15/2020           NaN  released\n",
              "4  1000000005  female   20  ...     2/24/2020           NaN  released\n",
              "\n",
              "[5 rows x 13 columns]"
            ]
          },
          "metadata": {
            "tags": []
          },
          "execution_count": 5
        }
      ]
    },
    {
      "cell_type": "markdown",
      "metadata": {
        "id": "IgjASlfz5VBQ"
      },
      "source": [
        "# DATA PREPARASI"
      ]
    },
    {
      "cell_type": "code",
      "metadata": {
        "colab": {
          "base_uri": "https://localhost:8080/"
        },
        "id": "AuT9hXEgXQ7C",
        "outputId": "b215db16-4408-4ddc-b98a-e6a030bd2f8b"
      },
      "source": [
        "pip install plotly_express==0.4.0"
      ],
      "execution_count": null,
      "outputs": [
        {
          "output_type": "stream",
          "text": [
            "Requirement already satisfied: plotly_express==0.4.0 in /usr/local/lib/python3.7/dist-packages (0.4.0)\n",
            "Requirement already satisfied: pandas>=0.20.0 in /usr/local/lib/python3.7/dist-packages (from plotly_express==0.4.0) (1.1.5)\n",
            "Requirement already satisfied: patsy>=0.5 in /usr/local/lib/python3.7/dist-packages (from plotly_express==0.4.0) (0.5.1)\n",
            "Requirement already satisfied: scipy>=0.18 in /usr/local/lib/python3.7/dist-packages (from plotly_express==0.4.0) (1.4.1)\n",
            "Requirement already satisfied: plotly>=4.0.0 in /usr/local/lib/python3.7/dist-packages (from plotly_express==0.4.0) (4.4.1)\n",
            "Requirement already satisfied: numpy>=1.11 in /usr/local/lib/python3.7/dist-packages (from plotly_express==0.4.0) (1.19.5)\n",
            "Requirement already satisfied: statsmodels>=0.9.0 in /usr/local/lib/python3.7/dist-packages (from plotly_express==0.4.0) (0.10.2)\n",
            "Requirement already satisfied: pytz>=2017.2 in /usr/local/lib/python3.7/dist-packages (from pandas>=0.20.0->plotly_express==0.4.0) (2018.9)\n",
            "Requirement already satisfied: python-dateutil>=2.7.3 in /usr/local/lib/python3.7/dist-packages (from pandas>=0.20.0->plotly_express==0.4.0) (2.8.1)\n",
            "Requirement already satisfied: six in /usr/local/lib/python3.7/dist-packages (from patsy>=0.5->plotly_express==0.4.0) (1.15.0)\n",
            "Requirement already satisfied: retrying>=1.3.3 in /usr/local/lib/python3.7/dist-packages (from plotly>=4.0.0->plotly_express==0.4.0) (1.3.3)\n"
          ],
          "name": "stdout"
        }
      ]
    },
    {
      "cell_type": "code",
      "metadata": {
        "colab": {
          "base_uri": "https://localhost:8080/",
          "height": 517
        },
        "id": "GCRKKnpryVkD",
        "outputId": "bdc83dd9-f920-4b44-ed28-cc3b86aa2794"
      },
      "source": [
        "def null_analysis(patien_info):\n",
        "  null_cnt = patien_info.isnull().sum() # calculate null counts\n",
        "  null_cnt = null_cnt[null_cnt!=0] # remove non-null cols\n",
        "  null_percent = null_cnt / len(patien_info) * 100 # calculate null percentages\n",
        "  null_table = pd.concat([pd.DataFrame(null_cnt), pd.DataFrame(null_percent)], axis=1)\n",
        "  null_table.columns = ['counts', 'percentage']\n",
        "  null_table.sort_values('counts', ascending=False, inplace=True)\n",
        "  return null_table\n",
        "\n",
        "# visualise null table\n",
        "import plotly_express as px\n",
        "null_table = null_analysis(patien_info)\n",
        "px.bar(null_table.reset_index(), x='index', y='percentage', text='counts', height=500)"
      ],
      "execution_count": null,
      "outputs": [
        {
          "output_type": "display_data",
          "data": {
            "text/html": [
              "<html>\n",
              "<head><meta charset=\"utf-8\" /></head>\n",
              "<body>\n",
              "    <div>\n",
              "            <script src=\"https://cdnjs.cloudflare.com/ajax/libs/mathjax/2.7.5/MathJax.js?config=TeX-AMS-MML_SVG\"></script><script type=\"text/javascript\">if (window.MathJax) {MathJax.Hub.Config({SVG: {font: \"STIX-Web\"}});}</script>\n",
              "                <script type=\"text/javascript\">window.PlotlyConfig = {MathJaxConfig: 'local'};</script>\n",
              "        <script src=\"https://cdn.plot.ly/plotly-latest.min.js\"></script>    \n",
              "            <div id=\"edbb6be7-bccd-4fff-ae6d-35b8136c3375\" class=\"plotly-graph-div\" style=\"height:500px; width:100%;\"></div>\n",
              "            <script type=\"text/javascript\">\n",
              "                \n",
              "                    window.PLOTLYENV=window.PLOTLYENV || {};\n",
              "                    \n",
              "                if (document.getElementById(\"edbb6be7-bccd-4fff-ae6d-35b8136c3375\")) {\n",
              "                    Plotly.newPlot(\n",
              "                        'edbb6be7-bccd-4fff-ae6d-35b8136c3375',\n",
              "                        [{\"alignmentgroup\": \"True\", \"hoverlabel\": {\"namelength\": 0}, \"hovertemplate\": \"index=%{x}<br>percentage=%{y}<br>counts=%{text}\", \"legendgroup\": \"\", \"marker\": {\"color\": \"#636efa\"}, \"name\": \"\", \"offsetgroup\": \"\", \"orientation\": \"v\", \"showlegend\": false, \"text\": [5099.0, 4475.0, 4374.0, 3819.0, 3578.0, 1122.0, 919.0, 94.0, 3.0], \"textposition\": \"auto\", \"type\": \"bar\", \"x\": [\"deceased_date\", \"symptom_onset_date\", \"contact_number\", \"infected_by\", \"released_date\", \"sex\", \"infection_case\", \"city\", \"date\"], \"xaxis\": \"x\", \"y\": [98.72216844143273, 86.64085188770572, 84.68538238141335, 73.93998063891578, 69.27395934172313, 21.723136495643754, 17.792836398838336, 1.8199419167473376, 0.058083252662149074], \"yaxis\": \"y\"}],\n",
              "                        {\"barmode\": \"relative\", \"height\": 500, \"legend\": {\"tracegroupgap\": 0}, \"margin\": {\"t\": 60}, \"template\": {\"data\": {\"bar\": [{\"error_x\": {\"color\": \"#2a3f5f\"}, \"error_y\": {\"color\": \"#2a3f5f\"}, \"marker\": {\"line\": {\"color\": \"#E5ECF6\", \"width\": 0.5}}, \"type\": \"bar\"}], \"barpolar\": [{\"marker\": {\"line\": {\"color\": \"#E5ECF6\", \"width\": 0.5}}, \"type\": \"barpolar\"}], \"carpet\": [{\"aaxis\": {\"endlinecolor\": \"#2a3f5f\", \"gridcolor\": \"white\", \"linecolor\": \"white\", \"minorgridcolor\": \"white\", \"startlinecolor\": \"#2a3f5f\"}, \"baxis\": {\"endlinecolor\": \"#2a3f5f\", \"gridcolor\": \"white\", \"linecolor\": \"white\", \"minorgridcolor\": \"white\", \"startlinecolor\": \"#2a3f5f\"}, \"type\": \"carpet\"}], \"choropleth\": [{\"colorbar\": {\"outlinewidth\": 0, \"ticks\": \"\"}, \"type\": \"choropleth\"}], \"contour\": [{\"colorbar\": {\"outlinewidth\": 0, \"ticks\": \"\"}, \"colorscale\": [[0.0, \"#0d0887\"], [0.1111111111111111, \"#46039f\"], [0.2222222222222222, \"#7201a8\"], [0.3333333333333333, \"#9c179e\"], [0.4444444444444444, \"#bd3786\"], [0.5555555555555556, \"#d8576b\"], [0.6666666666666666, \"#ed7953\"], [0.7777777777777778, \"#fb9f3a\"], [0.8888888888888888, \"#fdca26\"], [1.0, \"#f0f921\"]], \"type\": \"contour\"}], \"contourcarpet\": [{\"colorbar\": {\"outlinewidth\": 0, \"ticks\": \"\"}, \"type\": \"contourcarpet\"}], \"heatmap\": [{\"colorbar\": {\"outlinewidth\": 0, \"ticks\": \"\"}, \"colorscale\": [[0.0, \"#0d0887\"], [0.1111111111111111, \"#46039f\"], [0.2222222222222222, \"#7201a8\"], [0.3333333333333333, \"#9c179e\"], [0.4444444444444444, \"#bd3786\"], [0.5555555555555556, \"#d8576b\"], [0.6666666666666666, \"#ed7953\"], [0.7777777777777778, \"#fb9f3a\"], [0.8888888888888888, \"#fdca26\"], [1.0, \"#f0f921\"]], \"type\": \"heatmap\"}], \"heatmapgl\": [{\"colorbar\": {\"outlinewidth\": 0, \"ticks\": \"\"}, \"colorscale\": [[0.0, \"#0d0887\"], [0.1111111111111111, \"#46039f\"], [0.2222222222222222, \"#7201a8\"], [0.3333333333333333, \"#9c179e\"], [0.4444444444444444, \"#bd3786\"], [0.5555555555555556, \"#d8576b\"], [0.6666666666666666, \"#ed7953\"], [0.7777777777777778, \"#fb9f3a\"], [0.8888888888888888, \"#fdca26\"], [1.0, \"#f0f921\"]], \"type\": \"heatmapgl\"}], \"histogram\": [{\"marker\": {\"colorbar\": {\"outlinewidth\": 0, \"ticks\": \"\"}}, \"type\": \"histogram\"}], \"histogram2d\": [{\"colorbar\": {\"outlinewidth\": 0, \"ticks\": \"\"}, \"colorscale\": [[0.0, \"#0d0887\"], [0.1111111111111111, \"#46039f\"], [0.2222222222222222, \"#7201a8\"], [0.3333333333333333, \"#9c179e\"], [0.4444444444444444, \"#bd3786\"], [0.5555555555555556, \"#d8576b\"], [0.6666666666666666, \"#ed7953\"], [0.7777777777777778, \"#fb9f3a\"], [0.8888888888888888, \"#fdca26\"], [1.0, \"#f0f921\"]], \"type\": \"histogram2d\"}], \"histogram2dcontour\": [{\"colorbar\": {\"outlinewidth\": 0, \"ticks\": \"\"}, \"colorscale\": [[0.0, \"#0d0887\"], [0.1111111111111111, \"#46039f\"], [0.2222222222222222, \"#7201a8\"], [0.3333333333333333, \"#9c179e\"], [0.4444444444444444, \"#bd3786\"], [0.5555555555555556, \"#d8576b\"], [0.6666666666666666, \"#ed7953\"], [0.7777777777777778, \"#fb9f3a\"], [0.8888888888888888, \"#fdca26\"], [1.0, \"#f0f921\"]], \"type\": \"histogram2dcontour\"}], \"mesh3d\": [{\"colorbar\": {\"outlinewidth\": 0, \"ticks\": \"\"}, \"type\": \"mesh3d\"}], \"parcoords\": [{\"line\": {\"colorbar\": {\"outlinewidth\": 0, \"ticks\": \"\"}}, \"type\": \"parcoords\"}], \"pie\": [{\"automargin\": true, \"type\": \"pie\"}], \"scatter\": [{\"marker\": {\"colorbar\": {\"outlinewidth\": 0, \"ticks\": \"\"}}, \"type\": \"scatter\"}], \"scatter3d\": [{\"line\": {\"colorbar\": {\"outlinewidth\": 0, \"ticks\": \"\"}}, \"marker\": {\"colorbar\": {\"outlinewidth\": 0, \"ticks\": \"\"}}, \"type\": \"scatter3d\"}], \"scattercarpet\": [{\"marker\": {\"colorbar\": {\"outlinewidth\": 0, \"ticks\": \"\"}}, \"type\": \"scattercarpet\"}], \"scattergeo\": [{\"marker\": {\"colorbar\": {\"outlinewidth\": 0, \"ticks\": \"\"}}, \"type\": \"scattergeo\"}], \"scattergl\": [{\"marker\": {\"colorbar\": {\"outlinewidth\": 0, \"ticks\": \"\"}}, \"type\": \"scattergl\"}], \"scattermapbox\": [{\"marker\": {\"colorbar\": {\"outlinewidth\": 0, \"ticks\": \"\"}}, \"type\": \"scattermapbox\"}], \"scatterpolar\": [{\"marker\": {\"colorbar\": {\"outlinewidth\": 0, \"ticks\": \"\"}}, \"type\": \"scatterpolar\"}], \"scatterpolargl\": [{\"marker\": {\"colorbar\": {\"outlinewidth\": 0, \"ticks\": \"\"}}, \"type\": \"scatterpolargl\"}], \"scatterternary\": [{\"marker\": {\"colorbar\": {\"outlinewidth\": 0, \"ticks\": \"\"}}, \"type\": \"scatterternary\"}], \"surface\": [{\"colorbar\": {\"outlinewidth\": 0, \"ticks\": \"\"}, \"colorscale\": [[0.0, \"#0d0887\"], [0.1111111111111111, \"#46039f\"], [0.2222222222222222, \"#7201a8\"], [0.3333333333333333, \"#9c179e\"], [0.4444444444444444, \"#bd3786\"], [0.5555555555555556, \"#d8576b\"], [0.6666666666666666, \"#ed7953\"], [0.7777777777777778, \"#fb9f3a\"], [0.8888888888888888, \"#fdca26\"], [1.0, \"#f0f921\"]], \"type\": \"surface\"}], \"table\": [{\"cells\": {\"fill\": {\"color\": \"#EBF0F8\"}, \"line\": {\"color\": \"white\"}}, \"header\": {\"fill\": {\"color\": \"#C8D4E3\"}, \"line\": {\"color\": \"white\"}}, \"type\": \"table\"}]}, \"layout\": {\"annotationdefaults\": {\"arrowcolor\": \"#2a3f5f\", \"arrowhead\": 0, \"arrowwidth\": 1}, \"coloraxis\": {\"colorbar\": {\"outlinewidth\": 0, \"ticks\": \"\"}}, \"colorscale\": {\"diverging\": [[0, \"#8e0152\"], [0.1, \"#c51b7d\"], [0.2, \"#de77ae\"], [0.3, \"#f1b6da\"], [0.4, \"#fde0ef\"], [0.5, \"#f7f7f7\"], [0.6, \"#e6f5d0\"], [0.7, \"#b8e186\"], [0.8, \"#7fbc41\"], [0.9, \"#4d9221\"], [1, \"#276419\"]], \"sequential\": [[0.0, \"#0d0887\"], [0.1111111111111111, \"#46039f\"], [0.2222222222222222, \"#7201a8\"], [0.3333333333333333, \"#9c179e\"], [0.4444444444444444, \"#bd3786\"], [0.5555555555555556, \"#d8576b\"], [0.6666666666666666, \"#ed7953\"], [0.7777777777777778, \"#fb9f3a\"], [0.8888888888888888, \"#fdca26\"], [1.0, \"#f0f921\"]], \"sequentialminus\": [[0.0, \"#0d0887\"], [0.1111111111111111, \"#46039f\"], [0.2222222222222222, \"#7201a8\"], [0.3333333333333333, \"#9c179e\"], [0.4444444444444444, \"#bd3786\"], [0.5555555555555556, \"#d8576b\"], [0.6666666666666666, \"#ed7953\"], [0.7777777777777778, \"#fb9f3a\"], [0.8888888888888888, \"#fdca26\"], [1.0, \"#f0f921\"]]}, \"colorway\": [\"#636efa\", \"#EF553B\", \"#00cc96\", \"#ab63fa\", \"#FFA15A\", \"#19d3f3\", \"#FF6692\", \"#B6E880\", \"#FF97FF\", \"#FECB52\"], \"font\": {\"color\": \"#2a3f5f\"}, \"geo\": {\"bgcolor\": \"white\", \"lakecolor\": \"white\", \"landcolor\": \"#E5ECF6\", \"showlakes\": true, \"showland\": true, \"subunitcolor\": \"white\"}, \"hoverlabel\": {\"align\": \"left\"}, \"hovermode\": \"closest\", \"mapbox\": {\"style\": \"light\"}, \"paper_bgcolor\": \"white\", \"plot_bgcolor\": \"#E5ECF6\", \"polar\": {\"angularaxis\": {\"gridcolor\": \"white\", \"linecolor\": \"white\", \"ticks\": \"\"}, \"bgcolor\": \"#E5ECF6\", \"radialaxis\": {\"gridcolor\": \"white\", \"linecolor\": \"white\", \"ticks\": \"\"}}, \"scene\": {\"xaxis\": {\"backgroundcolor\": \"#E5ECF6\", \"gridcolor\": \"white\", \"gridwidth\": 2, \"linecolor\": \"white\", \"showbackground\": true, \"ticks\": \"\", \"zerolinecolor\": \"white\"}, \"yaxis\": {\"backgroundcolor\": \"#E5ECF6\", \"gridcolor\": \"white\", \"gridwidth\": 2, \"linecolor\": \"white\", \"showbackground\": true, \"ticks\": \"\", \"zerolinecolor\": \"white\"}, \"zaxis\": {\"backgroundcolor\": \"#E5ECF6\", \"gridcolor\": \"white\", \"gridwidth\": 2, \"linecolor\": \"white\", \"showbackground\": true, \"ticks\": \"\", \"zerolinecolor\": \"white\"}}, \"shapedefaults\": {\"line\": {\"color\": \"#2a3f5f\"}}, \"ternary\": {\"aaxis\": {\"gridcolor\": \"white\", \"linecolor\": \"white\", \"ticks\": \"\"}, \"baxis\": {\"gridcolor\": \"white\", \"linecolor\": \"white\", \"ticks\": \"\"}, \"bgcolor\": \"#E5ECF6\", \"caxis\": {\"gridcolor\": \"white\", \"linecolor\": \"white\", \"ticks\": \"\"}}, \"title\": {\"x\": 0.05}, \"xaxis\": {\"automargin\": true, \"gridcolor\": \"white\", \"linecolor\": \"white\", \"ticks\": \"\", \"title\": {\"standoff\": 15}, \"zerolinecolor\": \"white\", \"zerolinewidth\": 2}, \"yaxis\": {\"automargin\": true, \"gridcolor\": \"white\", \"linecolor\": \"white\", \"ticks\": \"\", \"title\": {\"standoff\": 15}, \"zerolinecolor\": \"white\", \"zerolinewidth\": 2}}}, \"xaxis\": {\"anchor\": \"y\", \"domain\": [0.0, 1.0], \"title\": {\"text\": \"index\"}}, \"yaxis\": {\"anchor\": \"x\", \"domain\": [0.0, 1.0], \"title\": {\"text\": \"percentage\"}}},\n",
              "                        {\"responsive\": true}\n",
              "                    ).then(function(){\n",
              "                            \n",
              "var gd = document.getElementById('edbb6be7-bccd-4fff-ae6d-35b8136c3375');\n",
              "var x = new MutationObserver(function (mutations, observer) {{\n",
              "        var display = window.getComputedStyle(gd).display;\n",
              "        if (!display || display === 'none') {{\n",
              "            console.log([gd, 'removed!']);\n",
              "            Plotly.purge(gd);\n",
              "            observer.disconnect();\n",
              "        }}\n",
              "}});\n",
              "\n",
              "// Listen for the removal of the full notebook cells\n",
              "var notebookContainer = gd.closest('#notebook-container');\n",
              "if (notebookContainer) {{\n",
              "    x.observe(notebookContainer, {childList: true});\n",
              "}}\n",
              "\n",
              "// Listen for the clearing of the current output cell\n",
              "var outputEl = gd.closest('.output');\n",
              "if (outputEl) {{\n",
              "    x.observe(outputEl, {childList: true});\n",
              "}}\n",
              "\n",
              "                        })\n",
              "                };\n",
              "                \n",
              "            </script>\n",
              "        </div>\n",
              "</body>\n",
              "</html>"
            ]
          },
          "metadata": {
            "tags": []
          }
        }
      ]
    },
    {
      "cell_type": "code",
      "metadata": {
        "id": "tCp653C8e2FR"
      },
      "source": [
        "patien_info.drop(['deceased_date','released_date'], inplace=True, axis=1)"
      ],
      "execution_count": null,
      "outputs": []
    },
    {
      "cell_type": "markdown",
      "metadata": {
        "id": "dTi6dD948qVM"
      },
      "source": [
        "## Distribusi Label"
      ]
    },
    {
      "cell_type": "code",
      "metadata": {
        "id": "DUcViWNK_076",
        "colab": {
          "base_uri": "https://localhost:8080/",
          "height": 449
        },
        "outputId": "3fdf4635-acba-4771-a840-570b70806e5c"
      },
      "source": [
        "sns.countplot(x='state', data=patien_info);pyplot.show()"
      ],
      "execution_count": null,
      "outputs": [
        {
          "output_type": "display_data",
          "data": {
            "image/png": "[encoded data removed]",
            "text/plain": [
              "<Figure size 640x480 with 1 Axes>"
            ]
          },
          "metadata": {
            "tags": []
          }
        }
      ]
    },
    {
      "cell_type": "markdown",
      "metadata": {
        "id": "n8hSZMM5Dj9b"
      },
      "source": [
        "## REPLACE MISSING VALUE"
      ]
    },
    {
      "cell_type": "code",
      "metadata": {
        "colab": {
          "base_uri": "https://localhost:8080/",
          "height": 300
        },
        "id": "93FiXICCDyTI",
        "outputId": "a03b4885-96b9-4f20-91fc-51b7c92040ba"
      },
      "source": [
        "patien_info.describe()"
      ],
      "execution_count": null,
      "outputs": [
        {
          "output_type": "execute_result",
          "data": {
            "text/html": [
              "<div>\n",
              "<style scoped>\n",
              "    .dataframe tbody tr th:only-of-type {\n",
              "        vertical-align: middle;\n",
              "    }\n",
              "\n",
              "    .dataframe tbody tr th {\n",
              "        vertical-align: top;\n",
              "    }\n",
              "\n",
              "    .dataframe thead th {\n",
              "        text-align: right;\n",
              "    }\n",
              "</style>\n",
              "<table border=\"1\" class=\"dataframe\">\n",
              "  <thead>\n",
              "    <tr style=\"text-align: right;\">\n",
              "      <th></th>\n",
              "      <th>patient_id</th>\n",
              "      <th>age</th>\n",
              "    </tr>\n",
              "  </thead>\n",
              "  <tbody>\n",
              "    <tr>\n",
              "      <th>count</th>\n",
              "      <td>5.165000e+03</td>\n",
              "      <td>5165.000000</td>\n",
              "    </tr>\n",
              "    <tr>\n",
              "      <th>mean</th>\n",
              "      <td>2.863635e+09</td>\n",
              "      <td>29.581801</td>\n",
              "    </tr>\n",
              "    <tr>\n",
              "      <th>std</th>\n",
              "      <td>2.074211e+09</td>\n",
              "      <td>24.860169</td>\n",
              "    </tr>\n",
              "    <tr>\n",
              "      <th>min</th>\n",
              "      <td>1.000000e+09</td>\n",
              "      <td>0.000000</td>\n",
              "    </tr>\n",
              "    <tr>\n",
              "      <th>25%</th>\n",
              "      <td>1.000001e+09</td>\n",
              "      <td>0.000000</td>\n",
              "    </tr>\n",
              "    <tr>\n",
              "      <th>50%</th>\n",
              "      <td>2.000000e+09</td>\n",
              "      <td>30.000000</td>\n",
              "    </tr>\n",
              "    <tr>\n",
              "      <th>75%</th>\n",
              "      <td>6.001000e+09</td>\n",
              "      <td>50.000000</td>\n",
              "    </tr>\n",
              "    <tr>\n",
              "      <th>max</th>\n",
              "      <td>7.000000e+09</td>\n",
              "      <td>100.000000</td>\n",
              "    </tr>\n",
              "  </tbody>\n",
              "</table>\n",
              "</div>"
            ],
            "text/plain": [
              "         patient_id          age\n",
              "count  5.165000e+03  5165.000000\n",
              "mean   2.863635e+09    29.581801\n",
              "std    2.074211e+09    24.860169\n",
              "min    1.000000e+09     0.000000\n",
              "25%    1.000001e+09     0.000000\n",
              "50%    2.000000e+09    30.000000\n",
              "75%    6.001000e+09    50.000000\n",
              "max    7.000000e+09   100.000000"
            ]
          },
          "metadata": {
            "tags": []
          },
          "execution_count": 10
        }
      ]
    },
    {
      "cell_type": "code",
      "metadata": {
        "colab": {
          "base_uri": "https://localhost:8080/"
        },
        "id": "bktC0rmnoRVU",
        "outputId": "fc8a2dc0-8dac-4d7d-c016-a563507caac6"
      },
      "source": [
        "patien_info.min()"
      ],
      "execution_count": null,
      "outputs": [
        {
          "output_type": "execute_result",
          "data": {
            "text/plain": [
              "patient_id    1000000001\n",
              "age                    0\n",
              "province           Busan\n",
              "state           deceased\n",
              "dtype: object"
            ]
          },
          "metadata": {
            "tags": []
          },
          "execution_count": 11
        }
      ]
    },
    {
      "cell_type": "code",
      "metadata": {
        "id": "X_Ez_XC0vHM9"
      },
      "source": [
        "from numpy import nan \n",
        "patien_info[['symptom_onset_date']] = patien_info[['symptom_onset_date']].replace(\" \", nan)"
      ],
      "execution_count": null,
      "outputs": []
    },
    {
      "cell_type": "code",
      "metadata": {
        "id": "0otS2-aN51kD"
      },
      "source": [
        "patien_info['symptom_onset_date'] = patien_info['symptom_onset_date'].replace(np.nan, '1/1/2020')"
      ],
      "execution_count": null,
      "outputs": []
    },
    {
      "cell_type": "code",
      "metadata": {
        "colab": {
          "base_uri": "https://localhost:8080/",
          "height": 424
        },
        "id": "u3KWskbE6hXv",
        "outputId": "c1565fe4-41ed-41d7-d4fe-7703b5d14002"
      },
      "source": [
        "patien_info"
      ],
      "execution_count": null,
      "outputs": [
        {
          "output_type": "execute_result",
          "data": {
            "text/html": [
              "<div>\n",
              "<style scoped>\n",
              "    .dataframe tbody tr th:only-of-type {\n",
              "        vertical-align: middle;\n",
              "    }\n",
              "\n",
              "    .dataframe tbody tr th {\n",
              "        vertical-align: top;\n",
              "    }\n",
              "\n",
              "    .dataframe thead th {\n",
              "        text-align: right;\n",
              "    }\n",
              "</style>\n",
              "<table border=\"1\" class=\"dataframe\">\n",
              "  <thead>\n",
              "    <tr style=\"text-align: right;\">\n",
              "      <th></th>\n",
              "      <th>patient_id</th>\n",
              "      <th>sex</th>\n",
              "      <th>age</th>\n",
              "      <th>province</th>\n",
              "      <th>city</th>\n",
              "      <th>infection_case</th>\n",
              "      <th>infected_by</th>\n",
              "      <th>contact_number</th>\n",
              "      <th>symptom_onset_date</th>\n",
              "      <th>date</th>\n",
              "      <th>state</th>\n",
              "    </tr>\n",
              "  </thead>\n",
              "  <tbody>\n",
              "    <tr>\n",
              "      <th>0</th>\n",
              "      <td>1000000001</td>\n",
              "      <td>male</td>\n",
              "      <td>50</td>\n",
              "      <td>Seoul</td>\n",
              "      <td>Gangseo-gu</td>\n",
              "      <td>overseas inflow</td>\n",
              "      <td>NaN</td>\n",
              "      <td>75</td>\n",
              "      <td>1/22/2020</td>\n",
              "      <td>1/23/2020</td>\n",
              "      <td>released</td>\n",
              "    </tr>\n",
              "    <tr>\n",
              "      <th>1</th>\n",
              "      <td>1000000002</td>\n",
              "      <td>male</td>\n",
              "      <td>30</td>\n",
              "      <td>Seoul</td>\n",
              "      <td>Jungnang-gu</td>\n",
              "      <td>overseas inflow</td>\n",
              "      <td>NaN</td>\n",
              "      <td>31</td>\n",
              "      <td>1/1/2020</td>\n",
              "      <td>1/30/2020</td>\n",
              "      <td>released</td>\n",
              "    </tr>\n",
              "    <tr>\n",
              "      <th>2</th>\n",
              "      <td>1000000003</td>\n",
              "      <td>male</td>\n",
              "      <td>50</td>\n",
              "      <td>Seoul</td>\n",
              "      <td>Jongno-gu</td>\n",
              "      <td>contact with patient</td>\n",
              "      <td>2002000001</td>\n",
              "      <td>17</td>\n",
              "      <td>1/1/2020</td>\n",
              "      <td>1/30/2020</td>\n",
              "      <td>released</td>\n",
              "    </tr>\n",
              "    <tr>\n",
              "      <th>3</th>\n",
              "      <td>1000000004</td>\n",
              "      <td>male</td>\n",
              "      <td>20</td>\n",
              "      <td>Seoul</td>\n",
              "      <td>Mapo-gu</td>\n",
              "      <td>overseas inflow</td>\n",
              "      <td>NaN</td>\n",
              "      <td>9</td>\n",
              "      <td>1/26/2020</td>\n",
              "      <td>1/30/2020</td>\n",
              "      <td>released</td>\n",
              "    </tr>\n",
              "    <tr>\n",
              "      <th>4</th>\n",
              "      <td>1000000005</td>\n",
              "      <td>female</td>\n",
              "      <td>20</td>\n",
              "      <td>Seoul</td>\n",
              "      <td>Seongbuk-gu</td>\n",
              "      <td>contact with patient</td>\n",
              "      <td>1000000002</td>\n",
              "      <td>2</td>\n",
              "      <td>1/1/2020</td>\n",
              "      <td>1/31/2020</td>\n",
              "      <td>released</td>\n",
              "    </tr>\n",
              "    <tr>\n",
              "      <th>...</th>\n",
              "      <td>...</td>\n",
              "      <td>...</td>\n",
              "      <td>...</td>\n",
              "      <td>...</td>\n",
              "      <td>...</td>\n",
              "      <td>...</td>\n",
              "      <td>...</td>\n",
              "      <td>...</td>\n",
              "      <td>...</td>\n",
              "      <td>...</td>\n",
              "      <td>...</td>\n",
              "    </tr>\n",
              "    <tr>\n",
              "      <th>5160</th>\n",
              "      <td>7000000015</td>\n",
              "      <td>female</td>\n",
              "      <td>30</td>\n",
              "      <td>Jeju-do</td>\n",
              "      <td>Jeju-do</td>\n",
              "      <td>overseas inflow</td>\n",
              "      <td>NaN</td>\n",
              "      <td>25</td>\n",
              "      <td>1/1/2020</td>\n",
              "      <td>5/30/2020</td>\n",
              "      <td>released</td>\n",
              "    </tr>\n",
              "    <tr>\n",
              "      <th>5161</th>\n",
              "      <td>7000000016</td>\n",
              "      <td>NaN</td>\n",
              "      <td>0</td>\n",
              "      <td>Jeju-do</td>\n",
              "      <td>Jeju-do</td>\n",
              "      <td>overseas inflow</td>\n",
              "      <td>NaN</td>\n",
              "      <td>NaN</td>\n",
              "      <td>1/1/2020</td>\n",
              "      <td>6/16/2020</td>\n",
              "      <td>released</td>\n",
              "    </tr>\n",
              "    <tr>\n",
              "      <th>5162</th>\n",
              "      <td>7000000017</td>\n",
              "      <td>NaN</td>\n",
              "      <td>0</td>\n",
              "      <td>Jeju-do</td>\n",
              "      <td>Jeju-do</td>\n",
              "      <td>overseas inflow</td>\n",
              "      <td>NaN</td>\n",
              "      <td>72</td>\n",
              "      <td>1/1/2020</td>\n",
              "      <td>6/18/2020</td>\n",
              "      <td>isolated</td>\n",
              "    </tr>\n",
              "    <tr>\n",
              "      <th>5163</th>\n",
              "      <td>7000000018</td>\n",
              "      <td>NaN</td>\n",
              "      <td>0</td>\n",
              "      <td>Jeju-do</td>\n",
              "      <td>Jeju-do</td>\n",
              "      <td>overseas inflow</td>\n",
              "      <td>NaN</td>\n",
              "      <td>NaN</td>\n",
              "      <td>1/1/2020</td>\n",
              "      <td>6/18/2020</td>\n",
              "      <td>isolated</td>\n",
              "    </tr>\n",
              "    <tr>\n",
              "      <th>5164</th>\n",
              "      <td>7000000019</td>\n",
              "      <td>NaN</td>\n",
              "      <td>0</td>\n",
              "      <td>Jeju-do</td>\n",
              "      <td>Jeju-do</td>\n",
              "      <td>overseas inflow</td>\n",
              "      <td>NaN</td>\n",
              "      <td>NaN</td>\n",
              "      <td>1/1/2020</td>\n",
              "      <td>6/18/2020</td>\n",
              "      <td>isolated</td>\n",
              "    </tr>\n",
              "  </tbody>\n",
              "</table>\n",
              "<p>5165 rows × 11 columns</p>\n",
              "</div>"
            ],
            "text/plain": [
              "      patient_id     sex  age  ... symptom_onset_date       date     state\n",
              "0     1000000001    male   50  ...          1/22/2020  1/23/2020  released\n",
              "1     1000000002    male   30  ...           1/1/2020  1/30/2020  released\n",
              "2     1000000003    male   50  ...           1/1/2020  1/30/2020  released\n",
              "3     1000000004    male   20  ...          1/26/2020  1/30/2020  released\n",
              "4     1000000005  female   20  ...           1/1/2020  1/31/2020  released\n",
              "...          ...     ...  ...  ...                ...        ...       ...\n",
              "5160  7000000015  female   30  ...           1/1/2020  5/30/2020  released\n",
              "5161  7000000016     NaN    0  ...           1/1/2020  6/16/2020  released\n",
              "5162  7000000017     NaN    0  ...           1/1/2020  6/18/2020  isolated\n",
              "5163  7000000018     NaN    0  ...           1/1/2020  6/18/2020  isolated\n",
              "5164  7000000019     NaN    0  ...           1/1/2020  6/18/2020  isolated\n",
              "\n",
              "[5165 rows x 11 columns]"
            ]
          },
          "metadata": {
            "tags": []
          },
          "execution_count": 16
        }
      ]
    },
    {
      "cell_type": "code",
      "metadata": {
        "id": "ZirRKQu1gmXM",
        "colab": {
          "base_uri": "https://localhost:8080/",
          "height": 424
        },
        "outputId": "bc42f519-1b90-496a-c7f1-2dde86b66396"
      },
      "source": [
        "patien_info['sex'].replace({'male' : 0}, inplace=True)\n",
        "patien_info['sex'].replace({'female' : 1}, inplace=True)\n",
        "patien_info['sex'] = patien_info['sex'].replace(np.nan, -1)\n",
        "patien_info['infection_case'] = patien_info['infection_case'].replace(np.nan, 2)\n",
        "patien_info['infected_by'] = patien_info['infected_by'].replace(np.nan, -1)\n",
        "patien_info['contact_number'] = patien_info['contact_number'].replace(np.nan, -1)\n",
        "patien_info['symptom_onset_date'] = pd.to_datetime(patien_info.symptom_onset_date, format='%m/%d/%Y')\n",
        "patien_info['date'] = pd.to_datetime(patien_info.date, format='%m/%d/%Y')\n",
        "for col_name in patien_info.columns:\n",
        "    if(patien_info[col_name].dtype == 'object'):\n",
        "        patien_info[col_name]= patien_info[col_name].astype('category')\n",
        "        patien_info[col_name] = patien_info[col_name].cat.codes\n",
        "patien_info"
      ],
      "execution_count": null,
      "outputs": [
        {
          "output_type": "execute_result",
          "data": {
            "text/html": [
              "<div>\n",
              "<style scoped>\n",
              "    .dataframe tbody tr th:only-of-type {\n",
              "        vertical-align: middle;\n",
              "    }\n",
              "\n",
              "    .dataframe tbody tr th {\n",
              "        vertical-align: top;\n",
              "    }\n",
              "\n",
              "    .dataframe thead th {\n",
              "        text-align: right;\n",
              "    }\n",
              "</style>\n",
              "<table border=\"1\" class=\"dataframe\">\n",
              "  <thead>\n",
              "    <tr style=\"text-align: right;\">\n",
              "      <th></th>\n",
              "      <th>patient_id</th>\n",
              "      <th>sex</th>\n",
              "      <th>age</th>\n",
              "      <th>province</th>\n",
              "      <th>city</th>\n",
              "      <th>infection_case</th>\n",
              "      <th>infected_by</th>\n",
              "      <th>contact_number</th>\n",
              "      <th>symptom_onset_date</th>\n",
              "      <th>date</th>\n",
              "      <th>state</th>\n",
              "    </tr>\n",
              "  </thead>\n",
              "  <tbody>\n",
              "    <tr>\n",
              "      <th>0</th>\n",
              "      <td>1000000001</td>\n",
              "      <td>0.0</td>\n",
              "      <td>50</td>\n",
              "      <td>15</td>\n",
              "      <td>39</td>\n",
              "      <td>51</td>\n",
              "      <td>0</td>\n",
              "      <td>80</td>\n",
              "      <td>2020-01-22</td>\n",
              "      <td>2020-01-23</td>\n",
              "      <td>2</td>\n",
              "    </tr>\n",
              "    <tr>\n",
              "      <th>1</th>\n",
              "      <td>1000000002</td>\n",
              "      <td>0.0</td>\n",
              "      <td>30</td>\n",
              "      <td>15</td>\n",
              "      <td>93</td>\n",
              "      <td>51</td>\n",
              "      <td>0</td>\n",
              "      <td>43</td>\n",
              "      <td>2020-01-01</td>\n",
              "      <td>2020-01-30</td>\n",
              "      <td>2</td>\n",
              "    </tr>\n",
              "    <tr>\n",
              "      <th>2</th>\n",
              "      <td>1000000003</td>\n",
              "      <td>0.0</td>\n",
              "      <td>50</td>\n",
              "      <td>15</td>\n",
              "      <td>91</td>\n",
              "      <td>47</td>\n",
              "      <td>475</td>\n",
              "      <td>23</td>\n",
              "      <td>2020-01-01</td>\n",
              "      <td>2020-01-30</td>\n",
              "      <td>2</td>\n",
              "    </tr>\n",
              "    <tr>\n",
              "      <th>3</th>\n",
              "      <td>1000000004</td>\n",
              "      <td>0.0</td>\n",
              "      <td>20</td>\n",
              "      <td>15</td>\n",
              "      <td>95</td>\n",
              "      <td>51</td>\n",
              "      <td>0</td>\n",
              "      <td>87</td>\n",
              "      <td>2020-01-26</td>\n",
              "      <td>2020-01-30</td>\n",
              "      <td>2</td>\n",
              "    </tr>\n",
              "    <tr>\n",
              "      <th>4</th>\n",
              "      <td>1000000005</td>\n",
              "      <td>1.0</td>\n",
              "      <td>20</td>\n",
              "      <td>15</td>\n",
              "      <td>124</td>\n",
              "      <td>47</td>\n",
              "      <td>1</td>\n",
              "      <td>28</td>\n",
              "      <td>2020-01-01</td>\n",
              "      <td>2020-01-31</td>\n",
              "      <td>2</td>\n",
              "    </tr>\n",
              "    <tr>\n",
              "      <th>...</th>\n",
              "      <td>...</td>\n",
              "      <td>...</td>\n",
              "      <td>...</td>\n",
              "      <td>...</td>\n",
              "      <td>...</td>\n",
              "      <td>...</td>\n",
              "      <td>...</td>\n",
              "      <td>...</td>\n",
              "      <td>...</td>\n",
              "      <td>...</td>\n",
              "      <td>...</td>\n",
              "    </tr>\n",
              "    <tr>\n",
              "      <th>5160</th>\n",
              "      <td>7000000015</td>\n",
              "      <td>1.0</td>\n",
              "      <td>30</td>\n",
              "      <td>11</td>\n",
              "      <td>86</td>\n",
              "      <td>51</td>\n",
              "      <td>0</td>\n",
              "      <td>34</td>\n",
              "      <td>2020-01-01</td>\n",
              "      <td>2020-05-30</td>\n",
              "      <td>2</td>\n",
              "    </tr>\n",
              "    <tr>\n",
              "      <th>5161</th>\n",
              "      <td>7000000016</td>\n",
              "      <td>-1.0</td>\n",
              "      <td>0</td>\n",
              "      <td>11</td>\n",
              "      <td>86</td>\n",
              "      <td>51</td>\n",
              "      <td>0</td>\n",
              "      <td>0</td>\n",
              "      <td>2020-01-01</td>\n",
              "      <td>2020-06-16</td>\n",
              "      <td>2</td>\n",
              "    </tr>\n",
              "    <tr>\n",
              "      <th>5162</th>\n",
              "      <td>7000000017</td>\n",
              "      <td>-1.0</td>\n",
              "      <td>0</td>\n",
              "      <td>11</td>\n",
              "      <td>86</td>\n",
              "      <td>51</td>\n",
              "      <td>0</td>\n",
              "      <td>78</td>\n",
              "      <td>2020-01-01</td>\n",
              "      <td>2020-06-18</td>\n",
              "      <td>1</td>\n",
              "    </tr>\n",
              "    <tr>\n",
              "      <th>5163</th>\n",
              "      <td>7000000018</td>\n",
              "      <td>-1.0</td>\n",
              "      <td>0</td>\n",
              "      <td>11</td>\n",
              "      <td>86</td>\n",
              "      <td>51</td>\n",
              "      <td>0</td>\n",
              "      <td>0</td>\n",
              "      <td>2020-01-01</td>\n",
              "      <td>2020-06-18</td>\n",
              "      <td>1</td>\n",
              "    </tr>\n",
              "    <tr>\n",
              "      <th>5164</th>\n",
              "      <td>7000000019</td>\n",
              "      <td>-1.0</td>\n",
              "      <td>0</td>\n",
              "      <td>11</td>\n",
              "      <td>86</td>\n",
              "      <td>51</td>\n",
              "      <td>0</td>\n",
              "      <td>0</td>\n",
              "      <td>2020-01-01</td>\n",
              "      <td>2020-06-18</td>\n",
              "      <td>1</td>\n",
              "    </tr>\n",
              "  </tbody>\n",
              "</table>\n",
              "<p>5165 rows × 11 columns</p>\n",
              "</div>"
            ],
            "text/plain": [
              "      patient_id  sex  age  ...  symptom_onset_date       date  state\n",
              "0     1000000001  0.0   50  ...          2020-01-22 2020-01-23      2\n",
              "1     1000000002  0.0   30  ...          2020-01-01 2020-01-30      2\n",
              "2     1000000003  0.0   50  ...          2020-01-01 2020-01-30      2\n",
              "3     1000000004  0.0   20  ...          2020-01-26 2020-01-30      2\n",
              "4     1000000005  1.0   20  ...          2020-01-01 2020-01-31      2\n",
              "...          ...  ...  ...  ...                 ...        ...    ...\n",
              "5160  7000000015  1.0   30  ...          2020-01-01 2020-05-30      2\n",
              "5161  7000000016 -1.0    0  ...          2020-01-01 2020-06-16      2\n",
              "5162  7000000017 -1.0    0  ...          2020-01-01 2020-06-18      1\n",
              "5163  7000000018 -1.0    0  ...          2020-01-01 2020-06-18      1\n",
              "5164  7000000019 -1.0    0  ...          2020-01-01 2020-06-18      1\n",
              "\n",
              "[5165 rows x 11 columns]"
            ]
          },
          "metadata": {
            "tags": []
          },
          "execution_count": 17
        }
      ]
    },
    {
      "cell_type": "markdown",
      "metadata": {
        "id": "JxGJXZ4B9Iis"
      },
      "source": [
        "## Label Endcoder"
      ]
    },
    {
      "cell_type": "code",
      "metadata": {
        "colab": {
          "base_uri": "https://localhost:8080/",
          "height": 424
        },
        "id": "tDO_xr1Bgv54",
        "outputId": "e31e37af-cde5-4210-9211-475345989e52"
      },
      "source": [
        "patien_info['days']  = patien_info.date - patien_info.symptom_onset_date\n",
        "patien_info.drop(['symptom_onset_date','date'], inplace=True, axis=1)\n",
        "\n",
        "patien_info"
      ],
      "execution_count": null,
      "outputs": [
        {
          "output_type": "execute_result",
          "data": {
            "text/html": [
              "<div>\n",
              "<style scoped>\n",
              "    .dataframe tbody tr th:only-of-type {\n",
              "        vertical-align: middle;\n",
              "    }\n",
              "\n",
              "    .dataframe tbody tr th {\n",
              "        vertical-align: top;\n",
              "    }\n",
              "\n",
              "    .dataframe thead th {\n",
              "        text-align: right;\n",
              "    }\n",
              "</style>\n",
              "<table border=\"1\" class=\"dataframe\">\n",
              "  <thead>\n",
              "    <tr style=\"text-align: right;\">\n",
              "      <th></th>\n",
              "      <th>patient_id</th>\n",
              "      <th>sex</th>\n",
              "      <th>age</th>\n",
              "      <th>province</th>\n",
              "      <th>city</th>\n",
              "      <th>infection_case</th>\n",
              "      <th>infected_by</th>\n",
              "      <th>contact_number</th>\n",
              "      <th>state</th>\n",
              "      <th>days</th>\n",
              "    </tr>\n",
              "  </thead>\n",
              "  <tbody>\n",
              "    <tr>\n",
              "      <th>0</th>\n",
              "      <td>1000000001</td>\n",
              "      <td>0.0</td>\n",
              "      <td>50</td>\n",
              "      <td>15</td>\n",
              "      <td>39</td>\n",
              "      <td>51</td>\n",
              "      <td>0</td>\n",
              "      <td>80</td>\n",
              "      <td>2</td>\n",
              "      <td>1 days</td>\n",
              "    </tr>\n",
              "    <tr>\n",
              "      <th>1</th>\n",
              "      <td>1000000002</td>\n",
              "      <td>0.0</td>\n",
              "      <td>30</td>\n",
              "      <td>15</td>\n",
              "      <td>93</td>\n",
              "      <td>51</td>\n",
              "      <td>0</td>\n",
              "      <td>43</td>\n",
              "      <td>2</td>\n",
              "      <td>29 days</td>\n",
              "    </tr>\n",
              "    <tr>\n",
              "      <th>2</th>\n",
              "      <td>1000000003</td>\n",
              "      <td>0.0</td>\n",
              "      <td>50</td>\n",
              "      <td>15</td>\n",
              "      <td>91</td>\n",
              "      <td>47</td>\n",
              "      <td>475</td>\n",
              "      <td>23</td>\n",
              "      <td>2</td>\n",
              "      <td>29 days</td>\n",
              "    </tr>\n",
              "    <tr>\n",
              "      <th>3</th>\n",
              "      <td>1000000004</td>\n",
              "      <td>0.0</td>\n",
              "      <td>20</td>\n",
              "      <td>15</td>\n",
              "      <td>95</td>\n",
              "      <td>51</td>\n",
              "      <td>0</td>\n",
              "      <td>87</td>\n",
              "      <td>2</td>\n",
              "      <td>4 days</td>\n",
              "    </tr>\n",
              "    <tr>\n",
              "      <th>4</th>\n",
              "      <td>1000000005</td>\n",
              "      <td>1.0</td>\n",
              "      <td>20</td>\n",
              "      <td>15</td>\n",
              "      <td>124</td>\n",
              "      <td>47</td>\n",
              "      <td>1</td>\n",
              "      <td>28</td>\n",
              "      <td>2</td>\n",
              "      <td>30 days</td>\n",
              "    </tr>\n",
              "    <tr>\n",
              "      <th>...</th>\n",
              "      <td>...</td>\n",
              "      <td>...</td>\n",
              "      <td>...</td>\n",
              "      <td>...</td>\n",
              "      <td>...</td>\n",
              "      <td>...</td>\n",
              "      <td>...</td>\n",
              "      <td>...</td>\n",
              "      <td>...</td>\n",
              "      <td>...</td>\n",
              "    </tr>\n",
              "    <tr>\n",
              "      <th>5160</th>\n",
              "      <td>7000000015</td>\n",
              "      <td>1.0</td>\n",
              "      <td>30</td>\n",
              "      <td>11</td>\n",
              "      <td>86</td>\n",
              "      <td>51</td>\n",
              "      <td>0</td>\n",
              "      <td>34</td>\n",
              "      <td>2</td>\n",
              "      <td>150 days</td>\n",
              "    </tr>\n",
              "    <tr>\n",
              "      <th>5161</th>\n",
              "      <td>7000000016</td>\n",
              "      <td>-1.0</td>\n",
              "      <td>0</td>\n",
              "      <td>11</td>\n",
              "      <td>86</td>\n",
              "      <td>51</td>\n",
              "      <td>0</td>\n",
              "      <td>0</td>\n",
              "      <td>2</td>\n",
              "      <td>167 days</td>\n",
              "    </tr>\n",
              "    <tr>\n",
              "      <th>5162</th>\n",
              "      <td>7000000017</td>\n",
              "      <td>-1.0</td>\n",
              "      <td>0</td>\n",
              "      <td>11</td>\n",
              "      <td>86</td>\n",
              "      <td>51</td>\n",
              "      <td>0</td>\n",
              "      <td>78</td>\n",
              "      <td>1</td>\n",
              "      <td>169 days</td>\n",
              "    </tr>\n",
              "    <tr>\n",
              "      <th>5163</th>\n",
              "      <td>7000000018</td>\n",
              "      <td>-1.0</td>\n",
              "      <td>0</td>\n",
              "      <td>11</td>\n",
              "      <td>86</td>\n",
              "      <td>51</td>\n",
              "      <td>0</td>\n",
              "      <td>0</td>\n",
              "      <td>1</td>\n",
              "      <td>169 days</td>\n",
              "    </tr>\n",
              "    <tr>\n",
              "      <th>5164</th>\n",
              "      <td>7000000019</td>\n",
              "      <td>-1.0</td>\n",
              "      <td>0</td>\n",
              "      <td>11</td>\n",
              "      <td>86</td>\n",
              "      <td>51</td>\n",
              "      <td>0</td>\n",
              "      <td>0</td>\n",
              "      <td>1</td>\n",
              "      <td>169 days</td>\n",
              "    </tr>\n",
              "  </tbody>\n",
              "</table>\n",
              "<p>5165 rows × 10 columns</p>\n",
              "</div>"
            ],
            "text/plain": [
              "      patient_id  sex  age  ...  contact_number  state     days\n",
              "0     1000000001  0.0   50  ...              80      2   1 days\n",
              "1     1000000002  0.0   30  ...              43      2  29 days\n",
              "2     1000000003  0.0   50  ...              23      2  29 days\n",
              "3     1000000004  0.0   20  ...              87      2   4 days\n",
              "4     1000000005  1.0   20  ...              28      2  30 days\n",
              "...          ...  ...  ...  ...             ...    ...      ...\n",
              "5160  7000000015  1.0   30  ...              34      2 150 days\n",
              "5161  7000000016 -1.0    0  ...               0      2 167 days\n",
              "5162  7000000017 -1.0    0  ...              78      1 169 days\n",
              "5163  7000000018 -1.0    0  ...               0      1 169 days\n",
              "5164  7000000019 -1.0    0  ...               0      1 169 days\n",
              "\n",
              "[5165 rows x 10 columns]"
            ]
          },
          "metadata": {
            "tags": []
          },
          "execution_count": 18
        }
      ]
    },
    {
      "cell_type": "code",
      "metadata": {
        "id": "FqNtVVoE3nfv",
        "colab": {
          "base_uri": "https://localhost:8080/",
          "height": 424
        },
        "outputId": "f712b6ff-ca05-4bc2-940b-2eada3b5c9e0"
      },
      "source": [
        "from sklearn.preprocessing import LabelEncoder\n",
        "le = LabelEncoder()\n",
        "patien_info['sex']=le.fit_transform(patien_info['sex'])\n",
        "patien_info['age']=le.fit_transform(patien_info['age'])\n",
        "patien_info['city']=le.fit_transform(patien_info['city'])\n",
        "patien_info['infection_case']=le.fit_transform(patien_info['infection_case'])\n",
        "patien_info['infected_by']=le.fit_transform(patien_info['infected_by'])\n",
        "patien_info['contact_number']=le.fit_transform(patien_info['contact_number'])\n",
        "patien_info"
      ],
      "execution_count": null,
      "outputs": [
        {
          "output_type": "execute_result",
          "data": {
            "text/html": [
              "<div>\n",
              "<style scoped>\n",
              "    .dataframe tbody tr th:only-of-type {\n",
              "        vertical-align: middle;\n",
              "    }\n",
              "\n",
              "    .dataframe tbody tr th {\n",
              "        vertical-align: top;\n",
              "    }\n",
              "\n",
              "    .dataframe thead th {\n",
              "        text-align: right;\n",
              "    }\n",
              "</style>\n",
              "<table border=\"1\" class=\"dataframe\">\n",
              "  <thead>\n",
              "    <tr style=\"text-align: right;\">\n",
              "      <th></th>\n",
              "      <th>patient_id</th>\n",
              "      <th>sex</th>\n",
              "      <th>age</th>\n",
              "      <th>province</th>\n",
              "      <th>city</th>\n",
              "      <th>infection_case</th>\n",
              "      <th>infected_by</th>\n",
              "      <th>contact_number</th>\n",
              "      <th>state</th>\n",
              "      <th>days</th>\n",
              "    </tr>\n",
              "  </thead>\n",
              "  <tbody>\n",
              "    <tr>\n",
              "      <th>0</th>\n",
              "      <td>1000000001</td>\n",
              "      <td>1</td>\n",
              "      <td>5</td>\n",
              "      <td>15</td>\n",
              "      <td>40</td>\n",
              "      <td>51</td>\n",
              "      <td>0</td>\n",
              "      <td>80</td>\n",
              "      <td>2</td>\n",
              "      <td>1 days</td>\n",
              "    </tr>\n",
              "    <tr>\n",
              "      <th>1</th>\n",
              "      <td>1000000002</td>\n",
              "      <td>1</td>\n",
              "      <td>3</td>\n",
              "      <td>15</td>\n",
              "      <td>94</td>\n",
              "      <td>51</td>\n",
              "      <td>0</td>\n",
              "      <td>43</td>\n",
              "      <td>2</td>\n",
              "      <td>29 days</td>\n",
              "    </tr>\n",
              "    <tr>\n",
              "      <th>2</th>\n",
              "      <td>1000000003</td>\n",
              "      <td>1</td>\n",
              "      <td>5</td>\n",
              "      <td>15</td>\n",
              "      <td>92</td>\n",
              "      <td>47</td>\n",
              "      <td>475</td>\n",
              "      <td>23</td>\n",
              "      <td>2</td>\n",
              "      <td>29 days</td>\n",
              "    </tr>\n",
              "    <tr>\n",
              "      <th>3</th>\n",
              "      <td>1000000004</td>\n",
              "      <td>1</td>\n",
              "      <td>2</td>\n",
              "      <td>15</td>\n",
              "      <td>96</td>\n",
              "      <td>51</td>\n",
              "      <td>0</td>\n",
              "      <td>87</td>\n",
              "      <td>2</td>\n",
              "      <td>4 days</td>\n",
              "    </tr>\n",
              "    <tr>\n",
              "      <th>4</th>\n",
              "      <td>1000000005</td>\n",
              "      <td>2</td>\n",
              "      <td>2</td>\n",
              "      <td>15</td>\n",
              "      <td>125</td>\n",
              "      <td>47</td>\n",
              "      <td>1</td>\n",
              "      <td>28</td>\n",
              "      <td>2</td>\n",
              "      <td>30 days</td>\n",
              "    </tr>\n",
              "    <tr>\n",
              "      <th>...</th>\n",
              "      <td>...</td>\n",
              "      <td>...</td>\n",
              "      <td>...</td>\n",
              "      <td>...</td>\n",
              "      <td>...</td>\n",
              "      <td>...</td>\n",
              "      <td>...</td>\n",
              "      <td>...</td>\n",
              "      <td>...</td>\n",
              "      <td>...</td>\n",
              "    </tr>\n",
              "    <tr>\n",
              "      <th>5160</th>\n",
              "      <td>7000000015</td>\n",
              "      <td>2</td>\n",
              "      <td>3</td>\n",
              "      <td>11</td>\n",
              "      <td>87</td>\n",
              "      <td>51</td>\n",
              "      <td>0</td>\n",
              "      <td>34</td>\n",
              "      <td>2</td>\n",
              "      <td>150 days</td>\n",
              "    </tr>\n",
              "    <tr>\n",
              "      <th>5161</th>\n",
              "      <td>7000000016</td>\n",
              "      <td>0</td>\n",
              "      <td>0</td>\n",
              "      <td>11</td>\n",
              "      <td>87</td>\n",
              "      <td>51</td>\n",
              "      <td>0</td>\n",
              "      <td>0</td>\n",
              "      <td>2</td>\n",
              "      <td>167 days</td>\n",
              "    </tr>\n",
              "    <tr>\n",
              "      <th>5162</th>\n",
              "      <td>7000000017</td>\n",
              "      <td>0</td>\n",
              "      <td>0</td>\n",
              "      <td>11</td>\n",
              "      <td>87</td>\n",
              "      <td>51</td>\n",
              "      <td>0</td>\n",
              "      <td>78</td>\n",
              "      <td>1</td>\n",
              "      <td>169 days</td>\n",
              "    </tr>\n",
              "    <tr>\n",
              "      <th>5163</th>\n",
              "      <td>7000000018</td>\n",
              "      <td>0</td>\n",
              "      <td>0</td>\n",
              "      <td>11</td>\n",
              "      <td>87</td>\n",
              "      <td>51</td>\n",
              "      <td>0</td>\n",
              "      <td>0</td>\n",
              "      <td>1</td>\n",
              "      <td>169 days</td>\n",
              "    </tr>\n",
              "    <tr>\n",
              "      <th>5164</th>\n",
              "      <td>7000000019</td>\n",
              "      <td>0</td>\n",
              "      <td>0</td>\n",
              "      <td>11</td>\n",
              "      <td>87</td>\n",
              "      <td>51</td>\n",
              "      <td>0</td>\n",
              "      <td>0</td>\n",
              "      <td>1</td>\n",
              "      <td>169 days</td>\n",
              "    </tr>\n",
              "  </tbody>\n",
              "</table>\n",
              "<p>5165 rows × 10 columns</p>\n",
              "</div>"
            ],
            "text/plain": [
              "      patient_id  sex  age  ...  contact_number  state     days\n",
              "0     1000000001    1    5  ...              80      2   1 days\n",
              "1     1000000002    1    3  ...              43      2  29 days\n",
              "2     1000000003    1    5  ...              23      2  29 days\n",
              "3     1000000004    1    2  ...              87      2   4 days\n",
              "4     1000000005    2    2  ...              28      2  30 days\n",
              "...          ...  ...  ...  ...             ...    ...      ...\n",
              "5160  7000000015    2    3  ...              34      2 150 days\n",
              "5161  7000000016    0    0  ...               0      2 167 days\n",
              "5162  7000000017    0    0  ...              78      1 169 days\n",
              "5163  7000000018    0    0  ...               0      1 169 days\n",
              "5164  7000000019    0    0  ...               0      1 169 days\n",
              "\n",
              "[5165 rows x 10 columns]"
            ]
          },
          "metadata": {
            "tags": []
          },
          "execution_count": 20
        }
      ]
    },
    {
      "cell_type": "code",
      "metadata": {
        "colab": {
          "base_uri": "https://localhost:8080/"
        },
        "id": "KMfvdgcfvpq4",
        "outputId": "8a9e45bb-54b5-4589-bce7-2c48c9ad5abf"
      },
      "source": [
        "patien_info.columns"
      ],
      "execution_count": null,
      "outputs": [
        {
          "output_type": "execute_result",
          "data": {
            "text/plain": [
              "Index(['patient_id', 'sex', 'age', 'province', 'city', 'infection_case',\n",
              "       'infected_by', 'contact_number', 'state', 'days'],\n",
              "      dtype='object')"
            ]
          },
          "metadata": {
            "tags": []
          },
          "execution_count": 21
        }
      ]
    },
    {
      "cell_type": "code",
      "metadata": {
        "id": "1TPGOOvmFfuu"
      },
      "source": [
        "fiture_cols = ['sex', 'age', 'city', 'infection_case',\n",
        "       'infected_by', 'contact_number']\n",
        "X = patien_info[fiture_cols]\n",
        "Y = patien_info.state"
      ],
      "execution_count": null,
      "outputs": []
    },
    {
      "cell_type": "markdown",
      "metadata": {
        "id": "lGXlXw4L9VNJ"
      },
      "source": [
        "## Cross Validation"
      ]
    },
    {
      "cell_type": "code",
      "metadata": {
        "id": "ZXwuBcR8hDDX"
      },
      "source": [
        "test_size = 0.2\n",
        "seed = 5\n",
        "X_train, X_test, Y_train, Y_test = train_test_split(X, Y, test_size=test_size, random_state=seed)"
      ],
      "execution_count": null,
      "outputs": []
    },
    {
      "cell_type": "markdown",
      "metadata": {
        "id": "x9mrHIR780Xj"
      },
      "source": [
        "# Model"
      ]
    },
    {
      "cell_type": "markdown",
      "metadata": {
        "id": "HuFU5fM7W-ef"
      },
      "source": [
        "# Decision Tree"
      ]
    },
    {
      "cell_type": "code",
      "metadata": {
        "id": "VSDIHK_RGNCh",
        "colab": {
          "base_uri": "https://localhost:8080/",
          "height": 760
        },
        "outputId": "8276f686-756f-4fe0-920d-320c4c6ea41e"
      },
      "source": [
        "dt = DecisionTreeClassifier()\n",
        "dt.fit(X_train, Y_train)\n",
        "predicted = dt.predict(X_test)\n",
        "report = classification_report(Y_test, predicted)\n",
        "matrix = confusion_matrix(Y_test, predicted)\n",
        "print(report)\n",
        "print(matrix)\n",
        "\n",
        "scoring = 'accuracy'\n",
        "akurasi_dt = cross_val_score(dt, X_test, Y_test, cv=seed, scoring=scoring) *100\n",
        "\n",
        "from sklearn.metrics import roc_auc_score\n",
        "\n",
        "print(\"Accuracy Decision Tree: {}\".format((akurasi_dt.mean()))) \n",
        "auc_dt = roc_auc_score(Y_test, dt.predict_proba(X_test), multi_class='ovo', average='weighted') *100\n",
        "print('ROC AUC score dt:', auc_dt)\n",
        "\n",
        "recall_dt=recall_score(Y_test,predicted, average='weighted')*100\n",
        "print(\"Recall of dt is: \",recall_dt)\n",
        "prec_dt=precision_score(Y_test,predicted, average='weighted')*100\n",
        "print(\"Precision of dt is:\",prec_dt)\n",
        "\n",
        "print (\"Confusion Matrix : \\n\",sns.heatmap(confusion_matrix(Y_test, predicted, normalize='true'), annot = True))"
      ],
      "execution_count": null,
      "outputs": [
        {
          "output_type": "stream",
          "text": [
            "              precision    recall  f1-score   support\n",
            "\n",
            "           0       0.31      0.50      0.38        10\n",
            "           1       0.83      0.88      0.85       435\n",
            "           2       0.90      0.86      0.88       588\n",
            "\n",
            "    accuracy                           0.86      1033\n",
            "   macro avg       0.68      0.74      0.70      1033\n",
            "weighted avg       0.87      0.86      0.86      1033\n",
            "\n",
            "[[  5   1   4]\n",
            " [  2 381  52]\n",
            " [  9  76 503]]\n",
            "Accuracy Decision Tree: 82.09136532057595\n",
            "ROC AUC score dt: 90.61714790065307\n",
            "Recall of dt is:  86.06001936108422\n",
            "Precision of dt is: 86.06001936108422\n",
            "Confusion Matrix : \n",
            " AxesSubplot(0.125,0.11;0.62x0.77)\n"
          ],
          "name": "stdout"
        },
        {
          "output_type": "display_data",
          "data": {
            "image/png": "[encoded data removed]",
            "text/plain": [
              "<Figure size 640x480 with 2 Axes>"
            ]
          },
          "metadata": {
            "tags": []
          }
        }
      ]
    },
    {
      "cell_type": "markdown",
      "metadata": {
        "id": "Mx5yhvib80Xp"
      },
      "source": [
        "# Naive Bayes"
      ]
    },
    {
      "cell_type": "code",
      "metadata": {
        "colab": {
          "base_uri": "https://localhost:8080/",
          "height": 764
        },
        "id": "XmlC_7uh80Xq",
        "outputId": "d59b8667-965c-482c-b291-66dbebc29962"
      },
      "source": [
        "nb = GaussianNB()\n",
        "nb.fit(X_train, Y_train)\n",
        "predicted = nb.predict(X_test)\n",
        "report = classification_report(Y_test, predicted)\n",
        "matrix = confusion_matrix(Y_test, predicted)\n",
        "print(report)\n",
        "print(matrix)\n",
        "\n",
        "scoring = 'accuracy'\n",
        "akurasi_nb = cross_val_score(nb, X_test, Y_test, cv=seed, scoring=scoring) *100\n",
        "\n",
        "from sklearn.metrics import roc_auc_score\n",
        "\n",
        "print(\"Akurasi Naive Bayes: {}\".format((akurasi_nb.mean()))) \n",
        "auc_nb = roc_auc_score(Y_test, nb.predict_proba(X_test), multi_class='ovo', average='weighted') *100\n",
        "print('ROC AUC score Naive Bayes:', auc_nb)\n",
        "recall_nb=recall_score(Y_test,predicted, average='weighted')*100\n",
        "print(\"Recall of Naive Bayes is: \",recall_nb)\n",
        "prec_nb=precision_score(Y_test,predicted, average='weighted')*100\n",
        "print(\"Precision of Naive Bayes is:\",prec_nb)\n",
        "print (\"Confusion Matrix : \\n\",sns.heatmap(confusion_matrix(Y_test, predicted, normalize='true'), annot = True))"
      ],
      "execution_count": null,
      "outputs": [
        {
          "output_type": "stream",
          "text": [
            "              precision    recall  f1-score   support\n",
            "\n",
            "           0       0.17      0.70      0.28        10\n",
            "           1       0.62      0.61      0.61       435\n",
            "           2       0.72      0.69      0.70       588\n",
            "\n",
            "    accuracy                           0.66      1033\n",
            "   macro avg       0.50      0.67      0.53      1033\n",
            "weighted avg       0.67      0.66      0.66      1033\n",
            "\n",
            "[[  7   0   3]\n",
            " [ 13 265 157]\n",
            " [ 20 162 406]]\n",
            "Akurasi Naive Bayes: 29.806763285024157\n",
            "ROC AUC score Naive Bayes: 78.78516094156727\n",
            "Recall of Naive Bayes is:  65.63407550822846\n",
            "Precision of Naive Bayes is: 65.63407550822846\n",
            "Confusion Matrix : \n",
            " AxesSubplot(0.125,0.11;0.62x0.77)\n"
          ],
          "name": "stdout"
        },
        {
          "output_type": "display_data",
          "data": {
            "image/png": "[encoded data removed]",
            "text/plain": [
              "<Figure size 640x480 with 2 Axes>"
            ]
          },
          "metadata": {
            "tags": []
          }
        }
      ]
    },
    {
      "cell_type": "markdown",
      "metadata": {
        "id": "I2VzGExO80Xy"
      },
      "source": [
        "# Logistic Regression"
      ]
    },
    {
      "cell_type": "code",
      "metadata": {
        "colab": {
          "base_uri": "https://localhost:8080/",
          "height": 1000
        },
        "id": "IWYH7vLo80Xz",
        "outputId": "63c794c7-6a3c-47f3-e7fe-3984dbf1bdc2"
      },
      "source": [
        "log = LogisticRegression()\n",
        "log.fit(X_train, Y_train)\n",
        "predicted = log.predict(X_test)\n",
        "report = classification_report(Y_test, predicted)\n",
        "matrix = confusion_matrix(Y_test, predicted)\n",
        "print(report)\n",
        "print(matrix)\n",
        "\n",
        "scoring = 'accuracy'\n",
        "akurasi_log = cross_val_score(log, X_test, Y_test, cv=seed, scoring=scoring) *100\n",
        "\n",
        "from sklearn.metrics import roc_auc_score\n",
        "\n",
        "print(\"Akurasi Logistic Regresion: {}\".format((akurasi_log.mean()))) \n",
        "auc_log = roc_auc_score(Y_test, log.predict_proba(X_test), multi_class='ovo', average='weighted') *100\n",
        "print('ROC AUC score Logistic Regresion:', auc_log)\n",
        "recall_log=recall_score(Y_test,predicted, average='weighted')*100\n",
        "print(\"Recall of Logistic Regresion is: \",recall_log)\n",
        "prec_log=precision_score(Y_test,predicted, average='weighted') *100\n",
        "print(\"Precision of Logistic Regresion is:\",prec_log)\n",
        "print (\"Confusion Matrix : \\n\",sns.heatmap(confusion_matrix(Y_test, predicted, normalize='true'), annot = True))"
      ],
      "execution_count": null,
      "outputs": [
        {
          "output_type": "stream",
          "text": [
            "/usr/local/lib/python3.7/dist-packages/sklearn/linear_model/_logistic.py:940: ConvergenceWarning:\n",
            "\n",
            "lbfgs failed to converge (status=1):\n",
            "STOP: TOTAL NO. of ITERATIONS REACHED LIMIT.\n",
            "\n",
            "Increase the number of iterations (max_iter) or scale the data as shown in:\n",
            "    https://scikit-learn.org/stable/modules/preprocessing.html\n",
            "Please also refer to the documentation for alternative solver options:\n",
            "    https://scikit-learn.org/stable/modules/linear_model.html#logistic-regression\n",
            "\n",
            "/usr/local/lib/python3.7/dist-packages/sklearn/metrics/_classification.py:1272: UndefinedMetricWarning:\n",
            "\n",
            "Precision and F-score are ill-defined and being set to 0.0 in labels with no predicted samples. Use `zero_division` parameter to control this behavior.\n",
            "\n",
            "/usr/local/lib/python3.7/dist-packages/sklearn/linear_model/_logistic.py:940: ConvergenceWarning:\n",
            "\n",
            "lbfgs failed to converge (status=1):\n",
            "STOP: TOTAL NO. of ITERATIONS REACHED LIMIT.\n",
            "\n",
            "Increase the number of iterations (max_iter) or scale the data as shown in:\n",
            "    https://scikit-learn.org/stable/modules/preprocessing.html\n",
            "Please also refer to the documentation for alternative solver options:\n",
            "    https://scikit-learn.org/stable/modules/linear_model.html#logistic-regression\n",
            "\n",
            "/usr/local/lib/python3.7/dist-packages/sklearn/linear_model/_logistic.py:940: ConvergenceWarning:\n",
            "\n",
            "lbfgs failed to converge (status=1):\n",
            "STOP: TOTAL NO. of ITERATIONS REACHED LIMIT.\n",
            "\n",
            "Increase the number of iterations (max_iter) or scale the data as shown in:\n",
            "    https://scikit-learn.org/stable/modules/preprocessing.html\n",
            "Please also refer to the documentation for alternative solver options:\n",
            "    https://scikit-learn.org/stable/modules/linear_model.html#logistic-regression\n",
            "\n",
            "/usr/local/lib/python3.7/dist-packages/sklearn/linear_model/_logistic.py:940: ConvergenceWarning:\n",
            "\n",
            "lbfgs failed to converge (status=1):\n",
            "STOP: TOTAL NO. of ITERATIONS REACHED LIMIT.\n",
            "\n",
            "Increase the number of iterations (max_iter) or scale the data as shown in:\n",
            "    https://scikit-learn.org/stable/modules/preprocessing.html\n",
            "Please also refer to the documentation for alternative solver options:\n",
            "    https://scikit-learn.org/stable/modules/linear_model.html#logistic-regression\n",
            "\n"
          ],
          "name": "stderr"
        },
        {
          "output_type": "stream",
          "text": [
            "              precision    recall  f1-score   support\n",
            "\n",
            "           0       0.00      0.00      0.00        10\n",
            "           1       0.61      0.50      0.55       435\n",
            "           2       0.66      0.77      0.71       588\n",
            "\n",
            "    accuracy                           0.65      1033\n",
            "   macro avg       0.43      0.42      0.42      1033\n",
            "weighted avg       0.64      0.65      0.64      1033\n",
            "\n",
            "[[  0   0  10]\n",
            " [  0 216 219]\n",
            " [  0 137 451]]\n"
          ],
          "name": "stdout"
        },
        {
          "output_type": "stream",
          "text": [
            "/usr/local/lib/python3.7/dist-packages/sklearn/linear_model/_logistic.py:940: ConvergenceWarning:\n",
            "\n",
            "lbfgs failed to converge (status=1):\n",
            "STOP: TOTAL NO. of ITERATIONS REACHED LIMIT.\n",
            "\n",
            "Increase the number of iterations (max_iter) or scale the data as shown in:\n",
            "    https://scikit-learn.org/stable/modules/preprocessing.html\n",
            "Please also refer to the documentation for alternative solver options:\n",
            "    https://scikit-learn.org/stable/modules/linear_model.html#logistic-regression\n",
            "\n",
            "/usr/local/lib/python3.7/dist-packages/sklearn/linear_model/_logistic.py:940: ConvergenceWarning:\n",
            "\n",
            "lbfgs failed to converge (status=1):\n",
            "STOP: TOTAL NO. of ITERATIONS REACHED LIMIT.\n",
            "\n",
            "Increase the number of iterations (max_iter) or scale the data as shown in:\n",
            "    https://scikit-learn.org/stable/modules/preprocessing.html\n",
            "Please also refer to the documentation for alternative solver options:\n",
            "    https://scikit-learn.org/stable/modules/linear_model.html#logistic-regression\n",
            "\n"
          ],
          "name": "stderr"
        },
        {
          "output_type": "stream",
          "text": [
            "Akurasi Logistic Regresion: 67.47619717649266\n",
            "ROC AUC score Logistic Regresion: 71.53751840222687\n",
            "Recall of Logistic Regresion is:  64.56921587608906\n",
            "Precision of Logistic Regresion is: 64.56921587608906\n",
            "Confusion Matrix : \n",
            " AxesSubplot(0.125,0.11;0.62x0.77)\n"
          ],
          "name": "stdout"
        },
        {
          "output_type": "display_data",
          "data": {
            "image/png": "[encoded data removed]",
            "text/plain": [
              "<Figure size 640x480 with 2 Axes>"
            ]
          },
          "metadata": {
            "tags": []
          }
        }
      ]
    },
    {
      "cell_type": "markdown",
      "metadata": {
        "id": "un5KR1ar80Xr"
      },
      "source": [
        "# Random Forest"
      ]
    },
    {
      "cell_type": "code",
      "metadata": {
        "colab": {
          "base_uri": "https://localhost:8080/",
          "height": 760
        },
        "id": "aNvYPkQ080Xs",
        "outputId": "8f4ed9e0-76db-4479-dc1b-470471d788e6"
      },
      "source": [
        "rf = RandomForestClassifier()\n",
        "rf.fit(X_train, Y_train)\n",
        "predicted = rf.predict(X_test)\n",
        "report = classification_report(Y_test, predicted)\n",
        "matrix = confusion_matrix(Y_test, predicted)\n",
        "print(report)\n",
        "print(matrix)\n",
        "\n",
        "scoring = 'accuracy'\n",
        "akurasi_rf = cross_val_score(rf, X_test, Y_test, cv=seed, scoring=scoring) *100\n",
        "\n",
        "from sklearn.metrics import roc_auc_score\n",
        "\n",
        "print(\"Akurasi Random Forest: {}\".format((akurasi_rf.mean()))) \n",
        "auc_rf = roc_auc_score(Y_test, rf.predict_proba(X_test), multi_class='ovo', average='weighted') *100\n",
        "print('ROC AUC score Random Forest:', auc_rf)\n",
        "recall_rf=recall_score(Y_test,predicted, average='weighted')*100\n",
        "print(\"Recall of Random Forest is: \",recall_rf)\n",
        "prec_rf=precision_score(Y_test,predicted, average='weighted')*100\n",
        "print(\"Precision of Random Forest is:\",prec_rf)\n",
        "print (\"Confusion Matrix : \\n\",sns.heatmap(confusion_matrix(Y_test, predicted, normalize='true'), annot = True))"
      ],
      "execution_count": null,
      "outputs": [
        {
          "output_type": "stream",
          "text": [
            "              precision    recall  f1-score   support\n",
            "\n",
            "           0       0.45      0.50      0.48        10\n",
            "           1       0.84      0.83      0.84       435\n",
            "           2       0.87      0.88      0.87       588\n",
            "\n",
            "    accuracy                           0.85      1033\n",
            "   macro avg       0.72      0.74      0.73      1033\n",
            "weighted avg       0.85      0.85      0.85      1033\n",
            "\n",
            "[[  5   1   4]\n",
            " [  1 362  72]\n",
            " [  5  68 515]]\n",
            "Akurasi Random Forest: 80.44510107405844\n",
            "ROC AUC score Random Forest: 92.99940629187549\n",
            "Recall of Random Forest is:  85.38238141335914\n",
            "Precision of Random Forest is: 85.38238141335914\n",
            "Confusion Matrix : \n",
            " AxesSubplot(0.125,0.11;0.62x0.77)\n"
          ],
          "name": "stdout"
        },
        {
          "output_type": "display_data",
          "data": {
            "image/png": "[encoded data removed]",
            "text/plain": [
              "<Figure size 640x480 with 2 Axes>"
            ]
          },
          "metadata": {
            "tags": []
          }
        }
      ]
    },
    {
      "cell_type": "markdown",
      "metadata": {
        "id": "r4NU5kqo8Cf4"
      },
      "source": [
        "\n",
        "# KNN"
      ]
    },
    {
      "cell_type": "code",
      "metadata": {
        "colab": {
          "base_uri": "https://localhost:8080/",
          "height": 777
        },
        "id": "G7SRNZ048Cf5",
        "outputId": "0f450775-e28f-4555-b7d9-1df700532645"
      },
      "source": [
        "knn = KNeighborsClassifier()\n",
        "knn.fit(X_train, Y_train)\n",
        "predicted = knn.predict(X_test)\n",
        "report = classification_report(Y_test, predicted)\n",
        "matrix = confusion_matrix(Y_test, predicted)\n",
        "print(report)\n",
        "print(matrix)\n",
        "\n",
        "scoring = 'accuracy'\n",
        "akurasi_knn = cross_val_score(knn, X_test, Y_test, cv=seed, scoring=scoring) *100\n",
        "print(\"\\nAkurasi KNN: {}\".format((akurasi_knn.mean()))) \n",
        "auc_knn = roc_auc_score(Y_test, knn.predict_proba(X_test), multi_class='ovo', average='weighted') *100\n",
        "print('ROC AUC score KNN:', auc_knn)\n",
        "recall_knn=recall_score(Y_test,predicted, average='weighted')*100\n",
        "print(\"Recall of KNN is: \",recall_knn)\n",
        "prec_knn=precision_score(Y_test,predicted, average='weighted')*100\n",
        "print(\"Precision of KNN is:\",prec_knn)\n",
        "print (\"Confusion Matrix : \\n\",sns.heatmap(confusion_matrix(Y_test, predicted, normalize='true'), annot = True))"
      ],
      "execution_count": null,
      "outputs": [
        {
          "output_type": "stream",
          "text": [
            "              precision    recall  f1-score   support\n",
            "\n",
            "           0       0.56      0.50      0.53        10\n",
            "           1       0.85      0.80      0.82       435\n",
            "           2       0.85      0.89      0.87       588\n",
            "\n",
            "    accuracy                           0.85      1033\n",
            "   macro avg       0.75      0.73      0.74      1033\n",
            "weighted avg       0.85      0.85      0.85      1033\n",
            "\n",
            "[[  5   0   5]\n",
            " [  1 346  88]\n",
            " [  3  62 523]]\n",
            "\n",
            "Akurasi KNN: 76.18732704844987\n",
            "ROC AUC score KNN: 91.78479857410133\n",
            "Recall of KNN is:  84.6079380445305\n",
            "Precision of KNN is: 84.6079380445305\n",
            "Confusion Matrix : \n",
            " AxesSubplot(0.125,0.11;0.62x0.77)\n"
          ],
          "name": "stdout"
        },
        {
          "output_type": "display_data",
          "data": {
            "image/png": "[encoded data removed]",
            "text/plain": [
              "<Figure size 640x480 with 2 Axes>"
            ]
          },
          "metadata": {
            "tags": []
          }
        }
      ]
    },
    {
      "cell_type": "markdown",
      "metadata": {
        "id": "O2UPMcZq80Xt"
      },
      "source": [
        "# Light Gradient Boost"
      ]
    },
    {
      "cell_type": "code",
      "metadata": {
        "colab": {
          "base_uri": "https://localhost:8080/",
          "height": 764
        },
        "id": "0ef1zYW9gaxj",
        "outputId": "01ff16ff-2fd6-49de-a5ae-c140c22a63d4"
      },
      "source": [
        "lgbm = LGBMClassifier()\n",
        "lgbm.fit(X_train, Y_train)\n",
        "predicted = lgbm.predict(X_test)\n",
        "report = classification_report(Y_test, predicted)\n",
        "matrix = confusion_matrix(Y_test, predicted)\n",
        "print(report)\n",
        "print(matrix)\n",
        "\n",
        "scoring = 'accuracy'\n",
        "akurasi_lgbm = cross_val_score(lgbm, X_test, Y_test, cv=seed, scoring=scoring) *100\n",
        "\n",
        "from sklearn.metrics import roc_auc_score\n",
        "\n",
        "print(\"Accuracy Light Gradient Boosting: {}\".format((akurasi_lgbm.mean()))) \n",
        "auc_lgbm = roc_auc_score(Y_test, lgbm.predict_proba(X_test), multi_class='ovo', average='weighted') *100\n",
        "print('ROC AUC score LGBM:', auc_lgbm)\n",
        "\n",
        "recall_lgbm=recall_score(Y_test,predicted, average='weighted')*100\n",
        "print(\"Recall of LGBM is: \",recall_lgbm)\n",
        "prec_lgbm=precision_score(Y_test,predicted, average='weighted')*100\n",
        "print(\"Precision of LGBM is:\",prec_lgbm)\n",
        "\n",
        "print (\"Confusion Matrix : \\n\",sns.heatmap(confusion_matrix(Y_test, predicted, normalize='true'), annot = True))"
      ],
      "execution_count": null,
      "outputs": [
        {
          "output_type": "stream",
          "text": [
            "              precision    recall  f1-score   support\n",
            "\n",
            "           0       0.42      0.50      0.45        10\n",
            "           1       0.87      0.84      0.86       435\n",
            "           2       0.89      0.90      0.89       588\n",
            "\n",
            "    accuracy                           0.87      1033\n",
            "   macro avg       0.72      0.75      0.74      1033\n",
            "weighted avg       0.87      0.87      0.87      1033\n",
            "\n",
            "[[  5   1   4]\n",
            " [  3 367  65]\n",
            " [  4  53 531]]\n",
            "Accuracy Light Gradient Boosting: 82.6720135078092\n",
            "ROC AUC score LGBM: 95.4218248537189\n",
            "Recall of LGBM is:  87.41529525653436\n",
            "Precision of LGBM is: 87.41529525653436\n",
            "Confusion Matrix : \n",
            " AxesSubplot(0.125,0.11;0.62x0.77)\n"
          ],
          "name": "stdout"
        },
        {
          "output_type": "display_data",
          "data": {
            "image/png": "[encoded data removed]",
            "text/plain": [
              "<Figure size 640x480 with 2 Axes>"
            ]
          },
          "metadata": {
            "tags": []
          }
        }
      ]
    },
    {
      "cell_type": "code",
      "metadata": {
        "colab": {
          "base_uri": "https://localhost:8080/"
        },
        "id": "lAp36eNnBGEH",
        "outputId": "7697b06c-76a0-4553-ddac-a6105e62b5ba"
      },
      "source": [
        "lgbm.fit(X_train, Y_train)"
      ],
      "execution_count": null,
      "outputs": [
        {
          "output_type": "execute_result",
          "data": {
            "text/plain": [
              "LGBMClassifier(boosting_type='gbdt', class_weight=None, colsample_bytree=1.0,\n",
              "               importance_type='split', learning_rate=0.1, max_depth=-1,\n",
              "               min_child_samples=20, min_child_weight=0.001, min_split_gain=0.0,\n",
              "               n_estimators=100, n_jobs=-1, num_leaves=31, objective=None,\n",
              "               random_state=None, reg_alpha=0.0, reg_lambda=0.0, silent=True,\n",
              "               subsample=1.0, subsample_for_bin=200000, subsample_freq=0)"
            ]
          },
          "metadata": {
            "tags": []
          },
          "execution_count": 32
        }
      ]
    },
    {
      "cell_type": "markdown",
      "metadata": {
        "id": "FZTZQV9l9iTf"
      },
      "source": [
        "# HASIL AKURASI"
      ]
    },
    {
      "cell_type": "code",
      "metadata": {
        "colab": {
          "base_uri": "https://localhost:8080/",
          "height": 237
        },
        "id": "tFbTZUB39eAj",
        "outputId": "4732634d-4a22-498b-bedc-7bc3bb168022"
      },
      "source": [
        "algos=[\"Decision Tree\",\"Naive Bayes\",\"Logistic Regression\",\"Random Forest\",\"KNN\",\"Light Gradient Boost\"]\n",
        "acc=[akurasi_dt.mean(), akurasi_nb.mean(), akurasi_log.mean(),akurasi_rf.mean(),akurasi_knn.mean(),akurasi_lgbm.mean()]\n",
        "auc=[auc_dt, auc_nb, auc_log,  auc_rf, auc_knn, auc_lgbm]\n",
        "recall=[recall_dt, recall_nb, recall_log,  recall_rf, recall_knn, recall_lgbm]\n",
        "prec=[prec_dt, prec_nb, prec_log,  prec_rf, prec_knn, prec_lgbm]\n",
        "\n",
        "comp={\"Algorithms\":algos,\"Accuracies\":acc,\"AUC\":auc,\"Recall\":recall,\"Precision\":prec}\n",
        "compdf=pd.DataFrame(comp)\n",
        "display(compdf.sort_values(by=[\"Accuracies\",\"AUC\",\"Recall\",\"Precision\"], ascending=False))"
      ],
      "execution_count": null,
      "outputs": [
        {
          "output_type": "display_data",
          "data": {
            "text/html": [
              "<div>\n",
              "<style scoped>\n",
              "    .dataframe tbody tr th:only-of-type {\n",
              "        vertical-align: middle;\n",
              "    }\n",
              "\n",
              "    .dataframe tbody tr th {\n",
              "        vertical-align: top;\n",
              "    }\n",
              "\n",
              "    .dataframe thead th {\n",
              "        text-align: right;\n",
              "    }\n",
              "</style>\n",
              "<table border=\"1\" class=\"dataframe\">\n",
              "  <thead>\n",
              "    <tr style=\"text-align: right;\">\n",
              "      <th></th>\n",
              "      <th>Algorithms</th>\n",
              "      <th>Accuracies</th>\n",
              "      <th>AUC</th>\n",
              "      <th>Recall</th>\n",
              "      <th>Precision</th>\n",
              "    </tr>\n",
              "  </thead>\n",
              "  <tbody>\n",
              "    <tr>\n",
              "      <th>5</th>\n",
              "      <td>Light Gradient Boost</td>\n",
              "      <td>82.672014</td>\n",
              "      <td>95.421825</td>\n",
              "      <td>87.415295</td>\n",
              "      <td>87.415295</td>\n",
              "    </tr>\n",
              "    <tr>\n",
              "      <th>0</th>\n",
              "      <td>Decision Tree</td>\n",
              "      <td>82.091365</td>\n",
              "      <td>90.617148</td>\n",
              "      <td>86.060019</td>\n",
              "      <td>86.060019</td>\n",
              "    </tr>\n",
              "    <tr>\n",
              "      <th>3</th>\n",
              "      <td>Random Forest</td>\n",
              "      <td>80.445101</td>\n",
              "      <td>92.999406</td>\n",
              "      <td>85.382381</td>\n",
              "      <td>85.382381</td>\n",
              "    </tr>\n",
              "    <tr>\n",
              "      <th>4</th>\n",
              "      <td>KNN</td>\n",
              "      <td>76.187327</td>\n",
              "      <td>91.784799</td>\n",
              "      <td>84.607938</td>\n",
              "      <td>84.607938</td>\n",
              "    </tr>\n",
              "    <tr>\n",
              "      <th>2</th>\n",
              "      <td>Logistic Regression</td>\n",
              "      <td>67.476197</td>\n",
              "      <td>71.537518</td>\n",
              "      <td>64.569216</td>\n",
              "      <td>64.569216</td>\n",
              "    </tr>\n",
              "    <tr>\n",
              "      <th>1</th>\n",
              "      <td>Naive Bayes</td>\n",
              "      <td>29.806763</td>\n",
              "      <td>78.785161</td>\n",
              "      <td>65.634076</td>\n",
              "      <td>65.634076</td>\n",
              "    </tr>\n",
              "  </tbody>\n",
              "</table>\n",
              "</div>"
            ],
            "text/plain": [
              "             Algorithms  Accuracies        AUC     Recall  Precision\n",
              "5  Light Gradient Boost   82.672014  95.421825  87.415295  87.415295\n",
              "0         Decision Tree   82.091365  90.617148  86.060019  86.060019\n",
              "3         Random Forest   80.445101  92.999406  85.382381  85.382381\n",
              "4                   KNN   76.187327  91.784799  84.607938  84.607938\n",
              "2   Logistic Regression   67.476197  71.537518  64.569216  64.569216\n",
              "1           Naive Bayes   29.806763  78.785161  65.634076  65.634076"
            ]
          },
          "metadata": {
            "tags": []
          }
        }
      ]
    },
    {
      "cell_type": "code",
      "metadata": {
        "colab": {
          "base_uri": "https://localhost:8080/",
          "height": 472
        },
        "id": "FHMV2WjbFCw_",
        "outputId": "23795b01-6e82-482b-dcaa-a78fd045e6b5"
      },
      "source": [
        "from lightgbm import plot_importance\n",
        "plot_importance(lgbm)\n",
        "pyplot.show()"
      ],
      "execution_count": null,
      "outputs": [
        {
          "output_type": "display_data",
          "data": {
            "image/png": "[encoded data removed]",
            "text/plain": [
              "<Figure size 640x480 with 1 Axes>"
            ]
          },
          "metadata": {
            "tags": []
          }
        }
      ]
    },
    {
      "cell_type": "markdown",
      "metadata": {
        "id": "pxdGUWU43Kt7"
      },
      "source": [
        "#Hyperparameter Tunning LGBM"
      ]
    },
    {
      "cell_type": "code",
      "metadata": {
        "id": "SahQs-hct4gC",
        "colab": {
          "base_uri": "https://localhost:8080/"
        },
        "outputId": "65742d53-4cc9-4dd6-f13e-4037f83f5281"
      },
      "source": [
        "import lightgbm as lgbm\n",
        "from sklearn.model_selection import GridSearchCV\n",
        "\n",
        "optimized_lgbm = lgbm.LGBMRegressor()                                                            \n",
        "optimized_lgbm.fit(X_train, Y_train)"
      ],
      "execution_count": null,
      "outputs": [
        {
          "output_type": "execute_result",
          "data": {
            "text/plain": [
              "LGBMRegressor(boosting_type='gbdt', class_weight=None, colsample_bytree=1.0,\n",
              "              importance_type='split', learning_rate=0.1, max_depth=-1,\n",
              "              min_child_samples=20, min_child_weight=0.001, min_split_gain=0.0,\n",
              "              n_estimators=100, n_jobs=-1, num_leaves=31, objective=None,\n",
              "              random_state=None, reg_alpha=0.0, reg_lambda=0.0, silent=True,\n",
              "              subsample=1.0, subsample_for_bin=200000, subsample_freq=0)"
            ]
          },
          "metadata": {
            "tags": []
          },
          "execution_count": 35
        }
      ]
    },
    {
      "cell_type": "code",
      "metadata": {
        "id": "esmVhvNbzIG7",
        "colab": {
          "base_uri": "https://localhost:8080/"
        },
        "outputId": "fb85561a-4dee-4d14-e174-f69a5216afa9"
      },
      "source": [
        "param = {\n",
        "        'n_estimators': (100, 400, 10),\n",
        "        'min_child_weight': (3, 20, 2),\n",
        "        'colsample_bytree': (0.4, 1.0),\n",
        "        'max_depth': (5, 15, 2),\n",
        "        'min_child_samples': (10, 30)}\n",
        "        \n",
        "grid = GridSearchCV(optimized_lgbm, param_grid = param, cv=5)\n",
        "\n",
        "grid.fit(X_train, Y_train)"
      ],
      "execution_count": null,
      "outputs": [
        {
          "output_type": "execute_result",
          "data": {
            "text/plain": [
              "GridSearchCV(cv=5, error_score=nan,\n",
              "             estimator=LGBMRegressor(boosting_type='gbdt', class_weight=None,\n",
              "                                     colsample_bytree=1.0,\n",
              "                                     importance_type='split', learning_rate=0.1,\n",
              "                                     max_depth=-1, min_child_samples=20,\n",
              "                                     min_child_weight=0.001, min_split_gain=0.0,\n",
              "                                     n_estimators=100, n_jobs=-1, num_leaves=31,\n",
              "                                     objective=None, random_state=None,\n",
              "                                     reg_alpha=0.0, reg_lambda=0.0, silent=True,\n",
              "                                     subsample=1.0, subsample_for_bin=200000,\n",
              "                                     subsample_freq=0),\n",
              "             iid='deprecated', n_jobs=None,\n",
              "             param_grid={'colsample_bytree': (0.4, 1.0),\n",
              "                         'max_depth': (5, 15, 2), 'min_child_samples': (10, 30),\n",
              "                         'min_child_weight': (3, 20, 2),\n",
              "                         'n_estimators': (100, 400, 10)},\n",
              "             pre_dispatch='2*n_jobs', refit=True, return_train_score=False,\n",
              "             scoring=None, verbose=0)"
            ]
          },
          "metadata": {
            "tags": []
          },
          "execution_count": 36
        }
      ]
    },
    {
      "cell_type": "code",
      "metadata": {
        "id": "yHNhgbmCRZf_",
        "colab": {
          "base_uri": "https://localhost:8080/"
        },
        "outputId": "4145cbdc-36b1-4d0b-9dd3-2ffe7f1b8454"
      },
      "source": [
        "predicted1 = grid.predict(X_test)\n",
        "predicted1\n",
        "X_test.shape"
      ],
      "execution_count": null,
      "outputs": [
        {
          "output_type": "execute_result",
          "data": {
            "text/plain": [
              "(1033, 6)"
            ]
          },
          "metadata": {
            "tags": []
          },
          "execution_count": 37
        }
      ]
    },
    {
      "cell_type": "code",
      "metadata": {
        "colab": {
          "base_uri": "https://localhost:8080/"
        },
        "id": "O4mtRPy9ohFp",
        "outputId": "b51ce64a-3a42-4355-a0c5-127197b6dacf"
      },
      "source": [
        "lgbm_tuning = LGBMClassifier(boosting_type='gbdt', class_weight=None,\n",
        "                                     colsample_bytree=1.0,\n",
        "                                     importance_type='split', learning_rate=0.1,\n",
        "                                     max_depth=-1, min_child_samples=20,\n",
        "                                     min_child_weight=0.001, min_split_gain=0.0,\n",
        "                                     n_estimators=100, n_jobs=-1, num_leaves=31,\n",
        "                                     objective=None, random_state=None,\n",
        "                                     reg_alpha=0.0, reg_lambda=0.0, silent=True,\n",
        "                                     subsample=1.0, subsample_for_bin=200000,\n",
        "                                     subsample_freq=0)\n",
        "lgbm_tuning.fit(X_train, Y_train)\n",
        "predicted = lgbm_tuning.predict(X_test)\n",
        "report = classification_report(Y_test, predicted)\n",
        "matrix = confusion_matrix(Y_test, predicted)\n",
        "print(report)\n",
        "print(matrix)\n",
        "\n",
        "akurasi_lgbm = cross_val_score(lgbm_tuning, X_test, Y_test, cv=seed, scoring='accuracy') *100\n",
        "\n",
        "from sklearn.metrics import roc_auc_score\n",
        "\n",
        "print(\"Accuracy Light Gradient Boosting after tuning: {}\".format((akurasi_lgbm.mean()))) \n",
        "auc_lgbm = roc_auc_score(Y_test, lgbm_tuning.predict_proba(X_test), multi_class='ovo',  average='weighted') *100\n",
        "print('ROC AUC score LGBM:', auc_lgbm)\n",
        "\n",
        "recall_lgbm=recall_score(Y_test,predicted, average='micro')*100\n",
        "print(\"Recall of LGBM is after tuning: \",recall_lgbm)\n",
        "prec_lgbm=precision_score(Y_test,predicted, average='micro')*100\n",
        "print(\"Precision of LGBM is after tuning:\",prec_lgbm)\n",
        "\n",
        "print (\"Confusion Matrix : \\n\",sns.heatmap(confusion_matrix(Y_test, predicted, normalize='true'), annot = True))"
      ],
      "execution_count": null,
      "outputs": [
        {
          "output_type": "stream",
          "text": [
            "              precision    recall  f1-score   support\n",
            "\n",
            "           0       0.42      0.50      0.45        10\n",
            "           1       0.87      0.84      0.86       435\n",
            "           2       0.89      0.90      0.89       588\n",
            "\n",
            "    accuracy                           0.87      1033\n",
            "   macro avg       0.72      0.75      0.74      1033\n",
            "weighted avg       0.87      0.87      0.87      1033\n",
            "\n",
            "[[  5   1   4]\n",
            " [  3 367  65]\n",
            " [  4  53 531]]\n",
            "Accuracy Light Gradient Boosting after tuning: 82.6720135078092\n",
            "ROC AUC score LGBM: 95.4218248537189\n",
            "Recall of LGBM is after tuning:  87.41529525653436\n",
            "Precision of LGBM is after tuning: 87.41529525653436\n",
            "Confusion Matrix : \n",
            " AxesSubplot(0.125,0.11;0.62x0.77)\n"
          ],
          "name": "stdout"
        },
        {
          "output_type": "display_data",
          "data": {
            "image/png": "[encoded data removed]",
            "text/plain": [
              "<Figure size 640x480 with 2 Axes>"
            ]
          },
          "metadata": {
            "tags": []
          }
        }
      ]
    }
  ]
}