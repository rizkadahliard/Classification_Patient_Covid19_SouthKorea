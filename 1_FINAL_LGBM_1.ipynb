{
  "nbformat": 4,
  "nbformat_minor": 0,
  "metadata": {
    "colab": {
      "name": "1. FINAL LGBM_1",
      "provenance": [],
      "collapsed_sections": [
        "3Y3UtWZtvEGA",
        "pCL1Rafw5Okz",
        "WcSiFK-r81cP",
        "dTi6dD948qVM",
        "HuFU5fM7W-ef"
      ]
    },
    "kernelspec": {
      "name": "python3",
      "display_name": "Python 3"
    },
    "language_info": {
      "name": "python"
    }
  },
  "cells": [
    {
      "cell_type": "markdown",
      "metadata": {
        "id": "jqthuJoku2rY"
      },
      "source": [
        "#Koneksi ke Google Drive"
      ]
    },
    {
      "cell_type": "code",
      "metadata": {
        "colab": {
          "base_uri": "https://localhost:8080/"
        },
        "id": "GrqtE3NH7rGJ",
        "outputId": "47c65335-0b9a-4e61-f73f-3dead711f0b7"
      },
      "source": [
        "from google.colab import drive\n",
        "drive.mount('/content/drive', force_remount=True)"
      ],
      "execution_count": null,
      "outputs": [
        {
          "output_type": "stream",
          "text": [
            "Mounted at /content/drive\n"
          ],
          "name": "stdout"
        }
      ]
    },
    {
      "cell_type": "markdown",
      "metadata": {
        "id": "3Y3UtWZtvEGA"
      },
      "source": [
        "#IMPORT MODULE"
      ]
    },
    {
      "cell_type": "code",
      "metadata": {
        "id": "5CelubFF75Oq"
      },
      "source": [
        "import pandas as pd\n",
        "import numpy as np\n",
        "import seaborn as sns\n",
        "import plotly.express as px\n",
        "from matplotlib import pyplot\n",
        "from sklearn import metrics\n",
        "import matplotlib.pyplot as plt; plt.rcdefaults()\n",
        "\n",
        "from sklearn.ensemble import RandomForestClassifier\n",
        "from sklearn.naive_bayes import GaussianNB\n",
        "from sklearn.neighbors import KNeighborsClassifier\n",
        "from sklearn.tree import DecisionTreeClassifier \n",
        "from lightgbm import LGBMClassifier\n",
        "from sklearn.linear_model import  LogisticRegression\n",
        "from sklearn.neighbors import KNeighborsClassifier\n",
        "\n",
        "from sklearn.preprocessing import LabelBinarizer\n",
        "from sklearn.model_selection import train_test_split\n",
        "from sklearn.model_selection import cross_val_score, cross_validate\n",
        "from sklearn.metrics import classification_report\n",
        "from sklearn.metrics import accuracy_score , confusion_matrix,f1_score, roc_auc_score,precision_score, recall_score,roc_curve\n",
        "\n",
        "from datetime import date"
      ],
      "execution_count": null,
      "outputs": []
    },
    {
      "cell_type": "markdown",
      "metadata": {
        "id": "qkvTpEPw3ce8"
      },
      "source": [
        "MENAMPILKAN DATA DAN PENYESUAIAN SEBELUM MERGE"
      ]
    },
    {
      "cell_type": "code",
      "metadata": {
        "id": "Vj6F_OJU77Io"
      },
      "source": [
        "patien_info = pd.read_csv('drive/MyDrive/dataset/PatientInfo.csv')\n",
        "weather = pd.read_csv('drive/MyDrive/dataset/Weather.csv')\n",
        "seoul_floating = pd.read_csv('drive/MyDrive/dataset/SeoulFloating.csv')"
      ],
      "execution_count": null,
      "outputs": []
    },
    {
      "cell_type": "markdown",
      "metadata": {
        "id": "_OtiMDVdm7gb"
      },
      "source": [
        "## Data Patien Info"
      ]
    },
    {
      "cell_type": "code",
      "metadata": {
        "colab": {
          "base_uri": "https://localhost:8080/"
        },
        "id": "29CaPEV28jz4",
        "outputId": "f537ac4d-629e-4867-d256-84796f903854"
      },
      "source": [
        "print(patien_info.shape)\n",
        "patien_info.head()"
      ],
      "execution_count": null,
      "outputs": [
        {
          "output_type": "stream",
          "text": [
            "(5165, 13)\n"
          ],
          "name": "stdout"
        },
        {
          "output_type": "execute_result",
          "data": {
            "text/html": [
              "<div>\n",
              "<style scoped>\n",
              "    .dataframe tbody tr th:only-of-type {\n",
              "        vertical-align: middle;\n",
              "    }\n",
              "\n",
              "    .dataframe tbody tr th {\n",
              "        vertical-align: top;\n",
              "    }\n",
              "\n",
              "    .dataframe thead th {\n",
              "        text-align: right;\n",
              "    }\n",
              "</style>\n",
              "<table border=\"1\" class=\"dataframe\">\n",
              "  <thead>\n",
              "    <tr style=\"text-align: right;\">\n",
              "      <th></th>\n",
              "      <th>patient_id</th>\n",
              "      <th>sex</th>\n",
              "      <th>age</th>\n",
              "      <th>province</th>\n",
              "      <th>city</th>\n",
              "      <th>infection_case</th>\n",
              "      <th>infected_by</th>\n",
              "      <th>contact_number</th>\n",
              "      <th>symptom_onset_date</th>\n",
              "      <th>confirmed_date</th>\n",
              "      <th>released_date</th>\n",
              "      <th>deceased_date</th>\n",
              "      <th>state</th>\n",
              "    </tr>\n",
              "  </thead>\n",
              "  <tbody>\n",
              "    <tr>\n",
              "      <th>0</th>\n",
              "      <td>1000000001</td>\n",
              "      <td>male</td>\n",
              "      <td>50.0</td>\n",
              "      <td>Seoul</td>\n",
              "      <td>Gangseo-gu</td>\n",
              "      <td>overseas inflow</td>\n",
              "      <td>NaN</td>\n",
              "      <td>75</td>\n",
              "      <td>1/22/2020</td>\n",
              "      <td>1/23/2020</td>\n",
              "      <td>2/5/2020</td>\n",
              "      <td>NaN</td>\n",
              "      <td>released</td>\n",
              "    </tr>\n",
              "    <tr>\n",
              "      <th>1</th>\n",
              "      <td>1000000002</td>\n",
              "      <td>male</td>\n",
              "      <td>30.0</td>\n",
              "      <td>Seoul</td>\n",
              "      <td>Jungnang-gu</td>\n",
              "      <td>overseas inflow</td>\n",
              "      <td>NaN</td>\n",
              "      <td>31</td>\n",
              "      <td>NaN</td>\n",
              "      <td>1/30/2020</td>\n",
              "      <td>3/2/2020</td>\n",
              "      <td>NaN</td>\n",
              "      <td>released</td>\n",
              "    </tr>\n",
              "    <tr>\n",
              "      <th>2</th>\n",
              "      <td>1000000003</td>\n",
              "      <td>male</td>\n",
              "      <td>50.0</td>\n",
              "      <td>Seoul</td>\n",
              "      <td>Jongno-gu</td>\n",
              "      <td>contact with patient</td>\n",
              "      <td>2002000001</td>\n",
              "      <td>17</td>\n",
              "      <td>NaN</td>\n",
              "      <td>1/30/2020</td>\n",
              "      <td>2/19/2020</td>\n",
              "      <td>NaN</td>\n",
              "      <td>released</td>\n",
              "    </tr>\n",
              "    <tr>\n",
              "      <th>3</th>\n",
              "      <td>1000000004</td>\n",
              "      <td>male</td>\n",
              "      <td>20.0</td>\n",
              "      <td>Seoul</td>\n",
              "      <td>Mapo-gu</td>\n",
              "      <td>overseas inflow</td>\n",
              "      <td>NaN</td>\n",
              "      <td>9</td>\n",
              "      <td>1/26/2020</td>\n",
              "      <td>1/30/2020</td>\n",
              "      <td>2/15/2020</td>\n",
              "      <td>NaN</td>\n",
              "      <td>released</td>\n",
              "    </tr>\n",
              "    <tr>\n",
              "      <th>4</th>\n",
              "      <td>1000000005</td>\n",
              "      <td>female</td>\n",
              "      <td>20.0</td>\n",
              "      <td>Seoul</td>\n",
              "      <td>Seongbuk-gu</td>\n",
              "      <td>contact with patient</td>\n",
              "      <td>1000000002</td>\n",
              "      <td>2</td>\n",
              "      <td>NaN</td>\n",
              "      <td>1/31/2020</td>\n",
              "      <td>2/24/2020</td>\n",
              "      <td>NaN</td>\n",
              "      <td>released</td>\n",
              "    </tr>\n",
              "  </tbody>\n",
              "</table>\n",
              "</div>"
            ],
            "text/plain": [
              "   patient_id     sex   age  ... released_date deceased_date     state\n",
              "0  1000000001    male  50.0  ...      2/5/2020           NaN  released\n",
              "1  1000000002    male  30.0  ...      3/2/2020           NaN  released\n",
              "2  1000000003    male  50.0  ...     2/19/2020           NaN  released\n",
              "3  1000000004    male  20.0  ...     2/15/2020           NaN  released\n",
              "4  1000000005  female  20.0  ...     2/24/2020           NaN  released\n",
              "\n",
              "[5 rows x 13 columns]"
            ]
          },
          "metadata": {
            "tags": []
          },
          "execution_count": 4
        }
      ]
    },
    {
      "cell_type": "code",
      "metadata": {
        "colab": {
          "base_uri": "https://localhost:8080/"
        },
        "id": "G63Br5my2IZb",
        "outputId": "3bee178b-756d-465d-d5b6-ea54b549bec9"
      },
      "source": [
        "patien_info.rename(columns= {'confirmed_date' :'date'}, inplace=True) #mengubah nama column confirmed_date menjadi date\n",
        "patien_info.age = patien_info.age.fillna(0) #mengubah bagian kosong pada kolom age menjadi 0\n",
        "patien_info.age= patien_info.age.astype('int64') #mengubah tipe data kolom age\n",
        "print(patien_info.shape)\n",
        "patien_info.head()#menampilkan data patien_info"
      ],
      "execution_count": null,
      "outputs": [
        {
          "output_type": "stream",
          "text": [
            "(5165, 13)\n"
          ],
          "name": "stdout"
        },
        {
          "output_type": "execute_result",
          "data": {
            "text/html": [
              "<div>\n",
              "<style scoped>\n",
              "    .dataframe tbody tr th:only-of-type {\n",
              "        vertical-align: middle;\n",
              "    }\n",
              "\n",
              "    .dataframe tbody tr th {\n",
              "        vertical-align: top;\n",
              "    }\n",
              "\n",
              "    .dataframe thead th {\n",
              "        text-align: right;\n",
              "    }\n",
              "</style>\n",
              "<table border=\"1\" class=\"dataframe\">\n",
              "  <thead>\n",
              "    <tr style=\"text-align: right;\">\n",
              "      <th></th>\n",
              "      <th>patient_id</th>\n",
              "      <th>sex</th>\n",
              "      <th>age</th>\n",
              "      <th>province</th>\n",
              "      <th>city</th>\n",
              "      <th>infection_case</th>\n",
              "      <th>infected_by</th>\n",
              "      <th>contact_number</th>\n",
              "      <th>symptom_onset_date</th>\n",
              "      <th>date</th>\n",
              "      <th>released_date</th>\n",
              "      <th>deceased_date</th>\n",
              "      <th>state</th>\n",
              "    </tr>\n",
              "  </thead>\n",
              "  <tbody>\n",
              "    <tr>\n",
              "      <th>0</th>\n",
              "      <td>1000000001</td>\n",
              "      <td>male</td>\n",
              "      <td>50</td>\n",
              "      <td>Seoul</td>\n",
              "      <td>Gangseo-gu</td>\n",
              "      <td>overseas inflow</td>\n",
              "      <td>NaN</td>\n",
              "      <td>75</td>\n",
              "      <td>1/22/2020</td>\n",
              "      <td>1/23/2020</td>\n",
              "      <td>2/5/2020</td>\n",
              "      <td>NaN</td>\n",
              "      <td>released</td>\n",
              "    </tr>\n",
              "    <tr>\n",
              "      <th>1</th>\n",
              "      <td>1000000002</td>\n",
              "      <td>male</td>\n",
              "      <td>30</td>\n",
              "      <td>Seoul</td>\n",
              "      <td>Jungnang-gu</td>\n",
              "      <td>overseas inflow</td>\n",
              "      <td>NaN</td>\n",
              "      <td>31</td>\n",
              "      <td>NaN</td>\n",
              "      <td>1/30/2020</td>\n",
              "      <td>3/2/2020</td>\n",
              "      <td>NaN</td>\n",
              "      <td>released</td>\n",
              "    </tr>\n",
              "    <tr>\n",
              "      <th>2</th>\n",
              "      <td>1000000003</td>\n",
              "      <td>male</td>\n",
              "      <td>50</td>\n",
              "      <td>Seoul</td>\n",
              "      <td>Jongno-gu</td>\n",
              "      <td>contact with patient</td>\n",
              "      <td>2002000001</td>\n",
              "      <td>17</td>\n",
              "      <td>NaN</td>\n",
              "      <td>1/30/2020</td>\n",
              "      <td>2/19/2020</td>\n",
              "      <td>NaN</td>\n",
              "      <td>released</td>\n",
              "    </tr>\n",
              "    <tr>\n",
              "      <th>3</th>\n",
              "      <td>1000000004</td>\n",
              "      <td>male</td>\n",
              "      <td>20</td>\n",
              "      <td>Seoul</td>\n",
              "      <td>Mapo-gu</td>\n",
              "      <td>overseas inflow</td>\n",
              "      <td>NaN</td>\n",
              "      <td>9</td>\n",
              "      <td>1/26/2020</td>\n",
              "      <td>1/30/2020</td>\n",
              "      <td>2/15/2020</td>\n",
              "      <td>NaN</td>\n",
              "      <td>released</td>\n",
              "    </tr>\n",
              "    <tr>\n",
              "      <th>4</th>\n",
              "      <td>1000000005</td>\n",
              "      <td>female</td>\n",
              "      <td>20</td>\n",
              "      <td>Seoul</td>\n",
              "      <td>Seongbuk-gu</td>\n",
              "      <td>contact with patient</td>\n",
              "      <td>1000000002</td>\n",
              "      <td>2</td>\n",
              "      <td>NaN</td>\n",
              "      <td>1/31/2020</td>\n",
              "      <td>2/24/2020</td>\n",
              "      <td>NaN</td>\n",
              "      <td>released</td>\n",
              "    </tr>\n",
              "  </tbody>\n",
              "</table>\n",
              "</div>"
            ],
            "text/plain": [
              "   patient_id     sex  age  ... released_date deceased_date     state\n",
              "0  1000000001    male   50  ...      2/5/2020           NaN  released\n",
              "1  1000000002    male   30  ...      3/2/2020           NaN  released\n",
              "2  1000000003    male   50  ...     2/19/2020           NaN  released\n",
              "3  1000000004    male   20  ...     2/15/2020           NaN  released\n",
              "4  1000000005  female   20  ...     2/24/2020           NaN  released\n",
              "\n",
              "[5 rows x 13 columns]"
            ]
          },
          "metadata": {
            "tags": []
          },
          "execution_count": 5
        }
      ]
    },
    {
      "cell_type": "code",
      "metadata": {
        "colab": {
          "base_uri": "https://localhost:8080/"
        },
        "id": "tEluJaSU0DYQ",
        "outputId": "8daf4ca4-2285-461d-f92a-ea12cd7d84b4"
      },
      "source": [
        "weather.dtypes"
      ],
      "execution_count": null,
      "outputs": [
        {
          "output_type": "execute_result",
          "data": {
            "text/plain": [
              "code                       int64\n",
              "province                  object\n",
              "date                      object\n",
              "avg_temp                 float64\n",
              "min_temp                 float64\n",
              "max_temp                 float64\n",
              "precipitation            float64\n",
              "max_wind_speed           float64\n",
              "most_wind_direction      float64\n",
              "avg_relative_humidity    float64\n",
              "dtype: object"
            ]
          },
          "metadata": {
            "tags": []
          },
          "execution_count": 6
        }
      ]
    },
    {
      "cell_type": "markdown",
      "metadata": {
        "id": "QNF5cpB0nImE"
      },
      "source": [
        "Data Weather"
      ]
    },
    {
      "cell_type": "code",
      "metadata": {
        "colab": {
          "base_uri": "https://localhost:8080/"
        },
        "id": "CxO0t7G6-12j",
        "outputId": "0fd85bd9-75cd-49b9-c1cf-b4a65d767db6"
      },
      "source": [
        "print(weather.shape)\n",
        "weather.head()"
      ],
      "execution_count": null,
      "outputs": [
        {
          "output_type": "stream",
          "text": [
            "(26271, 10)\n"
          ],
          "name": "stdout"
        },
        {
          "output_type": "execute_result",
          "data": {
            "text/html": [
              "<div>\n",
              "<style scoped>\n",
              "    .dataframe tbody tr th:only-of-type {\n",
              "        vertical-align: middle;\n",
              "    }\n",
              "\n",
              "    .dataframe tbody tr th {\n",
              "        vertical-align: top;\n",
              "    }\n",
              "\n",
              "    .dataframe thead th {\n",
              "        text-align: right;\n",
              "    }\n",
              "</style>\n",
              "<table border=\"1\" class=\"dataframe\">\n",
              "  <thead>\n",
              "    <tr style=\"text-align: right;\">\n",
              "      <th></th>\n",
              "      <th>code</th>\n",
              "      <th>province</th>\n",
              "      <th>date</th>\n",
              "      <th>avg_temp</th>\n",
              "      <th>min_temp</th>\n",
              "      <th>max_temp</th>\n",
              "      <th>precipitation</th>\n",
              "      <th>max_wind_speed</th>\n",
              "      <th>most_wind_direction</th>\n",
              "      <th>avg_relative_humidity</th>\n",
              "    </tr>\n",
              "  </thead>\n",
              "  <tbody>\n",
              "    <tr>\n",
              "      <th>0</th>\n",
              "      <td>10000</td>\n",
              "      <td>Seoul</td>\n",
              "      <td>1/1/2016</td>\n",
              "      <td>1.2</td>\n",
              "      <td>-3.3</td>\n",
              "      <td>4.0</td>\n",
              "      <td>0.0</td>\n",
              "      <td>3.5</td>\n",
              "      <td>90.0</td>\n",
              "      <td>73.0</td>\n",
              "    </tr>\n",
              "    <tr>\n",
              "      <th>1</th>\n",
              "      <td>11000</td>\n",
              "      <td>Busan</td>\n",
              "      <td>1/1/2016</td>\n",
              "      <td>5.3</td>\n",
              "      <td>1.1</td>\n",
              "      <td>10.9</td>\n",
              "      <td>0.0</td>\n",
              "      <td>7.4</td>\n",
              "      <td>340.0</td>\n",
              "      <td>52.1</td>\n",
              "    </tr>\n",
              "    <tr>\n",
              "      <th>2</th>\n",
              "      <td>12000</td>\n",
              "      <td>Daegu</td>\n",
              "      <td>1/1/2016</td>\n",
              "      <td>1.7</td>\n",
              "      <td>-4.0</td>\n",
              "      <td>8.0</td>\n",
              "      <td>0.0</td>\n",
              "      <td>3.7</td>\n",
              "      <td>270.0</td>\n",
              "      <td>70.5</td>\n",
              "    </tr>\n",
              "    <tr>\n",
              "      <th>3</th>\n",
              "      <td>13000</td>\n",
              "      <td>Gwangju</td>\n",
              "      <td>1/1/2016</td>\n",
              "      <td>3.2</td>\n",
              "      <td>-1.5</td>\n",
              "      <td>8.1</td>\n",
              "      <td>0.0</td>\n",
              "      <td>2.7</td>\n",
              "      <td>230.0</td>\n",
              "      <td>73.1</td>\n",
              "    </tr>\n",
              "    <tr>\n",
              "      <th>4</th>\n",
              "      <td>14000</td>\n",
              "      <td>Incheon</td>\n",
              "      <td>1/1/2016</td>\n",
              "      <td>3.1</td>\n",
              "      <td>-0.4</td>\n",
              "      <td>5.7</td>\n",
              "      <td>0.0</td>\n",
              "      <td>5.3</td>\n",
              "      <td>180.0</td>\n",
              "      <td>83.9</td>\n",
              "    </tr>\n",
              "  </tbody>\n",
              "</table>\n",
              "</div>"
            ],
            "text/plain": [
              "    code province  ... most_wind_direction  avg_relative_humidity\n",
              "0  10000    Seoul  ...                90.0                   73.0\n",
              "1  11000    Busan  ...               340.0                   52.1\n",
              "2  12000    Daegu  ...               270.0                   70.5\n",
              "3  13000  Gwangju  ...               230.0                   73.1\n",
              "4  14000  Incheon  ...               180.0                   83.9\n",
              "\n",
              "[5 rows x 10 columns]"
            ]
          },
          "metadata": {
            "tags": []
          },
          "execution_count": 7
        }
      ]
    },
    {
      "cell_type": "code",
      "metadata": {
        "colab": {
          "base_uri": "https://localhost:8080/"
        },
        "id": "a2LjOCAG9D-w",
        "outputId": "98844017-c480-4bd9-99ab-8c0d660a58f7"
      },
      "source": [
        "weather.dtypes"
      ],
      "execution_count": null,
      "outputs": [
        {
          "output_type": "execute_result",
          "data": {
            "text/plain": [
              "code                       int64\n",
              "province                  object\n",
              "date                      object\n",
              "avg_temp                 float64\n",
              "min_temp                 float64\n",
              "max_temp                 float64\n",
              "precipitation            float64\n",
              "max_wind_speed           float64\n",
              "most_wind_direction      float64\n",
              "avg_relative_humidity    float64\n",
              "dtype: object"
            ]
          },
          "metadata": {
            "tags": []
          },
          "execution_count": 8
        }
      ]
    },
    {
      "cell_type": "markdown",
      "metadata": {
        "id": "Vh-s34XDnK5m"
      },
      "source": [
        "Data Seoul Floating"
      ]
    },
    {
      "cell_type": "code",
      "metadata": {
        "colab": {
          "base_uri": "https://localhost:8080/"
        },
        "id": "DWFISvPGxzpo",
        "outputId": "01fbe9fc-f966-45e0-c04b-a8f6dc734cec"
      },
      "source": [
        "print(seoul_floating.shape)\n",
        "seoul_floating.head()"
      ],
      "execution_count": null,
      "outputs": [
        {
          "output_type": "stream",
          "text": [
            "(1048575, 7)\n"
          ],
          "name": "stdout"
        },
        {
          "output_type": "execute_result",
          "data": {
            "text/html": [
              "<div>\n",
              "<style scoped>\n",
              "    .dataframe tbody tr th:only-of-type {\n",
              "        vertical-align: middle;\n",
              "    }\n",
              "\n",
              "    .dataframe tbody tr th {\n",
              "        vertical-align: top;\n",
              "    }\n",
              "\n",
              "    .dataframe thead th {\n",
              "        text-align: right;\n",
              "    }\n",
              "</style>\n",
              "<table border=\"1\" class=\"dataframe\">\n",
              "  <thead>\n",
              "    <tr style=\"text-align: right;\">\n",
              "      <th></th>\n",
              "      <th>date</th>\n",
              "      <th>hour</th>\n",
              "      <th>birth_year</th>\n",
              "      <th>sex</th>\n",
              "      <th>province</th>\n",
              "      <th>city</th>\n",
              "      <th>fp_num</th>\n",
              "    </tr>\n",
              "  </thead>\n",
              "  <tbody>\n",
              "    <tr>\n",
              "      <th>0</th>\n",
              "      <td>1/1/2020</td>\n",
              "      <td>0</td>\n",
              "      <td>20</td>\n",
              "      <td>female</td>\n",
              "      <td>Seoul</td>\n",
              "      <td>Dobong-gu</td>\n",
              "      <td>19140</td>\n",
              "    </tr>\n",
              "    <tr>\n",
              "      <th>1</th>\n",
              "      <td>1/1/2020</td>\n",
              "      <td>0</td>\n",
              "      <td>20</td>\n",
              "      <td>male</td>\n",
              "      <td>Seoul</td>\n",
              "      <td>Dobong-gu</td>\n",
              "      <td>19950</td>\n",
              "    </tr>\n",
              "    <tr>\n",
              "      <th>2</th>\n",
              "      <td>1/1/2020</td>\n",
              "      <td>0</td>\n",
              "      <td>20</td>\n",
              "      <td>female</td>\n",
              "      <td>Seoul</td>\n",
              "      <td>Dongdaemun-gu</td>\n",
              "      <td>25450</td>\n",
              "    </tr>\n",
              "    <tr>\n",
              "      <th>3</th>\n",
              "      <td>1/1/2020</td>\n",
              "      <td>0</td>\n",
              "      <td>20</td>\n",
              "      <td>male</td>\n",
              "      <td>Seoul</td>\n",
              "      <td>Dongdaemun-gu</td>\n",
              "      <td>27050</td>\n",
              "    </tr>\n",
              "    <tr>\n",
              "      <th>4</th>\n",
              "      <td>1/1/2020</td>\n",
              "      <td>0</td>\n",
              "      <td>20</td>\n",
              "      <td>female</td>\n",
              "      <td>Seoul</td>\n",
              "      <td>Dongjag-gu</td>\n",
              "      <td>28880</td>\n",
              "    </tr>\n",
              "  </tbody>\n",
              "</table>\n",
              "</div>"
            ],
            "text/plain": [
              "       date  hour  birth_year     sex province           city  fp_num\n",
              "0  1/1/2020     0          20  female    Seoul      Dobong-gu   19140\n",
              "1  1/1/2020     0          20    male    Seoul      Dobong-gu   19950\n",
              "2  1/1/2020     0          20  female    Seoul  Dongdaemun-gu   25450\n",
              "3  1/1/2020     0          20    male    Seoul  Dongdaemun-gu   27050\n",
              "4  1/1/2020     0          20  female    Seoul     Dongjag-gu   28880"
            ]
          },
          "metadata": {
            "tags": []
          },
          "execution_count": 9
        }
      ]
    },
    {
      "cell_type": "code",
      "metadata": {
        "colab": {
          "base_uri": "https://localhost:8080/"
        },
        "id": "78z81RP5F44L",
        "outputId": "4fedb3fc-93d2-473b-dbee-1c60961e6d23"
      },
      "source": [
        "seoul_floating=seoul_floating.groupby(['date', 'birth_year','sex'], as_index=False).mean()#menggabungkan data berdasarkan tanggal, umur dan jenis kelamin\n",
        "seoul_floating=seoul_floating[['date', 'birth_year','sex','fp_num']] #menampilkan data berdasarkan kolom yang diperlukan\n",
        "seoul_floating.head()"
      ],
      "execution_count": null,
      "outputs": [
        {
          "output_type": "execute_result",
          "data": {
            "text/html": [
              "<div>\n",
              "<style scoped>\n",
              "    .dataframe tbody tr th:only-of-type {\n",
              "        vertical-align: middle;\n",
              "    }\n",
              "\n",
              "    .dataframe tbody tr th {\n",
              "        vertical-align: top;\n",
              "    }\n",
              "\n",
              "    .dataframe thead th {\n",
              "        text-align: right;\n",
              "    }\n",
              "</style>\n",
              "<table border=\"1\" class=\"dataframe\">\n",
              "  <thead>\n",
              "    <tr style=\"text-align: right;\">\n",
              "      <th></th>\n",
              "      <th>date</th>\n",
              "      <th>birth_year</th>\n",
              "      <th>sex</th>\n",
              "      <th>fp_num</th>\n",
              "    </tr>\n",
              "  </thead>\n",
              "  <tbody>\n",
              "    <tr>\n",
              "      <th>0</th>\n",
              "      <td>1/1/2020</td>\n",
              "      <td>20</td>\n",
              "      <td>female</td>\n",
              "      <td>28114.050000</td>\n",
              "    </tr>\n",
              "    <tr>\n",
              "      <th>1</th>\n",
              "      <td>1/1/2020</td>\n",
              "      <td>20</td>\n",
              "      <td>male</td>\n",
              "      <td>28859.266667</td>\n",
              "    </tr>\n",
              "    <tr>\n",
              "      <th>2</th>\n",
              "      <td>1/1/2020</td>\n",
              "      <td>30</td>\n",
              "      <td>female</td>\n",
              "      <td>30406.500000</td>\n",
              "    </tr>\n",
              "    <tr>\n",
              "      <th>3</th>\n",
              "      <td>1/1/2020</td>\n",
              "      <td>30</td>\n",
              "      <td>male</td>\n",
              "      <td>32147.066667</td>\n",
              "    </tr>\n",
              "    <tr>\n",
              "      <th>4</th>\n",
              "      <td>1/1/2020</td>\n",
              "      <td>40</td>\n",
              "      <td>female</td>\n",
              "      <td>31796.733333</td>\n",
              "    </tr>\n",
              "  </tbody>\n",
              "</table>\n",
              "</div>"
            ],
            "text/plain": [
              "       date  birth_year     sex        fp_num\n",
              "0  1/1/2020          20  female  28114.050000\n",
              "1  1/1/2020          20    male  28859.266667\n",
              "2  1/1/2020          30  female  30406.500000\n",
              "3  1/1/2020          30    male  32147.066667\n",
              "4  1/1/2020          40  female  31796.733333"
            ]
          },
          "metadata": {
            "tags": []
          },
          "execution_count": 10
        }
      ]
    },
    {
      "cell_type": "code",
      "metadata": {
        "colab": {
          "base_uri": "https://localhost:8080/"
        },
        "id": "3VIK1DVt09ck",
        "outputId": "40e9f3dc-1cfc-46fc-a463-e4143720bc96"
      },
      "source": [
        "seoul_floating.rename(columns= {'birth_year' :'age'}, inplace=True)\n",
        "seoul_floating.head()"
      ],
      "execution_count": null,
      "outputs": [
        {
          "output_type": "execute_result",
          "data": {
            "text/html": [
              "<div>\n",
              "<style scoped>\n",
              "    .dataframe tbody tr th:only-of-type {\n",
              "        vertical-align: middle;\n",
              "    }\n",
              "\n",
              "    .dataframe tbody tr th {\n",
              "        vertical-align: top;\n",
              "    }\n",
              "\n",
              "    .dataframe thead th {\n",
              "        text-align: right;\n",
              "    }\n",
              "</style>\n",
              "<table border=\"1\" class=\"dataframe\">\n",
              "  <thead>\n",
              "    <tr style=\"text-align: right;\">\n",
              "      <th></th>\n",
              "      <th>date</th>\n",
              "      <th>age</th>\n",
              "      <th>sex</th>\n",
              "      <th>fp_num</th>\n",
              "    </tr>\n",
              "  </thead>\n",
              "  <tbody>\n",
              "    <tr>\n",
              "      <th>0</th>\n",
              "      <td>1/1/2020</td>\n",
              "      <td>20</td>\n",
              "      <td>female</td>\n",
              "      <td>28114.050000</td>\n",
              "    </tr>\n",
              "    <tr>\n",
              "      <th>1</th>\n",
              "      <td>1/1/2020</td>\n",
              "      <td>20</td>\n",
              "      <td>male</td>\n",
              "      <td>28859.266667</td>\n",
              "    </tr>\n",
              "    <tr>\n",
              "      <th>2</th>\n",
              "      <td>1/1/2020</td>\n",
              "      <td>30</td>\n",
              "      <td>female</td>\n",
              "      <td>30406.500000</td>\n",
              "    </tr>\n",
              "    <tr>\n",
              "      <th>3</th>\n",
              "      <td>1/1/2020</td>\n",
              "      <td>30</td>\n",
              "      <td>male</td>\n",
              "      <td>32147.066667</td>\n",
              "    </tr>\n",
              "    <tr>\n",
              "      <th>4</th>\n",
              "      <td>1/1/2020</td>\n",
              "      <td>40</td>\n",
              "      <td>female</td>\n",
              "      <td>31796.733333</td>\n",
              "    </tr>\n",
              "  </tbody>\n",
              "</table>\n",
              "</div>"
            ],
            "text/plain": [
              "       date  age     sex        fp_num\n",
              "0  1/1/2020   20  female  28114.050000\n",
              "1  1/1/2020   20    male  28859.266667\n",
              "2  1/1/2020   30  female  30406.500000\n",
              "3  1/1/2020   30    male  32147.066667\n",
              "4  1/1/2020   40  female  31796.733333"
            ]
          },
          "metadata": {
            "tags": []
          },
          "execution_count": 11
        }
      ]
    },
    {
      "cell_type": "code",
      "metadata": {
        "colab": {
          "base_uri": "https://localhost:8080/"
        },
        "id": "CrSiaegW0Gnd",
        "outputId": "a23fdcb0-22c8-4923-871b-b66d905b4c4b"
      },
      "source": [
        "seoul_floating.dtypes"
      ],
      "execution_count": null,
      "outputs": [
        {
          "output_type": "execute_result",
          "data": {
            "text/plain": [
              "date       object\n",
              "age         int64\n",
              "sex        object\n",
              "fp_num    float64\n",
              "dtype: object"
            ]
          },
          "metadata": {
            "tags": []
          },
          "execution_count": 12
        }
      ]
    },
    {
      "cell_type": "markdown",
      "metadata": {
        "id": "pCL1Rafw5Okz"
      },
      "source": [
        "#PENGGABUNGAN BEBERAPA SUBDATASET"
      ]
    },
    {
      "cell_type": "code",
      "metadata": {
        "colab": {
          "base_uri": "https://localhost:8080/"
        },
        "id": "ACnV_qc05fSu",
        "outputId": "5e2d9a6c-5959-43ee-e7c9-f13dc79a56e3"
      },
      "source": [
        "merge_patieninfo = pd.merge(patien_info,seoul_floating, how=\"left\", on =[\"date\",\"age\", \"sex\"])\n",
        "merge_patieninfo.head()"
      ],
      "execution_count": null,
      "outputs": [
        {
          "output_type": "execute_result",
          "data": {
            "text/html": [
              "<div>\n",
              "<style scoped>\n",
              "    .dataframe tbody tr th:only-of-type {\n",
              "        vertical-align: middle;\n",
              "    }\n",
              "\n",
              "    .dataframe tbody tr th {\n",
              "        vertical-align: top;\n",
              "    }\n",
              "\n",
              "    .dataframe thead th {\n",
              "        text-align: right;\n",
              "    }\n",
              "</style>\n",
              "<table border=\"1\" class=\"dataframe\">\n",
              "  <thead>\n",
              "    <tr style=\"text-align: right;\">\n",
              "      <th></th>\n",
              "      <th>patient_id</th>\n",
              "      <th>sex</th>\n",
              "      <th>age</th>\n",
              "      <th>province</th>\n",
              "      <th>city</th>\n",
              "      <th>infection_case</th>\n",
              "      <th>infected_by</th>\n",
              "      <th>contact_number</th>\n",
              "      <th>symptom_onset_date</th>\n",
              "      <th>date</th>\n",
              "      <th>released_date</th>\n",
              "      <th>deceased_date</th>\n",
              "      <th>state</th>\n",
              "      <th>fp_num</th>\n",
              "    </tr>\n",
              "  </thead>\n",
              "  <tbody>\n",
              "    <tr>\n",
              "      <th>0</th>\n",
              "      <td>1000000001</td>\n",
              "      <td>male</td>\n",
              "      <td>50</td>\n",
              "      <td>Seoul</td>\n",
              "      <td>Gangseo-gu</td>\n",
              "      <td>overseas inflow</td>\n",
              "      <td>NaN</td>\n",
              "      <td>75</td>\n",
              "      <td>1/22/2020</td>\n",
              "      <td>1/23/2020</td>\n",
              "      <td>2/5/2020</td>\n",
              "      <td>NaN</td>\n",
              "      <td>released</td>\n",
              "      <td>30330.333333</td>\n",
              "    </tr>\n",
              "    <tr>\n",
              "      <th>1</th>\n",
              "      <td>1000000002</td>\n",
              "      <td>male</td>\n",
              "      <td>30</td>\n",
              "      <td>Seoul</td>\n",
              "      <td>Jungnang-gu</td>\n",
              "      <td>overseas inflow</td>\n",
              "      <td>NaN</td>\n",
              "      <td>31</td>\n",
              "      <td>NaN</td>\n",
              "      <td>1/30/2020</td>\n",
              "      <td>3/2/2020</td>\n",
              "      <td>NaN</td>\n",
              "      <td>released</td>\n",
              "      <td>34103.750000</td>\n",
              "    </tr>\n",
              "    <tr>\n",
              "      <th>2</th>\n",
              "      <td>1000000003</td>\n",
              "      <td>male</td>\n",
              "      <td>50</td>\n",
              "      <td>Seoul</td>\n",
              "      <td>Jongno-gu</td>\n",
              "      <td>contact with patient</td>\n",
              "      <td>2002000001</td>\n",
              "      <td>17</td>\n",
              "      <td>NaN</td>\n",
              "      <td>1/30/2020</td>\n",
              "      <td>2/19/2020</td>\n",
              "      <td>NaN</td>\n",
              "      <td>released</td>\n",
              "      <td>30673.416667</td>\n",
              "    </tr>\n",
              "    <tr>\n",
              "      <th>3</th>\n",
              "      <td>1000000004</td>\n",
              "      <td>male</td>\n",
              "      <td>20</td>\n",
              "      <td>Seoul</td>\n",
              "      <td>Mapo-gu</td>\n",
              "      <td>overseas inflow</td>\n",
              "      <td>NaN</td>\n",
              "      <td>9</td>\n",
              "      <td>1/26/2020</td>\n",
              "      <td>1/30/2020</td>\n",
              "      <td>2/15/2020</td>\n",
              "      <td>NaN</td>\n",
              "      <td>released</td>\n",
              "      <td>29269.316667</td>\n",
              "    </tr>\n",
              "    <tr>\n",
              "      <th>4</th>\n",
              "      <td>1000000005</td>\n",
              "      <td>female</td>\n",
              "      <td>20</td>\n",
              "      <td>Seoul</td>\n",
              "      <td>Seongbuk-gu</td>\n",
              "      <td>contact with patient</td>\n",
              "      <td>1000000002</td>\n",
              "      <td>2</td>\n",
              "      <td>NaN</td>\n",
              "      <td>1/31/2020</td>\n",
              "      <td>2/24/2020</td>\n",
              "      <td>NaN</td>\n",
              "      <td>released</td>\n",
              "      <td>30945.433333</td>\n",
              "    </tr>\n",
              "  </tbody>\n",
              "</table>\n",
              "</div>"
            ],
            "text/plain": [
              "   patient_id     sex  age  ... deceased_date     state        fp_num\n",
              "0  1000000001    male   50  ...           NaN  released  30330.333333\n",
              "1  1000000002    male   30  ...           NaN  released  34103.750000\n",
              "2  1000000003    male   50  ...           NaN  released  30673.416667\n",
              "3  1000000004    male   20  ...           NaN  released  29269.316667\n",
              "4  1000000005  female   20  ...           NaN  released  30945.433333\n",
              "\n",
              "[5 rows x 14 columns]"
            ]
          },
          "metadata": {
            "tags": []
          },
          "execution_count": 13
        }
      ]
    },
    {
      "cell_type": "code",
      "metadata": {
        "colab": {
          "base_uri": "https://localhost:8080/"
        },
        "id": "rFAjhung7SEP",
        "outputId": "0fcf0ea0-241d-429d-80e5-755590673367"
      },
      "source": [
        "merge_patieninfo.shape, patien_info.shape"
      ],
      "execution_count": null,
      "outputs": [
        {
          "output_type": "execute_result",
          "data": {
            "text/plain": [
              "((5165, 14), (5165, 13))"
            ]
          },
          "metadata": {
            "tags": []
          },
          "execution_count": 14
        }
      ]
    },
    {
      "cell_type": "code",
      "metadata": {
        "id": "hZtvVviHA3Ye",
        "colab": {
          "base_uri": "https://localhost:8080/"
        },
        "outputId": "5e172f16-652b-4bc9-8b25-7f3b6eb46986"
      },
      "source": [
        "merge = pd.merge(merge_patieninfo,weather, how=\"left\", on =[\"date\",\"province\"])\n",
        "merge=merge.drop(['code', 'patient_id', 'province'],axis=1)\n",
        "merge.head()"
      ],
      "execution_count": null,
      "outputs": [
        {
          "output_type": "execute_result",
          "data": {
            "text/html": [
              "<div>\n",
              "<style scoped>\n",
              "    .dataframe tbody tr th:only-of-type {\n",
              "        vertical-align: middle;\n",
              "    }\n",
              "\n",
              "    .dataframe tbody tr th {\n",
              "        vertical-align: top;\n",
              "    }\n",
              "\n",
              "    .dataframe thead th {\n",
              "        text-align: right;\n",
              "    }\n",
              "</style>\n",
              "<table border=\"1\" class=\"dataframe\">\n",
              "  <thead>\n",
              "    <tr style=\"text-align: right;\">\n",
              "      <th></th>\n",
              "      <th>sex</th>\n",
              "      <th>age</th>\n",
              "      <th>city</th>\n",
              "      <th>infection_case</th>\n",
              "      <th>infected_by</th>\n",
              "      <th>contact_number</th>\n",
              "      <th>symptom_onset_date</th>\n",
              "      <th>date</th>\n",
              "      <th>released_date</th>\n",
              "      <th>deceased_date</th>\n",
              "      <th>state</th>\n",
              "      <th>fp_num</th>\n",
              "      <th>avg_temp</th>\n",
              "      <th>min_temp</th>\n",
              "      <th>max_temp</th>\n",
              "      <th>precipitation</th>\n",
              "      <th>max_wind_speed</th>\n",
              "      <th>most_wind_direction</th>\n",
              "      <th>avg_relative_humidity</th>\n",
              "    </tr>\n",
              "  </thead>\n",
              "  <tbody>\n",
              "    <tr>\n",
              "      <th>0</th>\n",
              "      <td>male</td>\n",
              "      <td>50</td>\n",
              "      <td>Gangseo-gu</td>\n",
              "      <td>overseas inflow</td>\n",
              "      <td>NaN</td>\n",
              "      <td>75</td>\n",
              "      <td>1/22/2020</td>\n",
              "      <td>1/23/2020</td>\n",
              "      <td>2/5/2020</td>\n",
              "      <td>NaN</td>\n",
              "      <td>released</td>\n",
              "      <td>30330.333333</td>\n",
              "      <td>4.6</td>\n",
              "      <td>0.0</td>\n",
              "      <td>9.9</td>\n",
              "      <td>0.0</td>\n",
              "      <td>4.7</td>\n",
              "      <td>290.0</td>\n",
              "      <td>49.3</td>\n",
              "    </tr>\n",
              "    <tr>\n",
              "      <th>1</th>\n",
              "      <td>male</td>\n",
              "      <td>30</td>\n",
              "      <td>Jungnang-gu</td>\n",
              "      <td>overseas inflow</td>\n",
              "      <td>NaN</td>\n",
              "      <td>31</td>\n",
              "      <td>NaN</td>\n",
              "      <td>1/30/2020</td>\n",
              "      <td>3/2/2020</td>\n",
              "      <td>NaN</td>\n",
              "      <td>released</td>\n",
              "      <td>34103.750000</td>\n",
              "      <td>5.2</td>\n",
              "      <td>1.4</td>\n",
              "      <td>10.4</td>\n",
              "      <td>0.0</td>\n",
              "      <td>3.0</td>\n",
              "      <td>70.0</td>\n",
              "      <td>47.0</td>\n",
              "    </tr>\n",
              "    <tr>\n",
              "      <th>2</th>\n",
              "      <td>male</td>\n",
              "      <td>50</td>\n",
              "      <td>Jongno-gu</td>\n",
              "      <td>contact with patient</td>\n",
              "      <td>2002000001</td>\n",
              "      <td>17</td>\n",
              "      <td>NaN</td>\n",
              "      <td>1/30/2020</td>\n",
              "      <td>2/19/2020</td>\n",
              "      <td>NaN</td>\n",
              "      <td>released</td>\n",
              "      <td>30673.416667</td>\n",
              "      <td>5.2</td>\n",
              "      <td>1.4</td>\n",
              "      <td>10.4</td>\n",
              "      <td>0.0</td>\n",
              "      <td>3.0</td>\n",
              "      <td>70.0</td>\n",
              "      <td>47.0</td>\n",
              "    </tr>\n",
              "    <tr>\n",
              "      <th>3</th>\n",
              "      <td>male</td>\n",
              "      <td>20</td>\n",
              "      <td>Mapo-gu</td>\n",
              "      <td>overseas inflow</td>\n",
              "      <td>NaN</td>\n",
              "      <td>9</td>\n",
              "      <td>1/26/2020</td>\n",
              "      <td>1/30/2020</td>\n",
              "      <td>2/15/2020</td>\n",
              "      <td>NaN</td>\n",
              "      <td>released</td>\n",
              "      <td>29269.316667</td>\n",
              "      <td>5.2</td>\n",
              "      <td>1.4</td>\n",
              "      <td>10.4</td>\n",
              "      <td>0.0</td>\n",
              "      <td>3.0</td>\n",
              "      <td>70.0</td>\n",
              "      <td>47.0</td>\n",
              "    </tr>\n",
              "    <tr>\n",
              "      <th>4</th>\n",
              "      <td>female</td>\n",
              "      <td>20</td>\n",
              "      <td>Seongbuk-gu</td>\n",
              "      <td>contact with patient</td>\n",
              "      <td>1000000002</td>\n",
              "      <td>2</td>\n",
              "      <td>NaN</td>\n",
              "      <td>1/31/2020</td>\n",
              "      <td>2/24/2020</td>\n",
              "      <td>NaN</td>\n",
              "      <td>released</td>\n",
              "      <td>30945.433333</td>\n",
              "      <td>3.9</td>\n",
              "      <td>1.4</td>\n",
              "      <td>8.9</td>\n",
              "      <td>0.0</td>\n",
              "      <td>4.4</td>\n",
              "      <td>270.0</td>\n",
              "      <td>59.6</td>\n",
              "    </tr>\n",
              "  </tbody>\n",
              "</table>\n",
              "</div>"
            ],
            "text/plain": [
              "      sex  age  ... most_wind_direction avg_relative_humidity\n",
              "0    male   50  ...               290.0                  49.3\n",
              "1    male   30  ...                70.0                  47.0\n",
              "2    male   50  ...                70.0                  47.0\n",
              "3    male   20  ...                70.0                  47.0\n",
              "4  female   20  ...               270.0                  59.6\n",
              "\n",
              "[5 rows x 19 columns]"
            ]
          },
          "metadata": {
            "tags": []
          },
          "execution_count": 15
        }
      ]
    },
    {
      "cell_type": "code",
      "metadata": {
        "id": "KIPAxC_h-WnH",
        "colab": {
          "base_uri": "https://localhost:8080/"
        },
        "outputId": "cab9e513-8679-4ba8-f6eb-1e7cb5bc40a7"
      },
      "source": [
        "merge = merge [['sex', 'age', 'city', 'infection_case', 'infected_by', 'contact_number', 'symptom_onset_date', 'date', 'released_date','deceased_date', 'fp_num','avg_temp','min_temp','max_temp','precipitation','max_wind_speed','most_wind_direction','avg_relative_humidity','state']]\n",
        "merge.head()"
      ],
      "execution_count": null,
      "outputs": [
        {
          "output_type": "execute_result",
          "data": {
            "text/html": [
              "<div>\n",
              "<style scoped>\n",
              "    .dataframe tbody tr th:only-of-type {\n",
              "        vertical-align: middle;\n",
              "    }\n",
              "\n",
              "    .dataframe tbody tr th {\n",
              "        vertical-align: top;\n",
              "    }\n",
              "\n",
              "    .dataframe thead th {\n",
              "        text-align: right;\n",
              "    }\n",
              "</style>\n",
              "<table border=\"1\" class=\"dataframe\">\n",
              "  <thead>\n",
              "    <tr style=\"text-align: right;\">\n",
              "      <th></th>\n",
              "      <th>sex</th>\n",
              "      <th>age</th>\n",
              "      <th>city</th>\n",
              "      <th>infection_case</th>\n",
              "      <th>infected_by</th>\n",
              "      <th>contact_number</th>\n",
              "      <th>symptom_onset_date</th>\n",
              "      <th>date</th>\n",
              "      <th>released_date</th>\n",
              "      <th>deceased_date</th>\n",
              "      <th>fp_num</th>\n",
              "      <th>avg_temp</th>\n",
              "      <th>min_temp</th>\n",
              "      <th>max_temp</th>\n",
              "      <th>precipitation</th>\n",
              "      <th>max_wind_speed</th>\n",
              "      <th>most_wind_direction</th>\n",
              "      <th>avg_relative_humidity</th>\n",
              "      <th>state</th>\n",
              "    </tr>\n",
              "  </thead>\n",
              "  <tbody>\n",
              "    <tr>\n",
              "      <th>0</th>\n",
              "      <td>male</td>\n",
              "      <td>50</td>\n",
              "      <td>Gangseo-gu</td>\n",
              "      <td>overseas inflow</td>\n",
              "      <td>NaN</td>\n",
              "      <td>75</td>\n",
              "      <td>1/22/2020</td>\n",
              "      <td>1/23/2020</td>\n",
              "      <td>2/5/2020</td>\n",
              "      <td>NaN</td>\n",
              "      <td>30330.333333</td>\n",
              "      <td>4.6</td>\n",
              "      <td>0.0</td>\n",
              "      <td>9.9</td>\n",
              "      <td>0.0</td>\n",
              "      <td>4.7</td>\n",
              "      <td>290.0</td>\n",
              "      <td>49.3</td>\n",
              "      <td>released</td>\n",
              "    </tr>\n",
              "    <tr>\n",
              "      <th>1</th>\n",
              "      <td>male</td>\n",
              "      <td>30</td>\n",
              "      <td>Jungnang-gu</td>\n",
              "      <td>overseas inflow</td>\n",
              "      <td>NaN</td>\n",
              "      <td>31</td>\n",
              "      <td>NaN</td>\n",
              "      <td>1/30/2020</td>\n",
              "      <td>3/2/2020</td>\n",
              "      <td>NaN</td>\n",
              "      <td>34103.750000</td>\n",
              "      <td>5.2</td>\n",
              "      <td>1.4</td>\n",
              "      <td>10.4</td>\n",
              "      <td>0.0</td>\n",
              "      <td>3.0</td>\n",
              "      <td>70.0</td>\n",
              "      <td>47.0</td>\n",
              "      <td>released</td>\n",
              "    </tr>\n",
              "    <tr>\n",
              "      <th>2</th>\n",
              "      <td>male</td>\n",
              "      <td>50</td>\n",
              "      <td>Jongno-gu</td>\n",
              "      <td>contact with patient</td>\n",
              "      <td>2002000001</td>\n",
              "      <td>17</td>\n",
              "      <td>NaN</td>\n",
              "      <td>1/30/2020</td>\n",
              "      <td>2/19/2020</td>\n",
              "      <td>NaN</td>\n",
              "      <td>30673.416667</td>\n",
              "      <td>5.2</td>\n",
              "      <td>1.4</td>\n",
              "      <td>10.4</td>\n",
              "      <td>0.0</td>\n",
              "      <td>3.0</td>\n",
              "      <td>70.0</td>\n",
              "      <td>47.0</td>\n",
              "      <td>released</td>\n",
              "    </tr>\n",
              "    <tr>\n",
              "      <th>3</th>\n",
              "      <td>male</td>\n",
              "      <td>20</td>\n",
              "      <td>Mapo-gu</td>\n",
              "      <td>overseas inflow</td>\n",
              "      <td>NaN</td>\n",
              "      <td>9</td>\n",
              "      <td>1/26/2020</td>\n",
              "      <td>1/30/2020</td>\n",
              "      <td>2/15/2020</td>\n",
              "      <td>NaN</td>\n",
              "      <td>29269.316667</td>\n",
              "      <td>5.2</td>\n",
              "      <td>1.4</td>\n",
              "      <td>10.4</td>\n",
              "      <td>0.0</td>\n",
              "      <td>3.0</td>\n",
              "      <td>70.0</td>\n",
              "      <td>47.0</td>\n",
              "      <td>released</td>\n",
              "    </tr>\n",
              "    <tr>\n",
              "      <th>4</th>\n",
              "      <td>female</td>\n",
              "      <td>20</td>\n",
              "      <td>Seongbuk-gu</td>\n",
              "      <td>contact with patient</td>\n",
              "      <td>1000000002</td>\n",
              "      <td>2</td>\n",
              "      <td>NaN</td>\n",
              "      <td>1/31/2020</td>\n",
              "      <td>2/24/2020</td>\n",
              "      <td>NaN</td>\n",
              "      <td>30945.433333</td>\n",
              "      <td>3.9</td>\n",
              "      <td>1.4</td>\n",
              "      <td>8.9</td>\n",
              "      <td>0.0</td>\n",
              "      <td>4.4</td>\n",
              "      <td>270.0</td>\n",
              "      <td>59.6</td>\n",
              "      <td>released</td>\n",
              "    </tr>\n",
              "  </tbody>\n",
              "</table>\n",
              "</div>"
            ],
            "text/plain": [
              "      sex  age  ... avg_relative_humidity     state\n",
              "0    male   50  ...                  49.3  released\n",
              "1    male   30  ...                  47.0  released\n",
              "2    male   50  ...                  47.0  released\n",
              "3    male   20  ...                  47.0  released\n",
              "4  female   20  ...                  59.6  released\n",
              "\n",
              "[5 rows x 19 columns]"
            ]
          },
          "metadata": {
            "tags": []
          },
          "execution_count": 16
        }
      ]
    },
    {
      "cell_type": "markdown",
      "metadata": {
        "id": "IgjASlfz5VBQ"
      },
      "source": [
        "# DATA PREPARASI"
      ]
    },
    {
      "cell_type": "markdown",
      "metadata": {
        "id": "WcSiFK-r81cP"
      },
      "source": [
        "## Missing Value"
      ]
    },
    {
      "cell_type": "code",
      "metadata": {
        "colab": {
          "base_uri": "https://localhost:8080/"
        },
        "id": "AuT9hXEgXQ7C",
        "outputId": "c07adb86-c300-460f-fd38-9c057398dd31"
      },
      "source": [
        "pip install plotly_express==0.4.0"
      ],
      "execution_count": null,
      "outputs": [
        {
          "output_type": "stream",
          "text": [
            "Requirement already satisfied: plotly_express==0.4.0 in /usr/local/lib/python3.7/dist-packages (0.4.0)\n",
            "Requirement already satisfied: statsmodels>=0.9.0 in /usr/local/lib/python3.7/dist-packages (from plotly_express==0.4.0) (0.10.2)\n",
            "Requirement already satisfied: scipy>=0.18 in /usr/local/lib/python3.7/dist-packages (from plotly_express==0.4.0) (1.4.1)\n",
            "Requirement already satisfied: plotly>=4.0.0 in /usr/local/lib/python3.7/dist-packages (from plotly_express==0.4.0) (4.4.1)\n",
            "Requirement already satisfied: numpy>=1.11 in /usr/local/lib/python3.7/dist-packages (from plotly_express==0.4.0) (1.19.5)\n",
            "Requirement already satisfied: pandas>=0.20.0 in /usr/local/lib/python3.7/dist-packages (from plotly_express==0.4.0) (1.1.5)\n",
            "Requirement already satisfied: patsy>=0.5 in /usr/local/lib/python3.7/dist-packages (from plotly_express==0.4.0) (0.5.1)\n",
            "Requirement already satisfied: python-dateutil>=2.7.3 in /usr/local/lib/python3.7/dist-packages (from pandas>=0.20.0->plotly_express==0.4.0) (2.8.1)\n",
            "Requirement already satisfied: pytz>=2017.2 in /usr/local/lib/python3.7/dist-packages (from pandas>=0.20.0->plotly_express==0.4.0) (2018.9)\n",
            "Requirement already satisfied: six in /usr/local/lib/python3.7/dist-packages (from patsy>=0.5->plotly_express==0.4.0) (1.15.0)\n",
            "Requirement already satisfied: retrying>=1.3.3 in /usr/local/lib/python3.7/dist-packages (from plotly>=4.0.0->plotly_express==0.4.0) (1.3.3)\n"
          ],
          "name": "stdout"
        }
      ]
    },
    {
      "cell_type": "code",
      "metadata": {
        "colab": {
          "base_uri": "https://localhost:8080/"
        },
        "id": "GCRKKnpryVkD",
        "outputId": "df39d350-6ee7-4593-e5fe-37b26f862a29"
      },
      "source": [
        "def null_analysis(merge):\n",
        "  null_cnt = merge.isnull().sum() # calculate null counts\n",
        "  null_cnt = null_cnt[null_cnt!=0] # remove non-null cols\n",
        "  null_percent = null_cnt / len(merge) * 100 # calculate null percentages\n",
        "  null_table = pd.concat([pd.DataFrame(null_cnt), pd.DataFrame(null_percent)], axis=1)\n",
        "  null_table.columns = ['counts', 'percentage']\n",
        "  null_table.sort_values('counts', ascending=False, inplace=True)\n",
        "  return null_table\n",
        "\n",
        "# visualise null table\n",
        "import plotly_express as px\n",
        "null_table = null_analysis(merge)\n",
        "px.bar(null_table.reset_index(), x='index', y='percentage', text='counts', height=500)"
      ],
      "execution_count": null,
      "outputs": [
        {
          "output_type": "display_data",
          "data": {
            "text/html": [
              "<html>\n",
              "<head><meta charset=\"utf-8\" /></head>\n",
              "<body>\n",
              "    <div>\n",
              "            <script src=\"https://cdnjs.cloudflare.com/ajax/libs/mathjax/2.7.5/MathJax.js?config=TeX-AMS-MML_SVG\"></script><script type=\"text/javascript\">if (window.MathJax) {MathJax.Hub.Config({SVG: {font: \"STIX-Web\"}});}</script>\n",
              "                <script type=\"text/javascript\">window.PlotlyConfig = {MathJaxConfig: 'local'};</script>\n",
              "        <script src=\"https://cdn.plot.ly/plotly-latest.min.js\"></script>    \n",
              "            <div id=\"913f521b-84ee-40ab-b7db-89c847b427a2\" class=\"plotly-graph-div\" style=\"height:500px; width:100%;\"></div>\n",
              "            <script type=\"text/javascript\">\n",
              "                \n",
              "                    window.PLOTLYENV=window.PLOTLYENV || {};\n",
              "                    \n",
              "                if (document.getElementById(\"913f521b-84ee-40ab-b7db-89c847b427a2\")) {\n",
              "                    Plotly.newPlot(\n",
              "                        '913f521b-84ee-40ab-b7db-89c847b427a2',\n",
              "                        [{\"alignmentgroup\": \"True\", \"hoverlabel\": {\"namelength\": 0}, \"hovertemplate\": \"index=%{x}<br>percentage=%{y}<br>counts=%{text}\", \"legendgroup\": \"\", \"marker\": {\"color\": \"#636efa\"}, \"name\": \"\", \"offsetgroup\": \"\", \"orientation\": \"v\", \"showlegend\": false, \"text\": [5099.0, 4475.0, 4374.0, 3819.0, 3578.0, 2117.0, 1122.0, 919.0, 94.0, 67.0, 65.0, 65.0, 65.0, 65.0, 65.0, 65.0, 3.0], \"textposition\": \"auto\", \"type\": \"bar\", \"x\": [\"deceased_date\", \"symptom_onset_date\", \"contact_number\", \"infected_by\", \"released_date\", \"fp_num\", \"sex\", \"infection_case\", \"city\", \"most_wind_direction\", \"avg_temp\", \"min_temp\", \"max_temp\", \"precipitation\", \"max_wind_speed\", \"avg_relative_humidity\", \"date\"], \"xaxis\": \"x\", \"y\": [98.72216844143273, 86.64085188770572, 84.68538238141335, 73.93998063891578, 69.27395934172313, 40.98741529525653, 21.723136495643754, 17.792836398838336, 1.8199419167473376, 1.297192642787996, 1.2584704743465636, 1.2584704743465636, 1.2584704743465636, 1.2584704743465636, 1.2584704743465636, 1.2584704743465636, 0.058083252662149074], \"yaxis\": \"y\"}],\n",
              "                        {\"barmode\": \"relative\", \"height\": 500, \"legend\": {\"tracegroupgap\": 0}, \"margin\": {\"t\": 60}, \"template\": {\"data\": {\"bar\": [{\"error_x\": {\"color\": \"#2a3f5f\"}, \"error_y\": {\"color\": \"#2a3f5f\"}, \"marker\": {\"line\": {\"color\": \"#E5ECF6\", \"width\": 0.5}}, \"type\": \"bar\"}], \"barpolar\": [{\"marker\": {\"line\": {\"color\": \"#E5ECF6\", \"width\": 0.5}}, \"type\": \"barpolar\"}], \"carpet\": [{\"aaxis\": {\"endlinecolor\": \"#2a3f5f\", \"gridcolor\": \"white\", \"linecolor\": \"white\", \"minorgridcolor\": \"white\", \"startlinecolor\": \"#2a3f5f\"}, \"baxis\": {\"endlinecolor\": \"#2a3f5f\", \"gridcolor\": \"white\", \"linecolor\": \"white\", \"minorgridcolor\": \"white\", \"startlinecolor\": \"#2a3f5f\"}, \"type\": \"carpet\"}], \"choropleth\": [{\"colorbar\": {\"outlinewidth\": 0, \"ticks\": \"\"}, \"type\": \"choropleth\"}], \"contour\": [{\"colorbar\": {\"outlinewidth\": 0, \"ticks\": \"\"}, \"colorscale\": [[0.0, \"#0d0887\"], [0.1111111111111111, \"#46039f\"], [0.2222222222222222, \"#7201a8\"], [0.3333333333333333, \"#9c179e\"], [0.4444444444444444, \"#bd3786\"], [0.5555555555555556, \"#d8576b\"], [0.6666666666666666, \"#ed7953\"], [0.7777777777777778, \"#fb9f3a\"], [0.8888888888888888, \"#fdca26\"], [1.0, \"#f0f921\"]], \"type\": \"contour\"}], \"contourcarpet\": [{\"colorbar\": {\"outlinewidth\": 0, \"ticks\": \"\"}, \"type\": \"contourcarpet\"}], \"heatmap\": [{\"colorbar\": {\"outlinewidth\": 0, \"ticks\": \"\"}, \"colorscale\": [[0.0, \"#0d0887\"], [0.1111111111111111, \"#46039f\"], [0.2222222222222222, \"#7201a8\"], [0.3333333333333333, \"#9c179e\"], [0.4444444444444444, \"#bd3786\"], [0.5555555555555556, \"#d8576b\"], [0.6666666666666666, \"#ed7953\"], [0.7777777777777778, \"#fb9f3a\"], [0.8888888888888888, \"#fdca26\"], [1.0, \"#f0f921\"]], \"type\": \"heatmap\"}], \"heatmapgl\": [{\"colorbar\": {\"outlinewidth\": 0, \"ticks\": \"\"}, \"colorscale\": [[0.0, \"#0d0887\"], [0.1111111111111111, \"#46039f\"], [0.2222222222222222, \"#7201a8\"], [0.3333333333333333, \"#9c179e\"], [0.4444444444444444, \"#bd3786\"], [0.5555555555555556, \"#d8576b\"], [0.6666666666666666, \"#ed7953\"], [0.7777777777777778, \"#fb9f3a\"], [0.8888888888888888, \"#fdca26\"], [1.0, \"#f0f921\"]], \"type\": \"heatmapgl\"}], \"histogram\": [{\"marker\": {\"colorbar\": {\"outlinewidth\": 0, \"ticks\": \"\"}}, \"type\": \"histogram\"}], \"histogram2d\": [{\"colorbar\": {\"outlinewidth\": 0, \"ticks\": \"\"}, \"colorscale\": [[0.0, \"#0d0887\"], [0.1111111111111111, \"#46039f\"], [0.2222222222222222, \"#7201a8\"], [0.3333333333333333, \"#9c179e\"], [0.4444444444444444, \"#bd3786\"], [0.5555555555555556, \"#d8576b\"], [0.6666666666666666, \"#ed7953\"], [0.7777777777777778, \"#fb9f3a\"], [0.8888888888888888, \"#fdca26\"], [1.0, \"#f0f921\"]], \"type\": \"histogram2d\"}], \"histogram2dcontour\": [{\"colorbar\": {\"outlinewidth\": 0, \"ticks\": \"\"}, \"colorscale\": [[0.0, \"#0d0887\"], [0.1111111111111111, \"#46039f\"], [0.2222222222222222, \"#7201a8\"], [0.3333333333333333, \"#9c179e\"], [0.4444444444444444, \"#bd3786\"], [0.5555555555555556, \"#d8576b\"], [0.6666666666666666, \"#ed7953\"], [0.7777777777777778, \"#fb9f3a\"], [0.8888888888888888, \"#fdca26\"], [1.0, \"#f0f921\"]], \"type\": \"histogram2dcontour\"}], \"mesh3d\": [{\"colorbar\": {\"outlinewidth\": 0, \"ticks\": \"\"}, \"type\": \"mesh3d\"}], \"parcoords\": [{\"line\": {\"colorbar\": {\"outlinewidth\": 0, \"ticks\": \"\"}}, \"type\": \"parcoords\"}], \"pie\": [{\"automargin\": true, \"type\": \"pie\"}], \"scatter\": [{\"marker\": {\"colorbar\": {\"outlinewidth\": 0, \"ticks\": \"\"}}, \"type\": \"scatter\"}], \"scatter3d\": [{\"line\": {\"colorbar\": {\"outlinewidth\": 0, \"ticks\": \"\"}}, \"marker\": {\"colorbar\": {\"outlinewidth\": 0, \"ticks\": \"\"}}, \"type\": \"scatter3d\"}], \"scattercarpet\": [{\"marker\": {\"colorbar\": {\"outlinewidth\": 0, \"ticks\": \"\"}}, \"type\": \"scattercarpet\"}], \"scattergeo\": [{\"marker\": {\"colorbar\": {\"outlinewidth\": 0, \"ticks\": \"\"}}, \"type\": \"scattergeo\"}], \"scattergl\": [{\"marker\": {\"colorbar\": {\"outlinewidth\": 0, \"ticks\": \"\"}}, \"type\": \"scattergl\"}], \"scattermapbox\": [{\"marker\": {\"colorbar\": {\"outlinewidth\": 0, \"ticks\": \"\"}}, \"type\": \"scattermapbox\"}], \"scatterpolar\": [{\"marker\": {\"colorbar\": {\"outlinewidth\": 0, \"ticks\": \"\"}}, \"type\": \"scatterpolar\"}], \"scatterpolargl\": [{\"marker\": {\"colorbar\": {\"outlinewidth\": 0, \"ticks\": \"\"}}, \"type\": \"scatterpolargl\"}], \"scatterternary\": [{\"marker\": {\"colorbar\": {\"outlinewidth\": 0, \"ticks\": \"\"}}, \"type\": \"scatterternary\"}], \"surface\": [{\"colorbar\": {\"outlinewidth\": 0, \"ticks\": \"\"}, \"colorscale\": [[0.0, \"#0d0887\"], [0.1111111111111111, \"#46039f\"], [0.2222222222222222, \"#7201a8\"], [0.3333333333333333, \"#9c179e\"], [0.4444444444444444, \"#bd3786\"], [0.5555555555555556, \"#d8576b\"], [0.6666666666666666, \"#ed7953\"], [0.7777777777777778, \"#fb9f3a\"], [0.8888888888888888, \"#fdca26\"], [1.0, \"#f0f921\"]], \"type\": \"surface\"}], \"table\": [{\"cells\": {\"fill\": {\"color\": \"#EBF0F8\"}, \"line\": {\"color\": \"white\"}}, \"header\": {\"fill\": {\"color\": \"#C8D4E3\"}, \"line\": {\"color\": \"white\"}}, \"type\": \"table\"}]}, \"layout\": {\"annotationdefaults\": {\"arrowcolor\": \"#2a3f5f\", \"arrowhead\": 0, \"arrowwidth\": 1}, \"coloraxis\": {\"colorbar\": {\"outlinewidth\": 0, \"ticks\": \"\"}}, \"colorscale\": {\"diverging\": [[0, \"#8e0152\"], [0.1, \"#c51b7d\"], [0.2, \"#de77ae\"], [0.3, \"#f1b6da\"], [0.4, \"#fde0ef\"], [0.5, \"#f7f7f7\"], [0.6, \"#e6f5d0\"], [0.7, \"#b8e186\"], [0.8, \"#7fbc41\"], [0.9, \"#4d9221\"], [1, \"#276419\"]], \"sequential\": [[0.0, \"#0d0887\"], [0.1111111111111111, \"#46039f\"], [0.2222222222222222, \"#7201a8\"], [0.3333333333333333, \"#9c179e\"], [0.4444444444444444, \"#bd3786\"], [0.5555555555555556, \"#d8576b\"], [0.6666666666666666, \"#ed7953\"], [0.7777777777777778, \"#fb9f3a\"], [0.8888888888888888, \"#fdca26\"], [1.0, \"#f0f921\"]], \"sequentialminus\": [[0.0, \"#0d0887\"], [0.1111111111111111, \"#46039f\"], [0.2222222222222222, \"#7201a8\"], [0.3333333333333333, \"#9c179e\"], [0.4444444444444444, \"#bd3786\"], [0.5555555555555556, \"#d8576b\"], [0.6666666666666666, \"#ed7953\"], [0.7777777777777778, \"#fb9f3a\"], [0.8888888888888888, \"#fdca26\"], [1.0, \"#f0f921\"]]}, \"colorway\": [\"#636efa\", \"#EF553B\", \"#00cc96\", \"#ab63fa\", \"#FFA15A\", \"#19d3f3\", \"#FF6692\", \"#B6E880\", \"#FF97FF\", \"#FECB52\"], \"font\": {\"color\": \"#2a3f5f\"}, \"geo\": {\"bgcolor\": \"white\", \"lakecolor\": \"white\", \"landcolor\": \"#E5ECF6\", \"showlakes\": true, \"showland\": true, \"subunitcolor\": \"white\"}, \"hoverlabel\": {\"align\": \"left\"}, \"hovermode\": \"closest\", \"mapbox\": {\"style\": \"light\"}, \"paper_bgcolor\": \"white\", \"plot_bgcolor\": \"#E5ECF6\", \"polar\": {\"angularaxis\": {\"gridcolor\": \"white\", \"linecolor\": \"white\", \"ticks\": \"\"}, \"bgcolor\": \"#E5ECF6\", \"radialaxis\": {\"gridcolor\": \"white\", \"linecolor\": \"white\", \"ticks\": \"\"}}, \"scene\": {\"xaxis\": {\"backgroundcolor\": \"#E5ECF6\", \"gridcolor\": \"white\", \"gridwidth\": 2, \"linecolor\": \"white\", \"showbackground\": true, \"ticks\": \"\", \"zerolinecolor\": \"white\"}, \"yaxis\": {\"backgroundcolor\": \"#E5ECF6\", \"gridcolor\": \"white\", \"gridwidth\": 2, \"linecolor\": \"white\", \"showbackground\": true, \"ticks\": \"\", \"zerolinecolor\": \"white\"}, \"zaxis\": {\"backgroundcolor\": \"#E5ECF6\", \"gridcolor\": \"white\", \"gridwidth\": 2, \"linecolor\": \"white\", \"showbackground\": true, \"ticks\": \"\", \"zerolinecolor\": \"white\"}}, \"shapedefaults\": {\"line\": {\"color\": \"#2a3f5f\"}}, \"ternary\": {\"aaxis\": {\"gridcolor\": \"white\", \"linecolor\": \"white\", \"ticks\": \"\"}, \"baxis\": {\"gridcolor\": \"white\", \"linecolor\": \"white\", \"ticks\": \"\"}, \"bgcolor\": \"#E5ECF6\", \"caxis\": {\"gridcolor\": \"white\", \"linecolor\": \"white\", \"ticks\": \"\"}}, \"title\": {\"x\": 0.05}, \"xaxis\": {\"automargin\": true, \"gridcolor\": \"white\", \"linecolor\": \"white\", \"ticks\": \"\", \"title\": {\"standoff\": 15}, \"zerolinecolor\": \"white\", \"zerolinewidth\": 2}, \"yaxis\": {\"automargin\": true, \"gridcolor\": \"white\", \"linecolor\": \"white\", \"ticks\": \"\", \"title\": {\"standoff\": 15}, \"zerolinecolor\": \"white\", \"zerolinewidth\": 2}}}, \"xaxis\": {\"anchor\": \"y\", \"domain\": [0.0, 1.0], \"title\": {\"text\": \"index\"}}, \"yaxis\": {\"anchor\": \"x\", \"domain\": [0.0, 1.0], \"title\": {\"text\": \"percentage\"}}},\n",
              "                        {\"responsive\": true}\n",
              "                    ).then(function(){\n",
              "                            \n",
              "var gd = document.getElementById('913f521b-84ee-40ab-b7db-89c847b427a2');\n",
              "var x = new MutationObserver(function (mutations, observer) {{\n",
              "        var display = window.getComputedStyle(gd).display;\n",
              "        if (!display || display === 'none') {{\n",
              "            console.log([gd, 'removed!']);\n",
              "            Plotly.purge(gd);\n",
              "            observer.disconnect();\n",
              "        }}\n",
              "}});\n",
              "\n",
              "// Listen for the removal of the full notebook cells\n",
              "var notebookContainer = gd.closest('#notebook-container');\n",
              "if (notebookContainer) {{\n",
              "    x.observe(notebookContainer, {childList: true});\n",
              "}}\n",
              "\n",
              "// Listen for the clearing of the current output cell\n",
              "var outputEl = gd.closest('.output');\n",
              "if (outputEl) {{\n",
              "    x.observe(outputEl, {childList: true});\n",
              "}}\n",
              "\n",
              "                        })\n",
              "                };\n",
              "                \n",
              "            </script>\n",
              "        </div>\n",
              "</body>\n",
              "</html>"
            ]
          },
          "metadata": {
            "tags": []
          }
        }
      ]
    },
    {
      "cell_type": "code",
      "metadata": {
        "id": "Hg648AZ9dKYh",
        "colab": {
          "base_uri": "https://localhost:8080/"
        },
        "outputId": "56d44f9f-ffd8-4ea0-f7e1-8e3b04a5a8b7"
      },
      "source": [
        "merge.drop(['deceased_date','released_date'], inplace=True, axis=1)\n",
        "merge"
      ],
      "execution_count": null,
      "outputs": [
        {
          "output_type": "execute_result",
          "data": {
            "text/html": [
              "<div>\n",
              "<style scoped>\n",
              "    .dataframe tbody tr th:only-of-type {\n",
              "        vertical-align: middle;\n",
              "    }\n",
              "\n",
              "    .dataframe tbody tr th {\n",
              "        vertical-align: top;\n",
              "    }\n",
              "\n",
              "    .dataframe thead th {\n",
              "        text-align: right;\n",
              "    }\n",
              "</style>\n",
              "<table border=\"1\" class=\"dataframe\">\n",
              "  <thead>\n",
              "    <tr style=\"text-align: right;\">\n",
              "      <th></th>\n",
              "      <th>sex</th>\n",
              "      <th>age</th>\n",
              "      <th>city</th>\n",
              "      <th>infection_case</th>\n",
              "      <th>infected_by</th>\n",
              "      <th>contact_number</th>\n",
              "      <th>symptom_onset_date</th>\n",
              "      <th>date</th>\n",
              "      <th>fp_num</th>\n",
              "      <th>avg_temp</th>\n",
              "      <th>min_temp</th>\n",
              "      <th>max_temp</th>\n",
              "      <th>precipitation</th>\n",
              "      <th>max_wind_speed</th>\n",
              "      <th>most_wind_direction</th>\n",
              "      <th>avg_relative_humidity</th>\n",
              "      <th>state</th>\n",
              "    </tr>\n",
              "  </thead>\n",
              "  <tbody>\n",
              "    <tr>\n",
              "      <th>0</th>\n",
              "      <td>male</td>\n",
              "      <td>50</td>\n",
              "      <td>Gangseo-gu</td>\n",
              "      <td>overseas inflow</td>\n",
              "      <td>NaN</td>\n",
              "      <td>75</td>\n",
              "      <td>1/22/2020</td>\n",
              "      <td>1/23/2020</td>\n",
              "      <td>30330.333333</td>\n",
              "      <td>4.6</td>\n",
              "      <td>0.0</td>\n",
              "      <td>9.9</td>\n",
              "      <td>0.0</td>\n",
              "      <td>4.7</td>\n",
              "      <td>290.0</td>\n",
              "      <td>49.3</td>\n",
              "      <td>released</td>\n",
              "    </tr>\n",
              "    <tr>\n",
              "      <th>1</th>\n",
              "      <td>male</td>\n",
              "      <td>30</td>\n",
              "      <td>Jungnang-gu</td>\n",
              "      <td>overseas inflow</td>\n",
              "      <td>NaN</td>\n",
              "      <td>31</td>\n",
              "      <td>NaN</td>\n",
              "      <td>1/30/2020</td>\n",
              "      <td>34103.750000</td>\n",
              "      <td>5.2</td>\n",
              "      <td>1.4</td>\n",
              "      <td>10.4</td>\n",
              "      <td>0.0</td>\n",
              "      <td>3.0</td>\n",
              "      <td>70.0</td>\n",
              "      <td>47.0</td>\n",
              "      <td>released</td>\n",
              "    </tr>\n",
              "    <tr>\n",
              "      <th>2</th>\n",
              "      <td>male</td>\n",
              "      <td>50</td>\n",
              "      <td>Jongno-gu</td>\n",
              "      <td>contact with patient</td>\n",
              "      <td>2002000001</td>\n",
              "      <td>17</td>\n",
              "      <td>NaN</td>\n",
              "      <td>1/30/2020</td>\n",
              "      <td>30673.416667</td>\n",
              "      <td>5.2</td>\n",
              "      <td>1.4</td>\n",
              "      <td>10.4</td>\n",
              "      <td>0.0</td>\n",
              "      <td>3.0</td>\n",
              "      <td>70.0</td>\n",
              "      <td>47.0</td>\n",
              "      <td>released</td>\n",
              "    </tr>\n",
              "    <tr>\n",
              "      <th>3</th>\n",
              "      <td>male</td>\n",
              "      <td>20</td>\n",
              "      <td>Mapo-gu</td>\n",
              "      <td>overseas inflow</td>\n",
              "      <td>NaN</td>\n",
              "      <td>9</td>\n",
              "      <td>1/26/2020</td>\n",
              "      <td>1/30/2020</td>\n",
              "      <td>29269.316667</td>\n",
              "      <td>5.2</td>\n",
              "      <td>1.4</td>\n",
              "      <td>10.4</td>\n",
              "      <td>0.0</td>\n",
              "      <td>3.0</td>\n",
              "      <td>70.0</td>\n",
              "      <td>47.0</td>\n",
              "      <td>released</td>\n",
              "    </tr>\n",
              "    <tr>\n",
              "      <th>4</th>\n",
              "      <td>female</td>\n",
              "      <td>20</td>\n",
              "      <td>Seongbuk-gu</td>\n",
              "      <td>contact with patient</td>\n",
              "      <td>1000000002</td>\n",
              "      <td>2</td>\n",
              "      <td>NaN</td>\n",
              "      <td>1/31/2020</td>\n",
              "      <td>30945.433333</td>\n",
              "      <td>3.9</td>\n",
              "      <td>1.4</td>\n",
              "      <td>8.9</td>\n",
              "      <td>0.0</td>\n",
              "      <td>4.4</td>\n",
              "      <td>270.0</td>\n",
              "      <td>59.6</td>\n",
              "      <td>released</td>\n",
              "    </tr>\n",
              "    <tr>\n",
              "      <th>...</th>\n",
              "      <td>...</td>\n",
              "      <td>...</td>\n",
              "      <td>...</td>\n",
              "      <td>...</td>\n",
              "      <td>...</td>\n",
              "      <td>...</td>\n",
              "      <td>...</td>\n",
              "      <td>...</td>\n",
              "      <td>...</td>\n",
              "      <td>...</td>\n",
              "      <td>...</td>\n",
              "      <td>...</td>\n",
              "      <td>...</td>\n",
              "      <td>...</td>\n",
              "      <td>...</td>\n",
              "      <td>...</td>\n",
              "      <td>...</td>\n",
              "    </tr>\n",
              "    <tr>\n",
              "      <th>5160</th>\n",
              "      <td>female</td>\n",
              "      <td>30</td>\n",
              "      <td>Jeju-do</td>\n",
              "      <td>overseas inflow</td>\n",
              "      <td>NaN</td>\n",
              "      <td>25</td>\n",
              "      <td>NaN</td>\n",
              "      <td>5/30/2020</td>\n",
              "      <td>31536.981520</td>\n",
              "      <td>20.0</td>\n",
              "      <td>17.8</td>\n",
              "      <td>23.6</td>\n",
              "      <td>0.0</td>\n",
              "      <td>5.3</td>\n",
              "      <td>50.0</td>\n",
              "      <td>79.5</td>\n",
              "      <td>released</td>\n",
              "    </tr>\n",
              "    <tr>\n",
              "      <th>5161</th>\n",
              "      <td>NaN</td>\n",
              "      <td>0</td>\n",
              "      <td>Jeju-do</td>\n",
              "      <td>overseas inflow</td>\n",
              "      <td>NaN</td>\n",
              "      <td>NaN</td>\n",
              "      <td>NaN</td>\n",
              "      <td>6/16/2020</td>\n",
              "      <td>NaN</td>\n",
              "      <td>23.3</td>\n",
              "      <td>21.4</td>\n",
              "      <td>26.9</td>\n",
              "      <td>0.0</td>\n",
              "      <td>4.4</td>\n",
              "      <td>290.0</td>\n",
              "      <td>82.8</td>\n",
              "      <td>released</td>\n",
              "    </tr>\n",
              "    <tr>\n",
              "      <th>5162</th>\n",
              "      <td>NaN</td>\n",
              "      <td>0</td>\n",
              "      <td>Jeju-do</td>\n",
              "      <td>overseas inflow</td>\n",
              "      <td>NaN</td>\n",
              "      <td>72</td>\n",
              "      <td>NaN</td>\n",
              "      <td>6/18/2020</td>\n",
              "      <td>NaN</td>\n",
              "      <td>19.5</td>\n",
              "      <td>18.3</td>\n",
              "      <td>22.5</td>\n",
              "      <td>49.3</td>\n",
              "      <td>7.4</td>\n",
              "      <td>70.0</td>\n",
              "      <td>95.8</td>\n",
              "      <td>isolated</td>\n",
              "    </tr>\n",
              "    <tr>\n",
              "      <th>5163</th>\n",
              "      <td>NaN</td>\n",
              "      <td>0</td>\n",
              "      <td>Jeju-do</td>\n",
              "      <td>overseas inflow</td>\n",
              "      <td>NaN</td>\n",
              "      <td>NaN</td>\n",
              "      <td>NaN</td>\n",
              "      <td>6/18/2020</td>\n",
              "      <td>NaN</td>\n",
              "      <td>19.5</td>\n",
              "      <td>18.3</td>\n",
              "      <td>22.5</td>\n",
              "      <td>49.3</td>\n",
              "      <td>7.4</td>\n",
              "      <td>70.0</td>\n",
              "      <td>95.8</td>\n",
              "      <td>isolated</td>\n",
              "    </tr>\n",
              "    <tr>\n",
              "      <th>5164</th>\n",
              "      <td>NaN</td>\n",
              "      <td>0</td>\n",
              "      <td>Jeju-do</td>\n",
              "      <td>overseas inflow</td>\n",
              "      <td>NaN</td>\n",
              "      <td>NaN</td>\n",
              "      <td>NaN</td>\n",
              "      <td>6/18/2020</td>\n",
              "      <td>NaN</td>\n",
              "      <td>19.5</td>\n",
              "      <td>18.3</td>\n",
              "      <td>22.5</td>\n",
              "      <td>49.3</td>\n",
              "      <td>7.4</td>\n",
              "      <td>70.0</td>\n",
              "      <td>95.8</td>\n",
              "      <td>isolated</td>\n",
              "    </tr>\n",
              "  </tbody>\n",
              "</table>\n",
              "<p>5165 rows × 17 columns</p>\n",
              "</div>"
            ],
            "text/plain": [
              "         sex  age  ... avg_relative_humidity     state\n",
              "0       male   50  ...                  49.3  released\n",
              "1       male   30  ...                  47.0  released\n",
              "2       male   50  ...                  47.0  released\n",
              "3       male   20  ...                  47.0  released\n",
              "4     female   20  ...                  59.6  released\n",
              "...      ...  ...  ...                   ...       ...\n",
              "5160  female   30  ...                  79.5  released\n",
              "5161     NaN    0  ...                  82.8  released\n",
              "5162     NaN    0  ...                  95.8  isolated\n",
              "5163     NaN    0  ...                  95.8  isolated\n",
              "5164     NaN    0  ...                  95.8  isolated\n",
              "\n",
              "[5165 rows x 17 columns]"
            ]
          },
          "metadata": {
            "tags": []
          },
          "execution_count": 19
        }
      ]
    },
    {
      "cell_type": "markdown",
      "metadata": {
        "id": "dTi6dD948qVM"
      },
      "source": [
        "## Distribusi Label"
      ]
    },
    {
      "cell_type": "code",
      "metadata": {
        "id": "DUcViWNK_076",
        "colab": {
          "base_uri": "https://localhost:8080/"
        },
        "outputId": "5781792c-634e-40bd-8b9a-3177fbafc599"
      },
      "source": [
        "sns.countplot(x='state', data=merge);pyplot.show()"
      ],
      "execution_count": null,
      "outputs": [
        {
          "output_type": "display_data",
          "data": {
            "image/png": "[encoded data removed]",
            "text/plain": [
              "<Figure size 640x480 with 1 Axes>"
            ]
          },
          "metadata": {
            "tags": []
          }
        }
      ]
    },
    {
      "cell_type": "markdown",
      "metadata": {
        "id": "n8hSZMM5Dj9b"
      },
      "source": [
        "## REPLACE MISSING VALUE"
      ]
    },
    {
      "cell_type": "code",
      "metadata": {
        "colab": {
          "base_uri": "https://localhost:8080/",
          "height": 300
        },
        "id": "93FiXICCDyTI",
        "outputId": "e4e6ad72-d68b-4344-beff-9354f3c27738"
      },
      "source": [
        "merge.describe()"
      ],
      "execution_count": null,
      "outputs": [
        {
          "output_type": "execute_result",
          "data": {
            "text/html": [
              "<div>\n",
              "<style scoped>\n",
              "    .dataframe tbody tr th:only-of-type {\n",
              "        vertical-align: middle;\n",
              "    }\n",
              "\n",
              "    .dataframe tbody tr th {\n",
              "        vertical-align: top;\n",
              "    }\n",
              "\n",
              "    .dataframe thead th {\n",
              "        text-align: right;\n",
              "    }\n",
              "</style>\n",
              "<table border=\"1\" class=\"dataframe\">\n",
              "  <thead>\n",
              "    <tr style=\"text-align: right;\">\n",
              "      <th></th>\n",
              "      <th>age</th>\n",
              "      <th>fp_num</th>\n",
              "      <th>avg_temp</th>\n",
              "      <th>min_temp</th>\n",
              "      <th>max_temp</th>\n",
              "      <th>precipitation</th>\n",
              "      <th>max_wind_speed</th>\n",
              "      <th>most_wind_direction</th>\n",
              "      <th>avg_relative_humidity</th>\n",
              "    </tr>\n",
              "  </thead>\n",
              "  <tbody>\n",
              "    <tr>\n",
              "      <th>count</th>\n",
              "      <td>5165.000000</td>\n",
              "      <td>3048.000000</td>\n",
              "      <td>5100.000000</td>\n",
              "      <td>5100.000000</td>\n",
              "      <td>5100.000000</td>\n",
              "      <td>5100.000000</td>\n",
              "      <td>5100.000000</td>\n",
              "      <td>5098.000000</td>\n",
              "      <td>5100.000000</td>\n",
              "    </tr>\n",
              "    <tr>\n",
              "      <th>mean</th>\n",
              "      <td>29.581801</td>\n",
              "      <td>29731.754122</td>\n",
              "      <td>12.184588</td>\n",
              "      <td>7.445098</td>\n",
              "      <td>17.590941</td>\n",
              "      <td>0.478941</td>\n",
              "      <td>5.585294</td>\n",
              "      <td>216.688898</td>\n",
              "      <td>64.868667</td>\n",
              "    </tr>\n",
              "    <tr>\n",
              "      <th>std</th>\n",
              "      <td>24.860169</td>\n",
              "      <td>7068.549522</td>\n",
              "      <td>7.220171</td>\n",
              "      <td>7.593768</td>\n",
              "      <td>7.440949</td>\n",
              "      <td>3.639822</td>\n",
              "      <td>2.069593</td>\n",
              "      <td>92.307107</td>\n",
              "      <td>16.864510</td>\n",
              "    </tr>\n",
              "    <tr>\n",
              "      <th>min</th>\n",
              "      <td>0.000000</td>\n",
              "      <td>10121.550000</td>\n",
              "      <td>-8.300000</td>\n",
              "      <td>-11.800000</td>\n",
              "      <td>-4.900000</td>\n",
              "      <td>0.000000</td>\n",
              "      <td>1.800000</td>\n",
              "      <td>20.000000</td>\n",
              "      <td>17.900000</td>\n",
              "    </tr>\n",
              "    <tr>\n",
              "      <th>25%</th>\n",
              "      <td>0.000000</td>\n",
              "      <td>29118.116667</td>\n",
              "      <td>6.100000</td>\n",
              "      <td>1.200000</td>\n",
              "      <td>11.100000</td>\n",
              "      <td>0.000000</td>\n",
              "      <td>4.200000</td>\n",
              "      <td>160.000000</td>\n",
              "      <td>53.300000</td>\n",
              "    </tr>\n",
              "    <tr>\n",
              "      <th>50%</th>\n",
              "      <td>30.000000</td>\n",
              "      <td>30869.733333</td>\n",
              "      <td>9.600000</td>\n",
              "      <td>5.100000</td>\n",
              "      <td>16.100000</td>\n",
              "      <td>0.000000</td>\n",
              "      <td>5.100000</td>\n",
              "      <td>250.000000</td>\n",
              "      <td>68.300000</td>\n",
              "    </tr>\n",
              "    <tr>\n",
              "      <th>75%</th>\n",
              "      <td>50.000000</td>\n",
              "      <td>33632.019277</td>\n",
              "      <td>18.500000</td>\n",
              "      <td>14.000000</td>\n",
              "      <td>23.600000</td>\n",
              "      <td>0.000000</td>\n",
              "      <td>6.300000</td>\n",
              "      <td>290.000000</td>\n",
              "      <td>78.300000</td>\n",
              "    </tr>\n",
              "    <tr>\n",
              "      <th>max</th>\n",
              "      <td>100.000000</td>\n",
              "      <td>64275.533333</td>\n",
              "      <td>29.500000</td>\n",
              "      <td>25.700000</td>\n",
              "      <td>35.400000</td>\n",
              "      <td>99.200000</td>\n",
              "      <td>14.200000</td>\n",
              "      <td>360.000000</td>\n",
              "      <td>99.900000</td>\n",
              "    </tr>\n",
              "  </tbody>\n",
              "</table>\n",
              "</div>"
            ],
            "text/plain": [
              "               age        fp_num  ...  most_wind_direction  avg_relative_humidity\n",
              "count  5165.000000   3048.000000  ...          5098.000000            5100.000000\n",
              "mean     29.581801  29731.754122  ...           216.688898              64.868667\n",
              "std      24.860169   7068.549522  ...            92.307107              16.864510\n",
              "min       0.000000  10121.550000  ...            20.000000              17.900000\n",
              "25%       0.000000  29118.116667  ...           160.000000              53.300000\n",
              "50%      30.000000  30869.733333  ...           250.000000              68.300000\n",
              "75%      50.000000  33632.019277  ...           290.000000              78.300000\n",
              "max     100.000000  64275.533333  ...           360.000000              99.900000\n",
              "\n",
              "[8 rows x 9 columns]"
            ]
          },
          "metadata": {
            "tags": []
          },
          "execution_count": 21
        }
      ]
    },
    {
      "cell_type": "code",
      "metadata": {
        "colab": {
          "base_uri": "https://localhost:8080/"
        },
        "id": "bktC0rmnoRVU",
        "outputId": "979ab2c8-380a-4ea1-e26b-34ca8f51dabe"
      },
      "source": [
        "merge.min()"
      ],
      "execution_count": null,
      "outputs": [
        {
          "output_type": "execute_result",
          "data": {
            "text/plain": [
              "age                             0\n",
              "fp_num                    10121.5\n",
              "avg_temp                     -8.3\n",
              "min_temp                    -11.8\n",
              "max_temp                     -4.9\n",
              "precipitation                   0\n",
              "max_wind_speed                1.8\n",
              "most_wind_direction            20\n",
              "avg_relative_humidity        17.9\n",
              "state                    deceased\n",
              "dtype: object"
            ]
          },
          "metadata": {
            "tags": []
          },
          "execution_count": 22
        }
      ]
    },
    {
      "cell_type": "code",
      "metadata": {
        "id": "FHerVRytInl7"
      },
      "source": [
        "# merge['date'].fillna(value=pd.to_datetime('1/1/2015'), inplace=True)\n",
        "# merge['symptom_onset_date'].fillna(value=pd.to_datetime('1/1/2015'), inplace=True)\n",
        "# merge"
      ],
      "execution_count": null,
      "outputs": []
    },
    {
      "cell_type": "code",
      "metadata": {
        "id": "X_Ez_XC0vHM9"
      },
      "source": [
        "from numpy import nan \n",
        "merge[['symptom_onset_date']] = merge[['symptom_onset_date']].replace(\" \", nan)"
      ],
      "execution_count": null,
      "outputs": []
    },
    {
      "cell_type": "code",
      "metadata": {
        "id": "0otS2-aN51kD"
      },
      "source": [
        "merge['symptom_onset_date'] = merge['symptom_onset_date'].replace(np.nan, '1/1/2020')"
      ],
      "execution_count": null,
      "outputs": []
    },
    {
      "cell_type": "code",
      "metadata": {
        "id": "EFI4YGkMxWuc"
      },
      "source": [
        "cols = list(merge.columns.values)\n",
        "merge.to_excel(r'drive/MyDrive/dataset/data_fix.xlsx', index = False)"
      ],
      "execution_count": null,
      "outputs": []
    },
    {
      "cell_type": "code",
      "metadata": {
        "colab": {
          "base_uri": "https://localhost:8080/",
          "height": 513
        },
        "id": "u3KWskbE6hXv",
        "outputId": "da5c28f4-5730-4b8d-fcca-a62a6c3ce2e8"
      },
      "source": [
        "merge"
      ],
      "execution_count": null,
      "outputs": [
        {
          "output_type": "execute_result",
          "data": {
            "text/html": [
              "<div>\n",
              "<style scoped>\n",
              "    .dataframe tbody tr th:only-of-type {\n",
              "        vertical-align: middle;\n",
              "    }\n",
              "\n",
              "    .dataframe tbody tr th {\n",
              "        vertical-align: top;\n",
              "    }\n",
              "\n",
              "    .dataframe thead th {\n",
              "        text-align: right;\n",
              "    }\n",
              "</style>\n",
              "<table border=\"1\" class=\"dataframe\">\n",
              "  <thead>\n",
              "    <tr style=\"text-align: right;\">\n",
              "      <th></th>\n",
              "      <th>sex</th>\n",
              "      <th>age</th>\n",
              "      <th>city</th>\n",
              "      <th>infection_case</th>\n",
              "      <th>infected_by</th>\n",
              "      <th>contact_number</th>\n",
              "      <th>symptom_onset_date</th>\n",
              "      <th>date</th>\n",
              "      <th>fp_num</th>\n",
              "      <th>avg_temp</th>\n",
              "      <th>min_temp</th>\n",
              "      <th>max_temp</th>\n",
              "      <th>precipitation</th>\n",
              "      <th>max_wind_speed</th>\n",
              "      <th>most_wind_direction</th>\n",
              "      <th>avg_relative_humidity</th>\n",
              "      <th>state</th>\n",
              "    </tr>\n",
              "  </thead>\n",
              "  <tbody>\n",
              "    <tr>\n",
              "      <th>0</th>\n",
              "      <td>male</td>\n",
              "      <td>50</td>\n",
              "      <td>Gangseo-gu</td>\n",
              "      <td>overseas inflow</td>\n",
              "      <td>NaN</td>\n",
              "      <td>75</td>\n",
              "      <td>1/22/2020</td>\n",
              "      <td>1/23/2020</td>\n",
              "      <td>30330.333333</td>\n",
              "      <td>4.6</td>\n",
              "      <td>0.0</td>\n",
              "      <td>9.9</td>\n",
              "      <td>0.0</td>\n",
              "      <td>4.7</td>\n",
              "      <td>290.0</td>\n",
              "      <td>49.3</td>\n",
              "      <td>released</td>\n",
              "    </tr>\n",
              "    <tr>\n",
              "      <th>1</th>\n",
              "      <td>male</td>\n",
              "      <td>30</td>\n",
              "      <td>Jungnang-gu</td>\n",
              "      <td>overseas inflow</td>\n",
              "      <td>NaN</td>\n",
              "      <td>31</td>\n",
              "      <td>1/1/2020</td>\n",
              "      <td>1/30/2020</td>\n",
              "      <td>34103.750000</td>\n",
              "      <td>5.2</td>\n",
              "      <td>1.4</td>\n",
              "      <td>10.4</td>\n",
              "      <td>0.0</td>\n",
              "      <td>3.0</td>\n",
              "      <td>70.0</td>\n",
              "      <td>47.0</td>\n",
              "      <td>released</td>\n",
              "    </tr>\n",
              "    <tr>\n",
              "      <th>2</th>\n",
              "      <td>male</td>\n",
              "      <td>50</td>\n",
              "      <td>Jongno-gu</td>\n",
              "      <td>contact with patient</td>\n",
              "      <td>2002000001</td>\n",
              "      <td>17</td>\n",
              "      <td>1/1/2020</td>\n",
              "      <td>1/30/2020</td>\n",
              "      <td>30673.416667</td>\n",
              "      <td>5.2</td>\n",
              "      <td>1.4</td>\n",
              "      <td>10.4</td>\n",
              "      <td>0.0</td>\n",
              "      <td>3.0</td>\n",
              "      <td>70.0</td>\n",
              "      <td>47.0</td>\n",
              "      <td>released</td>\n",
              "    </tr>\n",
              "    <tr>\n",
              "      <th>3</th>\n",
              "      <td>male</td>\n",
              "      <td>20</td>\n",
              "      <td>Mapo-gu</td>\n",
              "      <td>overseas inflow</td>\n",
              "      <td>NaN</td>\n",
              "      <td>9</td>\n",
              "      <td>1/26/2020</td>\n",
              "      <td>1/30/2020</td>\n",
              "      <td>29269.316667</td>\n",
              "      <td>5.2</td>\n",
              "      <td>1.4</td>\n",
              "      <td>10.4</td>\n",
              "      <td>0.0</td>\n",
              "      <td>3.0</td>\n",
              "      <td>70.0</td>\n",
              "      <td>47.0</td>\n",
              "      <td>released</td>\n",
              "    </tr>\n",
              "    <tr>\n",
              "      <th>4</th>\n",
              "      <td>female</td>\n",
              "      <td>20</td>\n",
              "      <td>Seongbuk-gu</td>\n",
              "      <td>contact with patient</td>\n",
              "      <td>1000000002</td>\n",
              "      <td>2</td>\n",
              "      <td>1/1/2020</td>\n",
              "      <td>1/31/2020</td>\n",
              "      <td>30945.433333</td>\n",
              "      <td>3.9</td>\n",
              "      <td>1.4</td>\n",
              "      <td>8.9</td>\n",
              "      <td>0.0</td>\n",
              "      <td>4.4</td>\n",
              "      <td>270.0</td>\n",
              "      <td>59.6</td>\n",
              "      <td>released</td>\n",
              "    </tr>\n",
              "    <tr>\n",
              "      <th>...</th>\n",
              "      <td>...</td>\n",
              "      <td>...</td>\n",
              "      <td>...</td>\n",
              "      <td>...</td>\n",
              "      <td>...</td>\n",
              "      <td>...</td>\n",
              "      <td>...</td>\n",
              "      <td>...</td>\n",
              "      <td>...</td>\n",
              "      <td>...</td>\n",
              "      <td>...</td>\n",
              "      <td>...</td>\n",
              "      <td>...</td>\n",
              "      <td>...</td>\n",
              "      <td>...</td>\n",
              "      <td>...</td>\n",
              "      <td>...</td>\n",
              "    </tr>\n",
              "    <tr>\n",
              "      <th>5160</th>\n",
              "      <td>female</td>\n",
              "      <td>30</td>\n",
              "      <td>Jeju-do</td>\n",
              "      <td>overseas inflow</td>\n",
              "      <td>NaN</td>\n",
              "      <td>25</td>\n",
              "      <td>1/1/2020</td>\n",
              "      <td>5/30/2020</td>\n",
              "      <td>31536.981520</td>\n",
              "      <td>20.0</td>\n",
              "      <td>17.8</td>\n",
              "      <td>23.6</td>\n",
              "      <td>0.0</td>\n",
              "      <td>5.3</td>\n",
              "      <td>50.0</td>\n",
              "      <td>79.5</td>\n",
              "      <td>released</td>\n",
              "    </tr>\n",
              "    <tr>\n",
              "      <th>5161</th>\n",
              "      <td>NaN</td>\n",
              "      <td>0</td>\n",
              "      <td>Jeju-do</td>\n",
              "      <td>overseas inflow</td>\n",
              "      <td>NaN</td>\n",
              "      <td>NaN</td>\n",
              "      <td>1/1/2020</td>\n",
              "      <td>6/16/2020</td>\n",
              "      <td>NaN</td>\n",
              "      <td>23.3</td>\n",
              "      <td>21.4</td>\n",
              "      <td>26.9</td>\n",
              "      <td>0.0</td>\n",
              "      <td>4.4</td>\n",
              "      <td>290.0</td>\n",
              "      <td>82.8</td>\n",
              "      <td>released</td>\n",
              "    </tr>\n",
              "    <tr>\n",
              "      <th>5162</th>\n",
              "      <td>NaN</td>\n",
              "      <td>0</td>\n",
              "      <td>Jeju-do</td>\n",
              "      <td>overseas inflow</td>\n",
              "      <td>NaN</td>\n",
              "      <td>72</td>\n",
              "      <td>1/1/2020</td>\n",
              "      <td>6/18/2020</td>\n",
              "      <td>NaN</td>\n",
              "      <td>19.5</td>\n",
              "      <td>18.3</td>\n",
              "      <td>22.5</td>\n",
              "      <td>49.3</td>\n",
              "      <td>7.4</td>\n",
              "      <td>70.0</td>\n",
              "      <td>95.8</td>\n",
              "      <td>isolated</td>\n",
              "    </tr>\n",
              "    <tr>\n",
              "      <th>5163</th>\n",
              "      <td>NaN</td>\n",
              "      <td>0</td>\n",
              "      <td>Jeju-do</td>\n",
              "      <td>overseas inflow</td>\n",
              "      <td>NaN</td>\n",
              "      <td>NaN</td>\n",
              "      <td>1/1/2020</td>\n",
              "      <td>6/18/2020</td>\n",
              "      <td>NaN</td>\n",
              "      <td>19.5</td>\n",
              "      <td>18.3</td>\n",
              "      <td>22.5</td>\n",
              "      <td>49.3</td>\n",
              "      <td>7.4</td>\n",
              "      <td>70.0</td>\n",
              "      <td>95.8</td>\n",
              "      <td>isolated</td>\n",
              "    </tr>\n",
              "    <tr>\n",
              "      <th>5164</th>\n",
              "      <td>NaN</td>\n",
              "      <td>0</td>\n",
              "      <td>Jeju-do</td>\n",
              "      <td>overseas inflow</td>\n",
              "      <td>NaN</td>\n",
              "      <td>NaN</td>\n",
              "      <td>1/1/2020</td>\n",
              "      <td>6/18/2020</td>\n",
              "      <td>NaN</td>\n",
              "      <td>19.5</td>\n",
              "      <td>18.3</td>\n",
              "      <td>22.5</td>\n",
              "      <td>49.3</td>\n",
              "      <td>7.4</td>\n",
              "      <td>70.0</td>\n",
              "      <td>95.8</td>\n",
              "      <td>isolated</td>\n",
              "    </tr>\n",
              "  </tbody>\n",
              "</table>\n",
              "<p>5165 rows × 17 columns</p>\n",
              "</div>"
            ],
            "text/plain": [
              "         sex  age  ... avg_relative_humidity     state\n",
              "0       male   50  ...                  49.3  released\n",
              "1       male   30  ...                  47.0  released\n",
              "2       male   50  ...                  47.0  released\n",
              "3       male   20  ...                  47.0  released\n",
              "4     female   20  ...                  59.6  released\n",
              "...      ...  ...  ...                   ...       ...\n",
              "5160  female   30  ...                  79.5  released\n",
              "5161     NaN    0  ...                  82.8  released\n",
              "5162     NaN    0  ...                  95.8  isolated\n",
              "5163     NaN    0  ...                  95.8  isolated\n",
              "5164     NaN    0  ...                  95.8  isolated\n",
              "\n",
              "[5165 rows x 17 columns]"
            ]
          },
          "metadata": {
            "tags": []
          },
          "execution_count": 27
        }
      ]
    },
    {
      "cell_type": "code",
      "metadata": {
        "id": "ZirRKQu1gmXM",
        "colab": {
          "base_uri": "https://localhost:8080/",
          "height": 597
        },
        "outputId": "56a10ae7-be7b-4f09-c06d-57b485d85cd6"
      },
      "source": [
        "merge['sex'].replace({'male' : 0}, inplace=True)\n",
        "merge['sex'].replace({'female' : 1}, inplace=True)\n",
        "merge['sex'] = merge['sex'].replace(np.nan, -1)\n",
        "merge['infection_case'] = merge['infection_case'].replace(np.nan, 2)\n",
        "merge['infected_by'] = merge['infected_by'].replace(np.nan, -1)\n",
        "merge['contact_number'] = merge['contact_number'].replace(np.nan, -1)\n",
        "merge['symptom_onset_date'] = pd.to_datetime(merge.symptom_onset_date, format='%m/%d/%Y')\n",
        "merge['date'] = pd.to_datetime(merge.date, format='%m/%d/%Y')\n",
        "merge['fp_num'] = merge['fp_num'].replace(np.nan, 11000)\n",
        "merge['avg_temp'] = merge['avg_temp'].replace(np.nan, -9)\n",
        "merge['min_temp'] = merge['min_temp'].replace(np.nan, -12)\n",
        "merge['max_temp'] = merge['max_temp'].replace(np.nan, -6)\n",
        "merge['precipitation'] = merge['precipitation'].replace(np.nan, -1)\n",
        "merge['max_wind_speed'] = merge['max_wind_speed'].replace(np.nan, 0)\n",
        "merge['most_wind_direction'] = merge['most_wind_direction'].replace(np.nan, 0)\n",
        "merge['avg_relative_humidity'] = merge['avg_relative_humidity'].replace(np.nan, 0)\n",
        "for col_name in merge.columns:\n",
        "    if(merge[col_name].dtype == 'object'):\n",
        "        merge[col_name]= merge[col_name].astype('category')\n",
        "        merge[col_name] = merge[col_name].cat.codes\n",
        "merge"
      ],
      "execution_count": null,
      "outputs": [
        {
          "output_type": "execute_result",
          "data": {
            "text/html": [
              "<div>\n",
              "<style scoped>\n",
              "    .dataframe tbody tr th:only-of-type {\n",
              "        vertical-align: middle;\n",
              "    }\n",
              "\n",
              "    .dataframe tbody tr th {\n",
              "        vertical-align: top;\n",
              "    }\n",
              "\n",
              "    .dataframe thead th {\n",
              "        text-align: right;\n",
              "    }\n",
              "</style>\n",
              "<table border=\"1\" class=\"dataframe\">\n",
              "  <thead>\n",
              "    <tr style=\"text-align: right;\">\n",
              "      <th></th>\n",
              "      <th>sex</th>\n",
              "      <th>age</th>\n",
              "      <th>city</th>\n",
              "      <th>infection_case</th>\n",
              "      <th>infected_by</th>\n",
              "      <th>contact_number</th>\n",
              "      <th>symptom_onset_date</th>\n",
              "      <th>date</th>\n",
              "      <th>fp_num</th>\n",
              "      <th>avg_temp</th>\n",
              "      <th>min_temp</th>\n",
              "      <th>max_temp</th>\n",
              "      <th>precipitation</th>\n",
              "      <th>max_wind_speed</th>\n",
              "      <th>most_wind_direction</th>\n",
              "      <th>avg_relative_humidity</th>\n",
              "      <th>state</th>\n",
              "    </tr>\n",
              "  </thead>\n",
              "  <tbody>\n",
              "    <tr>\n",
              "      <th>0</th>\n",
              "      <td>0.0</td>\n",
              "      <td>50</td>\n",
              "      <td>39</td>\n",
              "      <td>51</td>\n",
              "      <td>0</td>\n",
              "      <td>80</td>\n",
              "      <td>2020-01-22</td>\n",
              "      <td>2020-01-23</td>\n",
              "      <td>30330.333333</td>\n",
              "      <td>4.6</td>\n",
              "      <td>0.0</td>\n",
              "      <td>9.9</td>\n",
              "      <td>0.0</td>\n",
              "      <td>4.7</td>\n",
              "      <td>290.0</td>\n",
              "      <td>49.3</td>\n",
              "      <td>2</td>\n",
              "    </tr>\n",
              "    <tr>\n",
              "      <th>1</th>\n",
              "      <td>0.0</td>\n",
              "      <td>30</td>\n",
              "      <td>93</td>\n",
              "      <td>51</td>\n",
              "      <td>0</td>\n",
              "      <td>43</td>\n",
              "      <td>2020-01-01</td>\n",
              "      <td>2020-01-30</td>\n",
              "      <td>34103.750000</td>\n",
              "      <td>5.2</td>\n",
              "      <td>1.4</td>\n",
              "      <td>10.4</td>\n",
              "      <td>0.0</td>\n",
              "      <td>3.0</td>\n",
              "      <td>70.0</td>\n",
              "      <td>47.0</td>\n",
              "      <td>2</td>\n",
              "    </tr>\n",
              "    <tr>\n",
              "      <th>2</th>\n",
              "      <td>0.0</td>\n",
              "      <td>50</td>\n",
              "      <td>91</td>\n",
              "      <td>47</td>\n",
              "      <td>475</td>\n",
              "      <td>23</td>\n",
              "      <td>2020-01-01</td>\n",
              "      <td>2020-01-30</td>\n",
              "      <td>30673.416667</td>\n",
              "      <td>5.2</td>\n",
              "      <td>1.4</td>\n",
              "      <td>10.4</td>\n",
              "      <td>0.0</td>\n",
              "      <td>3.0</td>\n",
              "      <td>70.0</td>\n",
              "      <td>47.0</td>\n",
              "      <td>2</td>\n",
              "    </tr>\n",
              "    <tr>\n",
              "      <th>3</th>\n",
              "      <td>0.0</td>\n",
              "      <td>20</td>\n",
              "      <td>95</td>\n",
              "      <td>51</td>\n",
              "      <td>0</td>\n",
              "      <td>87</td>\n",
              "      <td>2020-01-26</td>\n",
              "      <td>2020-01-30</td>\n",
              "      <td>29269.316667</td>\n",
              "      <td>5.2</td>\n",
              "      <td>1.4</td>\n",
              "      <td>10.4</td>\n",
              "      <td>0.0</td>\n",
              "      <td>3.0</td>\n",
              "      <td>70.0</td>\n",
              "      <td>47.0</td>\n",
              "      <td>2</td>\n",
              "    </tr>\n",
              "    <tr>\n",
              "      <th>4</th>\n",
              "      <td>1.0</td>\n",
              "      <td>20</td>\n",
              "      <td>124</td>\n",
              "      <td>47</td>\n",
              "      <td>1</td>\n",
              "      <td>28</td>\n",
              "      <td>2020-01-01</td>\n",
              "      <td>2020-01-31</td>\n",
              "      <td>30945.433333</td>\n",
              "      <td>3.9</td>\n",
              "      <td>1.4</td>\n",
              "      <td>8.9</td>\n",
              "      <td>0.0</td>\n",
              "      <td>4.4</td>\n",
              "      <td>270.0</td>\n",
              "      <td>59.6</td>\n",
              "      <td>2</td>\n",
              "    </tr>\n",
              "    <tr>\n",
              "      <th>...</th>\n",
              "      <td>...</td>\n",
              "      <td>...</td>\n",
              "      <td>...</td>\n",
              "      <td>...</td>\n",
              "      <td>...</td>\n",
              "      <td>...</td>\n",
              "      <td>...</td>\n",
              "      <td>...</td>\n",
              "      <td>...</td>\n",
              "      <td>...</td>\n",
              "      <td>...</td>\n",
              "      <td>...</td>\n",
              "      <td>...</td>\n",
              "      <td>...</td>\n",
              "      <td>...</td>\n",
              "      <td>...</td>\n",
              "      <td>...</td>\n",
              "    </tr>\n",
              "    <tr>\n",
              "      <th>5160</th>\n",
              "      <td>1.0</td>\n",
              "      <td>30</td>\n",
              "      <td>86</td>\n",
              "      <td>51</td>\n",
              "      <td>0</td>\n",
              "      <td>34</td>\n",
              "      <td>2020-01-01</td>\n",
              "      <td>2020-05-30</td>\n",
              "      <td>31536.981520</td>\n",
              "      <td>20.0</td>\n",
              "      <td>17.8</td>\n",
              "      <td>23.6</td>\n",
              "      <td>0.0</td>\n",
              "      <td>5.3</td>\n",
              "      <td>50.0</td>\n",
              "      <td>79.5</td>\n",
              "      <td>2</td>\n",
              "    </tr>\n",
              "    <tr>\n",
              "      <th>5161</th>\n",
              "      <td>-1.0</td>\n",
              "      <td>0</td>\n",
              "      <td>86</td>\n",
              "      <td>51</td>\n",
              "      <td>0</td>\n",
              "      <td>0</td>\n",
              "      <td>2020-01-01</td>\n",
              "      <td>2020-06-16</td>\n",
              "      <td>11000.000000</td>\n",
              "      <td>23.3</td>\n",
              "      <td>21.4</td>\n",
              "      <td>26.9</td>\n",
              "      <td>0.0</td>\n",
              "      <td>4.4</td>\n",
              "      <td>290.0</td>\n",
              "      <td>82.8</td>\n",
              "      <td>2</td>\n",
              "    </tr>\n",
              "    <tr>\n",
              "      <th>5162</th>\n",
              "      <td>-1.0</td>\n",
              "      <td>0</td>\n",
              "      <td>86</td>\n",
              "      <td>51</td>\n",
              "      <td>0</td>\n",
              "      <td>78</td>\n",
              "      <td>2020-01-01</td>\n",
              "      <td>2020-06-18</td>\n",
              "      <td>11000.000000</td>\n",
              "      <td>19.5</td>\n",
              "      <td>18.3</td>\n",
              "      <td>22.5</td>\n",
              "      <td>49.3</td>\n",
              "      <td>7.4</td>\n",
              "      <td>70.0</td>\n",
              "      <td>95.8</td>\n",
              "      <td>1</td>\n",
              "    </tr>\n",
              "    <tr>\n",
              "      <th>5163</th>\n",
              "      <td>-1.0</td>\n",
              "      <td>0</td>\n",
              "      <td>86</td>\n",
              "      <td>51</td>\n",
              "      <td>0</td>\n",
              "      <td>0</td>\n",
              "      <td>2020-01-01</td>\n",
              "      <td>2020-06-18</td>\n",
              "      <td>11000.000000</td>\n",
              "      <td>19.5</td>\n",
              "      <td>18.3</td>\n",
              "      <td>22.5</td>\n",
              "      <td>49.3</td>\n",
              "      <td>7.4</td>\n",
              "      <td>70.0</td>\n",
              "      <td>95.8</td>\n",
              "      <td>1</td>\n",
              "    </tr>\n",
              "    <tr>\n",
              "      <th>5164</th>\n",
              "      <td>-1.0</td>\n",
              "      <td>0</td>\n",
              "      <td>86</td>\n",
              "      <td>51</td>\n",
              "      <td>0</td>\n",
              "      <td>0</td>\n",
              "      <td>2020-01-01</td>\n",
              "      <td>2020-06-18</td>\n",
              "      <td>11000.000000</td>\n",
              "      <td>19.5</td>\n",
              "      <td>18.3</td>\n",
              "      <td>22.5</td>\n",
              "      <td>49.3</td>\n",
              "      <td>7.4</td>\n",
              "      <td>70.0</td>\n",
              "      <td>95.8</td>\n",
              "      <td>1</td>\n",
              "    </tr>\n",
              "  </tbody>\n",
              "</table>\n",
              "<p>5165 rows × 17 columns</p>\n",
              "</div>"
            ],
            "text/plain": [
              "      sex  age  city  ...  most_wind_direction  avg_relative_humidity  state\n",
              "0     0.0   50    39  ...                290.0                   49.3      2\n",
              "1     0.0   30    93  ...                 70.0                   47.0      2\n",
              "2     0.0   50    91  ...                 70.0                   47.0      2\n",
              "3     0.0   20    95  ...                 70.0                   47.0      2\n",
              "4     1.0   20   124  ...                270.0                   59.6      2\n",
              "...   ...  ...   ...  ...                  ...                    ...    ...\n",
              "5160  1.0   30    86  ...                 50.0                   79.5      2\n",
              "5161 -1.0    0    86  ...                290.0                   82.8      2\n",
              "5162 -1.0    0    86  ...                 70.0                   95.8      1\n",
              "5163 -1.0    0    86  ...                 70.0                   95.8      1\n",
              "5164 -1.0    0    86  ...                 70.0                   95.8      1\n",
              "\n",
              "[5165 rows x 17 columns]"
            ]
          },
          "metadata": {
            "tags": []
          },
          "execution_count": 28
        }
      ]
    },
    {
      "cell_type": "markdown",
      "metadata": {
        "id": "F__u62jH8f__"
      },
      "source": [
        "## Fiture Engineering"
      ]
    },
    {
      "cell_type": "code",
      "metadata": {
        "colab": {
          "base_uri": "https://localhost:8080/",
          "height": 424
        },
        "id": "oLTIrbt-rgYY",
        "outputId": "b293fc91-e0c2-40c0-f225-7c1220d6a254"
      },
      "source": [
        "merge['days']  = merge.date - merge.symptom_onset_date\n",
        "merge.drop(['symptom_onset_date','date'], inplace=True, axis=1)\n",
        "\n",
        "merge"
      ],
      "execution_count": null,
      "outputs": [
        {
          "output_type": "execute_result",
          "data": {
            "text/html": [
              "<div>\n",
              "<style scoped>\n",
              "    .dataframe tbody tr th:only-of-type {\n",
              "        vertical-align: middle;\n",
              "    }\n",
              "\n",
              "    .dataframe tbody tr th {\n",
              "        vertical-align: top;\n",
              "    }\n",
              "\n",
              "    .dataframe thead th {\n",
              "        text-align: right;\n",
              "    }\n",
              "</style>\n",
              "<table border=\"1\" class=\"dataframe\">\n",
              "  <thead>\n",
              "    <tr style=\"text-align: right;\">\n",
              "      <th></th>\n",
              "      <th>sex</th>\n",
              "      <th>age</th>\n",
              "      <th>city</th>\n",
              "      <th>infection_case</th>\n",
              "      <th>infected_by</th>\n",
              "      <th>contact_number</th>\n",
              "      <th>fp_num</th>\n",
              "      <th>avg_temp</th>\n",
              "      <th>min_temp</th>\n",
              "      <th>max_temp</th>\n",
              "      <th>precipitation</th>\n",
              "      <th>max_wind_speed</th>\n",
              "      <th>most_wind_direction</th>\n",
              "      <th>avg_relative_humidity</th>\n",
              "      <th>state</th>\n",
              "      <th>days</th>\n",
              "    </tr>\n",
              "  </thead>\n",
              "  <tbody>\n",
              "    <tr>\n",
              "      <th>0</th>\n",
              "      <td>0.0</td>\n",
              "      <td>50</td>\n",
              "      <td>39</td>\n",
              "      <td>51</td>\n",
              "      <td>0</td>\n",
              "      <td>80</td>\n",
              "      <td>30330.333333</td>\n",
              "      <td>4.6</td>\n",
              "      <td>0.0</td>\n",
              "      <td>9.9</td>\n",
              "      <td>0.0</td>\n",
              "      <td>4.7</td>\n",
              "      <td>290.0</td>\n",
              "      <td>49.3</td>\n",
              "      <td>2</td>\n",
              "      <td>1 days</td>\n",
              "    </tr>\n",
              "    <tr>\n",
              "      <th>1</th>\n",
              "      <td>0.0</td>\n",
              "      <td>30</td>\n",
              "      <td>93</td>\n",
              "      <td>51</td>\n",
              "      <td>0</td>\n",
              "      <td>43</td>\n",
              "      <td>34103.750000</td>\n",
              "      <td>5.2</td>\n",
              "      <td>1.4</td>\n",
              "      <td>10.4</td>\n",
              "      <td>0.0</td>\n",
              "      <td>3.0</td>\n",
              "      <td>70.0</td>\n",
              "      <td>47.0</td>\n",
              "      <td>2</td>\n",
              "      <td>29 days</td>\n",
              "    </tr>\n",
              "    <tr>\n",
              "      <th>2</th>\n",
              "      <td>0.0</td>\n",
              "      <td>50</td>\n",
              "      <td>91</td>\n",
              "      <td>47</td>\n",
              "      <td>475</td>\n",
              "      <td>23</td>\n",
              "      <td>30673.416667</td>\n",
              "      <td>5.2</td>\n",
              "      <td>1.4</td>\n",
              "      <td>10.4</td>\n",
              "      <td>0.0</td>\n",
              "      <td>3.0</td>\n",
              "      <td>70.0</td>\n",
              "      <td>47.0</td>\n",
              "      <td>2</td>\n",
              "      <td>29 days</td>\n",
              "    </tr>\n",
              "    <tr>\n",
              "      <th>3</th>\n",
              "      <td>0.0</td>\n",
              "      <td>20</td>\n",
              "      <td>95</td>\n",
              "      <td>51</td>\n",
              "      <td>0</td>\n",
              "      <td>87</td>\n",
              "      <td>29269.316667</td>\n",
              "      <td>5.2</td>\n",
              "      <td>1.4</td>\n",
              "      <td>10.4</td>\n",
              "      <td>0.0</td>\n",
              "      <td>3.0</td>\n",
              "      <td>70.0</td>\n",
              "      <td>47.0</td>\n",
              "      <td>2</td>\n",
              "      <td>4 days</td>\n",
              "    </tr>\n",
              "    <tr>\n",
              "      <th>4</th>\n",
              "      <td>1.0</td>\n",
              "      <td>20</td>\n",
              "      <td>124</td>\n",
              "      <td>47</td>\n",
              "      <td>1</td>\n",
              "      <td>28</td>\n",
              "      <td>30945.433333</td>\n",
              "      <td>3.9</td>\n",
              "      <td>1.4</td>\n",
              "      <td>8.9</td>\n",
              "      <td>0.0</td>\n",
              "      <td>4.4</td>\n",
              "      <td>270.0</td>\n",
              "      <td>59.6</td>\n",
              "      <td>2</td>\n",
              "      <td>30 days</td>\n",
              "    </tr>\n",
              "    <tr>\n",
              "      <th>...</th>\n",
              "      <td>...</td>\n",
              "      <td>...</td>\n",
              "      <td>...</td>\n",
              "      <td>...</td>\n",
              "      <td>...</td>\n",
              "      <td>...</td>\n",
              "      <td>...</td>\n",
              "      <td>...</td>\n",
              "      <td>...</td>\n",
              "      <td>...</td>\n",
              "      <td>...</td>\n",
              "      <td>...</td>\n",
              "      <td>...</td>\n",
              "      <td>...</td>\n",
              "      <td>...</td>\n",
              "      <td>...</td>\n",
              "    </tr>\n",
              "    <tr>\n",
              "      <th>5160</th>\n",
              "      <td>1.0</td>\n",
              "      <td>30</td>\n",
              "      <td>86</td>\n",
              "      <td>51</td>\n",
              "      <td>0</td>\n",
              "      <td>34</td>\n",
              "      <td>31536.981520</td>\n",
              "      <td>20.0</td>\n",
              "      <td>17.8</td>\n",
              "      <td>23.6</td>\n",
              "      <td>0.0</td>\n",
              "      <td>5.3</td>\n",
              "      <td>50.0</td>\n",
              "      <td>79.5</td>\n",
              "      <td>2</td>\n",
              "      <td>150 days</td>\n",
              "    </tr>\n",
              "    <tr>\n",
              "      <th>5161</th>\n",
              "      <td>-1.0</td>\n",
              "      <td>0</td>\n",
              "      <td>86</td>\n",
              "      <td>51</td>\n",
              "      <td>0</td>\n",
              "      <td>0</td>\n",
              "      <td>11000.000000</td>\n",
              "      <td>23.3</td>\n",
              "      <td>21.4</td>\n",
              "      <td>26.9</td>\n",
              "      <td>0.0</td>\n",
              "      <td>4.4</td>\n",
              "      <td>290.0</td>\n",
              "      <td>82.8</td>\n",
              "      <td>2</td>\n",
              "      <td>167 days</td>\n",
              "    </tr>\n",
              "    <tr>\n",
              "      <th>5162</th>\n",
              "      <td>-1.0</td>\n",
              "      <td>0</td>\n",
              "      <td>86</td>\n",
              "      <td>51</td>\n",
              "      <td>0</td>\n",
              "      <td>78</td>\n",
              "      <td>11000.000000</td>\n",
              "      <td>19.5</td>\n",
              "      <td>18.3</td>\n",
              "      <td>22.5</td>\n",
              "      <td>49.3</td>\n",
              "      <td>7.4</td>\n",
              "      <td>70.0</td>\n",
              "      <td>95.8</td>\n",
              "      <td>1</td>\n",
              "      <td>169 days</td>\n",
              "    </tr>\n",
              "    <tr>\n",
              "      <th>5163</th>\n",
              "      <td>-1.0</td>\n",
              "      <td>0</td>\n",
              "      <td>86</td>\n",
              "      <td>51</td>\n",
              "      <td>0</td>\n",
              "      <td>0</td>\n",
              "      <td>11000.000000</td>\n",
              "      <td>19.5</td>\n",
              "      <td>18.3</td>\n",
              "      <td>22.5</td>\n",
              "      <td>49.3</td>\n",
              "      <td>7.4</td>\n",
              "      <td>70.0</td>\n",
              "      <td>95.8</td>\n",
              "      <td>1</td>\n",
              "      <td>169 days</td>\n",
              "    </tr>\n",
              "    <tr>\n",
              "      <th>5164</th>\n",
              "      <td>-1.0</td>\n",
              "      <td>0</td>\n",
              "      <td>86</td>\n",
              "      <td>51</td>\n",
              "      <td>0</td>\n",
              "      <td>0</td>\n",
              "      <td>11000.000000</td>\n",
              "      <td>19.5</td>\n",
              "      <td>18.3</td>\n",
              "      <td>22.5</td>\n",
              "      <td>49.3</td>\n",
              "      <td>7.4</td>\n",
              "      <td>70.0</td>\n",
              "      <td>95.8</td>\n",
              "      <td>1</td>\n",
              "      <td>169 days</td>\n",
              "    </tr>\n",
              "  </tbody>\n",
              "</table>\n",
              "<p>5165 rows × 16 columns</p>\n",
              "</div>"
            ],
            "text/plain": [
              "      sex  age  city  ...  avg_relative_humidity  state     days\n",
              "0     0.0   50    39  ...                   49.3      2   1 days\n",
              "1     0.0   30    93  ...                   47.0      2  29 days\n",
              "2     0.0   50    91  ...                   47.0      2  29 days\n",
              "3     0.0   20    95  ...                   47.0      2   4 days\n",
              "4     1.0   20   124  ...                   59.6      2  30 days\n",
              "...   ...  ...   ...  ...                    ...    ...      ...\n",
              "5160  1.0   30    86  ...                   79.5      2 150 days\n",
              "5161 -1.0    0    86  ...                   82.8      2 167 days\n",
              "5162 -1.0    0    86  ...                   95.8      1 169 days\n",
              "5163 -1.0    0    86  ...                   95.8      1 169 days\n",
              "5164 -1.0    0    86  ...                   95.8      1 169 days\n",
              "\n",
              "[5165 rows x 16 columns]"
            ]
          },
          "metadata": {
            "tags": []
          },
          "execution_count": 29
        }
      ]
    },
    {
      "cell_type": "code",
      "metadata": {
        "colab": {
          "base_uri": "https://localhost:8080/"
        },
        "id": "xLtLYExB7Mdl",
        "outputId": "2519d920-1024-4ad4-a1bc-75e38076a0a4"
      },
      "source": [
        "merge.info()"
      ],
      "execution_count": null,
      "outputs": [
        {
          "output_type": "stream",
          "text": [
            "<class 'pandas.core.frame.DataFrame'>\n",
            "Int64Index: 5165 entries, 0 to 5164\n",
            "Data columns (total 16 columns):\n",
            " #   Column                 Non-Null Count  Dtype          \n",
            "---  ------                 --------------  -----          \n",
            " 0   sex                    5165 non-null   float64        \n",
            " 1   age                    5165 non-null   int64          \n",
            " 2   city                   5165 non-null   int16          \n",
            " 3   infection_case         5165 non-null   int8           \n",
            " 4   infected_by            5165 non-null   int16          \n",
            " 5   contact_number         5165 non-null   int8           \n",
            " 6   fp_num                 5165 non-null   float64        \n",
            " 7   avg_temp               5165 non-null   float64        \n",
            " 8   min_temp               5165 non-null   float64        \n",
            " 9   max_temp               5165 non-null   float64        \n",
            " 10  precipitation          5165 non-null   float64        \n",
            " 11  max_wind_speed         5165 non-null   float64        \n",
            " 12  most_wind_direction    5165 non-null   float64        \n",
            " 13  avg_relative_humidity  5165 non-null   float64        \n",
            " 14  state                  5165 non-null   int8           \n",
            " 15  days                   5162 non-null   timedelta64[ns]\n",
            "dtypes: float64(9), int16(2), int64(1), int8(3), timedelta64[ns](1)\n",
            "memory usage: 679.5 KB\n"
          ],
          "name": "stdout"
        }
      ]
    },
    {
      "cell_type": "code",
      "metadata": {
        "colab": {
          "base_uri": "https://localhost:8080/"
        },
        "id": "0rVvnAh6qABj",
        "outputId": "c4f7966b-164b-448e-c117-9617a702a2da"
      },
      "source": [
        "merge.columns"
      ],
      "execution_count": null,
      "outputs": [
        {
          "output_type": "execute_result",
          "data": {
            "text/plain": [
              "Index(['sex', 'age', 'city', 'infection_case', 'infected_by', 'contact_number',\n",
              "       'fp_num', 'avg_temp', 'min_temp', 'max_temp', 'precipitation',\n",
              "       'max_wind_speed', 'most_wind_direction', 'avg_relative_humidity',\n",
              "       'state', 'days'],\n",
              "      dtype='object')"
            ]
          },
          "metadata": {
            "tags": []
          },
          "execution_count": 31
        }
      ]
    },
    {
      "cell_type": "code",
      "metadata": {
        "colab": {
          "base_uri": "https://localhost:8080/",
          "height": 206
        },
        "id": "hJdHu9xj6A6_",
        "outputId": "6693980c-e418-4a02-9722-dd6ceed0c293"
      },
      "source": [
        "merge = merge [['sex', 'age', 'city', 'infection_case', 'infected_by', 'contact_number', 'days',\n",
        "       'fp_num', 'avg_temp', 'min_temp', 'max_temp', 'precipitation',\n",
        "       'max_wind_speed', 'most_wind_direction', 'avg_relative_humidity', \n",
        "       'state']]\n",
        "merge.head()"
      ],
      "execution_count": null,
      "outputs": [
        {
          "output_type": "execute_result",
          "data": {
            "text/html": [
              "<div>\n",
              "<style scoped>\n",
              "    .dataframe tbody tr th:only-of-type {\n",
              "        vertical-align: middle;\n",
              "    }\n",
              "\n",
              "    .dataframe tbody tr th {\n",
              "        vertical-align: top;\n",
              "    }\n",
              "\n",
              "    .dataframe thead th {\n",
              "        text-align: right;\n",
              "    }\n",
              "</style>\n",
              "<table border=\"1\" class=\"dataframe\">\n",
              "  <thead>\n",
              "    <tr style=\"text-align: right;\">\n",
              "      <th></th>\n",
              "      <th>sex</th>\n",
              "      <th>age</th>\n",
              "      <th>city</th>\n",
              "      <th>infection_case</th>\n",
              "      <th>infected_by</th>\n",
              "      <th>contact_number</th>\n",
              "      <th>days</th>\n",
              "      <th>fp_num</th>\n",
              "      <th>avg_temp</th>\n",
              "      <th>min_temp</th>\n",
              "      <th>max_temp</th>\n",
              "      <th>precipitation</th>\n",
              "      <th>max_wind_speed</th>\n",
              "      <th>most_wind_direction</th>\n",
              "      <th>avg_relative_humidity</th>\n",
              "      <th>state</th>\n",
              "    </tr>\n",
              "  </thead>\n",
              "  <tbody>\n",
              "    <tr>\n",
              "      <th>0</th>\n",
              "      <td>0.0</td>\n",
              "      <td>50</td>\n",
              "      <td>39</td>\n",
              "      <td>51</td>\n",
              "      <td>0</td>\n",
              "      <td>80</td>\n",
              "      <td>1 days</td>\n",
              "      <td>30330.333333</td>\n",
              "      <td>4.6</td>\n",
              "      <td>0.0</td>\n",
              "      <td>9.9</td>\n",
              "      <td>0.0</td>\n",
              "      <td>4.7</td>\n",
              "      <td>290.0</td>\n",
              "      <td>49.3</td>\n",
              "      <td>2</td>\n",
              "    </tr>\n",
              "    <tr>\n",
              "      <th>1</th>\n",
              "      <td>0.0</td>\n",
              "      <td>30</td>\n",
              "      <td>93</td>\n",
              "      <td>51</td>\n",
              "      <td>0</td>\n",
              "      <td>43</td>\n",
              "      <td>29 days</td>\n",
              "      <td>34103.750000</td>\n",
              "      <td>5.2</td>\n",
              "      <td>1.4</td>\n",
              "      <td>10.4</td>\n",
              "      <td>0.0</td>\n",
              "      <td>3.0</td>\n",
              "      <td>70.0</td>\n",
              "      <td>47.0</td>\n",
              "      <td>2</td>\n",
              "    </tr>\n",
              "    <tr>\n",
              "      <th>2</th>\n",
              "      <td>0.0</td>\n",
              "      <td>50</td>\n",
              "      <td>91</td>\n",
              "      <td>47</td>\n",
              "      <td>475</td>\n",
              "      <td>23</td>\n",
              "      <td>29 days</td>\n",
              "      <td>30673.416667</td>\n",
              "      <td>5.2</td>\n",
              "      <td>1.4</td>\n",
              "      <td>10.4</td>\n",
              "      <td>0.0</td>\n",
              "      <td>3.0</td>\n",
              "      <td>70.0</td>\n",
              "      <td>47.0</td>\n",
              "      <td>2</td>\n",
              "    </tr>\n",
              "    <tr>\n",
              "      <th>3</th>\n",
              "      <td>0.0</td>\n",
              "      <td>20</td>\n",
              "      <td>95</td>\n",
              "      <td>51</td>\n",
              "      <td>0</td>\n",
              "      <td>87</td>\n",
              "      <td>4 days</td>\n",
              "      <td>29269.316667</td>\n",
              "      <td>5.2</td>\n",
              "      <td>1.4</td>\n",
              "      <td>10.4</td>\n",
              "      <td>0.0</td>\n",
              "      <td>3.0</td>\n",
              "      <td>70.0</td>\n",
              "      <td>47.0</td>\n",
              "      <td>2</td>\n",
              "    </tr>\n",
              "    <tr>\n",
              "      <th>4</th>\n",
              "      <td>1.0</td>\n",
              "      <td>20</td>\n",
              "      <td>124</td>\n",
              "      <td>47</td>\n",
              "      <td>1</td>\n",
              "      <td>28</td>\n",
              "      <td>30 days</td>\n",
              "      <td>30945.433333</td>\n",
              "      <td>3.9</td>\n",
              "      <td>1.4</td>\n",
              "      <td>8.9</td>\n",
              "      <td>0.0</td>\n",
              "      <td>4.4</td>\n",
              "      <td>270.0</td>\n",
              "      <td>59.6</td>\n",
              "      <td>2</td>\n",
              "    </tr>\n",
              "  </tbody>\n",
              "</table>\n",
              "</div>"
            ],
            "text/plain": [
              "   sex  age  city  ...  most_wind_direction  avg_relative_humidity  state\n",
              "0  0.0   50    39  ...                290.0                   49.3      2\n",
              "1  0.0   30    93  ...                 70.0                   47.0      2\n",
              "2  0.0   50    91  ...                 70.0                   47.0      2\n",
              "3  0.0   20    95  ...                 70.0                   47.0      2\n",
              "4  1.0   20   124  ...                270.0                   59.6      2\n",
              "\n",
              "[5 rows x 16 columns]"
            ]
          },
          "metadata": {
            "tags": []
          },
          "execution_count": 32
        }
      ]
    },
    {
      "cell_type": "code",
      "metadata": {
        "id": "g3ndsxs4iW4t",
        "colab": {
          "base_uri": "https://localhost:8080/"
        },
        "outputId": "709316a2-c8b6-49df-ecce-81bc7c1074db"
      },
      "source": [
        "merge.info()"
      ],
      "execution_count": null,
      "outputs": [
        {
          "output_type": "stream",
          "text": [
            "<class 'pandas.core.frame.DataFrame'>\n",
            "Int64Index: 5165 entries, 0 to 5164\n",
            "Data columns (total 16 columns):\n",
            " #   Column                 Non-Null Count  Dtype          \n",
            "---  ------                 --------------  -----          \n",
            " 0   sex                    5165 non-null   float64        \n",
            " 1   age                    5165 non-null   int64          \n",
            " 2   city                   5165 non-null   int16          \n",
            " 3   infection_case         5165 non-null   int8           \n",
            " 4   infected_by            5165 non-null   int16          \n",
            " 5   contact_number         5165 non-null   int8           \n",
            " 6   days                   5162 non-null   timedelta64[ns]\n",
            " 7   fp_num                 5165 non-null   float64        \n",
            " 8   avg_temp               5165 non-null   float64        \n",
            " 9   min_temp               5165 non-null   float64        \n",
            " 10  max_temp               5165 non-null   float64        \n",
            " 11  precipitation          5165 non-null   float64        \n",
            " 12  max_wind_speed         5165 non-null   float64        \n",
            " 13  most_wind_direction    5165 non-null   float64        \n",
            " 14  avg_relative_humidity  5165 non-null   float64        \n",
            " 15  state                  5165 non-null   int8           \n",
            "dtypes: float64(9), int16(2), int64(1), int8(3), timedelta64[ns](1)\n",
            "memory usage: 679.5 KB\n"
          ],
          "name": "stdout"
        }
      ]
    },
    {
      "cell_type": "markdown",
      "metadata": {
        "id": "JxGJXZ4B9Iis"
      },
      "source": [
        "## Label Endcoder"
      ]
    },
    {
      "cell_type": "code",
      "metadata": {
        "id": "FqNtVVoE3nfv",
        "colab": {
          "base_uri": "https://localhost:8080/",
          "height": 424
        },
        "outputId": "a8f88b60-9819-475f-869b-a5d33dd4cd86"
      },
      "source": [
        "from sklearn.preprocessing import LabelEncoder\n",
        "le = LabelEncoder()\n",
        "merge['sex']=le.fit_transform(merge['sex'])\n",
        "merge['age']=le.fit_transform(merge['age'])\n",
        "merge['city']=le.fit_transform(merge['city'])\n",
        "merge['infection_case']=le.fit_transform(merge['infection_case'])\n",
        "merge['infected_by']=le.fit_transform(merge['infected_by'])\n",
        "merge['contact_number']=le.fit_transform(merge['contact_number'])\n",
        "merge['days']=le.fit_transform(merge['days'])\n",
        "merge['fp_num']=le.fit_transform(merge['fp_num'])\n",
        "merge['avg_temp']=le.fit_transform(merge['avg_temp'])\n",
        "merge['min_temp']=le.fit_transform(merge['min_temp'])\n",
        "merge['max_temp']=le.fit_transform(merge['max_temp'])\n",
        "merge['precipitation']=le.fit_transform(merge['precipitation'])\n",
        "merge['max_wind_speed']=le.fit_transform(merge['max_wind_speed'])\n",
        "merge['most_wind_direction']=le.fit_transform(merge['most_wind_direction'])\n",
        "merge['avg_relative_humidity']=le.fit_transform(merge['avg_relative_humidity'])\n",
        "merge"
      ],
      "execution_count": null,
      "outputs": [
        {
          "output_type": "execute_result",
          "data": {
            "text/html": [
              "<div>\n",
              "<style scoped>\n",
              "    .dataframe tbody tr th:only-of-type {\n",
              "        vertical-align: middle;\n",
              "    }\n",
              "\n",
              "    .dataframe tbody tr th {\n",
              "        vertical-align: top;\n",
              "    }\n",
              "\n",
              "    .dataframe thead th {\n",
              "        text-align: right;\n",
              "    }\n",
              "</style>\n",
              "<table border=\"1\" class=\"dataframe\">\n",
              "  <thead>\n",
              "    <tr style=\"text-align: right;\">\n",
              "      <th></th>\n",
              "      <th>sex</th>\n",
              "      <th>age</th>\n",
              "      <th>city</th>\n",
              "      <th>infection_case</th>\n",
              "      <th>infected_by</th>\n",
              "      <th>contact_number</th>\n",
              "      <th>days</th>\n",
              "      <th>fp_num</th>\n",
              "      <th>avg_temp</th>\n",
              "      <th>min_temp</th>\n",
              "      <th>max_temp</th>\n",
              "      <th>precipitation</th>\n",
              "      <th>max_wind_speed</th>\n",
              "      <th>most_wind_direction</th>\n",
              "      <th>avg_relative_humidity</th>\n",
              "      <th>state</th>\n",
              "    </tr>\n",
              "  </thead>\n",
              "  <tbody>\n",
              "    <tr>\n",
              "      <th>0</th>\n",
              "      <td>1</td>\n",
              "      <td>5</td>\n",
              "      <td>40</td>\n",
              "      <td>51</td>\n",
              "      <td>0</td>\n",
              "      <td>80</td>\n",
              "      <td>4</td>\n",
              "      <td>368</td>\n",
              "      <td>38</td>\n",
              "      <td>48</td>\n",
              "      <td>48</td>\n",
              "      <td>1</td>\n",
              "      <td>27</td>\n",
              "      <td>13</td>\n",
              "      <td>113</td>\n",
              "      <td>2</td>\n",
              "    </tr>\n",
              "    <tr>\n",
              "      <th>1</th>\n",
              "      <td>1</td>\n",
              "      <td>3</td>\n",
              "      <td>94</td>\n",
              "      <td>51</td>\n",
              "      <td>0</td>\n",
              "      <td>43</td>\n",
              "      <td>24</td>\n",
              "      <td>701</td>\n",
              "      <td>44</td>\n",
              "      <td>61</td>\n",
              "      <td>53</td>\n",
              "      <td>1</td>\n",
              "      <td>10</td>\n",
              "      <td>3</td>\n",
              "      <td>97</td>\n",
              "      <td>2</td>\n",
              "    </tr>\n",
              "    <tr>\n",
              "      <th>2</th>\n",
              "      <td>1</td>\n",
              "      <td>5</td>\n",
              "      <td>92</td>\n",
              "      <td>47</td>\n",
              "      <td>475</td>\n",
              "      <td>23</td>\n",
              "      <td>24</td>\n",
              "      <td>404</td>\n",
              "      <td>44</td>\n",
              "      <td>61</td>\n",
              "      <td>53</td>\n",
              "      <td>1</td>\n",
              "      <td>10</td>\n",
              "      <td>3</td>\n",
              "      <td>97</td>\n",
              "      <td>2</td>\n",
              "    </tr>\n",
              "    <tr>\n",
              "      <th>3</th>\n",
              "      <td>1</td>\n",
              "      <td>2</td>\n",
              "      <td>96</td>\n",
              "      <td>51</td>\n",
              "      <td>0</td>\n",
              "      <td>87</td>\n",
              "      <td>7</td>\n",
              "      <td>283</td>\n",
              "      <td>44</td>\n",
              "      <td>61</td>\n",
              "      <td>53</td>\n",
              "      <td>1</td>\n",
              "      <td>10</td>\n",
              "      <td>3</td>\n",
              "      <td>97</td>\n",
              "      <td>2</td>\n",
              "    </tr>\n",
              "    <tr>\n",
              "      <th>4</th>\n",
              "      <td>2</td>\n",
              "      <td>2</td>\n",
              "      <td>125</td>\n",
              "      <td>47</td>\n",
              "      <td>1</td>\n",
              "      <td>28</td>\n",
              "      <td>25</td>\n",
              "      <td>438</td>\n",
              "      <td>32</td>\n",
              "      <td>61</td>\n",
              "      <td>38</td>\n",
              "      <td>1</td>\n",
              "      <td>24</td>\n",
              "      <td>12</td>\n",
              "      <td>181</td>\n",
              "      <td>2</td>\n",
              "    </tr>\n",
              "    <tr>\n",
              "      <th>...</th>\n",
              "      <td>...</td>\n",
              "      <td>...</td>\n",
              "      <td>...</td>\n",
              "      <td>...</td>\n",
              "      <td>...</td>\n",
              "      <td>...</td>\n",
              "      <td>...</td>\n",
              "      <td>...</td>\n",
              "      <td>...</td>\n",
              "      <td>...</td>\n",
              "      <td>...</td>\n",
              "      <td>...</td>\n",
              "      <td>...</td>\n",
              "      <td>...</td>\n",
              "      <td>...</td>\n",
              "      <td>...</td>\n",
              "    </tr>\n",
              "    <tr>\n",
              "      <th>5160</th>\n",
              "      <td>2</td>\n",
              "      <td>3</td>\n",
              "      <td>87</td>\n",
              "      <td>51</td>\n",
              "      <td>0</td>\n",
              "      <td>34</td>\n",
              "      <td>140</td>\n",
              "      <td>477</td>\n",
              "      <td>184</td>\n",
              "      <td>215</td>\n",
              "      <td>183</td>\n",
              "      <td>1</td>\n",
              "      <td>33</td>\n",
              "      <td>2</td>\n",
              "      <td>319</td>\n",
              "      <td>2</td>\n",
              "    </tr>\n",
              "    <tr>\n",
              "      <th>5161</th>\n",
              "      <td>0</td>\n",
              "      <td>0</td>\n",
              "      <td>87</td>\n",
              "      <td>51</td>\n",
              "      <td>0</td>\n",
              "      <td>0</td>\n",
              "      <td>157</td>\n",
              "      <td>1</td>\n",
              "      <td>216</td>\n",
              "      <td>249</td>\n",
              "      <td>214</td>\n",
              "      <td>1</td>\n",
              "      <td>24</td>\n",
              "      <td>13</td>\n",
              "      <td>341</td>\n",
              "      <td>2</td>\n",
              "    </tr>\n",
              "    <tr>\n",
              "      <th>5162</th>\n",
              "      <td>0</td>\n",
              "      <td>0</td>\n",
              "      <td>87</td>\n",
              "      <td>51</td>\n",
              "      <td>0</td>\n",
              "      <td>78</td>\n",
              "      <td>159</td>\n",
              "      <td>1</td>\n",
              "      <td>180</td>\n",
              "      <td>220</td>\n",
              "      <td>172</td>\n",
              "      <td>35</td>\n",
              "      <td>54</td>\n",
              "      <td>3</td>\n",
              "      <td>405</td>\n",
              "      <td>1</td>\n",
              "    </tr>\n",
              "    <tr>\n",
              "      <th>5163</th>\n",
              "      <td>0</td>\n",
              "      <td>0</td>\n",
              "      <td>87</td>\n",
              "      <td>51</td>\n",
              "      <td>0</td>\n",
              "      <td>0</td>\n",
              "      <td>159</td>\n",
              "      <td>1</td>\n",
              "      <td>180</td>\n",
              "      <td>220</td>\n",
              "      <td>172</td>\n",
              "      <td>35</td>\n",
              "      <td>54</td>\n",
              "      <td>3</td>\n",
              "      <td>405</td>\n",
              "      <td>1</td>\n",
              "    </tr>\n",
              "    <tr>\n",
              "      <th>5164</th>\n",
              "      <td>0</td>\n",
              "      <td>0</td>\n",
              "      <td>87</td>\n",
              "      <td>51</td>\n",
              "      <td>0</td>\n",
              "      <td>0</td>\n",
              "      <td>159</td>\n",
              "      <td>1</td>\n",
              "      <td>180</td>\n",
              "      <td>220</td>\n",
              "      <td>172</td>\n",
              "      <td>35</td>\n",
              "      <td>54</td>\n",
              "      <td>3</td>\n",
              "      <td>405</td>\n",
              "      <td>1</td>\n",
              "    </tr>\n",
              "  </tbody>\n",
              "</table>\n",
              "<p>5165 rows × 16 columns</p>\n",
              "</div>"
            ],
            "text/plain": [
              "      sex  age  city  ...  most_wind_direction  avg_relative_humidity  state\n",
              "0       1    5    40  ...                   13                    113      2\n",
              "1       1    3    94  ...                    3                     97      2\n",
              "2       1    5    92  ...                    3                     97      2\n",
              "3       1    2    96  ...                    3                     97      2\n",
              "4       2    2   125  ...                   12                    181      2\n",
              "...   ...  ...   ...  ...                  ...                    ...    ...\n",
              "5160    2    3    87  ...                    2                    319      2\n",
              "5161    0    0    87  ...                   13                    341      2\n",
              "5162    0    0    87  ...                    3                    405      1\n",
              "5163    0    0    87  ...                    3                    405      1\n",
              "5164    0    0    87  ...                    3                    405      1\n",
              "\n",
              "[5165 rows x 16 columns]"
            ]
          },
          "metadata": {
            "tags": []
          },
          "execution_count": 34
        }
      ]
    },
    {
      "cell_type": "markdown",
      "metadata": {
        "id": "cXwKQfj_9Ls6"
      },
      "source": [
        "## Fiture Correlation"
      ]
    },
    {
      "cell_type": "code",
      "metadata": {
        "id": "d902N8sSjX6x",
        "colab": {
          "base_uri": "https://localhost:8080/",
          "height": 1000
        },
        "outputId": "aa163671-639d-444b-c796-25d739cbd347"
      },
      "source": [
        "pyplot.figure(figsize=(15,15))\n",
        "corr=merge.corr()\n",
        "sns.heatmap(corr,xticklabels=corr.columns,yticklabels=corr.columns,annot=True)\n",
        "pyplot.title('Feature Correlation', y = 1.0, size=10)"
      ],
      "execution_count": null,
      "outputs": [
        {
          "output_type": "execute_result",
          "data": {
            "text/plain": [
              "Text(0.5, 1.0, 'Feature Correlation')"
            ]
          },
          "metadata": {
            "tags": []
          },
          "execution_count": 35
        },
        {
          "output_type": "display_data",
          "data": {
            "image/png": "[encoded data removed]",
            "text/plain": [
              "<Figure size 1500x1500 with 2 Axes>"
            ]
          },
          "metadata": {
            "tags": []
          }
        }
      ]
    },
    {
      "cell_type": "code",
      "metadata": {
        "colab": {
          "base_uri": "https://localhost:8080/"
        },
        "id": "KMfvdgcfvpq4",
        "outputId": "fccbe47f-8690-4512-8906-d4fed25a0f88"
      },
      "source": [
        "merge.columns"
      ],
      "execution_count": null,
      "outputs": [
        {
          "output_type": "execute_result",
          "data": {
            "text/plain": [
              "Index(['sex', 'age', 'city', 'infection_case', 'infected_by', 'contact_number',\n",
              "       'days', 'fp_num', 'avg_temp', 'min_temp', 'max_temp', 'precipitation',\n",
              "       'max_wind_speed', 'most_wind_direction', 'avg_relative_humidity',\n",
              "       'state'],\n",
              "      dtype='object')"
            ]
          },
          "metadata": {
            "tags": []
          },
          "execution_count": 36
        }
      ]
    },
    {
      "cell_type": "code",
      "metadata": {
        "id": "1TPGOOvmFfuu"
      },
      "source": [
        "fiture_cols = ['sex', 'age', 'city', 'infection_case', 'infected_by', 'contact_number',\n",
        "       'days', 'fp_num', 'avg_temp', 'min_temp', 'max_temp', 'precipitation',\n",
        "       'max_wind_speed', 'most_wind_direction', 'avg_relative_humidity']\n",
        "X = merge[fiture_cols]\n",
        "Y = merge.state"
      ],
      "execution_count": null,
      "outputs": []
    },
    {
      "cell_type": "markdown",
      "metadata": {
        "id": "lGXlXw4L9VNJ"
      },
      "source": [
        "## Cross Validation"
      ]
    },
    {
      "cell_type": "code",
      "metadata": {
        "id": "ZXwuBcR8hDDX"
      },
      "source": [
        "test_size = 0.2\n",
        "seed = 5\n",
        "X_train, X_test, Y_train, Y_test = train_test_split(X, Y, test_size=test_size, random_state=seed)"
      ],
      "execution_count": null,
      "outputs": []
    },
    {
      "cell_type": "markdown",
      "metadata": {
        "id": "x9mrHIR780Xj"
      },
      "source": [
        "# Model"
      ]
    },
    {
      "cell_type": "markdown",
      "metadata": {
        "id": "HuFU5fM7W-ef"
      },
      "source": [
        "# Decision Tree"
      ]
    },
    {
      "cell_type": "code",
      "metadata": {
        "id": "VSDIHK_RGNCh",
        "colab": {
          "base_uri": "https://localhost:8080/"
        },
        "outputId": "b49287cb-ec70-4615-c6ec-411164ba8278"
      },
      "source": [
        "dt = DecisionTreeClassifier()\n",
        "dt.fit(X_train, Y_train)\n",
        "predicted = dt.predict(X_test)\n",
        "report = classification_report(Y_test, predicted)\n",
        "matrix = confusion_matrix(Y_test, predicted)\n",
        "print(report)\n",
        "print(matrix)\n",
        "\n",
        "scoring = 'accuracy'\n",
        "akurasi_dt = cross_val_score(dt, X_test, Y_test, cv=seed, scoring=scoring) *100\n",
        "\n",
        "from sklearn.metrics import roc_auc_score\n",
        "\n",
        "print(\"Accuracy Decision Tree: {}\".format((akurasi_dt.mean()))) \n",
        "auc_dt = roc_auc_score(Y_test, dt.predict_proba(X_test), multi_class='ovo', average='weighted') *100\n",
        "print('ROC AUC score dt:', auc_dt)\n",
        "\n",
        "recall_dt=recall_score(Y_test,predicted, average='weighted')*100\n",
        "print(\"Recall of dt is: \",recall_dt)\n",
        "prec_dt=precision_score(Y_test,predicted, average='weighted')*100\n",
        "print(\"Precision of dt is:\",prec_dt)\n",
        "\n",
        "print (\"Confusion Matrix : \\n\",sns.heatmap(confusion_matrix(Y_test, predicted, normalize='true'), annot = True))"
      ],
      "execution_count": null,
      "outputs": [
        {
          "output_type": "stream",
          "text": [
            "              precision    recall  f1-score   support\n",
            "\n",
            "           0       0.32      0.60      0.41        10\n",
            "           1       0.86      0.90      0.88       435\n",
            "           2       0.92      0.87      0.89       588\n",
            "\n",
            "    accuracy                           0.88      1033\n",
            "   macro avg       0.70      0.79      0.73      1033\n",
            "weighted avg       0.89      0.88      0.88      1033\n",
            "\n",
            "[[  6   1   3]\n",
            " [  1 391  43]\n",
            " [ 12  63 513]]\n",
            "Accuracy Decision Tree: 84.79714835139063\n",
            "ROC AUC score dt: 85.51742162632654\n",
            "Recall of dt is:  88.09293320425944\n",
            "Precision of dt is: 88.73036565892042\n",
            "Confusion Matrix : \n",
            " AxesSubplot(0.125,0.11;0.62x0.77)\n"
          ],
          "name": "stdout"
        },
        {
          "output_type": "display_data",
          "data": {
            "image/png": "[encoded data removed]",
            "text/plain": [
              "<Figure size 640x480 with 2 Axes>"
            ]
          },
          "metadata": {
            "tags": []
          }
        }
      ]
    },
    {
      "cell_type": "markdown",
      "metadata": {
        "id": "Mx5yhvib80Xp"
      },
      "source": [
        "# Naive Bayes"
      ]
    },
    {
      "cell_type": "code",
      "metadata": {
        "colab": {
          "base_uri": "https://localhost:8080/",
          "height": 764
        },
        "id": "XmlC_7uh80Xq",
        "outputId": "b179d7a7-598d-48c1-8154-7035d3bb61e5"
      },
      "source": [
        "nb = GaussianNB()\n",
        "nb.fit(X_train, Y_train)\n",
        "predicted = nb.predict(X_test)\n",
        "report = classification_report(Y_test, predicted)\n",
        "matrix = confusion_matrix(Y_test, predicted)\n",
        "print(report)\n",
        "print(matrix)\n",
        "\n",
        "scoring = 'accuracy'\n",
        "akurasi_nb = cross_val_score(nb, X_test, Y_test, cv=seed, scoring=scoring) *100\n",
        "\n",
        "from sklearn.metrics import roc_auc_score\n",
        "\n",
        "print(\"Akurasi Naive Bayes: {}\".format((akurasi_nb.mean()))) \n",
        "auc_nb = roc_auc_score(Y_test, nb.predict_proba(X_test), multi_class='ovo', average='weighted') *100\n",
        "print('ROC AUC score Naive Bayes:', auc_nb)\n",
        "recall_nb=recall_score(Y_test,predicted, average='weighted')*100\n",
        "print(\"Recall of Naive Bayes is: \",recall_nb)\n",
        "prec_nb=precision_score(Y_test,predicted, average='weighted')*100\n",
        "print(\"Precision of Naive Bayes is:\",prec_nb)\n",
        "print (\"Confusion Matrix : \\n\",sns.heatmap(confusion_matrix(Y_test, predicted, normalize='true'), annot = True))"
      ],
      "execution_count": null,
      "outputs": [
        {
          "output_type": "stream",
          "text": [
            "              precision    recall  f1-score   support\n",
            "\n",
            "           0       0.10      0.90      0.18        10\n",
            "           1       0.69      0.56      0.62       435\n",
            "           2       0.71      0.72      0.71       588\n",
            "\n",
            "    accuracy                           0.65      1033\n",
            "   macro avg       0.50      0.72      0.50      1033\n",
            "weighted avg       0.70      0.65      0.67      1033\n",
            "\n",
            "[[  9   0   1]\n",
            " [ 21 242 172]\n",
            " [ 60 107 421]]\n",
            "Akurasi Naive Bayes: 45.38342479245814\n",
            "ROC AUC score Naive Bayes: 83.49576144173996\n",
            "Recall of Naive Bayes is:  65.05324298160697\n",
            "Precision of Naive Bayes is: 69.63995281411658\n",
            "Confusion Matrix : \n",
            " AxesSubplot(0.125,0.11;0.62x0.77)\n"
          ],
          "name": "stdout"
        },
        {
          "output_type": "display_data",
          "data": {
            "image/png": "[encoded data removed]",
            "text/plain": [
              "<Figure size 640x480 with 2 Axes>"
            ]
          },
          "metadata": {
            "tags": []
          }
        }
      ]
    },
    {
      "cell_type": "markdown",
      "metadata": {
        "id": "I2VzGExO80Xy"
      },
      "source": [
        "# Logistic Regression"
      ]
    },
    {
      "cell_type": "code",
      "metadata": {
        "colab": {
          "base_uri": "https://localhost:8080/",
          "height": 1000
        },
        "id": "IWYH7vLo80Xz",
        "outputId": "c999e181-ca72-4e01-9187-fc8eb2f164de"
      },
      "source": [
        "log = LogisticRegression()\n",
        "log.fit(X_train, Y_train)\n",
        "predicted = log.predict(X_test)\n",
        "report = classification_report(Y_test, predicted)\n",
        "matrix = confusion_matrix(Y_test, predicted)\n",
        "print(report)\n",
        "print(matrix)\n",
        "\n",
        "scoring = 'accuracy'\n",
        "akurasi_log = cross_val_score(log, X_test, Y_test, cv=seed, scoring=scoring) *100\n",
        "\n",
        "from sklearn.metrics import roc_auc_score\n",
        "\n",
        "print(\"Akurasi Logistic Regresion: {}\".format((akurasi_log.mean()))) \n",
        "auc_log = roc_auc_score(Y_test, log.predict_proba(X_test), multi_class='ovo', average='weighted') *100\n",
        "print('ROC AUC score Logistic Regresion:', auc_log)\n",
        "recall_log=recall_score(Y_test,predicted, average='weighted')*100\n",
        "print(\"Recall of Logistic Regresion is: \",recall_log)\n",
        "prec_log=precision_score(Y_test,predicted, average='weighted') *100\n",
        "print(\"Precision of Logistic Regresion is:\",prec_log)\n",
        "print (\"Confusion Matrix : \\n\",sns.heatmap(confusion_matrix(Y_test, predicted, normalize='true'), annot = True))"
      ],
      "execution_count": null,
      "outputs": [
        {
          "output_type": "stream",
          "text": [
            "/usr/local/lib/python3.7/dist-packages/sklearn/linear_model/_logistic.py:940: ConvergenceWarning:\n",
            "\n",
            "lbfgs failed to converge (status=1):\n",
            "STOP: TOTAL NO. of ITERATIONS REACHED LIMIT.\n",
            "\n",
            "Increase the number of iterations (max_iter) or scale the data as shown in:\n",
            "    https://scikit-learn.org/stable/modules/preprocessing.html\n",
            "Please also refer to the documentation for alternative solver options:\n",
            "    https://scikit-learn.org/stable/modules/linear_model.html#logistic-regression\n",
            "\n",
            "/usr/local/lib/python3.7/dist-packages/sklearn/metrics/_classification.py:1272: UndefinedMetricWarning:\n",
            "\n",
            "Precision and F-score are ill-defined and being set to 0.0 in labels with no predicted samples. Use `zero_division` parameter to control this behavior.\n",
            "\n",
            "/usr/local/lib/python3.7/dist-packages/sklearn/linear_model/_logistic.py:940: ConvergenceWarning:\n",
            "\n",
            "lbfgs failed to converge (status=1):\n",
            "STOP: TOTAL NO. of ITERATIONS REACHED LIMIT.\n",
            "\n",
            "Increase the number of iterations (max_iter) or scale the data as shown in:\n",
            "    https://scikit-learn.org/stable/modules/preprocessing.html\n",
            "Please also refer to the documentation for alternative solver options:\n",
            "    https://scikit-learn.org/stable/modules/linear_model.html#logistic-regression\n",
            "\n",
            "/usr/local/lib/python3.7/dist-packages/sklearn/linear_model/_logistic.py:940: ConvergenceWarning:\n",
            "\n",
            "lbfgs failed to converge (status=1):\n",
            "STOP: TOTAL NO. of ITERATIONS REACHED LIMIT.\n",
            "\n",
            "Increase the number of iterations (max_iter) or scale the data as shown in:\n",
            "    https://scikit-learn.org/stable/modules/preprocessing.html\n",
            "Please also refer to the documentation for alternative solver options:\n",
            "    https://scikit-learn.org/stable/modules/linear_model.html#logistic-regression\n",
            "\n",
            "/usr/local/lib/python3.7/dist-packages/sklearn/linear_model/_logistic.py:940: ConvergenceWarning:\n",
            "\n",
            "lbfgs failed to converge (status=1):\n",
            "STOP: TOTAL NO. of ITERATIONS REACHED LIMIT.\n",
            "\n",
            "Increase the number of iterations (max_iter) or scale the data as shown in:\n",
            "    https://scikit-learn.org/stable/modules/preprocessing.html\n",
            "Please also refer to the documentation for alternative solver options:\n",
            "    https://scikit-learn.org/stable/modules/linear_model.html#logistic-regression\n",
            "\n"
          ],
          "name": "stderr"
        },
        {
          "output_type": "stream",
          "text": [
            "              precision    recall  f1-score   support\n",
            "\n",
            "           0       0.00      0.00      0.00        10\n",
            "           1       0.66      0.63      0.65       435\n",
            "           2       0.72      0.76      0.74       588\n",
            "\n",
            "    accuracy                           0.70      1033\n",
            "   macro avg       0.46      0.46      0.46      1033\n",
            "weighted avg       0.69      0.70      0.69      1033\n",
            "\n",
            "[[  0   0  10]\n",
            " [  0 275 160]\n",
            " [  0 142 446]]\n"
          ],
          "name": "stdout"
        },
        {
          "output_type": "stream",
          "text": [
            "/usr/local/lib/python3.7/dist-packages/sklearn/linear_model/_logistic.py:940: ConvergenceWarning:\n",
            "\n",
            "lbfgs failed to converge (status=1):\n",
            "STOP: TOTAL NO. of ITERATIONS REACHED LIMIT.\n",
            "\n",
            "Increase the number of iterations (max_iter) or scale the data as shown in:\n",
            "    https://scikit-learn.org/stable/modules/preprocessing.html\n",
            "Please also refer to the documentation for alternative solver options:\n",
            "    https://scikit-learn.org/stable/modules/linear_model.html#logistic-regression\n",
            "\n",
            "/usr/local/lib/python3.7/dist-packages/sklearn/linear_model/_logistic.py:940: ConvergenceWarning:\n",
            "\n",
            "lbfgs failed to converge (status=1):\n",
            "STOP: TOTAL NO. of ITERATIONS REACHED LIMIT.\n",
            "\n",
            "Increase the number of iterations (max_iter) or scale the data as shown in:\n",
            "    https://scikit-learn.org/stable/modules/preprocessing.html\n",
            "Please also refer to the documentation for alternative solver options:\n",
            "    https://scikit-learn.org/stable/modules/linear_model.html#logistic-regression\n",
            "\n",
            "/usr/local/lib/python3.7/dist-packages/sklearn/metrics/_classification.py:1272: UndefinedMetricWarning:\n",
            "\n",
            "Precision is ill-defined and being set to 0.0 in labels with no predicted samples. Use `zero_division` parameter to control this behavior.\n",
            "\n"
          ],
          "name": "stderr"
        },
        {
          "output_type": "stream",
          "text": [
            "Akurasi Logistic Regresion: 71.150039866798\n",
            "ROC AUC score Logistic Regresion: 76.49688249302459\n",
            "Recall of Logistic Regresion is:  69.79670861568248\n",
            "Precision of Logistic Regresion is: 68.98332781455905\n",
            "Confusion Matrix : \n",
            " AxesSubplot(0.125,0.11;0.62x0.77)\n"
          ],
          "name": "stdout"
        },
        {
          "output_type": "display_data",
          "data": {
            "image/png": "[encoded data removed]",
            "text/plain": [
              "<Figure size 640x480 with 2 Axes>"
            ]
          },
          "metadata": {
            "tags": []
          }
        }
      ]
    },
    {
      "cell_type": "markdown",
      "metadata": {
        "id": "un5KR1ar80Xr"
      },
      "source": [
        "# Random Forest"
      ]
    },
    {
      "cell_type": "code",
      "metadata": {
        "colab": {
          "base_uri": "https://localhost:8080/",
          "height": 760
        },
        "id": "aNvYPkQ080Xs",
        "outputId": "443f7274-35e8-4d1e-fe69-768f7730572f"
      },
      "source": [
        "rf = RandomForestClassifier()\n",
        "rf.fit(X_train, Y_train)\n",
        "predicted = rf.predict(X_test)\n",
        "report = classification_report(Y_test, predicted)\n",
        "matrix = confusion_matrix(Y_test, predicted)\n",
        "print(report)\n",
        "print(matrix)\n",
        "\n",
        "scoring = 'accuracy'\n",
        "akurasi_rf = cross_val_score(rf, X_test, Y_test, cv=seed, scoring=scoring) *100\n",
        "\n",
        "from sklearn.metrics import roc_auc_score\n",
        "\n",
        "print(\"Akurasi Random Forest: {}\".format((akurasi_rf.mean()))) \n",
        "auc_rf = roc_auc_score(Y_test, rf.predict_proba(X_test), multi_class='ovo', average='weighted') *100\n",
        "print('ROC AUC score Random Forest:', auc_rf)\n",
        "recall_rf=recall_score(Y_test,predicted, average='weighted')*100\n",
        "print(\"Recall of Random Forest is: \",recall_rf)\n",
        "prec_rf=precision_score(Y_test,predicted, average='weighted')*100\n",
        "print(\"Precision of Random Forest is:\",prec_rf)\n",
        "print (\"Confusion Matrix : \\n\",sns.heatmap(confusion_matrix(Y_test, predicted, normalize='true'), annot = True))"
      ],
      "execution_count": null,
      "outputs": [
        {
          "output_type": "stream",
          "text": [
            "              precision    recall  f1-score   support\n",
            "\n",
            "           0       0.86      0.60      0.71        10\n",
            "           1       0.88      0.92      0.90       435\n",
            "           2       0.94      0.91      0.92       588\n",
            "\n",
            "    accuracy                           0.91      1033\n",
            "   macro avg       0.89      0.81      0.84      1033\n",
            "weighted avg       0.91      0.91      0.91      1033\n",
            "\n",
            "[[  6   1   3]\n",
            " [  0 401  34]\n",
            " [  1  53 534]]\n",
            "Akurasi Random Forest: 88.08967684442567\n",
            "ROC AUC score Random Forest: 94.73539752216271\n",
            "Recall of Random Forest is:  91.09390125847048\n",
            "Precision of Random Forest is: 91.1755545753067\n",
            "Confusion Matrix : \n",
            " AxesSubplot(0.125,0.11;0.62x0.77)\n"
          ],
          "name": "stdout"
        },
        {
          "output_type": "display_data",
          "data": {
            "image/png": "[encoded data removed]",
            "text/plain": [
              "<Figure size 640x480 with 2 Axes>"
            ]
          },
          "metadata": {
            "tags": []
          }
        }
      ]
    },
    {
      "cell_type": "markdown",
      "metadata": {
        "id": "r4NU5kqo8Cf4"
      },
      "source": [
        "\n",
        "# KNN"
      ]
    },
    {
      "cell_type": "code",
      "metadata": {
        "colab": {
          "base_uri": "https://localhost:8080/",
          "height": 777
        },
        "id": "G7SRNZ048Cf5",
        "outputId": "736b53b5-b05e-4e9c-e687-15ca28645704"
      },
      "source": [
        "knn = KNeighborsClassifier()\n",
        "knn.fit(X_train, Y_train)\n",
        "predicted = knn.predict(X_test)\n",
        "report = classification_report(Y_test, predicted)\n",
        "matrix = confusion_matrix(Y_test, predicted)\n",
        "print(report)\n",
        "print(matrix)\n",
        "\n",
        "scoring = 'accuracy'\n",
        "akurasi_knn = cross_val_score(knn, X_test, Y_test, cv=seed, scoring=scoring) *100\n",
        "print(\"\\nAkurasi KNN: {}\".format((akurasi_knn.mean()))) \n",
        "auc_knn = roc_auc_score(Y_test, knn.predict_proba(X_test), multi_class='ovo', average='weighted') *100\n",
        "print('ROC AUC score KNN:', auc_knn)\n",
        "recall_knn=recall_score(Y_test,predicted, average='weighted')*100\n",
        "print(\"Recall of KNN is: \",recall_knn)\n",
        "prec_knn=precision_score(Y_test,predicted, average='weighted')*100\n",
        "print(\"Precision of KNN is:\",prec_knn)\n",
        "print (\"Confusion Matrix : \\n\",sns.heatmap(confusion_matrix(Y_test, predicted, normalize='true'), annot = True))"
      ],
      "execution_count": null,
      "outputs": [
        {
          "output_type": "stream",
          "text": [
            "              precision    recall  f1-score   support\n",
            "\n",
            "           0       0.80      0.40      0.53        10\n",
            "           1       0.83      0.77      0.80       435\n",
            "           2       0.83      0.88      0.86       588\n",
            "\n",
            "    accuracy                           0.83      1033\n",
            "   macro avg       0.82      0.68      0.73      1033\n",
            "weighted avg       0.83      0.83      0.83      1033\n",
            "\n",
            "[[  4   0   6]\n",
            " [  0 336  99]\n",
            " [  1  69 518]]\n",
            "\n",
            "Akurasi KNN: 78.12063224051404\n",
            "ROC AUC score KNN: 86.73494083015586\n",
            "Recall of KNN is:  83.05905130687319\n",
            "Precision of KNN is: 83.03850583672634\n",
            "Confusion Matrix : \n",
            " AxesSubplot(0.125,0.11;0.62x0.77)\n"
          ],
          "name": "stdout"
        },
        {
          "output_type": "display_data",
          "data": {
            "image/png": "[encoded data removed]",
            "text/plain": [
              "<Figure size 640x480 with 2 Axes>"
            ]
          },
          "metadata": {
            "tags": []
          }
        }
      ]
    },
    {
      "cell_type": "markdown",
      "metadata": {
        "id": "O2UPMcZq80Xt"
      },
      "source": [
        "# Light Gradient Boost"
      ]
    },
    {
      "cell_type": "code",
      "metadata": {
        "colab": {
          "base_uri": "https://localhost:8080/",
          "height": 760
        },
        "id": "0ef1zYW9gaxj",
        "outputId": "56f38523-bd0c-435d-b653-63a3057966e7"
      },
      "source": [
        "lgbm = LGBMClassifier()\n",
        "lgbm.fit(X_train, Y_train)\n",
        "predicted = lgbm.predict(X_test)\n",
        "report = classification_report(Y_test, predicted)\n",
        "matrix = confusion_matrix(Y_test, predicted)\n",
        "print(report)\n",
        "print(matrix)\n",
        "\n",
        "scoring = 'accuracy'\n",
        "akurasi_lgbm = cross_val_score(lgbm, X_test, Y_test, cv=seed, scoring=scoring) *100\n",
        "\n",
        "from sklearn.metrics import roc_auc_score\n",
        "\n",
        "print(\"Accuracy Light Gradient Boosting: {}\".format((akurasi_lgbm.mean()))) \n",
        "auc_lgbm = roc_auc_score(Y_test, lgbm.predict_proba(X_test), multi_class='ovo', average='weighted') *100\n",
        "print('ROC AUC score LGBM:', auc_lgbm)\n",
        "\n",
        "recall_lgbm=recall_score(Y_test,predicted, average='weighted')*100\n",
        "print(\"Recall of LGBM is: \",recall_lgbm)\n",
        "prec_lgbm=precision_score(Y_test,predicted, average='weighted')*100\n",
        "print(\"Precision of LGBM is:\",prec_lgbm)\n",
        "\n",
        "print (\"Confusion Matrix : \\n\",sns.heatmap(confusion_matrix(Y_test, predicted, normalize='true'), annot = True))"
      ],
      "execution_count": null,
      "outputs": [
        {
          "output_type": "stream",
          "text": [
            "              precision    recall  f1-score   support\n",
            "\n",
            "           0       0.75      0.60      0.67        10\n",
            "           1       0.91      0.92      0.92       435\n",
            "           2       0.94      0.93      0.93       588\n",
            "\n",
            "    accuracy                           0.92      1033\n",
            "   macro avg       0.87      0.82      0.84      1033\n",
            "weighted avg       0.92      0.92      0.92      1033\n",
            "\n",
            "[[  6   0   4]\n",
            " [  0 401  34]\n",
            " [  2  39 547]]\n",
            "Accuracy Light Gradient Boosting: 90.02673420571269\n",
            "ROC AUC score LGBM: 96.65858620712362\n",
            "Recall of LGBM is:  92.35237173281703\n",
            "Precision of LGBM is: 92.32800677863602\n",
            "Confusion Matrix : \n",
            " AxesSubplot(0.125,0.11;0.62x0.77)\n"
          ],
          "name": "stdout"
        },
        {
          "output_type": "display_data",
          "data": {
            "image/png": "[encoded data removed]",
            "text/plain": [
              "<Figure size 640x480 with 2 Axes>"
            ]
          },
          "metadata": {
            "tags": []
          }
        }
      ]
    },
    {
      "cell_type": "code",
      "metadata": {
        "colab": {
          "base_uri": "https://localhost:8080/"
        },
        "id": "lAp36eNnBGEH",
        "outputId": "dca690f9-b9e0-42b6-95ec-168b9abb465a"
      },
      "source": [
        "lgbm.fit(X_train, Y_train)"
      ],
      "execution_count": null,
      "outputs": [
        {
          "output_type": "execute_result",
          "data": {
            "text/plain": [
              "LGBMClassifier(boosting_type='gbdt', class_weight=None, colsample_bytree=1.0,\n",
              "               importance_type='split', learning_rate=0.1, max_depth=-1,\n",
              "               min_child_samples=20, min_child_weight=0.001, min_split_gain=0.0,\n",
              "               n_estimators=100, n_jobs=-1, num_leaves=31, objective=None,\n",
              "               random_state=None, reg_alpha=0.0, reg_lambda=0.0, silent=True,\n",
              "               subsample=1.0, subsample_for_bin=200000, subsample_freq=0)"
            ]
          },
          "metadata": {
            "tags": []
          },
          "execution_count": 45
        }
      ]
    },
    {
      "cell_type": "markdown",
      "metadata": {
        "id": "FZTZQV9l9iTf"
      },
      "source": [
        "# HASIL AKURASI"
      ]
    },
    {
      "cell_type": "code",
      "metadata": {
        "colab": {
          "base_uri": "https://localhost:8080/",
          "height": 237
        },
        "id": "tFbTZUB39eAj",
        "outputId": "7619f3af-1189-45e7-e7e4-6cc2dcd666d6"
      },
      "source": [
        "algos=[\"Decision Tree\",\"Naive Bayes\",\"Logistic Regression\",\"Random Forest\",\"KNN\",\"Light Gradient Boost\"]\n",
        "acc=[akurasi_dt.mean(), akurasi_nb.mean(), akurasi_log.mean(),akurasi_rf.mean(),akurasi_knn.mean(),akurasi_lgbm.mean()]\n",
        "auc=[auc_dt, auc_nb, auc_log,  auc_rf, auc_knn, auc_lgbm]\n",
        "recall=[recall_dt, recall_nb, recall_log,  recall_rf, recall_knn, recall_lgbm]\n",
        "prec=[prec_dt, prec_nb, prec_log,  prec_rf, prec_knn, prec_lgbm]\n",
        "\n",
        "comp={\"Algorithms\":algos,\"Accuracies\":acc,\"AUC\":auc,\"Recall\":recall,\"Precision\":prec}\n",
        "compdf=pd.DataFrame(comp)\n",
        "display(compdf.sort_values(by=[\"Accuracies\",\"AUC\",\"Recall\",\"Precision\"], ascending=False))"
      ],
      "execution_count": null,
      "outputs": [
        {
          "output_type": "display_data",
          "data": {
            "text/html": [
              "<div>\n",
              "<style scoped>\n",
              "    .dataframe tbody tr th:only-of-type {\n",
              "        vertical-align: middle;\n",
              "    }\n",
              "\n",
              "    .dataframe tbody tr th {\n",
              "        vertical-align: top;\n",
              "    }\n",
              "\n",
              "    .dataframe thead th {\n",
              "        text-align: right;\n",
              "    }\n",
              "</style>\n",
              "<table border=\"1\" class=\"dataframe\">\n",
              "  <thead>\n",
              "    <tr style=\"text-align: right;\">\n",
              "      <th></th>\n",
              "      <th>Algorithms</th>\n",
              "      <th>Accuracies</th>\n",
              "      <th>AUC</th>\n",
              "      <th>Recall</th>\n",
              "      <th>Precision</th>\n",
              "    </tr>\n",
              "  </thead>\n",
              "  <tbody>\n",
              "    <tr>\n",
              "      <th>5</th>\n",
              "      <td>Light Gradient Boost</td>\n",
              "      <td>90.026734</td>\n",
              "      <td>96.658586</td>\n",
              "      <td>92.352372</td>\n",
              "      <td>92.328007</td>\n",
              "    </tr>\n",
              "    <tr>\n",
              "      <th>3</th>\n",
              "      <td>Random Forest</td>\n",
              "      <td>88.089677</td>\n",
              "      <td>94.735398</td>\n",
              "      <td>91.093901</td>\n",
              "      <td>91.175555</td>\n",
              "    </tr>\n",
              "    <tr>\n",
              "      <th>0</th>\n",
              "      <td>Decision Tree</td>\n",
              "      <td>84.797148</td>\n",
              "      <td>85.517422</td>\n",
              "      <td>88.092933</td>\n",
              "      <td>88.730366</td>\n",
              "    </tr>\n",
              "    <tr>\n",
              "      <th>4</th>\n",
              "      <td>KNN</td>\n",
              "      <td>78.120632</td>\n",
              "      <td>86.734941</td>\n",
              "      <td>83.059051</td>\n",
              "      <td>83.038506</td>\n",
              "    </tr>\n",
              "    <tr>\n",
              "      <th>2</th>\n",
              "      <td>Logistic Regression</td>\n",
              "      <td>71.150040</td>\n",
              "      <td>76.496882</td>\n",
              "      <td>69.796709</td>\n",
              "      <td>68.983328</td>\n",
              "    </tr>\n",
              "    <tr>\n",
              "      <th>1</th>\n",
              "      <td>Naive Bayes</td>\n",
              "      <td>45.383425</td>\n",
              "      <td>83.495761</td>\n",
              "      <td>65.053243</td>\n",
              "      <td>69.639953</td>\n",
              "    </tr>\n",
              "  </tbody>\n",
              "</table>\n",
              "</div>"
            ],
            "text/plain": [
              "             Algorithms  Accuracies        AUC     Recall  Precision\n",
              "5  Light Gradient Boost   90.026734  96.658586  92.352372  92.328007\n",
              "3         Random Forest   88.089677  94.735398  91.093901  91.175555\n",
              "0         Decision Tree   84.797148  85.517422  88.092933  88.730366\n",
              "4                   KNN   78.120632  86.734941  83.059051  83.038506\n",
              "2   Logistic Regression   71.150040  76.496882  69.796709  68.983328\n",
              "1           Naive Bayes   45.383425  83.495761  65.053243  69.639953"
            ]
          },
          "metadata": {
            "tags": []
          }
        }
      ]
    },
    {
      "cell_type": "markdown",
      "metadata": {
        "id": "pxdGUWU43Kt7"
      },
      "source": [
        "#Hyperparameter Tunning LGBM"
      ]
    },
    {
      "cell_type": "code",
      "metadata": {
        "id": "SahQs-hct4gC",
        "colab": {
          "base_uri": "https://localhost:8080/"
        },
        "outputId": "b763afa1-749a-49a2-86cb-af81d3a027e5"
      },
      "source": [
        "import lightgbm as lgbm\n",
        "from sklearn.model_selection import GridSearchCV\n",
        "\n",
        "optimized_lgbm = lgbm.LGBMRegressor()                                                            \n",
        "optimized_lgbm.fit(X_train, Y_train)"
      ],
      "execution_count": null,
      "outputs": [
        {
          "output_type": "execute_result",
          "data": {
            "text/plain": [
              "LGBMRegressor(boosting_type='gbdt', class_weight=None, colsample_bytree=1.0,\n",
              "              importance_type='split', learning_rate=0.1, max_depth=-1,\n",
              "              min_child_samples=20, min_child_weight=0.001, min_split_gain=0.0,\n",
              "              n_estimators=100, n_jobs=-1, num_leaves=31, objective=None,\n",
              "              random_state=None, reg_alpha=0.0, reg_lambda=0.0, silent=True,\n",
              "              subsample=1.0, subsample_for_bin=200000, subsample_freq=0)"
            ]
          },
          "metadata": {
            "tags": []
          },
          "execution_count": 47
        }
      ]
    },
    {
      "cell_type": "code",
      "metadata": {
        "id": "esmVhvNbzIG7",
        "colab": {
          "base_uri": "https://localhost:8080/"
        },
        "outputId": "5aa89f6e-a988-4174-b702-cedda1062af1"
      },
      "source": [
        "param = {\n",
        "        'n_estimators': (100, 400, 10),\n",
        "        'min_child_weight': (3, 20, 2),\n",
        "        'colsample_bytree': (0.4, 1.0),\n",
        "        'max_depth': (5, 15, 2),\n",
        "        'min_child_samples': (10, 30)}\n",
        "        \n",
        "grid = GridSearchCV(optimized_lgbm, param_grid = param, cv=5)\n",
        "\n",
        "grid.fit(X_train, Y_train)"
      ],
      "execution_count": null,
      "outputs": [
        {
          "output_type": "execute_result",
          "data": {
            "text/plain": [
              "GridSearchCV(cv=5, error_score=nan,\n",
              "             estimator=LGBMRegressor(boosting_type='gbdt', class_weight=None,\n",
              "                                     colsample_bytree=1.0,\n",
              "                                     importance_type='split', learning_rate=0.1,\n",
              "                                     max_depth=-1, min_child_samples=20,\n",
              "                                     min_child_weight=0.001, min_split_gain=0.0,\n",
              "                                     n_estimators=100, n_jobs=-1, num_leaves=31,\n",
              "                                     objective=None, random_state=None,\n",
              "                                     reg_alpha=0.0, reg_lambda=0.0, silent=True,\n",
              "                                     subsample=1.0, subsample_for_bin=200000,\n",
              "                                     subsample_freq=0),\n",
              "             iid='deprecated', n_jobs=None,\n",
              "             param_grid={'colsample_bytree': (0.4, 1.0),\n",
              "                         'max_depth': (5, 15, 2), 'min_child_samples': (10, 30),\n",
              "                         'min_child_weight': (3, 20, 2),\n",
              "                         'n_estimators': (100, 400, 10)},\n",
              "             pre_dispatch='2*n_jobs', refit=True, return_train_score=False,\n",
              "             scoring=None, verbose=0)"
            ]
          },
          "metadata": {
            "tags": []
          },
          "execution_count": 48
        }
      ]
    },
    {
      "cell_type": "code",
      "metadata": {
        "id": "yHNhgbmCRZf_",
        "colab": {
          "base_uri": "https://localhost:8080/"
        },
        "outputId": "0d54b149-971d-4833-8a4b-acbf0aeae430"
      },
      "source": [
        "predicted1 = grid.predict(X_test)\n",
        "predicted1\n",
        "X_test.shape"
      ],
      "execution_count": null,
      "outputs": [
        {
          "output_type": "execute_result",
          "data": {
            "text/plain": [
              "(1033, 15)"
            ]
          },
          "metadata": {
            "tags": []
          },
          "execution_count": 49
        }
      ]
    },
    {
      "cell_type": "code",
      "metadata": {
        "colab": {
          "base_uri": "https://localhost:8080/",
          "height": 760
        },
        "id": "O4mtRPy9ohFp",
        "outputId": "ea60b4d5-3d81-4a57-c651-e62da4fc629f"
      },
      "source": [
        "lgbm_tuning = LGBMClassifier(boosting_type='gbdt', class_weight=None,\n",
        "                                     colsample_bytree=1.0,\n",
        "                                     importance_type='split', learning_rate=0.1,\n",
        "                                     max_depth=-1, min_child_samples=20,\n",
        "                                     min_child_weight=0.001, min_split_gain=0.0,\n",
        "                                     n_estimators=100, n_jobs=-1, num_leaves=31,\n",
        "                                     objective=None, random_state=None,\n",
        "                                     reg_alpha=0.0, reg_lambda=0.0, silent=True,\n",
        "                                     subsample=1.0, subsample_for_bin=200000,\n",
        "                                     subsample_freq=0)\n",
        "lgbm_tuning.fit(X_train, Y_train)\n",
        "predicted = lgbm_tuning.predict(X_test)\n",
        "report = classification_report(Y_test, predicted)\n",
        "matrix = confusion_matrix(Y_test, predicted)\n",
        "print(report)\n",
        "print(matrix)\n",
        "\n",
        "akurasi_lgbm = cross_val_score(lgbm_tuning, X_test, Y_test, cv=seed, scoring='accuracy') *100\n",
        "\n",
        "from sklearn.metrics import roc_auc_score\n",
        "\n",
        "print(\"Accuracy Light Gradient Boosting after tuning: {}\".format((akurasi_lgbm.mean()))) \n",
        "auc_lgbm = roc_auc_score(Y_test, lgbm_tuning.predict_proba(X_test), multi_class='ovo') *100\n",
        "print('ROC AUC score LGBM:', auc_lgbm)\n",
        "\n",
        "recall_lgbm=recall_score(Y_test,predicted, average='weighted')*100\n",
        "print(\"Recall of LGBM is after tuning: \",recall_lgbm)\n",
        "prec_lgbm=precision_score(Y_test,predicted, average='weighted')*100\n",
        "print(\"Precision of LGBM is after tuning:\",prec_lgbm)\n",
        "\n",
        "print (\"Confusion Matrix : \\n\",sns.heatmap(confusion_matrix(Y_test, predicted, normalize='true'), annot = True))"
      ],
      "execution_count": null,
      "outputs": [
        {
          "output_type": "stream",
          "text": [
            "              precision    recall  f1-score   support\n",
            "\n",
            "           0       0.75      0.60      0.67        10\n",
            "           1       0.91      0.92      0.92       435\n",
            "           2       0.94      0.93      0.93       588\n",
            "\n",
            "    accuracy                           0.92      1033\n",
            "   macro avg       0.87      0.82      0.84      1033\n",
            "weighted avg       0.92      0.92      0.92      1033\n",
            "\n",
            "[[  6   0   4]\n",
            " [  0 401  34]\n",
            " [  2  39 547]]\n",
            "Accuracy Light Gradient Boosting after tuning: 90.02673420571269\n",
            "ROC AUC score LGBM: 96.56527745197695\n",
            "Recall of LGBM is after tuning:  92.35237173281703\n",
            "Precision of LGBM is after tuning: 92.32800677863602\n",
            "Confusion Matrix : \n",
            " AxesSubplot(0.125,0.11;0.62x0.77)\n"
          ],
          "name": "stdout"
        },
        {
          "output_type": "display_data",
          "data": {
            "image/png": "[encoded data removed]",
            "text/plain": [
              "<Figure size 640x480 with 2 Axes>"
            ]
          },
          "metadata": {
            "tags": []
          }
        }
      ]
    },
    {
      "cell_type": "code",
      "metadata": {
        "colab": {
          "base_uri": "https://localhost:8080/",
          "height": 472
        },
        "id": "FHMV2WjbFCw_",
        "outputId": "a41d9dcf-10fc-4ba6-f51d-b0cef7ecc031"
      },
      "source": [
        "from lightgbm import plot_importance\n",
        "plot_importance(lgbm_tuning)\n",
        "pyplot.show()"
      ],
      "execution_count": null,
      "outputs": [
        {
          "output_type": "display_data",
          "data": {
            "image/png": "[encoded data removed]",
            "text/plain": [
              "<Figure size 640x480 with 1 Axes>"
            ]
          },
          "metadata": {
            "tags": []
          }
        }
      ]
    }
  ]
}